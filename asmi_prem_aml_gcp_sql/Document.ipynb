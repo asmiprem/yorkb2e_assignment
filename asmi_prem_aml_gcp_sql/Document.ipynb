{
 "cells": [
  {
   "cell_type": "markdown",
   "metadata": {},
   "source": [
    "[The relationship between education levels and work classes](https://lookerstudio.google.com/reporting/f23ddc1b-c0cd-495b-885e-567bea744fe4)\n",
    "\n",
    "[Top occupation among Marital status](https://lookerstudio.google.com/reporting/fe320324-e9d1-45b1-a09c-2afd2c2a4182)\n",
    "- [Variations in marital status acrossn differentn occupations](https://lookerstudio.google.com/reporting/1514d7a4-b413-4579-9a33-29c116178a34)\n",
    "\n",
    "\n",
    "[Age distribution patterns within various racial and gender groups](https://lookerstudio.google.com/reporting/7e2068ab-ef0e-48e6-b9a0-7d66b4af8989)\n",
    "\n",
    "[Influence of Income,Sex on marital trends](https://lookerstudio.google.com/reporting/95abf372-66c1-447d-baad-43a51e89e568)\n",
    "- [Influences of certain demographic features on marital trends.](https://lookerstudio.google.com/reporting/b6fda097-7249-49ad-bf21-d3de51fca98e)\n",
    "\n",
    "[Employment trends analysis by race.](https://lookerstudio.google.com/reporting/f3dc2527-6624-4555-8ec5-3c2d03e8b92f)"
   ]
  }
 ],
 "metadata": {
  "language_info": {
   "name": "python"
  }
 },
 "nbformat": 4,
 "nbformat_minor": 2
}
