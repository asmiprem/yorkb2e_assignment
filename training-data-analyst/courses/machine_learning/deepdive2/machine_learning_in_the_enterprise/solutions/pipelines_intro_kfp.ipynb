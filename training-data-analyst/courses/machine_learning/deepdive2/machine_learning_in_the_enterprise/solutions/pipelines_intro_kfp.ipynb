{
 "cells": [
  {
   "cell_type": "markdown",
   "metadata": {
    "id": "title:generic"
   },
   "source": [
    "# Vertex AI Pipelines: Pipelines introduction for KFP\n"
   ]
  },
  {
   "cell_type": "markdown",
   "metadata": {
    "id": "overview:pipelines,intro"
   },
   "source": [
    "## Overview\n",
    "\n",
    "This notebook provides an introduction to using [Vertex AI Pipelines](https://cloud.google.com/vertex-ai/docs/pipelines) with [the Kubeflow Pipelines (KFP) SDK](https://www.kubeflow.org/docs/components/pipelines/)."
   ]
  },
  {
   "cell_type": "markdown",
   "metadata": {
    "id": "objective:pipelines,intro"
   },
   "source": [
    "### Learning objectives\n",
    "\n",
    "1. Initialize Vertex AI SDK for Python.\n",
    "2. Compile the pipeline.\n",
    "3. Run the pipeline.\n",
    "4. Specify a service account to use for a pipeline run.\n",
    "5. Use the Pipelines REST API."
   ]
  },
  {
   "cell_type": "markdown",
   "metadata": {
    "id": "restart"
   },
   "source": [
    "Each learning objective will correspond to a __#TODO__ in the [student lab notebook](../labs/pipelines_intro_kfp.ipynb) -- try to complete that notebook first before reviewing this solution notebook."
   ]
  },
  {
   "cell_type": "markdown",
   "metadata": {
    "id": "install_aip:mbsdk"
   },
   "source": [
    "## Installation\n",
    "\n",
    "Install the packages required for executing this notebook."
   ]
  },
  {
   "cell_type": "code",
   "execution_count": 1,
   "metadata": {
    "id": "F_jyqAW_2Ouu"
   },
   "outputs": [
    {
     "name": "stdout",
     "output_type": "stream",
     "text": [
      "\u001b[33m  WARNING: The script tabulate is installed in '/home/jupyter/.local/bin' which is not on PATH.\n",
      "  Consider adding this directory to PATH or, if you prefer to suppress this warning, use --no-warn-script-location.\u001b[0m\u001b[33m\n",
      "\u001b[0m\u001b[33m  WARNING: The script strip-hints is installed in '/home/jupyter/.local/bin' which is not on PATH.\n",
      "  Consider adding this directory to PATH or, if you prefer to suppress this warning, use --no-warn-script-location.\u001b[0m\u001b[33m\n",
      "\u001b[0m\u001b[33m  WARNING: The script jsonschema is installed in '/home/jupyter/.local/bin' which is not on PATH.\n",
      "  Consider adding this directory to PATH or, if you prefer to suppress this warning, use --no-warn-script-location.\u001b[0m\u001b[33m\n",
      "\u001b[0m\u001b[33m  WARNING: The scripts dsl-compile, dsl-compile-v2 and kfp are installed in '/home/jupyter/.local/bin' which is not on PATH.\n",
      "  Consider adding this directory to PATH or, if you prefer to suppress this warning, use --no-warn-script-location.\u001b[0m\u001b[33m\n",
      "\u001b[0m\u001b[31mERROR: pip's dependency resolver does not currently take into account all the packages that are installed. This behaviour is the source of the following dependency conflicts.\n",
      "tensorflow-io 0.21.0 requires tensorflow-io-gcs-filesystem==0.21.0, which is not installed.\n",
      "tfx-bsl 1.10.1 requires pyarrow<7,>=6, but you have pyarrow 9.0.0 which is incompatible.\n",
      "tfx-bsl 1.10.1 requires tensorflow!=2.0.*,!=2.1.*,!=2.2.*,!=2.3.*,!=2.4.*,!=2.5.*,!=2.6.*,!=2.7.*,!=2.8.*,<3,>=1.15.5, but you have tensorflow 2.6.5 which is incompatible.\n",
      "tensorflow 2.6.5 requires typing-extensions<3.11,>=3.7, but you have typing-extensions 4.3.0 which is incompatible.\n",
      "tensorflow-transform 1.10.1 requires pyarrow<7,>=6, but you have pyarrow 9.0.0 which is incompatible.\n",
      "tensorflow-transform 1.10.1 requires tensorflow!=2.0.*,!=2.1.*,!=2.2.*,!=2.3.*,!=2.4.*,!=2.5.*,!=2.6.*,!=2.7.*,!=2.8.*,<2.10,>=1.15.5, but you have tensorflow 2.6.5 which is incompatible.\n",
      "tensorflow-serving-api 2.10.0 requires tensorflow<3,>=2.10.0, but you have tensorflow 2.6.5 which is incompatible.\n",
      "pandas-profiling 3.0.0 requires tangled-up-in-unicode==0.1.0, but you have tangled-up-in-unicode 0.2.0 which is incompatible.\n",
      "cloud-tpu-client 0.10 requires google-api-python-client==1.8.0, but you have google-api-python-client 1.12.11 which is incompatible.\n",
      "apache-beam 2.41.0 requires dill<0.3.2,>=0.3.1.1, but you have dill 0.3.5.1 which is incompatible.\n",
      "apache-beam 2.41.0 requires pyarrow<8.0.0,>=0.15.1, but you have pyarrow 9.0.0 which is incompatible.\u001b[0m\u001b[31m\n",
      "\u001b[0m"
     ]
    }
   ],
   "source": [
    "import os\n",
    "\n",
    "# The Vertex AI Workbench Notebook product has specific requirements\n",
    "IS_WORKBENCH_NOTEBOOK = os.getenv(\"DL_ANACONDA_HOME\") and not os.getenv(\"VIRTUAL_ENV\")\n",
    "IS_USER_MANAGED_WORKBENCH_NOTEBOOK = os.path.exists(\n",
    "    \"/opt/deeplearning/metadata/env_version\"\n",
    ")\n",
    "\n",
    "# Vertex AI Notebook requires dependencies to be installed with '--user'\n",
    "USER_FLAG = \"\"\n",
    "if IS_WORKBENCH_NOTEBOOK:\n",
    "    USER_FLAG = \"--user\"\n",
    "\n",
    "! pip3 install --upgrade google-cloud-aiplatform {USER_FLAG} -q\n",
    "! pip3 install -U google-cloud-storage {USER_FLAG} -q\n",
    "! pip3 install {USER_FLAG} kfp google-cloud-pipeline-components --upgrade -q\n",
    "! pip install kfp==1.8.14"
   ]
  },
  {
   "cell_type": "markdown",
   "metadata": {
    "id": "restart"
   },
   "source": [
    "### Restart the kernel\n",
    "\n",
    "Once you've installed the additional packages, you need to restart the notebook kernel so it can find the packages."
   ]
  },
  {
   "cell_type": "code",
   "execution_count": 2,
   "metadata": {
    "id": "lr4jnWxh2Oux"
   },
   "outputs": [],
   "source": [
    "import os\n",
    "\n",
    "if not os.getenv(\"IS_TESTING\"):\n",
    "    # Automatically restart kernel after installs\n",
    "    import IPython\n",
    "\n",
    "    app = IPython.Application.instance()\n",
    "    app.kernel.do_shutdown(True)"
   ]
  },
  {
   "cell_type": "markdown",
   "metadata": {
    "id": "check_versions"
   },
   "source": [
    "Check the versions of the packages you installed.  The KFP SDK version should be >=1.6."
   ]
  },
  {
   "cell_type": "code",
   "execution_count": 1,
   "metadata": {
    "id": "check_versions:kfp"
   },
   "outputs": [
    {
     "name": "stdout",
     "output_type": "stream",
     "text": [
      "KFP SDK version: 1.8.14\n"
     ]
    }
   ],
   "source": [
    "! python3 -c \"import kfp; print('KFP SDK version: {}'.format(kfp.__version__))\""
   ]
  },
  {
   "cell_type": "code",
   "execution_count": 2,
   "metadata": {
    "id": "set_project_id"
   },
   "outputs": [],
   "source": [
    "PROJECT_ID = \"qwiklabs-gcp-01-d69e76763702\"  # @param {type:\"string\"}"
   ]
  },
  {
   "cell_type": "code",
   "execution_count": 3,
   "metadata": {
    "id": "set_gcloud_project_id"
   },
   "outputs": [
    {
     "name": "stdout",
     "output_type": "stream",
     "text": [
      "Updated property [core/project].\n"
     ]
    }
   ],
   "source": [
    "! gcloud config set project $PROJECT_ID"
   ]
  },
  {
   "cell_type": "markdown",
   "metadata": {
    "id": "region"
   },
   "source": [
    "#### Region\n",
    "\n",
    "You can also change the `REGION` variable, which is used for operations\n",
    "throughout the rest of this notebook.  Below are regions supported for Vertex AI. We recommend that you choose the region closest to you.\n",
    "\n",
    "- Americas: `us-central1`\n",
    "- Europe: `europe-west4`\n",
    "- Asia Pacific: `asia-east1`\n",
    "\n",
    "You may not use a multi-regional bucket for training with Vertex AI. Not all regions provide support for all Vertex AI services.\n",
    "\n",
    "Learn more about [Vertex AI regions](https://cloud.google.com/vertex-ai/docs/general/locations)"
   ]
  },
  {
   "cell_type": "code",
   "execution_count": 4,
   "metadata": {
    "id": "04933ed28eef"
   },
   "outputs": [],
   "source": [
    "REGION = \"us-central1\"  # @param {type:\"string\"}"
   ]
  },
  {
   "cell_type": "code",
   "execution_count": 5,
   "metadata": {
    "id": "jvNx3KyF2Ou0"
   },
   "outputs": [],
   "source": [
    "if REGION == \"[your-region]\":\n",
    "    REGION = \"us-central1\""
   ]
  },
  {
   "cell_type": "markdown",
   "metadata": {
    "id": "timestamp"
   },
   "source": [
    "#### Timestamp\n",
    "\n",
    "If you are in a live tutorial session, you might be using a shared test account or project. To avoid name collisions between users on resources created, you create a timestamp for each instance session, and append the timestamp onto the name of resources you create in this tutorial."
   ]
  },
  {
   "cell_type": "code",
   "execution_count": 6,
   "metadata": {
    "id": "lFCteCD32Ou0"
   },
   "outputs": [],
   "source": [
    "from datetime import datetime\n",
    "\n",
    "TIMESTAMP = datetime.now().strftime(\"%Y%m%d%H%M%S\")"
   ]
  },
  {
   "cell_type": "markdown",
   "metadata": {
    "id": "bucket:mbsdk"
   },
   "source": [
    "### Create a Cloud Storage bucket\n",
    "\n",
    "**The following steps are required, regardless of your notebook environment.**\n",
    "\n",
    "When you initialize the Vertex AI SDK for Python, you specify a Cloud Storage staging bucket. The staging bucket is where all the data associated with your dataset and model resources are retained across sessions.\n",
    "\n",
    "Set the name of your Cloud Storage bucket below. Bucket names must be globally unique across all Google Cloud projects, including those outside of your organization."
   ]
  },
  {
   "cell_type": "code",
   "execution_count": 7,
   "metadata": {
    "id": "bucket"
   },
   "outputs": [],
   "source": [
    "BUCKET_NAME = \"[your-bucket-name]\"  # Replace with your bucket name\n",
    "BUCKET_URI = f\"gs://{BUCKET_NAME}\""
   ]
  },
  {
   "cell_type": "code",
   "execution_count": null,
   "metadata": {
    "id": "autoset_bucket"
   },
   "outputs": [],
   "source": [
    "if BUCKET_NAME == \"\" or BUCKET_NAME is None or BUCKET_NAME == \"[your-bucket-name]\":\n",
    "    BUCKET_NAME = PROJECT_ID + \"aip-\" + TIMESTAMP\n",
    "    BUCKET_URI = \"gs://\" + BUCKET_NAME"
   ]
  },
  {
   "cell_type": "markdown",
   "metadata": {
    "id": "create_bucket"
   },
   "source": [
    "**Only if your bucket doesn't already exist**: Run the following cell to create your Cloud Storage bucket."
   ]
  },
  {
   "cell_type": "code",
   "execution_count": 8,
   "metadata": {
    "id": "IXf7nYUc2Ou2"
   },
   "outputs": [
    {
     "name": "stdout",
     "output_type": "stream",
     "text": [
      "Creating gs://qwiklabs-gcp-01-d69e76763702/...\n"
     ]
    }
   ],
   "source": [
    "! gsutil mb -l $REGION $BUCKET_URI"
   ]
  },
  {
   "cell_type": "markdown",
   "metadata": {
    "id": "validate_bucket"
   },
   "source": [
    "Finally, validate access to your Cloud Storage bucket by examining its contents:"
   ]
  },
  {
   "cell_type": "code",
   "execution_count": 9,
   "metadata": {
    "id": "p23SI9T42Ou2"
   },
   "outputs": [],
   "source": [
    "! gsutil ls -al $BUCKET_URI"
   ]
  },
  {
   "cell_type": "markdown",
   "metadata": {
    "id": "set_service_account"
   },
   "source": [
    "#### Service Account\n",
    "\n",
    "**If you don't know your service account**, try to get your service account using `gcloud` command by executing the second cell below."
   ]
  },
  {
   "cell_type": "code",
   "execution_count": 10,
   "metadata": {
    "id": "NY-zkA0Y2Ou3"
   },
   "outputs": [],
   "source": [
    "SERVICE_ACCOUNT = \"[your-service-account]\"  # Replace with your service account"
   ]
  },
  {
   "cell_type": "markdown",
   "metadata": {
    "id": "set_service_account:pipelines"
   },
   "source": [
    "#### Set service account access for Vertex AI Pipelines\n",
    "\n",
    "Run the following commands to grant your service account access to read and write pipeline artifacts in the bucket that you created in the previous step -- you only need to run these once per service account."
   ]
  },
  {
   "cell_type": "code",
   "execution_count": 11,
   "metadata": {
    "id": "0QNsyzEF2Ou4"
   },
   "outputs": [],
   "source": [
    "! gsutil iam ch serviceAccount:{SERVICE_ACCOUNT}:roles/storage.objectCreator $BUCKET_URI\n",
    "\n",
    "! gsutil iam ch serviceAccount:{SERVICE_ACCOUNT}:roles/storage.objectViewer $BUCKET_URI"
   ]
  },
  {
   "cell_type": "markdown",
   "metadata": {
    "id": "setup_vars"
   },
   "source": [
    "### Set up variables\n",
    "\n",
    "Next, set up some variables used throughout the tutorial.\n",
    "### Import libraries and define constants"
   ]
  },
  {
   "cell_type": "code",
   "execution_count": 12,
   "metadata": {
    "id": "import_aip:mbsdk"
   },
   "outputs": [],
   "source": [
    "from typing import NamedTuple\n",
    "\n",
    "import google.cloud.aiplatform as aip\n",
    "from kfp import dsl\n",
    "from kfp.v2 import compiler\n",
    "from kfp.v2.dsl import component"
   ]
  },
  {
   "cell_type": "markdown",
   "metadata": {
    "id": "aip_constants:endpoint"
   },
   "source": [
    "#### Vertex AI constants\n",
    "\n",
    "Setup up the following constants for Vertex AI:\n",
    "\n",
    "- `API_ENDPOINT`: The Vertex AI API service endpoint for `Dataset`, `Model`, `Job`, `Pipeline` and `Endpoint` services."
   ]
  },
  {
   "cell_type": "code",
   "execution_count": 13,
   "metadata": {
    "id": "TnO8gVBb2Ou4"
   },
   "outputs": [],
   "source": [
    "# API service endpoint\n",
    "API_ENDPOINT = \"{}-aiplatform.googleapis.com\".format(REGION)"
   ]
  },
  {
   "cell_type": "markdown",
   "metadata": {
    "id": "pipeline_constants"
   },
   "source": [
    "#### Vertex AI Pipelines constants\n",
    "\n",
    "Setup up the following constants for Vertex AI Pipelines:"
   ]
  },
  {
   "cell_type": "code",
   "execution_count": 14,
   "metadata": {
    "id": "ONHtQDz32Ou5"
   },
   "outputs": [],
   "source": [
    "PIPELINE_ROOT = \"{}/pipeline_root/intro\".format(BUCKET_URI)"
   ]
  },
  {
   "cell_type": "markdown",
   "metadata": {
    "id": "init_aip:mbsdk"
   },
   "source": [
    "## Initialize Vertex AI SDK for Python\n",
    "\n",
    "Initialize the Vertex AI SDK for Python for your project and corresponding bucket."
   ]
  },
  {
   "cell_type": "code",
   "execution_count": 15,
   "metadata": {
    "id": "mbpw7oyM2Ou5"
   },
   "outputs": [],
   "source": [
    "#TODO 1\n",
    "aip.init(project=PROJECT_ID, staging_bucket=BUCKET_URI)"
   ]
  },
  {
   "cell_type": "markdown",
   "metadata": {
    "id": "define_component:hello_world"
   },
   "source": [
    "### Define Python function-based pipeline components\n",
    "\n",
    "In this tutorial, you define a simple pipeline that has three steps, where each step is defined as a component.\n",
    "\n",
    "#### Define hello_world component\n",
    "\n",
    "First, define a component based on a very simple Python function. It takes a string input parameter and returns that value as output.\n",
    "\n",
    "Note the use of the `@component` decorator, which compiles the function to a KFP component when evaluated.  For example purposes, this example specifies a base image to use for the component (`python:3.9`), and a component YAML file, `hw.yaml`. The compiled component specification is written to this file.  (The default base image is `python:3.7`, which would of course work just fine too)."
   ]
  },
  {
   "cell_type": "code",
   "execution_count": 16,
   "metadata": {
    "id": "GjJhJUID2Ou6"
   },
   "outputs": [],
   "source": [
    "@component(output_component_file=\"hw.yaml\", base_image=\"python:3.9\")\n",
    "def hello_world(text: str) -> str:\n",
    "    print(text)\n",
    "    return text"
   ]
  },
  {
   "cell_type": "markdown",
   "metadata": {
    "id": "SWcIXuxR2Ou6"
   },
   "source": [
    "As you'll see below, compilation of this component creates a [task factory function](https://www.kubeflow.org/docs/components/pipelines/sdk/python-function-components/)—called `hello_world`— that you can use in defining a pipeline step.\n",
    "\n",
    "While not shown here, if you want to share this component definition, or use it in another context, you could also load it from its yaml file like this:\n",
    "`hello_world_op = components.load_component_from_file('./hw.yaml')`.\n",
    "You can also use the `load_component_from_url` method, if your component yaml file is stored online. (For GitHub URLs, load the 'raw' file.)"
   ]
  },
  {
   "cell_type": "markdown",
   "metadata": {
    "id": "define_component:two_outputs"
   },
   "source": [
    "#### Define two_outputs component\n",
    "\n",
    "The first component below, `two_outputs`, demonstrates installing a package -- in this case the `google-cloud-storage` package. Alternatively, you can specify a base image that includes the necessary installations.\n",
    "\n",
    "*Note:* The component function won't actually use the package.\n",
    "\n",
    "Alternatively, you can specify a base image that includes the necessary installations.\n",
    "\n",
    "The `two_outputs` component returns two named outputs."
   ]
  },
  {
   "cell_type": "code",
   "execution_count": 17,
   "metadata": {
    "id": "U4Yv33su2Ou6"
   },
   "outputs": [],
   "source": [
    "@component(packages_to_install=[\"google-cloud-storage\"])\n",
    "def two_outputs(\n",
    "    text: str,\n",
    ") -> NamedTuple(\n",
    "    \"Outputs\",\n",
    "    [\n",
    "        (\"output_one\", str),  # Return parameters\n",
    "        (\"output_two\", str),\n",
    "    ],\n",
    "):\n",
    "    # the import is not actually used for this simple example, but the import\n",
    "    # is successful, as it was included in the `packages_to_install` list.\n",
    "    from google.cloud import storage  # noqa: F401\n",
    "\n",
    "    o1 = f\"output one from text: {text}\"\n",
    "    o2 = f\"output two from text: {text}\"\n",
    "    print(\"output one: {}; output_two: {}\".format(o1, o2))\n",
    "    return (o1, o2)"
   ]
  },
  {
   "cell_type": "markdown",
   "metadata": {
    "id": "define_component:consumer"
   },
   "source": [
    "#### Define the consumer component\n",
    "\n",
    "The third component, `consumer`, takes three string inputs and prints them out."
   ]
  },
  {
   "cell_type": "code",
   "execution_count": 18,
   "metadata": {
    "id": "bu8XvOj82Ou6"
   },
   "outputs": [],
   "source": [
    "@component\n",
    "def consumer(text1: str, text2: str, text3: str):\n",
    "    print(f\"text1: {text1}; text2: {text2}; text3: {text3}\")"
   ]
  },
  {
   "cell_type": "markdown",
   "metadata": {
    "id": "define_pipeline:intro"
   },
   "source": [
    "### Define a pipeline that uses the components\n",
    "\n",
    "Next, define a pipeline that uses these three components.\n",
    "\n",
    "By evaluating the component definitions above, you've created task factory functions that are used in the pipeline definition to create the pipeline steps.\n",
    "\n",
    "The pipeline takes an input parameter, and passes that parameter as an argument to the first two pipeline steps (`hw_task` and `two_outputs_task`).\n",
    "\n",
    "Then, the third pipeline step (`consumer_task`) consumes the outputs of the first and second steps.  Because the `hello_world` component definition just returns one unnamed output, you refer to it as `hw_task.output`.  The `two_outputs` task returns two named outputs, which you access as `two_outputs_task.outputs[\"<output_name>\"]`.\n",
    "\n",
    "*Note:* In the `@dsl.pipeline` decorator, you're defining the `PIPELINE_ROOT` Cloud Storage path to use.  If you had not included that info here, it would be required to specify it when creating the pipeline run, as you'll see below."
   ]
  },
  {
   "cell_type": "code",
   "execution_count": 19,
   "metadata": {
    "id": "CV5dRAeJ2Ou7"
   },
   "outputs": [],
   "source": [
    "@dsl.pipeline(\n",
    "    name=\"hello-world-v2\",\n",
    "    description=\"A simple intro pipeline\",\n",
    "    pipeline_root=PIPELINE_ROOT,\n",
    ")\n",
    "def pipeline(text: str = \"hi there\"):\n",
    "    hw_task = hello_world(text)\n",
    "    two_outputs_task = two_outputs(text)\n",
    "    consumer_task = consumer(  # noqa: F841\n",
    "        hw_task.output,\n",
    "        two_outputs_task.outputs[\"output_one\"],\n",
    "        two_outputs_task.outputs[\"output_two\"],\n",
    "    )"
   ]
  },
  {
   "cell_type": "markdown",
   "metadata": {
    "id": "compile_pipeline"
   },
   "source": [
    "## Compile the pipeline\n",
    "\n",
    "Next, compile the pipeline."
   ]
  },
  {
   "cell_type": "code",
   "execution_count": 20,
   "metadata": {
    "id": "VP_JJ9Oe2Ou7"
   },
   "outputs": [
    {
     "name": "stderr",
     "output_type": "stream",
     "text": [
      "/home/jupyter/.local/lib/python3.7/site-packages/kfp/v2/compiler/compiler.py:1293: FutureWarning: APIs imported from the v1 namespace (e.g. kfp.dsl, kfp.components, etc) will not be supported by the v2 compiler since v2.0.0\n",
      "  category=FutureWarning,\n"
     ]
    }
   ],
   "source": [
    "# TODO 2\n",
    "# Compile the pipeline\n",
    "from kfp.v2 import compiler  # noqa: F811\n",
    "\n",
    "compiler.Compiler().compile(pipeline_func=pipeline, package_path=\"intro_pipeline.json\")"
   ]
  },
  {
   "cell_type": "markdown",
   "metadata": {
    "id": "run_pipeline:intro"
   },
   "source": [
    "## Run the pipeline\n",
    "\n",
    "Next, run the pipeline."
   ]
  },
  {
   "cell_type": "code",
   "execution_count": 21,
   "metadata": {
    "id": "sjxaBix_2Ou7"
   },
   "outputs": [
    {
     "name": "stdout",
     "output_type": "stream",
     "text": [
      "Creating PipelineJob\n",
      "PipelineJob created. Resource name: projects/192756378758/locations/us-central1/pipelineJobs/hello-world-v2-20220922141223\n",
      "To use this PipelineJob in another session:\n",
      "pipeline_job = aiplatform.PipelineJob.get('projects/192756378758/locations/us-central1/pipelineJobs/hello-world-v2-20220922141223')\n",
      "View Pipeline Job:\n",
      "https://console.cloud.google.com/vertex-ai/locations/us-central1/pipelines/runs/hello-world-v2-20220922141223?project=192756378758\n",
      "PipelineJob projects/192756378758/locations/us-central1/pipelineJobs/hello-world-v2-20220922141223 current state:\n",
      "PipelineState.PIPELINE_STATE_PENDING\n",
      "PipelineJob projects/192756378758/locations/us-central1/pipelineJobs/hello-world-v2-20220922141223 current state:\n",
      "PipelineState.PIPELINE_STATE_RUNNING\n",
      "PipelineJob projects/192756378758/locations/us-central1/pipelineJobs/hello-world-v2-20220922141223 current state:\n",
      "PipelineState.PIPELINE_STATE_RUNNING\n",
      "PipelineJob projects/192756378758/locations/us-central1/pipelineJobs/hello-world-v2-20220922141223 current state:\n",
      "PipelineState.PIPELINE_STATE_RUNNING\n",
      "PipelineJob projects/192756378758/locations/us-central1/pipelineJobs/hello-world-v2-20220922141223 current state:\n",
      "PipelineState.PIPELINE_STATE_RUNNING\n",
      "PipelineJob run completed. Resource name: projects/192756378758/locations/us-central1/pipelineJobs/hello-world-v2-20220922141223\n"
     ]
    }
   ],
   "source": [
    "# TODO 3\n",
    "# Create and run the pipeline job run\n",
    "DISPLAY_NAME = \"intro_\" + TIMESTAMP\n",
    "\n",
    "job = aip.PipelineJob(\n",
    "    display_name=DISPLAY_NAME,\n",
    "    template_path=\"intro_pipeline.json\",\n",
    "    pipeline_root=PIPELINE_ROOT,\n",
    ")\n",
    "\n",
    "job.run()"
   ]
  },
  {
   "cell_type": "markdown",
   "metadata": {
    "id": "view_pipeline_run:intro"
   },
   "source": [
    "Click on the generated link to see your run in the Cloud Console.\n",
    "\n",
    "<!-- It should look something like this as it is running:\n",
    "\n",
    "<a href=\"https://storage.googleapis.com/amy-jo/images/mp/automl_tabular_classif.png\" target=\"_blank\"><img src=\"https://storage.googleapis.com/amy-jo/images/mp/automl_tabular_classif.png\" width=\"40%\"/></a> -->\n",
    "\n",
    "In the UI, many of the pipeline DAG nodes will expand or collapse when you click on them. Here is a partially-expanded view of the DAG (click image to see larger version).\n",
    "\n",
    "<a href=\"https://storage.googleapis.com/amy-jo/images/mp/intro_pipeline.png\" target=\"_blank\"><img src=\"https://storage.googleapis.com/amy-jo/images/mp/intro_pipeline.png\" width=\"60%\"/></a>"
   ]
  },
  {
   "cell_type": "markdown",
   "metadata": {
    "id": "d428cc8803e7"
   },
   "source": [
    "### Delete the pipeline job\n",
    "\n",
    "You can delete the pipeline job with the method `delete()`."
   ]
  },
  {
   "cell_type": "code",
   "execution_count": 22,
   "metadata": {
    "id": "97802d9432e7"
   },
   "outputs": [
    {
     "name": "stdout",
     "output_type": "stream",
     "text": [
      "Deleting PipelineJob : projects/192756378758/locations/us-central1/pipelineJobs/hello-world-v2-20220922141223\n",
      "Delete PipelineJob  backing LRO: projects/192756378758/locations/us-central1/operations/5955010295213588480\n",
      "PipelineJob deleted. . Resource name: projects/192756378758/locations/us-central1/pipelineJobs/hello-world-v2-20220922141223\n"
     ]
    }
   ],
   "source": [
    "job.delete()"
   ]
  },
  {
   "cell_type": "markdown",
   "metadata": {
    "id": "schedule_pipeline_run"
   },
   "source": [
    "## Recurring pipeline runs: create a scheduled pipeline job\n",
    "\n",
    "This section shows how to create a **scheduled pipeline job**.  You do this using the pipeline you already defined.\n",
    "\n",
    "Under the hood, the scheduled jobs are supported by the Cloud Scheduler and a Cloud Functions function.  Check first that the APIs for both of these services are enabled.\n",
    "**You will need to first enable the [enable the Cloud Scheduler API](http://console.cloud.google.com/apis/library/cloudscheduler.googleapis.com) and the [Cloud Functions and Cloud Build APIs](https://console.cloud.google.com/flows/enableapi?apiid=cloudfunctions,cloudbuild.googleapis.com) if you have not already done so.**\n",
    "**Note:** you need to [create an App Engine app for your project](https://cloud.google.com/scheduler/docs/quickstart) if one does not already exist.\n",
    "\n",
    "\n",
    "See the [Cloud Scheduler](https://cloud.google.com/scheduler/docs/configuring/cron-job-schedules) documentation for more on the cron syntax.\n",
    "\n",
    "Create a scheduled pipeline job, passing as an argument the job specification file that you compiled above.\n",
    "\n",
    "*Note:* You can pass a `parameter_values` dict that specifies the pipeline input parameters you want to use."
   ]
  },
  {
   "cell_type": "code",
   "execution_count": 23,
   "metadata": {},
   "outputs": [],
   "source": [
    "import os"
   ]
  },
  {
   "cell_type": "code",
   "execution_count": 24,
   "metadata": {
    "id": "Ty5hDoNX2Ou8"
   },
   "outputs": [],
   "source": [
    "if not os.getenv(\"IS_TESTING\"):\n",
    "    from kfp.v2.google.client import AIPlatformClient  # noqa: F811\n",
    "\n",
    "    api_client = AIPlatformClient(project_id=PROJECT_ID, region=REGION)\n",
    "\n",
    "    # adjust time zone and cron schedule as necessary\n",
    "    response = api_client.create_schedule_from_job_spec(\n",
    "        job_spec_path=\"intro_pipeline.json\",\n",
    "        schedule=\"2 * * * *\",\n",
    "        time_zone=\"America/Los_Angeles\",  # change this as necessary\n",
    "        parameter_values={\"text\": \"Hello world!\"},\n",
    "        # pipeline_root=PIPELINE_ROOT  # this argument is necessary if you did not specify PIPELINE_ROOT as part of the pipeline definition.\n",
    "    )"
   ]
  },
  {
   "cell_type": "markdown",
   "metadata": {
    "id": "J8AP1viy2Ou8"
   },
   "source": [
    "Once the scheduled job is created, you can see it listed in the [Cloud Scheduler](https://console.cloud.google.com/cloudscheduler/) panel in the Console.\n",
    "\n",
    "<a href=\"https://storage.googleapis.com/amy-jo/images/kf-pls/pipelines_scheduler.png\" target=\"_blank\"><img src=\"https://storage.googleapis.com/amy-jo/images/kf-pls/pipelines_scheduler.png\" width=\"95%\"/></a>\n",
    "\n",
    "You can test the setup from the Cloud Scheduler panel by clicking 'RUN NOW'.\n",
    "\n",
    "> **Note**: The implementation is using a Cloud Functions function, which you can see listed in the [Cloud Functions](https://console.cloud.google.com/functions/list) panel in the console as `templated_http_request-v1`.\n",
    "Don't delete this function, as it will prevent the Cloud Scheduler jobs from actually kicking off the pipeline run.  If you do delete it, create a new scheduled job in order to recreate the function.\n",
    "\n",
    "When you're done experimenting, you probably want to **PAUSE** your scheduled job from the Cloud Scheduler panel, so that the recurrent jobs do not keep running."
   ]
  },
  {
   "cell_type": "markdown",
   "metadata": {
    "id": "run_pipeline_service_account"
   },
   "source": [
    "## Specifying a service account to use for a pipeline run\n",
    "\n",
    "By default, the [service account](https://cloud.google.com/iam/docs/service-accounts) used for your pipeline run is your [default compute engine service account](https://cloud.google.com/compute/docs/access/service-accounts#default_service_account).\n",
    "However, you might want to run pipelines with permissions to access different roles than those configured for your default SA (e.g. perhaps using a more restricted set of permissions).\n",
    "\n",
    "If you want to execute your pipeline using a different service account, this is straightforward to do.  You just need to give the new service account the correct permissions.\n",
    "\n",
    "### Create a service account\n",
    "\n",
    "Once your service account is configured, you pass it as an argument to the `create_run_from_job_spec` method. The pipeline job runs with the permissions of the given service account.\n",
    "\n",
    "Learn about [creating and configuring a service account to work with Vertex AI Pipelines](https://cloud.google.com/vertex-ai/docs/pipelines/configure-project#service-account)."
   ]
  },
  {
   "cell_type": "code",
   "execution_count": 25,
   "metadata": {
    "id": "CHcFxq742Ou9"
   },
   "outputs": [
    {
     "data": {
      "text/html": [
       "See the Pipeline job <a href=\"https://console.cloud.google.com/vertex-ai/locations/us-central1/pipelines/runs/hello-world-v2-20220922143209?project=qwiklabs-gcp-01-d69e76763702\" target=\"_blank\" >here</a>."
      ],
      "text/plain": [
       "<IPython.core.display.HTML object>"
      ]
     },
     "metadata": {},
     "output_type": "display_data"
    }
   ],
   "source": [
    "if not os.getenv(\"IS_TESTING\"):\n",
    "    response = api_client.create_run_from_job_spec(\n",
    "        job_spec_path=\"intro_pipeline.json\",\n",
    "        pipeline_root=PIPELINE_ROOT,\n",
    "        service_account=SERVICE_ACCOUNT,  # <-- CHANGE to use non-default service account\n",
    "    )"
   ]
  },
  {
   "cell_type": "markdown",
   "metadata": {
    "id": "run_pipeline_caching"
   },
   "source": [
    "## Pipeline step caching\n",
    "\n",
    "By default, pipeline step caching is enabled. This means that the results of previous step executions are reused when possible.\n",
    "\n",
    "if you want to disable caching for a pipeline run, you can pass the `enable_caching=False` argument to the `PipelineJob` constructor when you submit the pipeline job, as shown below.  Try submitting the example pipeline job again, first with and then without caching enabled."
   ]
  },
  {
   "cell_type": "code",
   "execution_count": 26,
   "metadata": {
    "id": "VrM5wqjh2Ou9"
   },
   "outputs": [
    {
     "name": "stdout",
     "output_type": "stream",
     "text": [
      "Creating PipelineJob\n"
     ]
    },
    {
     "name": "stderr",
     "output_type": "stream",
     "text": [
      "INFO:google.cloud.aiplatform.pipeline_jobs:Creating PipelineJob\n"
     ]
    },
    {
     "name": "stdout",
     "output_type": "stream",
     "text": [
      "PipelineJob created. Resource name: projects/192756378758/locations/us-central1/pipelineJobs/hello-world-v2-20220922143250\n"
     ]
    },
    {
     "name": "stderr",
     "output_type": "stream",
     "text": [
      "INFO:google.cloud.aiplatform.pipeline_jobs:PipelineJob created. Resource name: projects/192756378758/locations/us-central1/pipelineJobs/hello-world-v2-20220922143250\n"
     ]
    },
    {
     "name": "stdout",
     "output_type": "stream",
     "text": [
      "To use this PipelineJob in another session:\n"
     ]
    },
    {
     "name": "stderr",
     "output_type": "stream",
     "text": [
      "INFO:google.cloud.aiplatform.pipeline_jobs:To use this PipelineJob in another session:\n"
     ]
    },
    {
     "name": "stdout",
     "output_type": "stream",
     "text": [
      "pipeline_job = aiplatform.PipelineJob.get('projects/192756378758/locations/us-central1/pipelineJobs/hello-world-v2-20220922143250')\n"
     ]
    },
    {
     "name": "stderr",
     "output_type": "stream",
     "text": [
      "INFO:google.cloud.aiplatform.pipeline_jobs:pipeline_job = aiplatform.PipelineJob.get('projects/192756378758/locations/us-central1/pipelineJobs/hello-world-v2-20220922143250')\n"
     ]
    },
    {
     "name": "stdout",
     "output_type": "stream",
     "text": [
      "View Pipeline Job:\n",
      "https://console.cloud.google.com/vertex-ai/locations/us-central1/pipelines/runs/hello-world-v2-20220922143250?project=192756378758\n"
     ]
    },
    {
     "name": "stderr",
     "output_type": "stream",
     "text": [
      "INFO:google.cloud.aiplatform.pipeline_jobs:View Pipeline Job:\n",
      "https://console.cloud.google.com/vertex-ai/locations/us-central1/pipelines/runs/hello-world-v2-20220922143250?project=192756378758\n"
     ]
    },
    {
     "name": "stdout",
     "output_type": "stream",
     "text": [
      "PipelineJob projects/192756378758/locations/us-central1/pipelineJobs/hello-world-v2-20220922143250 current state:\n",
      "PipelineState.PIPELINE_STATE_RUNNING\n"
     ]
    },
    {
     "name": "stderr",
     "output_type": "stream",
     "text": [
      "INFO:google.cloud.aiplatform.pipeline_jobs:PipelineJob projects/192756378758/locations/us-central1/pipelineJobs/hello-world-v2-20220922143250 current state:\n",
      "PipelineState.PIPELINE_STATE_RUNNING\n"
     ]
    },
    {
     "name": "stdout",
     "output_type": "stream",
     "text": [
      "PipelineJob projects/192756378758/locations/us-central1/pipelineJobs/hello-world-v2-20220922143250 current state:\n",
      "PipelineState.PIPELINE_STATE_RUNNING\n"
     ]
    },
    {
     "name": "stderr",
     "output_type": "stream",
     "text": [
      "INFO:google.cloud.aiplatform.pipeline_jobs:PipelineJob projects/192756378758/locations/us-central1/pipelineJobs/hello-world-v2-20220922143250 current state:\n",
      "PipelineState.PIPELINE_STATE_RUNNING\n"
     ]
    },
    {
     "name": "stdout",
     "output_type": "stream",
     "text": [
      "PipelineJob projects/192756378758/locations/us-central1/pipelineJobs/hello-world-v2-20220922143250 current state:\n",
      "PipelineState.PIPELINE_STATE_RUNNING\n"
     ]
    },
    {
     "name": "stderr",
     "output_type": "stream",
     "text": [
      "INFO:google.cloud.aiplatform.pipeline_jobs:PipelineJob projects/192756378758/locations/us-central1/pipelineJobs/hello-world-v2-20220922143250 current state:\n",
      "PipelineState.PIPELINE_STATE_RUNNING\n"
     ]
    },
    {
     "name": "stdout",
     "output_type": "stream",
     "text": [
      "PipelineJob projects/192756378758/locations/us-central1/pipelineJobs/hello-world-v2-20220922143250 current state:\n",
      "PipelineState.PIPELINE_STATE_RUNNING\n"
     ]
    },
    {
     "name": "stderr",
     "output_type": "stream",
     "text": [
      "INFO:google.cloud.aiplatform.pipeline_jobs:PipelineJob projects/192756378758/locations/us-central1/pipelineJobs/hello-world-v2-20220922143250 current state:\n",
      "PipelineState.PIPELINE_STATE_RUNNING\n"
     ]
    },
    {
     "name": "stdout",
     "output_type": "stream",
     "text": [
      "PipelineJob projects/192756378758/locations/us-central1/pipelineJobs/hello-world-v2-20220922143250 current state:\n",
      "PipelineState.PIPELINE_STATE_RUNNING\n"
     ]
    },
    {
     "name": "stderr",
     "output_type": "stream",
     "text": [
      "INFO:google.cloud.aiplatform.pipeline_jobs:PipelineJob projects/192756378758/locations/us-central1/pipelineJobs/hello-world-v2-20220922143250 current state:\n",
      "PipelineState.PIPELINE_STATE_RUNNING\n"
     ]
    },
    {
     "name": "stdout",
     "output_type": "stream",
     "text": [
      "PipelineJob run completed. Resource name: projects/192756378758/locations/us-central1/pipelineJobs/hello-world-v2-20220922143250\n"
     ]
    },
    {
     "name": "stderr",
     "output_type": "stream",
     "text": [
      "INFO:google.cloud.aiplatform.pipeline_jobs:PipelineJob run completed. Resource name: projects/192756378758/locations/us-central1/pipelineJobs/hello-world-v2-20220922143250\n"
     ]
    }
   ],
   "source": [
    "# TODO 4\n",
    "# Disable caching for a pipeline run\n",
    "job = aip.PipelineJob(\n",
    "    display_name=\"intro_\" + TIMESTAMP,\n",
    "    template_path=\"intro_pipeline.json\",\n",
    "    enable_caching=False,\n",
    ")\n",
    "\n",
    "job.run()"
   ]
  },
  {
   "cell_type": "markdown",
   "metadata": {
    "id": "37e2b84a0c0d"
   },
   "source": [
    "### Delete the pipeline job\n",
    "\n",
    "You can delete the pipeline job with the method `delete()`."
   ]
  },
  {
   "cell_type": "code",
   "execution_count": 27,
   "metadata": {
    "id": "c5926e7eaad8"
   },
   "outputs": [
    {
     "name": "stdout",
     "output_type": "stream",
     "text": [
      "Deleting PipelineJob : projects/192756378758/locations/us-central1/pipelineJobs/hello-world-v2-20220922143250\n"
     ]
    },
    {
     "name": "stderr",
     "output_type": "stream",
     "text": [
      "INFO:google.cloud.aiplatform.base:Deleting PipelineJob : projects/192756378758/locations/us-central1/pipelineJobs/hello-world-v2-20220922143250\n"
     ]
    },
    {
     "name": "stdout",
     "output_type": "stream",
     "text": [
      "Delete PipelineJob  backing LRO: projects/192756378758/locations/us-central1/operations/8227076307222003712\n"
     ]
    },
    {
     "name": "stderr",
     "output_type": "stream",
     "text": [
      "INFO:google.cloud.aiplatform.base:Delete PipelineJob  backing LRO: projects/192756378758/locations/us-central1/operations/8227076307222003712\n"
     ]
    },
    {
     "name": "stdout",
     "output_type": "stream",
     "text": [
      "PipelineJob deleted. . Resource name: projects/192756378758/locations/us-central1/pipelineJobs/hello-world-v2-20220922143250\n"
     ]
    },
    {
     "name": "stderr",
     "output_type": "stream",
     "text": [
      "INFO:google.cloud.aiplatform.base:PipelineJob deleted. . Resource name: projects/192756378758/locations/us-central1/pipelineJobs/hello-world-v2-20220922143250\n"
     ]
    }
   ],
   "source": [
    "job.delete()"
   ]
  },
  {
   "cell_type": "markdown",
   "metadata": {
    "id": "pipelines_rest"
   },
   "source": [
    "## Using the Pipelines REST API\n",
    "\n",
    "At times you may want to use the REST API instead of the Python KFP SDK.  Below are examples of how to do that.\n",
    "\n",
    "Where a command requires a pipeline ID, you can get that info from the \"Run\" column in the pipelines list— as shown below— as well as from the 'details' page for a given pipeline.  You can also see that info when you list pipeline job(s) via the API.\n",
    "\n",
    "![pipeline.png](data:image/png;base64,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)"
   ]
  },
  {
   "cell_type": "markdown",
   "metadata": {
    "id": "pipelines_rest_list"
   },
   "source": [
    "### List pipeline jobs\n",
    "\n",
    "*Note:* This request may generate a large response if you have many pipeline runs."
   ]
  },
  {
   "cell_type": "code",
   "execution_count": 28,
   "metadata": {
    "id": "1nJSqELi2Ou-"
   },
   "outputs": [
    {
     "name": "stdout",
     "output_type": "stream",
     "text": [
      "{\n",
      "  \"pipelineJobs\": [\n",
      "    {\n",
      "      \"name\": \"projects/192756378758/locations/us-central1/pipelineJobs/hello-world-v2-20220922143209\",\n",
      "      \"displayName\": \"hello-world-v2-20220922143209\",\n",
      "      \"createTime\": \"2022-09-22T14:32:09.858920Z\",\n",
      "      \"startTime\": \"2022-09-22T14:32:10.420175Z\",\n",
      "      \"endTime\": \"2022-09-22T14:32:12.894671Z\",\n",
      "      \"updateTime\": \"2022-09-22T14:32:12.894671Z\",\n",
      "      \"pipelineSpec\": {\n",
      "        \"deploymentConfig\": {\n",
      "          \"@type\": \"type.googleapis.com/ml_pipelines.PipelineDeploymentConfig\",\n",
      "          \"executors\": {\n",
      "            \"exec-consumer\": {\n",
      "              \"container\": {\n",
      "                \"image\": \"python:3.7\",\n",
      "                \"command\": [\n",
      "                  \"sh\",\n",
      "                  \"-c\",\n",
      "                  \"\\nif ! [ -x \\\"$(command -v pip)\\\" ]; then\\n    python3 -m ensurepip || python3 -m ensurepip --user || apt-get install python3-pip\\nfi\\n\\nPIP_DISABLE_PIP_VERSION_CHECK=1 python3 -m pip install --quiet     --no-warn-script-location 'kfp==1.8.14' && \\\"$0\\\" \\\"$@\\\"\\n\",\n",
      "                  \"sh\",\n",
      "                  \"-ec\",\n",
      "                  \"program_path=$(mktemp -d)\\nprintf \\\"%s\\\" \\\"$0\\\" \\u003e \\\"$program_path/ephemeral_component.py\\\"\\npython3 -m kfp.v2.components.executor_main                         --component_module_path                         \\\"$program_path/ephemeral_component.py\\\"                         \\\"$@\\\"\\n\",\n",
      "                  \"\\nimport kfp\\nfrom kfp.v2 import dsl\\nfrom kfp.v2.dsl import *\\nfrom typing import *\\n\\ndef consumer(text1: str, text2: str, text3: str):\\n    print(f\\\"text1: {text1}; text2: {text2}; text3: {text3}\\\")\\n\\n\"\n",
      "                ],\n",
      "                \"args\": [\n",
      "                  \"--executor_input\",\n",
      "                  \"{{$}}\",\n",
      "                  \"--function_to_execute\",\n",
      "                  \"consumer\"\n",
      "                ]\n",
      "              }\n",
      "            },\n",
      "            \"exec-hello-world\": {\n",
      "              \"container\": {\n",
      "                \"image\": \"python:3.9\",\n",
      "                \"command\": [\n",
      "                  \"sh\",\n",
      "                  \"-c\",\n",
      "                  \"\\nif ! [ -x \\\"$(command -v pip)\\\" ]; then\\n    python3 -m ensurepip || python3 -m ensurepip --user || apt-get install python3-pip\\nfi\\n\\nPIP_DISABLE_PIP_VERSION_CHECK=1 python3 -m pip install --quiet     --no-warn-script-location 'kfp==1.8.14' && \\\"$0\\\" \\\"$@\\\"\\n\",\n",
      "                  \"sh\",\n",
      "                  \"-ec\",\n",
      "                  \"program_path=$(mktemp -d)\\nprintf \\\"%s\\\" \\\"$0\\\" \\u003e \\\"$program_path/ephemeral_component.py\\\"\\npython3 -m kfp.v2.components.executor_main                         --component_module_path                         \\\"$program_path/ephemeral_component.py\\\"                         \\\"$@\\\"\\n\",\n",
      "                  \"\\nimport kfp\\nfrom kfp.v2 import dsl\\nfrom kfp.v2.dsl import *\\nfrom typing import *\\n\\ndef hello_world(text: str) -\\u003e str:\\n    print(text)\\n    return text\\n\\n\"\n",
      "                ],\n",
      "                \"args\": [\n",
      "                  \"--executor_input\",\n",
      "                  \"{{$}}\",\n",
      "                  \"--function_to_execute\",\n",
      "                  \"hello_world\"\n",
      "                ]\n",
      "              }\n",
      "            },\n",
      "            \"exec-two-outputs\": {\n",
      "              \"container\": {\n",
      "                \"image\": \"python:3.7\",\n",
      "                \"command\": [\n",
      "                  \"sh\",\n",
      "                  \"-c\",\n",
      "                  \"\\nif ! [ -x \\\"$(command -v pip)\\\" ]; then\\n    python3 -m ensurepip || python3 -m ensurepip --user || apt-get install python3-pip\\nfi\\n\\nPIP_DISABLE_PIP_VERSION_CHECK=1 python3 -m pip install --quiet     --no-warn-script-location 'google-cloud-storage' 'kfp==1.8.14' && \\\"$0\\\" \\\"$@\\\"\\n\",\n",
      "                  \"sh\",\n",
      "                  \"-ec\",\n",
      "                  \"program_path=$(mktemp -d)\\nprintf \\\"%s\\\" \\\"$0\\\" \\u003e \\\"$program_path/ephemeral_component.py\\\"\\npython3 -m kfp.v2.components.executor_main                         --component_module_path                         \\\"$program_path/ephemeral_component.py\\\"                         \\\"$@\\\"\\n\",\n",
      "                  \"\\nimport kfp\\nfrom kfp.v2 import dsl\\nfrom kfp.v2.dsl import *\\nfrom typing import *\\n\\ndef two_outputs(\\n    text: str,\\n) -\\u003e NamedTuple(\\n    \\\"Outputs\\\",\\n    [\\n        (\\\"output_one\\\", str),  # Return parameters\\n        (\\\"output_two\\\", str),\\n    ],\\n):\\n    # the import is not actually used for this simple example, but the import\\n    # is successful, as it was included in the `packages_to_install` list.\\n    from google.cloud import storage  # noqa: F401\\n\\n    o1 = f\\\"output one from text: {text}\\\"\\n    o2 = f\\\"output two from text: {text}\\\"\\n    print(\\\"output one: {}; output_two: {}\\\".format(o1, o2))\\n    return (o1, o2)\\n\\n\"\n",
      "                ],\n",
      "                \"args\": [\n",
      "                  \"--executor_input\",\n",
      "                  \"{{$}}\",\n",
      "                  \"--function_to_execute\",\n",
      "                  \"two_outputs\"\n",
      "                ]\n",
      "              }\n",
      "            }\n",
      "          }\n",
      "        },\n",
      "        \"components\": {\n",
      "          \"comp-consumer\": {\n",
      "            \"inputDefinitions\": {\n",
      "              \"parameters\": {\n",
      "                \"text1\": {\n",
      "                  \"type\": \"STRING\"\n",
      "                },\n",
      "                \"text2\": {\n",
      "                  \"type\": \"STRING\"\n",
      "                },\n",
      "                \"text3\": {\n",
      "                  \"type\": \"STRING\"\n",
      "                }\n",
      "              }\n",
      "            },\n",
      "            \"executorLabel\": \"exec-consumer\"\n",
      "          },\n",
      "          \"comp-hello-world\": {\n",
      "            \"inputDefinitions\": {\n",
      "              \"parameters\": {\n",
      "                \"text\": {\n",
      "                  \"type\": \"STRING\"\n",
      "                }\n",
      "              }\n",
      "            },\n",
      "            \"outputDefinitions\": {\n",
      "              \"parameters\": {\n",
      "                \"Output\": {\n",
      "                  \"type\": \"STRING\"\n",
      "                }\n",
      "              }\n",
      "            },\n",
      "            \"executorLabel\": \"exec-hello-world\"\n",
      "          },\n",
      "          \"comp-two-outputs\": {\n",
      "            \"inputDefinitions\": {\n",
      "              \"parameters\": {\n",
      "                \"text\": {\n",
      "                  \"type\": \"STRING\"\n",
      "                }\n",
      "              }\n",
      "            },\n",
      "            \"outputDefinitions\": {\n",
      "              \"parameters\": {\n",
      "                \"output_one\": {\n",
      "                  \"type\": \"STRING\"\n",
      "                },\n",
      "                \"output_two\": {\n",
      "                  \"type\": \"STRING\"\n",
      "                }\n",
      "              }\n",
      "            },\n",
      "            \"executorLabel\": \"exec-two-outputs\"\n",
      "          }\n",
      "        },\n",
      "        \"schemaVersion\": \"2.0.0\",\n",
      "        \"root\": {\n",
      "          \"inputDefinitions\": {\n",
      "            \"parameters\": {\n",
      "              \"text\": {\n",
      "                \"type\": \"STRING\"\n",
      "              }\n",
      "            }\n",
      "          },\n",
      "          \"dag\": {\n",
      "            \"tasks\": {\n",
      "              \"consumer\": {\n",
      "                \"taskInfo\": {\n",
      "                  \"name\": \"consumer\"\n",
      "                },\n",
      "                \"inputs\": {\n",
      "                  \"parameters\": {\n",
      "                    \"text1\": {\n",
      "                      \"taskOutputParameter\": {\n",
      "                        \"producerTask\": \"hello-world\",\n",
      "                        \"outputParameterKey\": \"Output\"\n",
      "                      }\n",
      "                    },\n",
      "                    \"text2\": {\n",
      "                      \"taskOutputParameter\": {\n",
      "                        \"producerTask\": \"two-outputs\",\n",
      "                        \"outputParameterKey\": \"output_one\"\n",
      "                      }\n",
      "                    },\n",
      "                    \"text3\": {\n",
      "                      \"taskOutputParameter\": {\n",
      "                        \"producerTask\": \"two-outputs\",\n",
      "                        \"outputParameterKey\": \"output_two\"\n",
      "                      }\n",
      "                    }\n",
      "                  }\n",
      "                },\n",
      "                \"dependentTasks\": [\n",
      "                  \"hello-world\",\n",
      "                  \"two-outputs\"\n",
      "                ],\n",
      "                \"cachingOptions\": {\n",
      "                  \"enableCache\": true\n",
      "                },\n",
      "                \"componentRef\": {\n",
      "                  \"name\": \"comp-consumer\"\n",
      "                }\n",
      "              },\n",
      "              \"hello-world\": {\n",
      "                \"taskInfo\": {\n",
      "                  \"name\": \"hello-world\"\n",
      "                },\n",
      "                \"inputs\": {\n",
      "                  \"parameters\": {\n",
      "                    \"text\": {\n",
      "                      \"componentInputParameter\": \"text\"\n",
      "                    }\n",
      "                  }\n",
      "                },\n",
      "                \"cachingOptions\": {\n",
      "                  \"enableCache\": true\n",
      "                },\n",
      "                \"componentRef\": {\n",
      "                  \"name\": \"comp-hello-world\"\n",
      "                }\n",
      "              },\n",
      "              \"two-outputs\": {\n",
      "                \"taskInfo\": {\n",
      "                  \"name\": \"two-outputs\"\n",
      "                },\n",
      "                \"inputs\": {\n",
      "                  \"parameters\": {\n",
      "                    \"text\": {\n",
      "                      \"componentInputParameter\": \"text\"\n",
      "                    }\n",
      "                  }\n",
      "                },\n",
      "                \"cachingOptions\": {\n",
      "                  \"enableCache\": true\n",
      "                },\n",
      "                \"componentRef\": {\n",
      "                  \"name\": \"comp-two-outputs\"\n",
      "                }\n",
      "              }\n",
      "            }\n",
      "          }\n",
      "        },\n",
      "        \"sdkVersion\": \"kfp-1.8.14\",\n",
      "        \"pipelineInfo\": {\n",
      "          \"name\": \"hello-world-v2\"\n",
      "        },\n",
      "        \"deploymentSpec\": {\n",
      "          \"executors\": {\n",
      "            \"exec-consumer\": {\n",
      "              \"container\": {\n",
      "                \"image\": \"python:3.7\",\n",
      "                \"command\": [\n",
      "                  \"sh\",\n",
      "                  \"-c\",\n",
      "                  \"\\nif ! [ -x \\\"$(command -v pip)\\\" ]; then\\n    python3 -m ensurepip || python3 -m ensurepip --user || apt-get install python3-pip\\nfi\\n\\nPIP_DISABLE_PIP_VERSION_CHECK=1 python3 -m pip install --quiet     --no-warn-script-location 'kfp==1.8.14' && \\\"$0\\\" \\\"$@\\\"\\n\",\n",
      "                  \"sh\",\n",
      "                  \"-ec\",\n",
      "                  \"program_path=$(mktemp -d)\\nprintf \\\"%s\\\" \\\"$0\\\" \\u003e \\\"$program_path/ephemeral_component.py\\\"\\npython3 -m kfp.v2.components.executor_main                         --component_module_path                         \\\"$program_path/ephemeral_component.py\\\"                         \\\"$@\\\"\\n\",\n",
      "                  \"\\nimport kfp\\nfrom kfp.v2 import dsl\\nfrom kfp.v2.dsl import *\\nfrom typing import *\\n\\ndef consumer(text1: str, text2: str, text3: str):\\n    print(f\\\"text1: {text1}; text2: {text2}; text3: {text3}\\\")\\n\\n\"\n",
      "                ],\n",
      "                \"args\": [\n",
      "                  \"--executor_input\",\n",
      "                  \"{{$}}\",\n",
      "                  \"--function_to_execute\",\n",
      "                  \"consumer\"\n",
      "                ]\n",
      "              }\n",
      "            },\n",
      "            \"exec-hello-world\": {\n",
      "              \"container\": {\n",
      "                \"image\": \"python:3.9\",\n",
      "                \"command\": [\n",
      "                  \"sh\",\n",
      "                  \"-c\",\n",
      "                  \"\\nif ! [ -x \\\"$(command -v pip)\\\" ]; then\\n    python3 -m ensurepip || python3 -m ensurepip --user || apt-get install python3-pip\\nfi\\n\\nPIP_DISABLE_PIP_VERSION_CHECK=1 python3 -m pip install --quiet     --no-warn-script-location 'kfp==1.8.14' && \\\"$0\\\" \\\"$@\\\"\\n\",\n",
      "                  \"sh\",\n",
      "                  \"-ec\",\n",
      "                  \"program_path=$(mktemp -d)\\nprintf \\\"%s\\\" \\\"$0\\\" \\u003e \\\"$program_path/ephemeral_component.py\\\"\\npython3 -m kfp.v2.components.executor_main                         --component_module_path                         \\\"$program_path/ephemeral_component.py\\\"                         \\\"$@\\\"\\n\",\n",
      "                  \"\\nimport kfp\\nfrom kfp.v2 import dsl\\nfrom kfp.v2.dsl import *\\nfrom typing import *\\n\\ndef hello_world(text: str) -\\u003e str:\\n    print(text)\\n    return text\\n\\n\"\n",
      "                ],\n",
      "                \"args\": [\n",
      "                  \"--executor_input\",\n",
      "                  \"{{$}}\",\n",
      "                  \"--function_to_execute\",\n",
      "                  \"hello_world\"\n",
      "                ]\n",
      "              }\n",
      "            },\n",
      "            \"exec-two-outputs\": {\n",
      "              \"container\": {\n",
      "                \"image\": \"python:3.7\",\n",
      "                \"command\": [\n",
      "                  \"sh\",\n",
      "                  \"-c\",\n",
      "                  \"\\nif ! [ -x \\\"$(command -v pip)\\\" ]; then\\n    python3 -m ensurepip || python3 -m ensurepip --user || apt-get install python3-pip\\nfi\\n\\nPIP_DISABLE_PIP_VERSION_CHECK=1 python3 -m pip install --quiet     --no-warn-script-location 'google-cloud-storage' 'kfp==1.8.14' && \\\"$0\\\" \\\"$@\\\"\\n\",\n",
      "                  \"sh\",\n",
      "                  \"-ec\",\n",
      "                  \"program_path=$(mktemp -d)\\nprintf \\\"%s\\\" \\\"$0\\\" \\u003e \\\"$program_path/ephemeral_component.py\\\"\\npython3 -m kfp.v2.components.executor_main                         --component_module_path                         \\\"$program_path/ephemeral_component.py\\\"                         \\\"$@\\\"\\n\",\n",
      "                  \"\\nimport kfp\\nfrom kfp.v2 import dsl\\nfrom kfp.v2.dsl import *\\nfrom typing import *\\n\\ndef two_outputs(\\n    text: str,\\n) -\\u003e NamedTuple(\\n    \\\"Outputs\\\",\\n    [\\n        (\\\"output_one\\\", str),  # Return parameters\\n        (\\\"output_two\\\", str),\\n    ],\\n):\\n    # the import is not actually used for this simple example, but the import\\n    # is successful, as it was included in the `packages_to_install` list.\\n    from google.cloud import storage  # noqa: F401\\n\\n    o1 = f\\\"output one from text: {text}\\\"\\n    o2 = f\\\"output two from text: {text}\\\"\\n    print(\\\"output one: {}; output_two: {}\\\".format(o1, o2))\\n    return (o1, o2)\\n\\n\"\n",
      "                ],\n",
      "                \"args\": [\n",
      "                  \"--executor_input\",\n",
      "                  \"{{$}}\",\n",
      "                  \"--function_to_execute\",\n",
      "                  \"two_outputs\"\n",
      "                ]\n",
      "              }\n",
      "            }\n",
      "          }\n",
      "        }\n",
      "      },\n",
      "      \"state\": \"PIPELINE_STATE_SUCCEEDED\",\n",
      "      \"jobDetail\": {\n",
      "        \"pipelineContext\": {\n",
      "          \"name\": \"projects/192756378758/locations/us-central1/metadataStores/default/contexts/hello-world-v2\"\n",
      "        },\n",
      "        \"pipelineRunContext\": {\n",
      "          \"name\": \"projects/192756378758/locations/us-central1/metadataStores/default/contexts/hello-world-v2-20220922143209\"\n",
      "        }\n",
      "      },\n",
      "      \"runtimeConfig\": {\n",
      "        \"parameters\": {\n",
      "          \"text\": {\n",
      "            \"stringValue\": \"hi there\"\n",
      "          }\n",
      "        },\n",
      "        \"gcsOutputDirectory\": \"gs://qwiklabs-gcp-01-d69e76763702/pipeline_root/intro\"\n",
      "      },\n",
      "      \"serviceAccount\": \"192756378758-compute@developer.gserviceaccount.com\"\n",
      "    }\n",
      "  ]\n",
      "}\n"
     ]
    }
   ],
   "source": [
    "! curl -X GET -H \"Authorization: Bearer $(gcloud auth print-access-token)\"   -H \"Content-Type: application/json\"   https://{API_ENDPOINT}/v1beta1/projects/{PROJECT_ID}/locations/{REGION}/pipelineJobs"
   ]
  },
  {
   "cell_type": "markdown",
   "metadata": {
    "id": "pipelines_rest_create"
   },
   "source": [
    "### Create a pipeline job\n",
    "\n",
    "For this REST request, you submit a compiled pipeline job specification.  We're using the one you generated previously."
   ]
  },
  {
   "cell_type": "code",
   "execution_count": 29,
   "metadata": {
    "id": "iEUcY8aQ2Ou-"
   },
   "outputs": [
    {
     "name": "stdout",
     "output_type": "stream",
     "text": [
      "['  % Total    % Received % Xferd  Average Speed   Time    Time     Time  Current', '                                 Dload  Upload   Total   Spent    Left  Speed', '', '  0     0    0     0    0     0      0      0 --:--:-- --:--:-- --:--:--     0{', '  \"name\": \"projects/192756378758/locations/us-central1/pipelineJobs/184807013908217856\",', '  \"createTime\": \"2022-09-22T14:39:04.069052Z\",', '  \"updateTime\": \"2022-09-22T14:39:04.069052Z\",', '  \"pipelineSpec\": {', '    \"deploymentConfig\": {', '      \"@type\": \"type.googleapis.com/ml_pipelines.PipelineDeploymentConfig\",', '      \"executors\": {', '        \"exec-consumer\": {', '          \"container\": {', '            \"image\": \"python:3.7\",', '            \"command\": [', '              \"sh\",', '              \"-c\",', '              \"\\\\nif ! [ -x \\\\\"$(command -v pip)\\\\\" ]; then\\\\n    python3 -m ensurepip || python3 -m ensurepip --user || apt-get install python3-pip\\\\nfi\\\\n\\\\nPIP_DISABLE_PIP_VERSION_CHECK=1 python3 -m pip install --quiet     --no-warn-script-location \\'kfp==1.8.14\\' && \\\\\"$0\\\\\" \\\\\"$@\\\\\"\\\\n\",', '              \"sh\",', '              \"-ec\",', '              \"program_path=$(mktemp -d)\\\\nprintf \\\\\"%s\\\\\" \\\\\"$0\\\\\" \\\\u003e \\\\\"$program_path/ephemeral_component.py\\\\\"\\\\npython3 -m kfp.v2.components.executor_main                         --component_module_path                         \\\\\"$program_path/ephemeral_component.py\\\\\"                         \\\\\"$@\\\\\"\\\\n\",', '              \"\\\\nimport kfp\\\\nfrom kfp.v2 import dsl\\\\nfrom kfp.v2.dsl import *\\\\nfrom typing import *\\\\n\\\\ndef consumer(text1: str, text2: str, text3: str):\\\\n    print(f\\\\\"text1: {text1}; text2: {text2}; text3: {text3}\\\\\")\\\\n\\\\n\"', '            ],', '            \"args\": [', '              \"--executor_input\",', '              \"{{$}}\",', '              \"--function_to_execute\",', '              \"consumer\"', '            ]', '          }', '        },', '        \"exec-hello-world\": {', '          \"container\": {', '            \"image\": \"python:3.9\",', '            \"command\": [', '              \"sh\",', '              \"-c\",', '              \"\\\\nif ! [ -x \\\\\"$(command -v pip)\\\\\" ]; then\\\\n    python3 -m ensurepip || python3 -m ensurepip --user || apt-get install python3-pip\\\\nfi\\\\n\\\\nPIP_DISABLE_PIP_VERSION_CHECK=1 python3 -m pip install --quiet     --no-warn-script-location \\'kfp==1.8.14\\' && \\\\\"$0\\\\\" \\\\\"$@\\\\\"\\\\n\",', '              \"sh\",', '              \"-ec\",', '              \"program_path=$(mktemp -d)\\\\nprintf \\\\\"%s\\\\\" \\\\\"$0\\\\\" \\\\u003e \\\\\"$program_path/ephemeral_component.py\\\\\"\\\\npython3 -m kfp.v2.components.executor_main                         --component_module_path                         \\\\\"$program_path/ephemeral_component.py\\\\\"                         \\\\\"$@\\\\\"\\\\n\",', '              \"\\\\nimport kfp\\\\nfrom kfp.v2 import dsl\\\\nfrom kfp.v2.dsl import *\\\\nfrom typing import *\\\\n\\\\ndef hello_world(text: str) -\\\\u003e str:\\\\n    print(text)\\\\n    return text\\\\n\\\\n\"', '            ],', '            \"args\": [', '              \"--executor_input\",', '              \"{{$}}\",', '              \"--function_to_execute\",', '              \"hello_world\"', '            ]', '          }', '        },', '        \"exec-two-outputs\": {', '          \"container\": {', '            \"image\": \"python:3.7\",', '            \"command\": [', '              \"sh\",', '              \"-c\",', '              \"\\\\nif ! [ -x \\\\\"$(command -v pip)\\\\\" ]; then\\\\n    python3 -m ensurepip || python3 -m ensurepip --user || apt-get install python3-pip\\\\nfi\\\\n\\\\nPIP_DISABLE_PIP_VERSION_CHECK=1 python3 -m pip install --quiet     --no-warn-script-location \\'google-cloud-storage\\' \\'kfp==1.8.14\\' && \\\\\"$0\\\\\" \\\\\"$@\\\\\"\\\\n\",', '              \"sh\",', '              \"-ec\",', '              \"program_path=$(mktemp -d)\\\\nprintf \\\\\"%s\\\\\" \\\\\"$0\\\\\" \\\\u003e \\\\\"$program_path/ephemeral_component.py\\\\\"\\\\npython3 -m kfp.v2.components.executor_main                         --component_module_path                         \\\\\"$program_path/ephemeral_component.py\\\\\"                         \\\\\"$@\\\\\"\\\\n\",', '              \"\\\\nimport kfp\\\\nfrom kfp.v2 import dsl\\\\nfrom kfp.v2.dsl import *\\\\nfrom typing import *\\\\n\\\\ndef two_outputs(\\\\n    text: str,\\\\n) -\\\\u003e NamedTuple(\\\\n    \\\\\"Outputs\\\\\",\\\\n    [\\\\n        (\\\\\"output_one\\\\\", str),  # Return parameters\\\\n        (\\\\\"output_two\\\\\", str),\\\\n    ],\\\\n):\\\\n    # the import is not actually used for this simple example, but the import\\\\n    # is successful, as it was included in the `packages_to_install` list.\\\\n    from google.cloud import storage  # noqa: F401\\\\n\\\\n    o1 = f\\\\\"output one from text: {text}\\\\\"\\\\n    o2 = f\\\\\"output two from text: {text}\\\\\"\\\\n    print(\\\\\"output one: {}; output_two: {}\\\\\".format(o1, o2))\\\\n    return (o1, o2)\\\\n\\\\n\"', '            ],', '            \"args\": [', '              \"--executor_input\",', '              \"{{$}}\",', '              \"--function_to_execute\",', '              \"two_outputs\"', '            ]', '          }', '        }', '      }', '    },', '    \"components\": {', '      \"comp-consumer\": {', '        \"inputDefinitions\": {', '          \"parameters\": {', '            \"text1\": {', '              \"type\": \"STRING\"', '            },', '            \"text2\": {', '              \"type\": \"STRING\"', '            },', '            \"text3\": {', '              \"type\": \"STRING\"', '            }', '          }', '        },', '        \"executorLabel\": \"exec-consumer\"', '      },', '      \"comp-hello-world\": {', '        \"inputDefinitions\": {', '          \"parameters\": {', '            \"text\": {', '              \"type\": \"STRING\"', '            }', '          }', '        },', '        \"outputDefinitions\": {', '          \"parameters\": {', '            \"Output\": {', '              \"type\": \"STRING\"', '            }', '          }', '        },', '        \"executorLabel\": \"exec-hello-world\"', '      },', '      \"comp-two-outputs\": {', '        \"inputDefinitions\": {', '          \"parameters\": {', '            \"text\": {', '              \"type\": \"STRING\"', '            }', '          }', '        },', '        \"outputDefinitions\": {', '          \"parameters\": {', '            \"output_one\": {', '              \"type\": \"STRING\"', '            },', '            \"output_two\": {', '              \"type\": \"STRING\"', '            }', '          }', '        },', '        \"executorLabel\": \"exec-two-outputs\"', '      }', '    },', '    \"schemaVersion\": \"2.0.0\",', '    \"root\": {', '      \"inputDefinitions\": {', '        \"parameters\": {', '          \"text\": {', '            \"type\": \"STRING\"', '          }', '        }', '      },', '      \"dag\": {', '        \"tasks\": {', '          \"consumer\": {', '            \"taskInfo\": {', '              \"name\": \"consumer\"', '            },', '            \"inputs\": {', '              \"parameters\": {', '                \"text1\": {', '                  \"taskOutputParameter\": {', '                    \"producerTask\": \"hello-world\",', '                    \"outputParameterKey\": \"Output\"', '                  }', '                },', '                \"text2\": {', '                  \"taskOutputParameter\": {', '                    \"producerTask\": \"two-outputs\",', '                    \"outputParameterKey\": \"output_one\"', '                  }', '                },', '                \"text3\": {', '                  \"taskOutputParameter\": {', '                    \"producerTask\": \"two-outputs\",', '                    \"outputParameterKey\": \"output_two\"', '                  }', '                }', '              }', '            },', '            \"dependentTasks\": [', '              \"hello-world\",', '              \"two-outputs\"', '            ],', '            \"cachingOptions\": {', '              \"enableCache\": true', '            },', '            \"componentRef\": {', '              \"name\": \"comp-consumer\"', '            }', '          },', '          \"hello-world\": {', '            \"taskInfo\": {', '              \"name\": \"hello-world\"', '            },', '            \"inputs\": {', '              \"parameters\": {', '                \"text\": {', '                  \"componentInputParameter\": \"text\"', '                }', '              }', '            },', '            \"cachingOptions\": {', '              \"enableCache\": true', '            },', '            \"componentRef\": {', '              \"name\": \"comp-hello-world\"', '            }', '          },', '          \"two-outputs\": {', '            \"taskInfo\": {', '              \"name\": \"two-outputs\"', '            },', '            \"inputs\": {', '              \"parameters\": {', '                \"text\": {', '                  \"componentInputParameter\": \"text\"', '                }', '              }', '            },', '            \"cachingOptions\": {', '              \"enableCache\": true', '            },', '            \"componentRef\": {', '              \"name\": \"comp-two-outputs\"', '            }', '          }', '        }', '      }', '    },', '    \"sdkVersion\": \"kfp-1.8.14\",', '    \"pipelineInfo\": {', '      \"name\": \"hello-world-v2\"', '    },', '    \"deploymentSpec\": {', '      \"executors\": {', '        \"exec-consumer\": {', '          \"container\": {', '            \"image\": \"python:3.7\",', '            \"command\": [', '              \"sh\",', '              \"-c\",', '              \"\\\\nif ! [ -x \\\\\"$(command -v pip)\\\\\" ]; then\\\\n    python3 -m ensurepip || python3 -m ensurepip --user || apt-get install python3-pip\\\\nfi\\\\n\\\\nPIP_DISABLE_PIP_VERSION_CHECK=1 python3 -m pip install --quiet     --no-warn-script-location \\'kfp==1.8.14\\' && \\\\\"$0\\\\\" \\\\\"$@\\\\\"\\\\n\",', '              \"sh\",', '              \"-ec\",', '              \"program_path=$(mktemp -d)\\\\nprintf \\\\\"%s\\\\\" \\\\\"$0\\\\\" \\\\u003e \\\\\"$program_path/ephemeral_component.py\\\\\"\\\\npython3 -m kfp.v2.components.executor_main                         --component_module_path                         \\\\\"$program_path/ephemeral_component.py\\\\\"                         \\\\\"$@\\\\\"\\\\n\",', '              \"\\\\nimport kfp\\\\nfrom kfp.v2 import dsl\\\\nfrom kfp.v2.dsl import *\\\\nfrom typing import *\\\\n\\\\ndef consumer(text1: str, text2: str, text3: str):\\\\n    print(f\\\\\"text1: {text1}; text2: {text2}; text3: {text3}\\\\\")\\\\n\\\\n\"', '            ],', '            \"args\": [', '              \"--executor_input\",', '              \"{{$}}\",', '              \"--function_to_execute\",', '              \"consumer\"', '            ]', '          }', '        },', '        \"exec-hello-world\": {', '          \"container\": {', '            \"image\": \"python:3.9\",', '            \"command\": [', '              \"sh\",', '              \"-c\",', '              \"\\\\nif ! [ -x \\\\\"$(command -v pip)\\\\\" ]; then\\\\n    python3 -m ensurepip || python3 -m ensurepip --user || apt-get install python3-pip\\\\nfi\\\\n\\\\nPIP_DISABLE_PIP_VERSION_CHECK=1 python3 -m pip install --quiet     --no-warn-script-location \\'kfp==1.8.14\\' && \\\\\"$0\\\\\" \\\\\"$@\\\\\"\\\\n\",', '              \"sh\",', '              \"-ec\",', '              \"program_path=$(mktemp -d)\\\\nprintf \\\\\"%s\\\\\" \\\\\"$0\\\\\" \\\\u003e \\\\\"$program_path/ephemeral_component.py\\\\\"\\\\npython3 -m kfp.v2.components.executor_main                         --component_module_path                         \\\\\"$program_path/ephemeral_component.py\\\\\"                         \\\\\"$@\\\\\"\\\\n\",', '              \"\\\\nimport kfp\\\\nfrom kfp.v2 import dsl\\\\nfrom kfp.v2.dsl import *\\\\nfrom typing import *\\\\n\\\\ndef hello_world(text: str) -\\\\u003e str:\\\\n    print(text)\\\\n    return text\\\\n\\\\n\"', '            ],', '            \"args\": [', '              \"--executor_input\",', '              \"{{$}}\",', '              \"--function_to_execute\",', '              \"hello_world\"', '            ]', '          }', '        },', '        \"exec-two-outputs\": {', '          \"container\": {', '            \"image\": \"python:3.7\",', '            \"command\": [', '              \"sh\",', '              \"-c\",', '              \"\\\\nif ! [ -x \\\\\"$(command -v pip)\\\\\" ]; then\\\\n    python3 -m ensurepip || python3 -m ensurepip --user || apt-get install python3-pip\\\\nfi\\\\n\\\\nPIP_DISABLE_PIP_VERSION_CHECK=1 python3 -m pip install --quiet     --no-warn-script-location \\'google-cloud-storage\\' \\'kfp==1.8.14\\' && \\\\\"$0\\\\\" \\\\\"$@\\\\\"\\\\n\",', '              \"sh\",', '              \"-ec\",', '              \"program_path=$(mktemp -d)\\\\nprintf \\\\\"%s\\\\\" \\\\\"$0\\\\\" \\\\u003e \\\\\"$program_path/ephemeral_component.py\\\\\"\\\\npython3 -m kfp.v2.components.executor_main                         --component_module_path                         \\\\\"$program_path/ephemeral_component.py\\\\\"                         \\\\\"$@\\\\\"\\\\n\",', '              \"\\\\nimport kfp\\\\nfrom kfp.v2 import dsl\\\\nfrom kfp.v2.dsl import *\\\\nfrom typing import *\\\\n\\\\ndef two_outputs(\\\\n    text: str,\\\\n) -\\\\u003e NamedTuple(\\\\n    \\\\\"Outputs\\\\\",\\\\n    [\\\\n        (\\\\\"output_one\\\\\", str),  # Return parameters\\\\n        (\\\\\"output_two\\\\\", str),\\\\n    ],\\\\n):\\\\n    # the import is not actually used for this simple example, but the import\\\\n    # is successful, as it was included in the `packages_to_install` list.\\\\n    from google.cloud import storage  # noqa: F401\\\\n\\\\n    o1 = f\\\\\"output one from text: {text}\\\\\"\\\\n    o2 = f\\\\\"output two from text: {text}\\\\\"\\\\n    print(\\\\\"output one: {}; output_two: {}\\\\\".format(o1, o2))\\\\n    return (o1, o2)\\\\n\\\\n\"', '            ],', '            \"args\": [', '              \"--executor_input\",', '              \"{{$}}\",', '              \"--function_to_execute\",', '              \"two_outputs\"', '            ]', '          }', '        }', '      }', '    }', '  },', '  \"state\": \"PIPELINE_STATE_PENDING\",', '  \"runtimeConfig\": {', '    \"parameters\": {', '      \"text\": {', '        \"stringValue\": \"hi there\"', '      }', '    },', '    \"gcsOutputDirectory\": \"gs://qwiklabs-gcp-01-d69e76763702/pipeline_root/intro\"', '  },', '  \"serviceAccount\": \"192756378758-compute@de', '100 19942    0 12319  100  7623  33384  20658 --:--:-- --:--:-- --:--:-- 54043', 'veloper.gserviceaccount.com\"', '}']\n"
     ]
    }
   ],
   "source": [
    "# TODO 5\n",
    "output = ! curl -X POST  -H \"Authorization: Bearer $(gcloud auth print-access-token)\" -H \"Content-Type: application/json; charset=utf-8\"   https://{API_ENDPOINT}/v1beta1/projects/{PROJECT_ID}/locations/{REGION}/pipelineJobs  --data \"@intro_pipeline.json\"\n",
    "\n",
    "# Enter the pipeline run id\n",
    "PIPELINE_RUN_ID = output[5].split(\"/\")[-1].split('\"')[0]\n",
    "print(output)"
   ]
  },
  {
   "cell_type": "markdown",
   "metadata": {
    "id": "pipelines_rest_get"
   },
   "source": [
    "### Get a pipeline job from its ID"
   ]
  },
  {
   "cell_type": "code",
   "execution_count": 30,
   "metadata": {
    "id": "D-QEplm82Ou-"
   },
   "outputs": [
    {
     "name": "stdout",
     "output_type": "stream",
     "text": [
      "{\n",
      "  \"pipelineJobs\": [\n",
      "    {\n",
      "      \"name\": \"projects/192756378758/locations/us-central1/pipelineJobs/184807013908217856\",\n",
      "      \"createTime\": \"2022-09-22T14:39:04.069052Z\",\n",
      "      \"startTime\": \"2022-09-22T14:39:04.631583Z\",\n",
      "      \"endTime\": \"2022-09-22T14:39:07.054511Z\",\n",
      "      \"updateTime\": \"2022-09-22T14:39:07.054511Z\",\n",
      "      \"pipelineSpec\": {\n",
      "        \"deploymentConfig\": {\n",
      "          \"@type\": \"type.googleapis.com/ml_pipelines.PipelineDeploymentConfig\",\n",
      "          \"executors\": {\n",
      "            \"exec-consumer\": {\n",
      "              \"container\": {\n",
      "                \"image\": \"python:3.7\",\n",
      "                \"command\": [\n",
      "                  \"sh\",\n",
      "                  \"-c\",\n",
      "                  \"\\nif ! [ -x \\\"$(command -v pip)\\\" ]; then\\n    python3 -m ensurepip || python3 -m ensurepip --user || apt-get install python3-pip\\nfi\\n\\nPIP_DISABLE_PIP_VERSION_CHECK=1 python3 -m pip install --quiet     --no-warn-script-location 'kfp==1.8.14' && \\\"$0\\\" \\\"$@\\\"\\n\",\n",
      "                  \"sh\",\n",
      "                  \"-ec\",\n",
      "                  \"program_path=$(mktemp -d)\\nprintf \\\"%s\\\" \\\"$0\\\" \\u003e \\\"$program_path/ephemeral_component.py\\\"\\npython3 -m kfp.v2.components.executor_main                         --component_module_path                         \\\"$program_path/ephemeral_component.py\\\"                         \\\"$@\\\"\\n\",\n",
      "                  \"\\nimport kfp\\nfrom kfp.v2 import dsl\\nfrom kfp.v2.dsl import *\\nfrom typing import *\\n\\ndef consumer(text1: str, text2: str, text3: str):\\n    print(f\\\"text1: {text1}; text2: {text2}; text3: {text3}\\\")\\n\\n\"\n",
      "                ],\n",
      "                \"args\": [\n",
      "                  \"--executor_input\",\n",
      "                  \"{{$}}\",\n",
      "                  \"--function_to_execute\",\n",
      "                  \"consumer\"\n",
      "                ]\n",
      "              }\n",
      "            },\n",
      "            \"exec-hello-world\": {\n",
      "              \"container\": {\n",
      "                \"image\": \"python:3.9\",\n",
      "                \"command\": [\n",
      "                  \"sh\",\n",
      "                  \"-c\",\n",
      "                  \"\\nif ! [ -x \\\"$(command -v pip)\\\" ]; then\\n    python3 -m ensurepip || python3 -m ensurepip --user || apt-get install python3-pip\\nfi\\n\\nPIP_DISABLE_PIP_VERSION_CHECK=1 python3 -m pip install --quiet     --no-warn-script-location 'kfp==1.8.14' && \\\"$0\\\" \\\"$@\\\"\\n\",\n",
      "                  \"sh\",\n",
      "                  \"-ec\",\n",
      "                  \"program_path=$(mktemp -d)\\nprintf \\\"%s\\\" \\\"$0\\\" \\u003e \\\"$program_path/ephemeral_component.py\\\"\\npython3 -m kfp.v2.components.executor_main                         --component_module_path                         \\\"$program_path/ephemeral_component.py\\\"                         \\\"$@\\\"\\n\",\n",
      "                  \"\\nimport kfp\\nfrom kfp.v2 import dsl\\nfrom kfp.v2.dsl import *\\nfrom typing import *\\n\\ndef hello_world(text: str) -\\u003e str:\\n    print(text)\\n    return text\\n\\n\"\n",
      "                ],\n",
      "                \"args\": [\n",
      "                  \"--executor_input\",\n",
      "                  \"{{$}}\",\n",
      "                  \"--function_to_execute\",\n",
      "                  \"hello_world\"\n",
      "                ]\n",
      "              }\n",
      "            },\n",
      "            \"exec-two-outputs\": {\n",
      "              \"container\": {\n",
      "                \"image\": \"python:3.7\",\n",
      "                \"command\": [\n",
      "                  \"sh\",\n",
      "                  \"-c\",\n",
      "                  \"\\nif ! [ -x \\\"$(command -v pip)\\\" ]; then\\n    python3 -m ensurepip || python3 -m ensurepip --user || apt-get install python3-pip\\nfi\\n\\nPIP_DISABLE_PIP_VERSION_CHECK=1 python3 -m pip install --quiet     --no-warn-script-location 'google-cloud-storage' 'kfp==1.8.14' && \\\"$0\\\" \\\"$@\\\"\\n\",\n",
      "                  \"sh\",\n",
      "                  \"-ec\",\n",
      "                  \"program_path=$(mktemp -d)\\nprintf \\\"%s\\\" \\\"$0\\\" \\u003e \\\"$program_path/ephemeral_component.py\\\"\\npython3 -m kfp.v2.components.executor_main                         --component_module_path                         \\\"$program_path/ephemeral_component.py\\\"                         \\\"$@\\\"\\n\",\n",
      "                  \"\\nimport kfp\\nfrom kfp.v2 import dsl\\nfrom kfp.v2.dsl import *\\nfrom typing import *\\n\\ndef two_outputs(\\n    text: str,\\n) -\\u003e NamedTuple(\\n    \\\"Outputs\\\",\\n    [\\n        (\\\"output_one\\\", str),  # Return parameters\\n        (\\\"output_two\\\", str),\\n    ],\\n):\\n    # the import is not actually used for this simple example, but the import\\n    # is successful, as it was included in the `packages_to_install` list.\\n    from google.cloud import storage  # noqa: F401\\n\\n    o1 = f\\\"output one from text: {text}\\\"\\n    o2 = f\\\"output two from text: {text}\\\"\\n    print(\\\"output one: {}; output_two: {}\\\".format(o1, o2))\\n    return (o1, o2)\\n\\n\"\n",
      "                ],\n",
      "                \"args\": [\n",
      "                  \"--executor_input\",\n",
      "                  \"{{$}}\",\n",
      "                  \"--function_to_execute\",\n",
      "                  \"two_outputs\"\n",
      "                ]\n",
      "              }\n",
      "            }\n",
      "          }\n",
      "        },\n",
      "        \"components\": {\n",
      "          \"comp-consumer\": {\n",
      "            \"inputDefinitions\": {\n",
      "              \"parameters\": {\n",
      "                \"text1\": {\n",
      "                  \"type\": \"STRING\"\n",
      "                },\n",
      "                \"text2\": {\n",
      "                  \"type\": \"STRING\"\n",
      "                },\n",
      "                \"text3\": {\n",
      "                  \"type\": \"STRING\"\n",
      "                }\n",
      "              }\n",
      "            },\n",
      "            \"executorLabel\": \"exec-consumer\"\n",
      "          },\n",
      "          \"comp-hello-world\": {\n",
      "            \"inputDefinitions\": {\n",
      "              \"parameters\": {\n",
      "                \"text\": {\n",
      "                  \"type\": \"STRING\"\n",
      "                }\n",
      "              }\n",
      "            },\n",
      "            \"outputDefinitions\": {\n",
      "              \"parameters\": {\n",
      "                \"Output\": {\n",
      "                  \"type\": \"STRING\"\n",
      "                }\n",
      "              }\n",
      "            },\n",
      "            \"executorLabel\": \"exec-hello-world\"\n",
      "          },\n",
      "          \"comp-two-outputs\": {\n",
      "            \"inputDefinitions\": {\n",
      "              \"parameters\": {\n",
      "                \"text\": {\n",
      "                  \"type\": \"STRING\"\n",
      "                }\n",
      "              }\n",
      "            },\n",
      "            \"outputDefinitions\": {\n",
      "              \"parameters\": {\n",
      "                \"output_one\": {\n",
      "                  \"type\": \"STRING\"\n",
      "                },\n",
      "                \"output_two\": {\n",
      "                  \"type\": \"STRING\"\n",
      "                }\n",
      "              }\n",
      "            },\n",
      "            \"executorLabel\": \"exec-two-outputs\"\n",
      "          }\n",
      "        },\n",
      "        \"schemaVersion\": \"2.0.0\",\n",
      "        \"root\": {\n",
      "          \"inputDefinitions\": {\n",
      "            \"parameters\": {\n",
      "              \"text\": {\n",
      "                \"type\": \"STRING\"\n",
      "              }\n",
      "            }\n",
      "          },\n",
      "          \"dag\": {\n",
      "            \"tasks\": {\n",
      "              \"consumer\": {\n",
      "                \"taskInfo\": {\n",
      "                  \"name\": \"consumer\"\n",
      "                },\n",
      "                \"inputs\": {\n",
      "                  \"parameters\": {\n",
      "                    \"text1\": {\n",
      "                      \"taskOutputParameter\": {\n",
      "                        \"producerTask\": \"hello-world\",\n",
      "                        \"outputParameterKey\": \"Output\"\n",
      "                      }\n",
      "                    },\n",
      "                    \"text2\": {\n",
      "                      \"taskOutputParameter\": {\n",
      "                        \"producerTask\": \"two-outputs\",\n",
      "                        \"outputParameterKey\": \"output_one\"\n",
      "                      }\n",
      "                    },\n",
      "                    \"text3\": {\n",
      "                      \"taskOutputParameter\": {\n",
      "                        \"producerTask\": \"two-outputs\",\n",
      "                        \"outputParameterKey\": \"output_two\"\n",
      "                      }\n",
      "                    }\n",
      "                  }\n",
      "                },\n",
      "                \"dependentTasks\": [\n",
      "                  \"hello-world\",\n",
      "                  \"two-outputs\"\n",
      "                ],\n",
      "                \"cachingOptions\": {\n",
      "                  \"enableCache\": true\n",
      "                },\n",
      "                \"componentRef\": {\n",
      "                  \"name\": \"comp-consumer\"\n",
      "                }\n",
      "              },\n",
      "              \"hello-world\": {\n",
      "                \"taskInfo\": {\n",
      "                  \"name\": \"hello-world\"\n",
      "                },\n",
      "                \"inputs\": {\n",
      "                  \"parameters\": {\n",
      "                    \"text\": {\n",
      "                      \"componentInputParameter\": \"text\"\n",
      "                    }\n",
      "                  }\n",
      "                },\n",
      "                \"cachingOptions\": {\n",
      "                  \"enableCache\": true\n",
      "                },\n",
      "                \"componentRef\": {\n",
      "                  \"name\": \"comp-hello-world\"\n",
      "                }\n",
      "              },\n",
      "              \"two-outputs\": {\n",
      "                \"taskInfo\": {\n",
      "                  \"name\": \"two-outputs\"\n",
      "                },\n",
      "                \"inputs\": {\n",
      "                  \"parameters\": {\n",
      "                    \"text\": {\n",
      "                      \"componentInputParameter\": \"text\"\n",
      "                    }\n",
      "                  }\n",
      "                },\n",
      "                \"cachingOptions\": {\n",
      "                  \"enableCache\": true\n",
      "                },\n",
      "                \"componentRef\": {\n",
      "                  \"name\": \"comp-two-outputs\"\n",
      "                }\n",
      "              }\n",
      "            }\n",
      "          }\n",
      "        },\n",
      "        \"sdkVersion\": \"kfp-1.8.14\",\n",
      "        \"pipelineInfo\": {\n",
      "          \"name\": \"hello-world-v2\"\n",
      "        },\n",
      "        \"deploymentSpec\": {\n",
      "          \"executors\": {\n",
      "            \"exec-consumer\": {\n",
      "              \"container\": {\n",
      "                \"image\": \"python:3.7\",\n",
      "                \"command\": [\n",
      "                  \"sh\",\n",
      "                  \"-c\",\n",
      "                  \"\\nif ! [ -x \\\"$(command -v pip)\\\" ]; then\\n    python3 -m ensurepip || python3 -m ensurepip --user || apt-get install python3-pip\\nfi\\n\\nPIP_DISABLE_PIP_VERSION_CHECK=1 python3 -m pip install --quiet     --no-warn-script-location 'kfp==1.8.14' && \\\"$0\\\" \\\"$@\\\"\\n\",\n",
      "                  \"sh\",\n",
      "                  \"-ec\",\n",
      "                  \"program_path=$(mktemp -d)\\nprintf \\\"%s\\\" \\\"$0\\\" \\u003e \\\"$program_path/ephemeral_component.py\\\"\\npython3 -m kfp.v2.components.executor_main                         --component_module_path                         \\\"$program_path/ephemeral_component.py\\\"                         \\\"$@\\\"\\n\",\n",
      "                  \"\\nimport kfp\\nfrom kfp.v2 import dsl\\nfrom kfp.v2.dsl import *\\nfrom typing import *\\n\\ndef consumer(text1: str, text2: str, text3: str):\\n    print(f\\\"text1: {text1}; text2: {text2}; text3: {text3}\\\")\\n\\n\"\n",
      "                ],\n",
      "                \"args\": [\n",
      "                  \"--executor_input\",\n",
      "                  \"{{$}}\",\n",
      "                  \"--function_to_execute\",\n",
      "                  \"consumer\"\n",
      "                ]\n",
      "              }\n",
      "            },\n",
      "            \"exec-hello-world\": {\n",
      "              \"container\": {\n",
      "                \"image\": \"python:3.9\",\n",
      "                \"command\": [\n",
      "                  \"sh\",\n",
      "                  \"-c\",\n",
      "                  \"\\nif ! [ -x \\\"$(command -v pip)\\\" ]; then\\n    python3 -m ensurepip || python3 -m ensurepip --user || apt-get install python3-pip\\nfi\\n\\nPIP_DISABLE_PIP_VERSION_CHECK=1 python3 -m pip install --quiet     --no-warn-script-location 'kfp==1.8.14' && \\\"$0\\\" \\\"$@\\\"\\n\",\n",
      "                  \"sh\",\n",
      "                  \"-ec\",\n",
      "                  \"program_path=$(mktemp -d)\\nprintf \\\"%s\\\" \\\"$0\\\" \\u003e \\\"$program_path/ephemeral_component.py\\\"\\npython3 -m kfp.v2.components.executor_main                         --component_module_path                         \\\"$program_path/ephemeral_component.py\\\"                         \\\"$@\\\"\\n\",\n",
      "                  \"\\nimport kfp\\nfrom kfp.v2 import dsl\\nfrom kfp.v2.dsl import *\\nfrom typing import *\\n\\ndef hello_world(text: str) -\\u003e str:\\n    print(text)\\n    return text\\n\\n\"\n",
      "                ],\n",
      "                \"args\": [\n",
      "                  \"--executor_input\",\n",
      "                  \"{{$}}\",\n",
      "                  \"--function_to_execute\",\n",
      "                  \"hello_world\"\n",
      "                ]\n",
      "              }\n",
      "            },\n",
      "            \"exec-two-outputs\": {\n",
      "              \"container\": {\n",
      "                \"image\": \"python:3.7\",\n",
      "                \"command\": [\n",
      "                  \"sh\",\n",
      "                  \"-c\",\n",
      "                  \"\\nif ! [ -x \\\"$(command -v pip)\\\" ]; then\\n    python3 -m ensurepip || python3 -m ensurepip --user || apt-get install python3-pip\\nfi\\n\\nPIP_DISABLE_PIP_VERSION_CHECK=1 python3 -m pip install --quiet     --no-warn-script-location 'google-cloud-storage' 'kfp==1.8.14' && \\\"$0\\\" \\\"$@\\\"\\n\",\n",
      "                  \"sh\",\n",
      "                  \"-ec\",\n",
      "                  \"program_path=$(mktemp -d)\\nprintf \\\"%s\\\" \\\"$0\\\" \\u003e \\\"$program_path/ephemeral_component.py\\\"\\npython3 -m kfp.v2.components.executor_main                         --component_module_path                         \\\"$program_path/ephemeral_component.py\\\"                         \\\"$@\\\"\\n\",\n",
      "                  \"\\nimport kfp\\nfrom kfp.v2 import dsl\\nfrom kfp.v2.dsl import *\\nfrom typing import *\\n\\ndef two_outputs(\\n    text: str,\\n) -\\u003e NamedTuple(\\n    \\\"Outputs\\\",\\n    [\\n        (\\\"output_one\\\", str),  # Return parameters\\n        (\\\"output_two\\\", str),\\n    ],\\n):\\n    # the import is not actually used for this simple example, but the import\\n    # is successful, as it was included in the `packages_to_install` list.\\n    from google.cloud import storage  # noqa: F401\\n\\n    o1 = f\\\"output one from text: {text}\\\"\\n    o2 = f\\\"output two from text: {text}\\\"\\n    print(\\\"output one: {}; output_two: {}\\\".format(o1, o2))\\n    return (o1, o2)\\n\\n\"\n",
      "                ],\n",
      "                \"args\": [\n",
      "                  \"--executor_input\",\n",
      "                  \"{{$}}\",\n",
      "                  \"--function_to_execute\",\n",
      "                  \"two_outputs\"\n",
      "                ]\n",
      "              }\n",
      "            }\n",
      "          }\n",
      "        }\n",
      "      },\n",
      "      \"state\": \"PIPELINE_STATE_SUCCEEDED\",\n",
      "      \"jobDetail\": {\n",
      "        \"pipelineContext\": {\n",
      "          \"name\": \"projects/192756378758/locations/us-central1/metadataStores/default/contexts/hello-world-v2\"\n",
      "        },\n",
      "        \"pipelineRunContext\": {\n",
      "          \"name\": \"projects/192756378758/locations/us-central1/metadataStores/default/contexts/184807013908217856\"\n",
      "        }\n",
      "      },\n",
      "      \"runtimeConfig\": {\n",
      "        \"parameters\": {\n",
      "          \"text\": {\n",
      "            \"stringValue\": \"hi there\"\n",
      "          }\n",
      "        },\n",
      "        \"gcsOutputDirectory\": \"gs://qwiklabs-gcp-01-d69e76763702/pipeline_root/intro\"\n",
      "      },\n",
      "      \"serviceAccount\": \"192756378758-compute@developer.gserviceaccount.com\"\n",
      "    },\n",
      "    {\n",
      "      \"name\": \"projects/192756378758/locations/us-central1/pipelineJobs/hello-world-v2-20220922143209\",\n",
      "      \"displayName\": \"hello-world-v2-20220922143209\",\n",
      "      \"createTime\": \"2022-09-22T14:32:09.858920Z\",\n",
      "      \"startTime\": \"2022-09-22T14:32:10.420175Z\",\n",
      "      \"endTime\": \"2022-09-22T14:32:12.894671Z\",\n",
      "      \"updateTime\": \"2022-09-22T14:32:12.894671Z\",\n",
      "      \"pipelineSpec\": {\n",
      "        \"deploymentConfig\": {\n",
      "          \"@type\": \"type.googleapis.com/ml_pipelines.PipelineDeploymentConfig\",\n",
      "          \"executors\": {\n",
      "            \"exec-consumer\": {\n",
      "              \"container\": {\n",
      "                \"image\": \"python:3.7\",\n",
      "                \"command\": [\n",
      "                  \"sh\",\n",
      "                  \"-c\",\n",
      "                  \"\\nif ! [ -x \\\"$(command -v pip)\\\" ]; then\\n    python3 -m ensurepip || python3 -m ensurepip --user || apt-get install python3-pip\\nfi\\n\\nPIP_DISABLE_PIP_VERSION_CHECK=1 python3 -m pip install --quiet     --no-warn-script-location 'kfp==1.8.14' && \\\"$0\\\" \\\"$@\\\"\\n\",\n",
      "                  \"sh\",\n",
      "                  \"-ec\",\n",
      "                  \"program_path=$(mktemp -d)\\nprintf \\\"%s\\\" \\\"$0\\\" \\u003e \\\"$program_path/ephemeral_component.py\\\"\\npython3 -m kfp.v2.components.executor_main                         --component_module_path                         \\\"$program_path/ephemeral_component.py\\\"                         \\\"$@\\\"\\n\",\n",
      "                  \"\\nimport kfp\\nfrom kfp.v2 import dsl\\nfrom kfp.v2.dsl import *\\nfrom typing import *\\n\\ndef consumer(text1: str, text2: str, text3: str):\\n    print(f\\\"text1: {text1}; text2: {text2}; text3: {text3}\\\")\\n\\n\"\n",
      "                ],\n",
      "                \"args\": [\n",
      "                  \"--executor_input\",\n",
      "                  \"{{$}}\",\n",
      "                  \"--function_to_execute\",\n",
      "                  \"consumer\"\n",
      "                ]\n",
      "              }\n",
      "            },\n",
      "            \"exec-hello-world\": {\n",
      "              \"container\": {\n",
      "                \"image\": \"python:3.9\",\n",
      "                \"command\": [\n",
      "                  \"sh\",\n",
      "                  \"-c\",\n",
      "                  \"\\nif ! [ -x \\\"$(command -v pip)\\\" ]; then\\n    python3 -m ensurepip || python3 -m ensurepip --user || apt-get install python3-pip\\nfi\\n\\nPIP_DISABLE_PIP_VERSION_CHECK=1 python3 -m pip install --quiet     --no-warn-script-location 'kfp==1.8.14' && \\\"$0\\\" \\\"$@\\\"\\n\",\n",
      "                  \"sh\",\n",
      "                  \"-ec\",\n",
      "                  \"program_path=$(mktemp -d)\\nprintf \\\"%s\\\" \\\"$0\\\" \\u003e \\\"$program_path/ephemeral_component.py\\\"\\npython3 -m kfp.v2.components.executor_main                         --component_module_path                         \\\"$program_path/ephemeral_component.py\\\"                         \\\"$@\\\"\\n\",\n",
      "                  \"\\nimport kfp\\nfrom kfp.v2 import dsl\\nfrom kfp.v2.dsl import *\\nfrom typing import *\\n\\ndef hello_world(text: str) -\\u003e str:\\n    print(text)\\n    return text\\n\\n\"\n",
      "                ],\n",
      "                \"args\": [\n",
      "                  \"--executor_input\",\n",
      "                  \"{{$}}\",\n",
      "                  \"--function_to_execute\",\n",
      "                  \"hello_world\"\n",
      "                ]\n",
      "              }\n",
      "            },\n",
      "            \"exec-two-outputs\": {\n",
      "              \"container\": {\n",
      "                \"image\": \"python:3.7\",\n",
      "                \"command\": [\n",
      "                  \"sh\",\n",
      "                  \"-c\",\n",
      "                  \"\\nif ! [ -x \\\"$(command -v pip)\\\" ]; then\\n    python3 -m ensurepip || python3 -m ensurepip --user || apt-get install python3-pip\\nfi\\n\\nPIP_DISABLE_PIP_VERSION_CHECK=1 python3 -m pip install --quiet     --no-warn-script-location 'google-cloud-storage' 'kfp==1.8.14' && \\\"$0\\\" \\\"$@\\\"\\n\",\n",
      "                  \"sh\",\n",
      "                  \"-ec\",\n",
      "                  \"program_path=$(mktemp -d)\\nprintf \\\"%s\\\" \\\"$0\\\" \\u003e \\\"$program_path/ephemeral_component.py\\\"\\npython3 -m kfp.v2.components.executor_main                         --component_module_path                         \\\"$program_path/ephemeral_component.py\\\"                         \\\"$@\\\"\\n\",\n",
      "                  \"\\nimport kfp\\nfrom kfp.v2 import dsl\\nfrom kfp.v2.dsl import *\\nfrom typing import *\\n\\ndef two_outputs(\\n    text: str,\\n) -\\u003e NamedTuple(\\n    \\\"Outputs\\\",\\n    [\\n        (\\\"output_one\\\", str),  # Return parameters\\n        (\\\"output_two\\\", str),\\n    ],\\n):\\n    # the import is not actually used for this simple example, but the import\\n    # is successful, as it was included in the `packages_to_install` list.\\n    from google.cloud import storage  # noqa: F401\\n\\n    o1 = f\\\"output one from text: {text}\\\"\\n    o2 = f\\\"output two from text: {text}\\\"\\n    print(\\\"output one: {}; output_two: {}\\\".format(o1, o2))\\n    return (o1, o2)\\n\\n\"\n",
      "                ],\n",
      "                \"args\": [\n",
      "                  \"--executor_input\",\n",
      "                  \"{{$}}\",\n",
      "                  \"--function_to_execute\",\n",
      "                  \"two_outputs\"\n",
      "                ]\n",
      "              }\n",
      "            }\n",
      "          }\n",
      "        },\n",
      "        \"components\": {\n",
      "          \"comp-consumer\": {\n",
      "            \"inputDefinitions\": {\n",
      "              \"parameters\": {\n",
      "                \"text1\": {\n",
      "                  \"type\": \"STRING\"\n",
      "                },\n",
      "                \"text2\": {\n",
      "                  \"type\": \"STRING\"\n",
      "                },\n",
      "                \"text3\": {\n",
      "                  \"type\": \"STRING\"\n",
      "                }\n",
      "              }\n",
      "            },\n",
      "            \"executorLabel\": \"exec-consumer\"\n",
      "          },\n",
      "          \"comp-hello-world\": {\n",
      "            \"inputDefinitions\": {\n",
      "              \"parameters\": {\n",
      "                \"text\": {\n",
      "                  \"type\": \"STRING\"\n",
      "                }\n",
      "              }\n",
      "            },\n",
      "            \"outputDefinitions\": {\n",
      "              \"parameters\": {\n",
      "                \"Output\": {\n",
      "                  \"type\": \"STRING\"\n",
      "                }\n",
      "              }\n",
      "            },\n",
      "            \"executorLabel\": \"exec-hello-world\"\n",
      "          },\n",
      "          \"comp-two-outputs\": {\n",
      "            \"inputDefinitions\": {\n",
      "              \"parameters\": {\n",
      "                \"text\": {\n",
      "                  \"type\": \"STRING\"\n",
      "                }\n",
      "              }\n",
      "            },\n",
      "            \"outputDefinitions\": {\n",
      "              \"parameters\": {\n",
      "                \"output_one\": {\n",
      "                  \"type\": \"STRING\"\n",
      "                },\n",
      "                \"output_two\": {\n",
      "                  \"type\": \"STRING\"\n",
      "                }\n",
      "              }\n",
      "            },\n",
      "            \"executorLabel\": \"exec-two-outputs\"\n",
      "          }\n",
      "        },\n",
      "        \"schemaVersion\": \"2.0.0\",\n",
      "        \"root\": {\n",
      "          \"inputDefinitions\": {\n",
      "            \"parameters\": {\n",
      "              \"text\": {\n",
      "                \"type\": \"STRING\"\n",
      "              }\n",
      "            }\n",
      "          },\n",
      "          \"dag\": {\n",
      "            \"tasks\": {\n",
      "              \"consumer\": {\n",
      "                \"taskInfo\": {\n",
      "                  \"name\": \"consumer\"\n",
      "                },\n",
      "                \"inputs\": {\n",
      "                  \"parameters\": {\n",
      "                    \"text1\": {\n",
      "                      \"taskOutputParameter\": {\n",
      "                        \"producerTask\": \"hello-world\",\n",
      "                        \"outputParameterKey\": \"Output\"\n",
      "                      }\n",
      "                    },\n",
      "                    \"text2\": {\n",
      "                      \"taskOutputParameter\": {\n",
      "                        \"producerTask\": \"two-outputs\",\n",
      "                        \"outputParameterKey\": \"output_one\"\n",
      "                      }\n",
      "                    },\n",
      "                    \"text3\": {\n",
      "                      \"taskOutputParameter\": {\n",
      "                        \"producerTask\": \"two-outputs\",\n",
      "                        \"outputParameterKey\": \"output_two\"\n",
      "                      }\n",
      "                    }\n",
      "                  }\n",
      "                },\n",
      "                \"dependentTasks\": [\n",
      "                  \"hello-world\",\n",
      "                  \"two-outputs\"\n",
      "                ],\n",
      "                \"cachingOptions\": {\n",
      "                  \"enableCache\": true\n",
      "                },\n",
      "                \"componentRef\": {\n",
      "                  \"name\": \"comp-consumer\"\n",
      "                }\n",
      "              },\n",
      "              \"hello-world\": {\n",
      "                \"taskInfo\": {\n",
      "                  \"name\": \"hello-world\"\n",
      "                },\n",
      "                \"inputs\": {\n",
      "                  \"parameters\": {\n",
      "                    \"text\": {\n",
      "                      \"componentInputParameter\": \"text\"\n",
      "                    }\n",
      "                  }\n",
      "                },\n",
      "                \"cachingOptions\": {\n",
      "                  \"enableCache\": true\n",
      "                },\n",
      "                \"componentRef\": {\n",
      "                  \"name\": \"comp-hello-world\"\n",
      "                }\n",
      "              },\n",
      "              \"two-outputs\": {\n",
      "                \"taskInfo\": {\n",
      "                  \"name\": \"two-outputs\"\n",
      "                },\n",
      "                \"inputs\": {\n",
      "                  \"parameters\": {\n",
      "                    \"text\": {\n",
      "                      \"componentInputParameter\": \"text\"\n",
      "                    }\n",
      "                  }\n",
      "                },\n",
      "                \"cachingOptions\": {\n",
      "                  \"enableCache\": true\n",
      "                },\n",
      "                \"componentRef\": {\n",
      "                  \"name\": \"comp-two-outputs\"\n",
      "                }\n",
      "              }\n",
      "            }\n",
      "          }\n",
      "        },\n",
      "        \"sdkVersion\": \"kfp-1.8.14\",\n",
      "        \"pipelineInfo\": {\n",
      "          \"name\": \"hello-world-v2\"\n",
      "        },\n",
      "        \"deploymentSpec\": {\n",
      "          \"executors\": {\n",
      "            \"exec-consumer\": {\n",
      "              \"container\": {\n",
      "                \"image\": \"python:3.7\",\n",
      "                \"command\": [\n",
      "                  \"sh\",\n",
      "                  \"-c\",\n",
      "                  \"\\nif ! [ -x \\\"$(command -v pip)\\\" ]; then\\n    python3 -m ensurepip || python3 -m ensurepip --user || apt-get install python3-pip\\nfi\\n\\nPIP_DISABLE_PIP_VERSION_CHECK=1 python3 -m pip install --quiet     --no-warn-script-location 'kfp==1.8.14' && \\\"$0\\\" \\\"$@\\\"\\n\",\n",
      "                  \"sh\",\n",
      "                  \"-ec\",\n",
      "                  \"program_path=$(mktemp -d)\\nprintf \\\"%s\\\" \\\"$0\\\" \\u003e \\\"$program_path/ephemeral_component.py\\\"\\npython3 -m kfp.v2.components.executor_main                         --component_module_path                         \\\"$program_path/ephemeral_component.py\\\"                         \\\"$@\\\"\\n\",\n",
      "                  \"\\nimport kfp\\nfrom kfp.v2 import dsl\\nfrom kfp.v2.dsl import *\\nfrom typing import *\\n\\ndef consumer(text1: str, text2: str, text3: str):\\n    print(f\\\"text1: {text1}; text2: {text2}; text3: {text3}\\\")\\n\\n\"\n",
      "                ],\n",
      "                \"args\": [\n",
      "                  \"--executor_input\",\n",
      "                  \"{{$}}\",\n",
      "                  \"--function_to_execute\",\n",
      "                  \"consumer\"\n",
      "                ]\n",
      "              }\n",
      "            },\n",
      "            \"exec-hello-world\": {\n",
      "              \"container\": {\n",
      "                \"image\": \"python:3.9\",\n",
      "                \"command\": [\n",
      "                  \"sh\",\n",
      "                  \"-c\",\n",
      "                  \"\\nif ! [ -x \\\"$(command -v pip)\\\" ]; then\\n    python3 -m ensurepip || python3 -m ensurepip --user || apt-get install python3-pip\\nfi\\n\\nPIP_DISABLE_PIP_VERSION_CHECK=1 python3 -m pip install --quiet     --no-warn-script-location 'kfp==1.8.14' && \\\"$0\\\" \\\"$@\\\"\\n\",\n",
      "                  \"sh\",\n",
      "                  \"-ec\",\n",
      "                  \"program_path=$(mktemp -d)\\nprintf \\\"%s\\\" \\\"$0\\\" \\u003e \\\"$program_path/ephemeral_component.py\\\"\\npython3 -m kfp.v2.components.executor_main                         --component_module_path                         \\\"$program_path/ephemeral_component.py\\\"                         \\\"$@\\\"\\n\",\n",
      "                  \"\\nimport kfp\\nfrom kfp.v2 import dsl\\nfrom kfp.v2.dsl import *\\nfrom typing import *\\n\\ndef hello_world(text: str) -\\u003e str:\\n    print(text)\\n    return text\\n\\n\"\n",
      "                ],\n",
      "                \"args\": [\n",
      "                  \"--executor_input\",\n",
      "                  \"{{$}}\",\n",
      "                  \"--function_to_execute\",\n",
      "                  \"hello_world\"\n",
      "                ]\n",
      "              }\n",
      "            },\n",
      "            \"exec-two-outputs\": {\n",
      "              \"container\": {\n",
      "                \"image\": \"python:3.7\",\n",
      "                \"command\": [\n",
      "                  \"sh\",\n",
      "                  \"-c\",\n",
      "                  \"\\nif ! [ -x \\\"$(command -v pip)\\\" ]; then\\n    python3 -m ensurepip || python3 -m ensurepip --user || apt-get install python3-pip\\nfi\\n\\nPIP_DISABLE_PIP_VERSION_CHECK=1 python3 -m pip install --quiet     --no-warn-script-location 'google-cloud-storage' 'kfp==1.8.14' && \\\"$0\\\" \\\"$@\\\"\\n\",\n",
      "                  \"sh\",\n",
      "                  \"-ec\",\n",
      "                  \"program_path=$(mktemp -d)\\nprintf \\\"%s\\\" \\\"$0\\\" \\u003e \\\"$program_path/ephemeral_component.py\\\"\\npython3 -m kfp.v2.components.executor_main                         --component_module_path                         \\\"$program_path/ephemeral_component.py\\\"                         \\\"$@\\\"\\n\",\n",
      "                  \"\\nimport kfp\\nfrom kfp.v2 import dsl\\nfrom kfp.v2.dsl import *\\nfrom typing import *\\n\\ndef two_outputs(\\n    text: str,\\n) -\\u003e NamedTuple(\\n    \\\"Outputs\\\",\\n    [\\n        (\\\"output_one\\\", str),  # Return parameters\\n        (\\\"output_two\\\", str),\\n    ],\\n):\\n    # the import is not actually used for this simple example, but the import\\n    # is successful, as it was included in the `packages_to_install` list.\\n    from google.cloud import storage  # noqa: F401\\n\\n    o1 = f\\\"output one from text: {text}\\\"\\n    o2 = f\\\"output two from text: {text}\\\"\\n    print(\\\"output one: {}; output_two: {}\\\".format(o1, o2))\\n    return (o1, o2)\\n\\n\"\n",
      "                ],\n",
      "                \"args\": [\n",
      "                  \"--executor_input\",\n",
      "                  \"{{$}}\",\n",
      "                  \"--function_to_execute\",\n",
      "                  \"two_outputs\"\n",
      "                ]\n",
      "              }\n",
      "            }\n",
      "          }\n",
      "        }\n",
      "      },\n",
      "      \"state\": \"PIPELINE_STATE_SUCCEEDED\",\n",
      "      \"jobDetail\": {\n",
      "        \"pipelineContext\": {\n",
      "          \"name\": \"projects/192756378758/locations/us-central1/metadataStores/default/contexts/hello-world-v2\"\n",
      "        },\n",
      "        \"pipelineRunContext\": {\n",
      "          \"name\": \"projects/192756378758/locations/us-central1/metadataStores/default/contexts/hello-world-v2-20220922143209\"\n",
      "        }\n",
      "      },\n",
      "      \"runtimeConfig\": {\n",
      "        \"parameters\": {\n",
      "          \"text\": {\n",
      "            \"stringValue\": \"hi there\"\n",
      "          }\n",
      "        },\n",
      "        \"gcsOutputDirectory\": \"gs://qwiklabs-gcp-01-d69e76763702/pipeline_root/intro\"\n",
      "      },\n",
      "      \"serviceAccount\": \"192756378758-compute@developer.gserviceaccount.com\"\n",
      "    }\n",
      "  ]\n",
      "}\n"
     ]
    }
   ],
   "source": [
    "! curl -X GET -H \"Authorization: Bearer $(gcloud auth print-access-token)\"   -H \"Content-Type: application/json\"   https://{API_ENDPOINT}/v1beta1/projects/{PROJECT_ID}/locations/{REGION}/pipelineJobs/{PIPELINE_RUN_ID}"
   ]
  },
  {
   "cell_type": "markdown",
   "metadata": {
    "id": "pipelines_rest_cancel"
   },
   "source": [
    "### Cancel a pipeline job given its ID"
   ]
  },
  {
   "cell_type": "code",
   "execution_count": 31,
   "metadata": {
    "id": "YlJeXYBK2Ou_"
   },
   "outputs": [
    {
     "name": "stdout",
     "output_type": "stream",
     "text": [
      "<!DOCTYPE html>\n",
      "<html lang=en>\n",
      "  <meta charset=utf-8>\n",
      "  <meta name=viewport content=\"initial-scale=1, minimum-scale=1, width=device-width\">\n",
      "  <title>Error 404 (Not Found)!!1</title>\n",
      "  <style>\n",
      "    *{margin:0;padding:0}html,code{font:15px/22px arial,sans-serif}html{background:#fff;color:#222;padding:15px}body{margin:7% auto 0;max-width:390px;min-height:180px;padding:30px 0 15px}* > body{background:url(//www.google.com/images/errors/robot.png) 100% 5px no-repeat;padding-right:205px}p{margin:11px 0 22px;overflow:hidden}ins{color:#777;text-decoration:none}a img{border:0}@media screen and (max-width:772px){body{background:none;margin-top:0;max-width:none;padding-right:0}}#logo{background:url(//www.google.com/images/branding/googlelogo/1x/googlelogo_color_150x54dp.png) no-repeat;margin-left:-5px}@media only screen and (min-resolution:192dpi){#logo{background:url(//www.google.com/images/branding/googlelogo/2x/googlelogo_color_150x54dp.png) no-repeat 0% 0%/100% 100%;-moz-border-image:url(//www.google.com/images/branding/googlelogo/2x/googlelogo_color_150x54dp.png) 0}}@media only screen and (-webkit-min-device-pixel-ratio:2){#logo{background:url(//www.google.com/images/branding/googlelogo/2x/googlelogo_color_150x54dp.png) no-repeat;-webkit-background-size:100% 100%}}#logo{display:inline-block;height:54px;width:150px}\n",
      "  </style>\n",
      "  <a href=//www.google.com/><span id=logo aria-label=Google></span></a>\n",
      "  <p><b>404.</b> <ins>That’s an error.</ins>\n",
      "  <p>The requested URL <code>/v1beta1/projects/qwiklabs-gcp-01-d69e76763702/locations/us-central1/pipelineJobs/</code> was not found on this server.  <ins>That’s all we know.</ins>\n"
     ]
    }
   ],
   "source": [
    "! curl -X DELETE -H \"Authorization: Bearer $(gcloud auth print-access-token)\"   -H \"Content-Type: application/json\"   https://{API_ENDPOINT}/v1beta1/projects/{PROJECT_ID}/locations/{REGION}/pipelineJobs/{PIPELINE_RUN_ID}"
   ]
  },
  {
   "cell_type": "markdown",
   "metadata": {
    "id": "pipelines_rest_delete"
   },
   "source": [
    "### Delete a pipeline job given its ID"
   ]
  },
  {
   "cell_type": "code",
   "execution_count": 32,
   "metadata": {
    "id": "WIprXZMc2Ou_"
   },
   "outputs": [
    {
     "name": "stdout",
     "output_type": "stream",
     "text": [
      "<!DOCTYPE html>\n",
      "<html lang=en>\n",
      "  <meta charset=utf-8>\n",
      "  <meta name=viewport content=\"initial-scale=1, minimum-scale=1, width=device-width\">\n",
      "  <title>Error 404 (Not Found)!!1</title>\n",
      "  <style>\n",
      "    *{margin:0;padding:0}html,code{font:15px/22px arial,sans-serif}html{background:#fff;color:#222;padding:15px}body{margin:7% auto 0;max-width:390px;min-height:180px;padding:30px 0 15px}* > body{background:url(//www.google.com/images/errors/robot.png) 100% 5px no-repeat;padding-right:205px}p{margin:11px 0 22px;overflow:hidden}ins{color:#777;text-decoration:none}a img{border:0}@media screen and (max-width:772px){body{background:none;margin-top:0;max-width:none;padding-right:0}}#logo{background:url(//www.google.com/images/branding/googlelogo/1x/googlelogo_color_150x54dp.png) no-repeat;margin-left:-5px}@media only screen and (min-resolution:192dpi){#logo{background:url(//www.google.com/images/branding/googlelogo/2x/googlelogo_color_150x54dp.png) no-repeat 0% 0%/100% 100%;-moz-border-image:url(//www.google.com/images/branding/googlelogo/2x/googlelogo_color_150x54dp.png) 0}}@media only screen and (-webkit-min-device-pixel-ratio:2){#logo{background:url(//www.google.com/images/branding/googlelogo/2x/googlelogo_color_150x54dp.png) no-repeat;-webkit-background-size:100% 100%}}#logo{display:inline-block;height:54px;width:150px}\n",
      "  </style>\n",
      "  <a href=//www.google.com/><span id=logo aria-label=Google></span></a>\n",
      "  <p><b>404.</b> <ins>That’s an error.</ins>\n",
      "  <p>The requested URL <code>/v1beta1/projects/qwiklabs-gcp-01-d69e76763702/locations/us-central1/pipelineJobs/</code> was not found on this server.  <ins>That’s all we know.</ins>\n"
     ]
    }
   ],
   "source": [
    "! curl -X DELETE -H \"Authorization: Bearer $(gcloud auth print-access-token)\"   -H \"Content-Type: application/json\"   https://{API_ENDPOINT}/v1beta1/projects/{PROJECT_ID}/locations/{REGION}/pipelineJobs/{PIPELINE_RUN_ID}"
   ]
  },
  {
   "cell_type": "markdown",
   "metadata": {
    "id": "cleanup:pipelines"
   },
   "source": [
    "# Cleaning up\n",
    "\n",
    "To clean up all Google Cloud resources used in this project, you can [delete the Google Cloud\n",
    "project](https://cloud.google.com/resource-manager/docs/creating-managing-projects#shutting_down_projects) you used for the tutorial.\n",
    "\n",
    "Otherwise, you can delete the individual resources you created in this tutorial."
   ]
  },
  {
   "cell_type": "code",
   "execution_count": 33,
   "metadata": {
    "id": "-eXdbQCo2Ou_"
   },
   "outputs": [
    {
     "name": "stdout",
     "output_type": "stream",
     "text": [
      "list index out of range\n",
      "Removing gs://qwiklabs-gcp-01-d69e76763702/pipeline_root/#1663856036655692...\n",
      "Removing gs://qwiklabs-gcp-01-d69e76763702/pipeline_root/intro/#1663856036809239...\n",
      "Removing gs://qwiklabs-gcp-01-d69e76763702/pipeline_root/intro/192756378758/#1663856036963636...\n",
      "Removing gs://qwiklabs-gcp-01-d69e76763702/pipeline_root/intro/192756378758/hello-world-v2-20220922141223/#1663856037139451...\n",
      "/ [4 objects]                                                                   \n",
      "==> NOTE: You are performing a sequence of gsutil operations that may\n",
      "run significantly faster if you instead use gsutil -m rm ... Please\n",
      "see the -m section under \"gsutil help options\" for further information\n",
      "about when gsutil -m can be advantageous.\n",
      "\n",
      "Removing gs://qwiklabs-gcp-01-d69e76763702/pipeline_root/intro/192756378758/hello-world-v2-20220922141223/consumer_5276821833755131904/#1663856147426088...\n",
      "Removing gs://qwiklabs-gcp-01-d69e76763702/pipeline_root/intro/192756378758/hello-world-v2-20220922141223/consumer_5276821833755131904/executor_output.json#1663856147782828...\n",
      "Removing gs://qwiklabs-gcp-01-d69e76763702/pipeline_root/intro/192756378758/hello-world-v2-20220922141223/hello-world_-3946550203099643904/#1663856040813854...\n",
      "Removing gs://qwiklabs-gcp-01-d69e76763702/pipeline_root/intro/192756378758/hello-world-v2-20220922141223/hello-world_-3946550203099643904/executor_output.json#1663856041096954...\n",
      "Removing gs://qwiklabs-gcp-01-d69e76763702/pipeline_root/intro/192756378758/hello-world-v2-20220922141223/two-outputs_2970978824541437952/#1663856037351992...\n",
      "Removing gs://qwiklabs-gcp-01-d69e76763702/pipeline_root/intro/192756378758/hello-world-v2-20220922141223/two-outputs_2970978824541437952/executor_output.json#1663856037641307...\n",
      "Removing gs://qwiklabs-gcp-01-d69e76763702/pipeline_root/intro/192756378758/hello-world-v2-20220922143250/#1663857282916332...\n",
      "Removing gs://qwiklabs-gcp-01-d69e76763702/pipeline_root/intro/192756378758/hello-world-v2-20220922143250/consumer_2100658196552089600/#1663857398844721...\n",
      "Removing gs://qwiklabs-gcp-01-d69e76763702/pipeline_root/intro/192756378758/hello-world-v2-20220922143250/consumer_2100658196552089600/executor_output.json#1663857399137702...\n",
      "Removing gs://qwiklabs-gcp-01-d69e76763702/pipeline_root/intro/192756378758/hello-world-v2-20220922143250/hello-world_-7122713840302686208/#1663857283626026...\n",
      "Removing gs://qwiklabs-gcp-01-d69e76763702/pipeline_root/intro/192756378758/hello-world-v2-20220922143250/hello-world_-7122713840302686208/executor_output.json#1663857283916648...\n",
      "Removing gs://qwiklabs-gcp-01-d69e76763702/pipeline_root/intro/192756378758/hello-world-v2-20220922143250/two-outputs_6712344214979477504/#1663857283115641...\n",
      "Removing gs://qwiklabs-gcp-01-d69e76763702/pipeline_root/intro/192756378758/hello-world-v2-20220922143250/two-outputs_6712344214979477504/executor_output.json#1663857283490946...\n",
      "/ [17 objects]                                                                  \n",
      "Operation completed over 17 objects.                                             \n",
      "Removing gs://qwiklabs-gcp-01-d69e76763702/...\n"
     ]
    }
   ],
   "source": [
    "delete_pipeline = True\n",
    "delete_bucket = True\n",
    "\n",
    "try:\n",
    "    if delete_pipeline and \"DISPLAY_NAME\" in globals():\n",
    "        pipelines = aip.PipelineJob.list(\n",
    "            filter=f\"display_name={DISPLAY_NAME}\", order_by=\"create_time\"\n",
    "        )\n",
    "        pipeline = pipelines[0]\n",
    "        aip.PipelineJob.delete(pipeline.resource_name)\n",
    "        print(\"Deleted pipeline:\", pipeline)\n",
    "except Exception as e:\n",
    "    print(e)\n",
    "\n",
    "if delete_bucket or os.getenv(\"IS_TESTING\"):\n",
    "    ! gsutil rm -r $BUCKET_URI"
   ]
  }
 ],
 "metadata": {
  "colab": {
   "name": "pipelines_intro_kfp.ipynb",
   "toc_visible": true
  },
  "environment": {
   "kernel": "python3",
   "name": "tf2-gpu.2-6.m96",
   "type": "gcloud",
   "uri": "gcr.io/deeplearning-platform-release/tf2-gpu.2-6:m96"
  },
  "kernelspec": {
   "display_name": "Python 3",
   "language": "python",
   "name": "python3"
  },
  "language_info": {
   "codemirror_mode": {
    "name": "ipython",
    "version": 3
   },
   "file_extension": ".py",
   "mimetype": "text/x-python",
   "name": "python",
   "nbconvert_exporter": "python",
   "pygments_lexer": "ipython3",
   "version": "3.7.12"
  }
 },
 "nbformat": 4,
 "nbformat_minor": 4
}
