{
 "cells": [
  {
   "cell_type": "markdown",
   "metadata": {
    "id": "JAPoU8Sm5E6e"
   },
   "source": [
    "# Tracking Parameters and Metrics for Locally Trained Vertex AI Models\n"
   ]
  },
  {
   "cell_type": "markdown",
   "metadata": {
    "id": "tvgnzT1CKxrO"
   },
   "source": [
    "## Learning objectives\n",
    "\n",
    "1. Load and process the training dataset.\n",
    "2. Start several model training runs.\n",
    "3. Extract parameters and metrics into a dataframe for analysis.\n",
    "4. Visualize an experiment's parameters and metrics."
   ]
  },
  {
   "cell_type": "markdown",
   "metadata": {},
   "source": [
    "## Introduction\n",
    "\n",
    "This notebook demonstrates how to track metrics and parameters for ML training jobs and analyze this metadata using Vertex AI SDK for Python."
   ]
  },
  {
   "cell_type": "markdown",
   "metadata": {},
   "source": [
    "### Dataset\n",
    "\n",
    "In this notebook, you will train a simple distributed neural network (DNN) model to predict automobile's miles per gallon (MPG) based on automobile information in the [auto-mpg dataset](https://www.kaggle.com/devanshbesain/exploration-and-analysis-auto-mpg).\n",
    "\n",
    "Each learning objective will correspond to a __#TODO__ in the [student lab notebook](../labs/sdk-metric-parameter-tracking-for-locally-trained-models.ipynb) -- try to complete that notebook first before reviewing this solution notebook."
   ]
  },
  {
   "cell_type": "markdown",
   "metadata": {
    "id": "i7EUnXsZhAGF"
   },
   "source": [
    "## Installation\n",
    "\n",
    "Install the packages required for executing this notebook."
   ]
  },
  {
   "cell_type": "code",
   "execution_count": 1,
   "metadata": {
    "id": "IaYsrh0Tc17L"
   },
   "outputs": [
    {
     "name": "stdout",
     "output_type": "stream",
     "text": [
      "\u001b[33m  WARNING: The script tb-gcp-uploader is installed in '/home/jupyter/.local/bin' which is not on PATH.\n",
      "  Consider adding this directory to PATH or, if you prefer to suppress this warning, use --no-warn-script-location.\u001b[0m\u001b[33m\n",
      "\u001b[0m\u001b[33m  WARNING: The script tensorboard is installed in '/home/jupyter/.local/bin' which is not on PATH.\n",
      "  Consider adding this directory to PATH or, if you prefer to suppress this warning, use --no-warn-script-location.\u001b[0m\u001b[33m\n",
      "\u001b[0m\u001b[33m  WARNING: The scripts estimator_ckpt_converter, import_pb_to_tensorboard, saved_model_cli, tensorboard, tf_upgrade_v2, tflite_convert, toco and toco_from_protos are installed in '/home/jupyter/.local/bin' which is not on PATH.\n",
      "  Consider adding this directory to PATH or, if you prefer to suppress this warning, use --no-warn-script-location.\u001b[0m\u001b[33m\n",
      "\u001b[0m\u001b[31mERROR: pip's dependency resolver does not currently take into account all the packages that are installed. This behaviour is the source of the following dependency conflicts.\n",
      "tfx-bsl 1.10.1 requires google-api-python-client<2,>=1.7.11, but you have google-api-python-client 2.63.0 which is incompatible.\n",
      "tfx-bsl 1.10.1 requires pyarrow<7,>=6, but you have pyarrow 9.0.0 which is incompatible.\n",
      "tfx-bsl 1.10.1 requires tensorflow!=2.0.*,!=2.1.*,!=2.2.*,!=2.3.*,!=2.4.*,!=2.5.*,!=2.6.*,!=2.7.*,!=2.8.*,<3,>=1.15.5, but you have tensorflow 2.8.0 which is incompatible.\n",
      "tensorflow-transform 1.10.1 requires pyarrow<7,>=6, but you have pyarrow 9.0.0 which is incompatible.\n",
      "tensorflow-transform 1.10.1 requires tensorflow!=2.0.*,!=2.1.*,!=2.2.*,!=2.3.*,!=2.4.*,!=2.5.*,!=2.6.*,!=2.7.*,!=2.8.*,<2.10,>=1.15.5, but you have tensorflow 2.8.0 which is incompatible.\n",
      "tensorflow-serving-api 2.10.0 requires tensorflow<3,>=2.10.0, but you have tensorflow 2.8.0 which is incompatible.\n",
      "tensorflow-io 0.21.0 requires tensorflow<2.7.0,>=2.6.0, but you have tensorflow 2.8.0 which is incompatible.\n",
      "tensorflow-io 0.21.0 requires tensorflow-io-gcs-filesystem==0.21.0, but you have tensorflow-io-gcs-filesystem 0.27.0 which is incompatible.\u001b[0m\u001b[31m\n",
      "\u001b[0m"
     ]
    }
   ],
   "source": [
    "import os\n",
    "\n",
    "# The Vertex AI Workbench Notebook product has specific requirements\n",
    "IS_WORKBENCH_NOTEBOOK = os.getenv(\"DL_ANACONDA_HOME\") and not os.getenv(\"VIRTUAL_ENV\")\n",
    "IS_USER_MANAGED_WORKBENCH_NOTEBOOK = os.path.exists(\n",
    "    \"/opt/deeplearning/metadata/env_version\"\n",
    ")\n",
    "\n",
    "# Vertex AI Notebook requires dependencies to be installed with '--user'\n",
    "USER_FLAG = \"\"\n",
    "if IS_WORKBENCH_NOTEBOOK:\n",
    "    USER_FLAG = \"--user\"\n",
    "\n",
    "! pip3 install --upgrade google-cloud-aiplatform {USER_FLAG} -q\n",
    "! pip3 install -U tensorflow==2.8 {USER_FLAG} -q"
   ]
  },
  {
   "cell_type": "markdown",
   "metadata": {
    "id": "hhq5zEbGg0XX"
   },
   "source": [
    "### Restart the kernel\n",
    "\n",
    "After you install the additional packages, you need to restart the notebook kernel so it can find the packages."
   ]
  },
  {
   "cell_type": "code",
   "execution_count": 2,
   "metadata": {
    "id": "EzrelQZ22IZj"
   },
   "outputs": [],
   "source": [
    "# Automatically restart kernel after installs\n",
    "import os\n",
    "\n",
    "if not os.getenv(\"IS_TESTING\"):\n",
    "    # Automatically restart kernel after installs\n",
    "    import IPython\n",
    "\n",
    "    app = IPython.Application.instance()\n",
    "    app.kernel.do_shutdown(True)"
   ]
  },
  {
   "cell_type": "markdown",
   "metadata": {
    "id": "WReHDGG5g0XY"
   },
   "source": [
    "### Set your project ID\n",
    "\n",
    "**If you don't know your project ID**, you may be able to get your project ID using `gcloud`."
   ]
  },
  {
   "cell_type": "code",
   "execution_count": 1,
   "metadata": {
    "id": "oM1iC_MfAts1"
   },
   "outputs": [],
   "source": [
    "PROJECT_ID = \"[your-project-id]\"  # Replace with your Project ID"
   ]
  },
  {
   "cell_type": "code",
   "execution_count": 2,
   "metadata": {
    "id": "09021c90b34c"
   },
   "outputs": [
    {
     "name": "stdout",
     "output_type": "stream",
     "text": [
      "Updated property [core/project].\n"
     ]
    }
   ],
   "source": [
    "! gcloud config set project $PROJECT_ID"
   ]
  },
  {
   "cell_type": "markdown",
   "metadata": {
    "id": "region"
   },
   "source": [
    "#### Region\n",
    "\n",
    "You can also change the `REGION` variable, which is used for operations\n",
    "throughout the rest of this notebook.  Below are regions supported for Vertex AI. We recommend that you choose the region closest to you.\n",
    "\n",
    "- Americas: `us-central1`\n",
    "- Europe: `europe-west4`\n",
    "- Asia Pacific: `asia-east1`\n",
    "\n",
    "You may not use a multi-regional bucket for training with Vertex AI. Not all regions provide support for all Vertex AI services.\n",
    "\n",
    "Learn more about [Vertex AI regions](https://cloud.google.com/vertex-ai/docs/general/locations)"
   ]
  },
  {
   "cell_type": "code",
   "execution_count": 3,
   "metadata": {
    "id": "region"
   },
   "outputs": [],
   "source": [
    "REGION = \"us-central1\"  # Replace with your region"
   ]
  },
  {
   "cell_type": "markdown",
   "metadata": {
    "id": "06571eb4063b"
   },
   "source": [
    "#### Timestamp\n",
    "\n",
    "If you are in a live tutorial session, you might be using a shared test account or project. To avoid name collisions between users on resources created, you create a timestamp for each instance session, and append it onto the name of resources you create in this tutorial."
   ]
  },
  {
   "cell_type": "code",
   "execution_count": 4,
   "metadata": {
    "id": "697568e92bd6"
   },
   "outputs": [],
   "source": [
    "from datetime import datetime\n",
    "\n",
    "TIMESTAMP = datetime.now().strftime(\"%Y%m%d%H%M%S\")"
   ]
  },
  {
   "cell_type": "markdown",
   "metadata": {
    "id": "XoEqT2Y4DJmf"
   },
   "source": [
    "### Import libraries and define constants"
   ]
  },
  {
   "cell_type": "markdown",
   "metadata": {
    "id": "Y9Uo3tifg1kx"
   },
   "source": [
    "Import required libraries."
   ]
  },
  {
   "cell_type": "code",
   "execution_count": 5,
   "metadata": {
    "id": "pRUOFELefqf1"
   },
   "outputs": [],
   "source": [
    "import matplotlib.pyplot as plt\n",
    "import pandas as pd\n",
    "from google.cloud import aiplatform\n",
    "from tensorflow.python.keras import Sequential, layers\n",
    "from tensorflow.python.keras.utils import data_utils"
   ]
  },
  {
   "cell_type": "markdown",
   "metadata": {
    "id": "xtXZWmYqJ1bh"
   },
   "source": [
    "Define some constants"
   ]
  },
  {
   "cell_type": "code",
   "execution_count": 6,
   "metadata": {
    "id": "JIOrI-hoJ46P"
   },
   "outputs": [],
   "source": [
    "EXPERIMENT_NAME = \"my-experiment\"  # Replace with the name of your choice"
   ]
  },
  {
   "cell_type": "markdown",
   "metadata": {
    "id": "jWQLXXNVN4Lv"
   },
   "source": [
    "If EXEPERIMENT_NAME is not set, set a default one below:"
   ]
  },
  {
   "cell_type": "code",
   "execution_count": null,
   "metadata": {
    "id": "Q1QInYWOKsmo"
   },
   "outputs": [],
   "source": [
    "if EXPERIMENT_NAME == \"\" or EXPERIMENT_NAME is None:\n",
    "    EXPERIMENT_NAME = \"my-experiment-\" + TIMESTAMP"
   ]
  },
  {
   "cell_type": "markdown",
   "metadata": {
    "id": "Xuny18aMcWDb"
   },
   "source": [
    "## Concepts\n",
    "\n",
    "To better understanding how parameters and metrics are stored and organized, we'd like to introduce the following concepts:\n"
   ]
  },
  {
   "cell_type": "markdown",
   "metadata": {
    "id": "NThDci5bp0Uw"
   },
   "source": [
    "### Experiment\n",
    "Experiments describe a context that groups your runs and the artifacts you create into a logical session. For example, in this notebook you create an Experiment and log data to that experiment."
   ]
  },
  {
   "cell_type": "markdown",
   "metadata": {
    "id": "SAyRR3Ydp4X5"
   },
   "source": [
    "### Run\n",
    "A run represents a single path/avenue that you executed while performing an experiment. A run includes artifacts that you used as inputs or outputs, and parameters that you used in this execution. An Experiment can contain multiple runs. "
   ]
  },
  {
   "cell_type": "markdown",
   "metadata": {
    "id": "l1YW2pgyegFP"
   },
   "source": [
    "## Getting started tracking parameters and metrics\n",
    "\n",
    "You can use the Vertex SDK for Python to track metrics and parameters for models trained locally. \n",
    "\n",
    "In the following example, you train a simple distributed neural network (DNN) model to predict automobile's miles per gallon (MPG) based on automobile information in the [auto-mpg dataset](https://www.kaggle.com/devanshbesain/exploration-and-analysis-auto-mpg)."
   ]
  },
  {
   "cell_type": "markdown",
   "metadata": {
    "id": "KPY41M9_AhZU"
   },
   "source": [
    "### Load and process the training dataset"
   ]
  },
  {
   "cell_type": "markdown",
   "metadata": {
    "id": "bfMQSmRuUuX-"
   },
   "source": [
    "Download and process the dataset."
   ]
  },
  {
   "cell_type": "code",
   "execution_count": 7,
   "metadata": {
    "id": "RiQuMv4bmpuV"
   },
   "outputs": [
    {
     "name": "stdout",
     "output_type": "stream",
     "text": [
      "Downloading data from http://archive.ics.uci.edu/ml/machine-learning-databases/auto-mpg/auto-mpg.data\n",
      "32768/30286 [================================] - 0s 1us/step\n"
     ]
    },
    {
     "name": "stderr",
     "output_type": "stream",
     "text": [
      "/opt/conda/lib/python3.7/site-packages/ipykernel_launcher.py:23: SettingWithCopyWarning: \n",
      "A value is trying to be set on a copy of a slice from a DataFrame.\n",
      "Try using .loc[row_indexer,col_indexer] = value instead\n",
      "\n",
      "See the caveats in the documentation: https://pandas.pydata.org/pandas-docs/stable/user_guide/indexing.html#returning-a-view-versus-a-copy\n"
     ]
    }
   ],
   "source": [
    "def read_data(uri):\n",
    "    dataset_path = data_utils.get_file(\"auto-mpg.data\", uri)\n",
    "    column_names = [\n",
    "        \"MPG\",\n",
    "        \"Cylinders\",\n",
    "        \"Displacement\",\n",
    "        \"Horsepower\",\n",
    "        \"Weight\",\n",
    "        \"Acceleration\",\n",
    "        \"Model Year\",\n",
    "        \"Origin\",\n",
    "    ]\n",
    "    raw_dataset = pd.read_csv(\n",
    "        dataset_path,\n",
    "        names=column_names,\n",
    "        na_values=\"?\",\n",
    "        comment=\"\\t\",\n",
    "        sep=\" \",\n",
    "        skipinitialspace=True,\n",
    "    )\n",
    "    dataset = raw_dataset.dropna()\n",
    "    dataset[\"Origin\"] = dataset[\"Origin\"].map(\n",
    "        lambda x: {1: \"USA\", 2: \"Europe\", 3: \"Japan\"}.get(x)\n",
    "    )\n",
    "    dataset = pd.get_dummies(dataset, prefix=\"\", prefix_sep=\"\")\n",
    "    return dataset\n",
    "\n",
    "\n",
    "dataset = read_data(\n",
    "    \"http://archive.ics.uci.edu/ml/machine-learning-databases/auto-mpg/auto-mpg.data\"\n",
    ")"
   ]
  },
  {
   "cell_type": "markdown",
   "metadata": {
    "id": "Y06J7A7yU21t"
   },
   "source": [
    "Split dataset for training and testing."
   ]
  },
  {
   "cell_type": "code",
   "execution_count": 8,
   "metadata": {
    "id": "p5JBCBKyH-NC"
   },
   "outputs": [],
   "source": [
    "def train_test_split(dataset, split_frac=0.8, random_state=0):\n",
    "    train_dataset = dataset.sample(frac=split_frac, random_state=random_state)\n",
    "    test_dataset = dataset.drop(train_dataset.index)\n",
    "    train_labels = train_dataset.pop(\"MPG\")\n",
    "    test_labels = test_dataset.pop(\"MPG\")\n",
    "\n",
    "    return train_dataset, test_dataset, train_labels, test_labels\n",
    "\n",
    "\n",
    "train_dataset, test_dataset, train_labels, test_labels = train_test_split(dataset)"
   ]
  },
  {
   "cell_type": "markdown",
   "metadata": {
    "id": "gaNNTFPaU7KT"
   },
   "source": [
    "Normalize the features in the dataset for better model performance."
   ]
  },
  {
   "cell_type": "code",
   "execution_count": 9,
   "metadata": {
    "id": "VGq5QCoyIEWJ"
   },
   "outputs": [],
   "source": [
    "def normalize_dataset(train_dataset, test_dataset):\n",
    "    train_stats = train_dataset.describe()\n",
    "    train_stats = train_stats.transpose()\n",
    "\n",
    "    def norm(x):\n",
    "        return (x - train_stats[\"mean\"]) / train_stats[\"std\"]\n",
    "\n",
    "    normed_train_data = norm(train_dataset)\n",
    "    normed_test_data = norm(test_dataset)\n",
    "\n",
    "    return normed_train_data, normed_test_data\n",
    "\n",
    "\n",
    "normed_train_data, normed_test_data = normalize_dataset(train_dataset, test_dataset)"
   ]
  },
  {
   "cell_type": "markdown",
   "metadata": {
    "id": "UBXUgxgqA_GB"
   },
   "source": [
    "### Define ML model and training function"
   ]
  },
  {
   "cell_type": "code",
   "execution_count": 10,
   "metadata": {
    "id": "66odBYKrIN4q"
   },
   "outputs": [],
   "source": [
    "# Define the model training\n",
    "def train(\n",
    "    train_data,\n",
    "    train_labels,\n",
    "    num_units=64,\n",
    "    activation=\"relu\",\n",
    "    dropout_rate=0.0,\n",
    "    validation_split=0.2,\n",
    "    epochs=1000,\n",
    "):\n",
    "\n",
    "    model = Sequential(\n",
    "        [\n",
    "            layers.Dense(\n",
    "                num_units,\n",
    "                activation=activation,\n",
    "                input_shape=[len(train_dataset.keys())],\n",
    "            ),\n",
    "            layers.Dropout(rate=dropout_rate),\n",
    "            layers.Dense(num_units, activation=activation),\n",
    "            layers.Dense(1),\n",
    "        ]\n",
    "    )\n",
    "\n",
    "    model.compile(loss=\"mse\", optimizer=\"adam\", metrics=[\"mae\", \"mse\"])\n",
    "    print(model.summary())\n",
    "\n",
    "    history = model.fit(\n",
    "        train_data, train_labels, epochs=epochs, validation_split=validation_split\n",
    "    )\n",
    "\n",
    "    return model, history"
   ]
  },
  {
   "cell_type": "markdown",
   "metadata": {
    "id": "O8XJZB3gR8eL"
   },
   "source": [
    "### Initialize the Vertex AI SDK for Python and create an Experiment\n",
    "\n",
    "Initialize the *client* for Vertex AI and create an experiment."
   ]
  },
  {
   "cell_type": "code",
   "execution_count": 11,
   "metadata": {
    "id": "o_wnT10RJ7-W"
   },
   "outputs": [],
   "source": [
    "# Initialize the Vertex AI SDK for Python\n",
    "aiplatform.init(project=PROJECT_ID, location=REGION, experiment=EXPERIMENT_NAME)"
   ]
  },
  {
   "cell_type": "markdown",
   "metadata": {
    "id": "u-iTnzt3B6Z_"
   },
   "source": [
    "### Start several model training runs\n",
    "\n",
    "Training parameters and metrics are logged for each run."
   ]
  },
  {
   "cell_type": "code",
   "execution_count": 12,
   "metadata": {
    "id": "i2wnpu8_7JfV"
   },
   "outputs": [
    {
     "name": "stdout",
     "output_type": "stream",
     "text": [
      "Associating projects/62613708561/locations/us-central1/metadataStores/default/contexts/my-experiment-auto-mpg-local-run-0 to Experiment: my-experiment\n"
     ]
    },
    {
     "name": "stderr",
     "output_type": "stream",
     "text": [
      "INFO:google.cloud.aiplatform.metadata.experiment_resources:Associating projects/62613708561/locations/us-central1/metadataStores/default/contexts/my-experiment-auto-mpg-local-run-0 to Experiment: my-experiment\n",
      "2022-10-14 13:13:49.748848: W tensorflow/stream_executor/platform/default/dso_loader.cc:64] Could not load dynamic library 'libcuda.so.1'; dlerror: libcuda.so.1: cannot open shared object file: No such file or directory; LD_LIBRARY_PATH: /usr/local/cuda/lib64:/usr/local/nccl2/lib:/usr/local/cuda/extras/CUPTI/lib64\n",
      "2022-10-14 13:13:49.748909: W tensorflow/stream_executor/cuda/cuda_driver.cc:269] failed call to cuInit: UNKNOWN ERROR (303)\n",
      "2022-10-14 13:13:49.748948: I tensorflow/stream_executor/cuda/cuda_diagnostics.cc:156] kernel driver does not appear to be running on this host (tensorflow-2-6-20221014-181307): /proc/driver/nvidia/version does not exist\n",
      "2022-10-14 13:13:49.749275: I tensorflow/core/platform/cpu_feature_guard.cc:151] This TensorFlow binary is optimized with oneAPI Deep Neural Network Library (oneDNN) to use the following CPU instructions in performance-critical operations:  AVX2 FMA\n",
      "To enable them in other operations, rebuild TensorFlow with the appropriate compiler flags.\n"
     ]
    },
    {
     "name": "stdout",
     "output_type": "stream",
     "text": [
      "Model: \"sequential\"\n",
      "_________________________________________________________________\n",
      "Layer (type)                 Output Shape              Param #   \n",
      "=================================================================\n",
      "dense (Dense)                (None, 16)                160       \n",
      "_________________________________________________________________\n",
      "dropout (Dropout)            (None, 16)                0         \n",
      "_________________________________________________________________\n",
      "dense_1 (Dense)              (None, 16)                272       \n",
      "_________________________________________________________________\n",
      "dense_2 (Dense)              (None, 1)                 17        \n",
      "=================================================================\n",
      "Total params: 449\n",
      "Trainable params: 449\n",
      "Non-trainable params: 0\n",
      "_________________________________________________________________\n",
      "None\n",
      "Epoch 1/3\n",
      "8/8 [==============================] - 1s 28ms/step - loss: 617.4069 - mae: 23.6673 - mse: 617.4069 - val_loss: 636.9465 - val_mae: 24.0385 - val_mse: 636.9465\n",
      "Epoch 2/3\n",
      "8/8 [==============================] - 0s 5ms/step - loss: 609.2305 - mae: 23.4660 - mse: 609.2305 - val_loss: 628.8822 - val_mae: 23.8232 - val_mse: 628.8822\n",
      "Epoch 3/3\n",
      "8/8 [==============================] - 0s 4ms/step - loss: 601.7635 - mae: 23.2596 - mse: 601.7635 - val_loss: 621.3492 - val_mae: 23.6198 - val_mse: 621.3492\n",
      "3/3 - 0s - loss: 639.9313 - mae: 23.9138 - mse: 639.9313\n",
      "Associating projects/62613708561/locations/us-central1/metadataStores/default/contexts/my-experiment-auto-mpg-local-run-1 to Experiment: my-experiment\n"
     ]
    },
    {
     "name": "stderr",
     "output_type": "stream",
     "text": [
      "INFO:google.cloud.aiplatform.metadata.experiment_resources:Associating projects/62613708561/locations/us-central1/metadataStores/default/contexts/my-experiment-auto-mpg-local-run-1 to Experiment: my-experiment\n"
     ]
    },
    {
     "name": "stdout",
     "output_type": "stream",
     "text": [
      "Model: \"sequential_1\"\n",
      "_________________________________________________________________\n",
      "Layer (type)                 Output Shape              Param #   \n",
      "=================================================================\n",
      "dense_3 (Dense)              (None, 16)                160       \n",
      "_________________________________________________________________\n",
      "dropout_1 (Dropout)          (None, 16)                0         \n",
      "_________________________________________________________________\n",
      "dense_4 (Dense)              (None, 16)                272       \n",
      "_________________________________________________________________\n",
      "dense_5 (Dense)              (None, 1)                 17        \n",
      "=================================================================\n",
      "Total params: 449\n",
      "Trainable params: 449\n",
      "Non-trainable params: 0\n",
      "_________________________________________________________________\n",
      "None\n",
      "Epoch 1/10\n",
      "8/8 [==============================] - 1s 23ms/step - loss: 643.3784 - mae: 24.2875 - mse: 643.3784 - val_loss: 667.1874 - val_mae: 24.7708 - val_mse: 667.1874\n",
      "Epoch 2/10\n",
      "8/8 [==============================] - 0s 4ms/step - loss: 630.0400 - mae: 24.0101 - mse: 630.0400 - val_loss: 651.8270 - val_mae: 24.4581 - val_mse: 651.8270\n",
      "Epoch 3/10\n",
      "8/8 [==============================] - 0s 4ms/step - loss: 615.6971 - mae: 23.7140 - mse: 615.6971 - val_loss: 637.3712 - val_mae: 24.1630 - val_mse: 637.3712\n",
      "Epoch 4/10\n",
      "8/8 [==============================] - 0s 4ms/step - loss: 602.8894 - mae: 23.4492 - mse: 602.8893 - val_loss: 623.2484 - val_mae: 23.8767 - val_mse: 623.2484\n",
      "Epoch 5/10\n",
      "8/8 [==============================] - 0s 4ms/step - loss: 591.3527 - mae: 23.2125 - mse: 591.3527 - val_loss: 609.3730 - val_mae: 23.5982 - val_mse: 609.3730\n",
      "Epoch 6/10\n",
      "8/8 [==============================] - 0s 4ms/step - loss: 579.0091 - mae: 22.9631 - mse: 579.0091 - val_loss: 595.3837 - val_mae: 23.3194 - val_mse: 595.3837\n",
      "Epoch 7/10\n",
      "8/8 [==============================] - 0s 4ms/step - loss: 566.3429 - mae: 22.7050 - mse: 566.3429 - val_loss: 581.2571 - val_mae: 23.0397 - val_mse: 581.2571\n",
      "Epoch 8/10\n",
      "8/8 [==============================] - 0s 4ms/step - loss: 554.8348 - mae: 22.4744 - mse: 554.8348 - val_loss: 566.8028 - val_mae: 22.7545 - val_mse: 566.8028\n",
      "Epoch 9/10\n",
      "8/8 [==============================] - 0s 4ms/step - loss: 541.6411 - mae: 22.2132 - mse: 541.6411 - val_loss: 551.5903 - val_mae: 22.4550 - val_mse: 551.5903\n",
      "Epoch 10/10\n",
      "8/8 [==============================] - 0s 4ms/step - loss: 527.8411 - mae: 21.9327 - mse: 527.8411 - val_loss: 535.4055 - val_mae: 22.1358 - val_mse: 535.4055\n",
      "3/3 - 0s - loss: 551.5436 - mae: 22.4262 - mse: 551.5436\n",
      "Associating projects/62613708561/locations/us-central1/metadataStores/default/contexts/my-experiment-auto-mpg-local-run-2 to Experiment: my-experiment\n"
     ]
    },
    {
     "name": "stderr",
     "output_type": "stream",
     "text": [
      "INFO:google.cloud.aiplatform.metadata.experiment_resources:Associating projects/62613708561/locations/us-central1/metadataStores/default/contexts/my-experiment-auto-mpg-local-run-2 to Experiment: my-experiment\n"
     ]
    },
    {
     "name": "stdout",
     "output_type": "stream",
     "text": [
      "Model: \"sequential_2\"\n",
      "_________________________________________________________________\n",
      "Layer (type)                 Output Shape              Param #   \n",
      "=================================================================\n",
      "dense_6 (Dense)              (None, 16)                160       \n",
      "_________________________________________________________________\n",
      "dropout_2 (Dropout)          (None, 16)                0         \n",
      "_________________________________________________________________\n",
      "dense_7 (Dense)              (None, 16)                272       \n",
      "_________________________________________________________________\n",
      "dense_8 (Dense)              (None, 1)                 17        \n",
      "=================================================================\n",
      "Total params: 449\n",
      "Trainable params: 449\n",
      "Non-trainable params: 0\n",
      "_________________________________________________________________\n",
      "None\n",
      "Epoch 1/10\n",
      "8/8 [==============================] - 1s 52ms/step - loss: 625.0442 - mae: 23.7135 - mse: 625.0442 - val_loss: 644.3045 - val_mae: 24.0982 - val_mse: 644.3045\n",
      "Epoch 2/10\n",
      "8/8 [==============================] - 0s 5ms/step - loss: 616.0950 - mae: 23.5314 - mse: 616.0950 - val_loss: 636.6922 - val_mae: 23.9438 - val_mse: 636.6922\n",
      "Epoch 3/10\n",
      "8/8 [==============================] - 0s 4ms/step - loss: 609.2006 - mae: 23.3937 - mse: 609.2006 - val_loss: 629.5571 - val_mae: 23.7980 - val_mse: 629.5571\n",
      "Epoch 4/10\n",
      "8/8 [==============================] - 0s 4ms/step - loss: 602.5281 - mae: 23.2569 - mse: 602.5281 - val_loss: 622.8041 - val_mae: 23.6555 - val_mse: 622.8041\n",
      "Epoch 5/10\n",
      "8/8 [==============================] - 0s 4ms/step - loss: 596.6069 - mae: 23.1239 - mse: 596.6069 - val_loss: 616.0606 - val_mae: 23.5142 - val_mse: 616.0606\n",
      "Epoch 6/10\n",
      "8/8 [==============================] - 0s 4ms/step - loss: 590.3679 - mae: 22.9926 - mse: 590.3679 - val_loss: 609.1794 - val_mae: 23.3677 - val_mse: 609.1794\n",
      "Epoch 7/10\n",
      "8/8 [==============================] - 0s 4ms/step - loss: 583.2376 - mae: 22.8445 - mse: 583.2376 - val_loss: 602.2222 - val_mae: 23.2179 - val_mse: 602.2222\n",
      "Epoch 8/10\n",
      "8/8 [==============================] - 0s 4ms/step - loss: 577.3398 - mae: 22.7058 - mse: 577.3398 - val_loss: 594.8432 - val_mae: 23.0558 - val_mse: 594.8432\n",
      "Epoch 9/10\n",
      "8/8 [==============================] - 0s 4ms/step - loss: 571.1152 - mae: 22.5637 - mse: 571.1152 - val_loss: 586.9722 - val_mae: 22.8813 - val_mse: 586.9722\n",
      "Epoch 10/10\n",
      "8/8 [==============================] - 0s 4ms/step - loss: 562.7604 - mae: 22.3851 - mse: 562.7604 - val_loss: 578.4148 - val_mae: 22.6892 - val_mse: 578.4148\n",
      "3/3 - 0s - loss: 600.6901 - mae: 23.0760 - mse: 600.6901\n",
      "Associating projects/62613708561/locations/us-central1/metadataStores/default/contexts/my-experiment-auto-mpg-local-run-3 to Experiment: my-experiment\n"
     ]
    },
    {
     "name": "stderr",
     "output_type": "stream",
     "text": [
      "INFO:google.cloud.aiplatform.metadata.experiment_resources:Associating projects/62613708561/locations/us-central1/metadataStores/default/contexts/my-experiment-auto-mpg-local-run-3 to Experiment: my-experiment\n"
     ]
    },
    {
     "name": "stdout",
     "output_type": "stream",
     "text": [
      "Model: \"sequential_3\"\n",
      "_________________________________________________________________\n",
      "Layer (type)                 Output Shape              Param #   \n",
      "=================================================================\n",
      "dense_9 (Dense)              (None, 32)                320       \n",
      "_________________________________________________________________\n",
      "dropout_3 (Dropout)          (None, 32)                0         \n",
      "_________________________________________________________________\n",
      "dense_10 (Dense)             (None, 32)                1056      \n",
      "_________________________________________________________________\n",
      "dense_11 (Dense)             (None, 1)                 33        \n",
      "=================================================================\n",
      "Total params: 1,409\n",
      "Trainable params: 1,409\n",
      "Non-trainable params: 0\n",
      "_________________________________________________________________\n",
      "None\n",
      "Epoch 1/10\n",
      "8/8 [==============================] - 1s 23ms/step - loss: 602.7513 - mae: 23.3620 - mse: 602.7513 - val_loss: 620.4725 - val_mae: 23.6947 - val_mse: 620.4725\n",
      "Epoch 2/10\n",
      "8/8 [==============================] - 0s 4ms/step - loss: 590.5832 - mae: 23.0727 - mse: 590.5832 - val_loss: 606.6851 - val_mae: 23.3659 - val_mse: 606.6851\n",
      "Epoch 3/10\n",
      "8/8 [==============================] - 0s 4ms/step - loss: 577.7888 - mae: 22.7695 - mse: 577.7888 - val_loss: 593.0513 - val_mae: 23.0443 - val_mse: 593.0513\n",
      "Epoch 4/10\n",
      "8/8 [==============================] - 0s 5ms/step - loss: 564.5516 - mae: 22.4431 - mse: 564.5516 - val_loss: 578.6909 - val_mae: 22.7094 - val_mse: 578.6909\n",
      "Epoch 5/10\n",
      "8/8 [==============================] - 0s 5ms/step - loss: 550.7720 - mae: 22.1140 - mse: 550.7720 - val_loss: 562.2185 - val_mae: 22.3230 - val_mse: 562.2185\n",
      "Epoch 6/10\n",
      "8/8 [==============================] - 0s 5ms/step - loss: 536.0137 - mae: 21.7566 - mse: 536.0137 - val_loss: 542.7650 - val_mae: 21.8578 - val_mse: 542.7650\n",
      "Epoch 7/10\n",
      "8/8 [==============================] - 0s 5ms/step - loss: 514.7330 - mae: 21.2328 - mse: 514.7330 - val_loss: 519.3974 - val_mae: 21.2839 - val_mse: 519.3974\n",
      "Epoch 8/10\n",
      "8/8 [==============================] - 0s 5ms/step - loss: 493.9228 - mae: 20.7112 - mse: 493.9228 - val_loss: 491.9206 - val_mae: 20.5891 - val_mse: 491.9206\n",
      "Epoch 9/10\n",
      "8/8 [==============================] - 0s 5ms/step - loss: 466.3656 - mae: 20.0198 - mse: 466.3656 - val_loss: 460.1176 - val_mae: 19.7633 - val_mse: 460.1176\n",
      "Epoch 10/10\n",
      "8/8 [==============================] - 0s 5ms/step - loss: 435.8416 - mae: 19.2087 - mse: 435.8416 - val_loss: 423.9521 - val_mae: 18.8030 - val_mse: 423.9521\n",
      "3/3 - 0s - loss: 447.8495 - mae: 19.3754 - mse: 447.8495\n",
      "Associating projects/62613708561/locations/us-central1/metadataStores/default/contexts/my-experiment-auto-mpg-local-run-4 to Experiment: my-experiment\n"
     ]
    },
    {
     "name": "stderr",
     "output_type": "stream",
     "text": [
      "INFO:google.cloud.aiplatform.metadata.experiment_resources:Associating projects/62613708561/locations/us-central1/metadataStores/default/contexts/my-experiment-auto-mpg-local-run-4 to Experiment: my-experiment\n"
     ]
    },
    {
     "name": "stdout",
     "output_type": "stream",
     "text": [
      "Model: \"sequential_4\"\n",
      "_________________________________________________________________\n",
      "Layer (type)                 Output Shape              Param #   \n",
      "=================================================================\n",
      "dense_12 (Dense)             (None, 32)                320       \n",
      "_________________________________________________________________\n",
      "dropout_4 (Dropout)          (None, 32)                0         \n",
      "_________________________________________________________________\n",
      "dense_13 (Dense)             (None, 32)                1056      \n",
      "_________________________________________________________________\n",
      "dense_14 (Dense)             (None, 1)                 33        \n",
      "=================================================================\n",
      "Total params: 1,409\n",
      "Trainable params: 1,409\n",
      "Non-trainable params: 0\n",
      "_________________________________________________________________\n",
      "None\n",
      "Epoch 1/10\n",
      "8/8 [==============================] - 1s 24ms/step - loss: 600.9067 - mae: 23.3580 - mse: 600.9067 - val_loss: 613.7952 - val_mae: 23.6214 - val_mse: 613.7952\n",
      "Epoch 2/10\n",
      "8/8 [==============================] - 0s 5ms/step - loss: 584.4291 - mae: 23.0132 - mse: 584.4291 - val_loss: 598.7891 - val_mae: 23.3039 - val_mse: 598.7891\n",
      "Epoch 3/10\n",
      "8/8 [==============================] - 0s 5ms/step - loss: 568.9881 - mae: 22.6897 - mse: 568.9881 - val_loss: 583.4426 - val_mae: 22.9813 - val_mse: 583.4426\n",
      "Epoch 4/10\n",
      "8/8 [==============================] - 0s 5ms/step - loss: 553.4980 - mae: 22.3470 - mse: 553.4980 - val_loss: 566.7316 - val_mae: 22.6310 - val_mse: 566.7316\n",
      "Epoch 5/10\n",
      "8/8 [==============================] - 0s 4ms/step - loss: 536.8406 - mae: 22.0054 - mse: 536.8406 - val_loss: 548.1111 - val_mae: 22.2403 - val_mse: 548.1111\n",
      "Epoch 6/10\n",
      "8/8 [==============================] - 0s 5ms/step - loss: 516.7618 - mae: 21.5836 - mse: 516.7618 - val_loss: 526.3530 - val_mae: 21.7795 - val_mse: 526.3530\n",
      "Epoch 7/10\n",
      "8/8 [==============================] - 0s 5ms/step - loss: 493.5110 - mae: 21.0683 - mse: 493.5110 - val_loss: 501.2724 - val_mae: 21.2385 - val_mse: 501.2724\n",
      "Epoch 8/10\n",
      "8/8 [==============================] - 0s 5ms/step - loss: 467.4046 - mae: 20.5072 - mse: 467.4046 - val_loss: 472.3132 - val_mae: 20.5969 - val_mse: 472.3132\n",
      "Epoch 9/10\n",
      "8/8 [==============================] - 0s 5ms/step - loss: 438.9635 - mae: 19.8487 - mse: 438.9635 - val_loss: 438.7218 - val_mae: 19.8289 - val_mse: 438.7218\n",
      "Epoch 10/10\n",
      "8/8 [==============================] - 0s 4ms/step - loss: 408.6530 - mae: 19.1253 - mse: 408.6530 - val_loss: 401.8991 - val_mae: 18.9472 - val_mse: 401.8991\n",
      "3/3 - 0s - loss: 408.6072 - mae: 19.0971 - mse: 408.6072\n"
     ]
    }
   ],
   "source": [
    "parameters = [\n",
    "    {\"num_units\": 16, \"epochs\": 3, \"dropout_rate\": 0.1},\n",
    "    {\"num_units\": 16, \"epochs\": 10, \"dropout_rate\": 0.1},\n",
    "    {\"num_units\": 16, \"epochs\": 10, \"dropout_rate\": 0.2},\n",
    "    {\"num_units\": 32, \"epochs\": 10, \"dropout_rate\": 0.1},\n",
    "    {\"num_units\": 32, \"epochs\": 10, \"dropout_rate\": 0.2},\n",
    "]\n",
    "\n",
    "for i, params in enumerate(parameters):\n",
    "    aiplatform.start_run(run=f\"auto-mpg-local-run-{i}\")\n",
    "    aiplatform.log_params(params)\n",
    "    model, history = train(\n",
    "        normed_train_data,\n",
    "        train_labels,\n",
    "        num_units=params[\"num_units\"],\n",
    "        activation=\"relu\",\n",
    "        epochs=params[\"epochs\"],\n",
    "        dropout_rate=params[\"dropout_rate\"],\n",
    "    )\n",
    "    aiplatform.log_metrics(\n",
    "        {metric: values[-1] for metric, values in history.history.items()}\n",
    "    )\n",
    "\n",
    "    loss, mae, mse = model.evaluate(normed_test_data, test_labels, verbose=2)\n",
    "    aiplatform.log_metrics({\"eval_loss\": loss, \"eval_mae\": mae, \"eval_mse\": mse})"
   ]
  },
  {
   "cell_type": "markdown",
   "metadata": {
    "id": "jZLrJZTfL7tE"
   },
   "source": [
    "### Extract parameters and metrics into a dataframe for analysis"
   ]
  },
  {
   "cell_type": "markdown",
   "metadata": {
    "id": "A1PqKxlpOZa2"
   },
   "source": [
    "We can also extract all parameters and metrics associated with any Experiment into a dataframe for further analysis."
   ]
  },
  {
   "cell_type": "code",
   "execution_count": 13,
   "metadata": {
    "id": "jbRf1WoH_vbY"
   },
   "outputs": [
    {
     "data": {
      "text/html": [
       "<div>\n",
       "<style scoped>\n",
       "    .dataframe tbody tr th:only-of-type {\n",
       "        vertical-align: middle;\n",
       "    }\n",
       "\n",
       "    .dataframe tbody tr th {\n",
       "        vertical-align: top;\n",
       "    }\n",
       "\n",
       "    .dataframe thead th {\n",
       "        text-align: right;\n",
       "    }\n",
       "</style>\n",
       "<table border=\"1\" class=\"dataframe\">\n",
       "  <thead>\n",
       "    <tr style=\"text-align: right;\">\n",
       "      <th></th>\n",
       "      <th>experiment_name</th>\n",
       "      <th>run_name</th>\n",
       "      <th>run_type</th>\n",
       "      <th>state</th>\n",
       "      <th>param.num_units</th>\n",
       "      <th>param.epochs</th>\n",
       "      <th>param.dropout_rate</th>\n",
       "      <th>metric.mse</th>\n",
       "      <th>metric.loss</th>\n",
       "      <th>metric.val_mse</th>\n",
       "      <th>metric.mae</th>\n",
       "      <th>metric.eval_mae</th>\n",
       "      <th>metric.eval_loss</th>\n",
       "      <th>metric.val_loss</th>\n",
       "      <th>metric.eval_mse</th>\n",
       "      <th>metric.val_mae</th>\n",
       "    </tr>\n",
       "  </thead>\n",
       "  <tbody>\n",
       "    <tr>\n",
       "      <th>0</th>\n",
       "      <td>my-experiment</td>\n",
       "      <td>auto-mpg-local-run-4</td>\n",
       "      <td>system.ExperimentRun</td>\n",
       "      <td>RUNNING</td>\n",
       "      <td>32.0</td>\n",
       "      <td>10.0</td>\n",
       "      <td>0.2</td>\n",
       "      <td>408.652954</td>\n",
       "      <td>408.652954</td>\n",
       "      <td>401.899109</td>\n",
       "      <td>19.125265</td>\n",
       "      <td>19.097095</td>\n",
       "      <td>408.607178</td>\n",
       "      <td>401.899109</td>\n",
       "      <td>408.607178</td>\n",
       "      <td>18.947227</td>\n",
       "    </tr>\n",
       "    <tr>\n",
       "      <th>1</th>\n",
       "      <td>my-experiment</td>\n",
       "      <td>auto-mpg-local-run-3</td>\n",
       "      <td>system.ExperimentRun</td>\n",
       "      <td>COMPLETE</td>\n",
       "      <td>32.0</td>\n",
       "      <td>10.0</td>\n",
       "      <td>0.1</td>\n",
       "      <td>435.841644</td>\n",
       "      <td>435.841644</td>\n",
       "      <td>423.952118</td>\n",
       "      <td>19.208683</td>\n",
       "      <td>19.375414</td>\n",
       "      <td>447.849457</td>\n",
       "      <td>423.952118</td>\n",
       "      <td>447.849457</td>\n",
       "      <td>18.802963</td>\n",
       "    </tr>\n",
       "    <tr>\n",
       "      <th>2</th>\n",
       "      <td>my-experiment</td>\n",
       "      <td>auto-mpg-local-run-2</td>\n",
       "      <td>system.ExperimentRun</td>\n",
       "      <td>COMPLETE</td>\n",
       "      <td>16.0</td>\n",
       "      <td>10.0</td>\n",
       "      <td>0.2</td>\n",
       "      <td>562.760376</td>\n",
       "      <td>562.760376</td>\n",
       "      <td>578.414795</td>\n",
       "      <td>22.385078</td>\n",
       "      <td>23.075970</td>\n",
       "      <td>600.690125</td>\n",
       "      <td>578.414795</td>\n",
       "      <td>600.690125</td>\n",
       "      <td>22.689171</td>\n",
       "    </tr>\n",
       "    <tr>\n",
       "      <th>3</th>\n",
       "      <td>my-experiment</td>\n",
       "      <td>auto-mpg-local-run-1</td>\n",
       "      <td>system.ExperimentRun</td>\n",
       "      <td>COMPLETE</td>\n",
       "      <td>16.0</td>\n",
       "      <td>10.0</td>\n",
       "      <td>0.1</td>\n",
       "      <td>527.841125</td>\n",
       "      <td>527.841125</td>\n",
       "      <td>535.405518</td>\n",
       "      <td>21.932697</td>\n",
       "      <td>22.426222</td>\n",
       "      <td>551.543640</td>\n",
       "      <td>535.405518</td>\n",
       "      <td>551.543640</td>\n",
       "      <td>22.135757</td>\n",
       "    </tr>\n",
       "    <tr>\n",
       "      <th>4</th>\n",
       "      <td>my-experiment</td>\n",
       "      <td>auto-mpg-local-run-0</td>\n",
       "      <td>system.ExperimentRun</td>\n",
       "      <td>COMPLETE</td>\n",
       "      <td>16.0</td>\n",
       "      <td>3.0</td>\n",
       "      <td>0.1</td>\n",
       "      <td>601.763550</td>\n",
       "      <td>601.763550</td>\n",
       "      <td>621.349182</td>\n",
       "      <td>23.259560</td>\n",
       "      <td>23.913794</td>\n",
       "      <td>639.931274</td>\n",
       "      <td>621.349182</td>\n",
       "      <td>639.931274</td>\n",
       "      <td>23.619804</td>\n",
       "    </tr>\n",
       "  </tbody>\n",
       "</table>\n",
       "</div>"
      ],
      "text/plain": [
       "  experiment_name              run_name              run_type     state  \\\n",
       "0   my-experiment  auto-mpg-local-run-4  system.ExperimentRun   RUNNING   \n",
       "1   my-experiment  auto-mpg-local-run-3  system.ExperimentRun  COMPLETE   \n",
       "2   my-experiment  auto-mpg-local-run-2  system.ExperimentRun  COMPLETE   \n",
       "3   my-experiment  auto-mpg-local-run-1  system.ExperimentRun  COMPLETE   \n",
       "4   my-experiment  auto-mpg-local-run-0  system.ExperimentRun  COMPLETE   \n",
       "\n",
       "   param.num_units  param.epochs  param.dropout_rate  metric.mse  metric.loss  \\\n",
       "0             32.0          10.0                 0.2  408.652954   408.652954   \n",
       "1             32.0          10.0                 0.1  435.841644   435.841644   \n",
       "2             16.0          10.0                 0.2  562.760376   562.760376   \n",
       "3             16.0          10.0                 0.1  527.841125   527.841125   \n",
       "4             16.0           3.0                 0.1  601.763550   601.763550   \n",
       "\n",
       "   metric.val_mse  metric.mae  metric.eval_mae  metric.eval_loss  \\\n",
       "0      401.899109   19.125265        19.097095        408.607178   \n",
       "1      423.952118   19.208683        19.375414        447.849457   \n",
       "2      578.414795   22.385078        23.075970        600.690125   \n",
       "3      535.405518   21.932697        22.426222        551.543640   \n",
       "4      621.349182   23.259560        23.913794        639.931274   \n",
       "\n",
       "   metric.val_loss  metric.eval_mse  metric.val_mae  \n",
       "0       401.899109       408.607178       18.947227  \n",
       "1       423.952118       447.849457       18.802963  \n",
       "2       578.414795       600.690125       22.689171  \n",
       "3       535.405518       551.543640       22.135757  \n",
       "4       621.349182       639.931274       23.619804  "
      ]
     },
     "execution_count": 13,
     "metadata": {},
     "output_type": "execute_result"
    }
   ],
   "source": [
    "# Extract all parameters and metrics into a dataframe\n",
    "experiment_df = aiplatform.get_experiment_df()\n",
    "experiment_df"
   ]
  },
  {
   "cell_type": "markdown",
   "metadata": {
    "id": "EYuYgqVCMKU1"
   },
   "source": [
    "### Visualizing an experiment's parameters and metrics"
   ]
  },
  {
   "cell_type": "code",
   "execution_count": 14,
   "metadata": {
    "id": "r8orCj8iJuO1"
   },
   "outputs": [
    {
     "data": {
      "text/plain": [
       "<matplotlib.legend.Legend at 0x7feac61ef950>"
      ]
     },
     "execution_count": 14,
     "metadata": {},
     "output_type": "execute_result"
    },
    {
     "data": {
      "image/png": "[encoded data removed]",
      "text/plain": [
       "<Figure size 1500x500 with 1 Axes>"
      ]
     },
     "metadata": {},
     "output_type": "display_data"
    }
   ],
   "source": [
    "plt.rcParams[\"figure.figsize\"] = [15, 5]\n",
    "\n",
    "ax = pd.plotting.parallel_coordinates(\n",
    "    experiment_df.reset_index(level=0),\n",
    "    \"run_name\",\n",
    "    cols=[\n",
    "        \"param.num_units\",\n",
    "        \"param.dropout_rate\",\n",
    "        \"param.epochs\",\n",
    "        \"metric.loss\",\n",
    "        \"metric.val_loss\",\n",
    "        \"metric.eval_loss\",\n",
    "    ],\n",
    "    color=[\"blue\", \"green\", \"pink\", \"red\"],\n",
    ")\n",
    "ax.set_yscale(\"symlog\")\n",
    "ax.legend(bbox_to_anchor=(1.0, 0.5))"
   ]
  },
  {
   "cell_type": "markdown",
   "metadata": {
    "id": "WTHvPMweMlP1"
   },
   "source": [
    "## Visualizing experiments in Cloud Console"
   ]
  },
  {
   "cell_type": "markdown",
   "metadata": {
    "id": "F19_5lw0MqXv"
   },
   "source": [
    "Run the following to get the URL of Vertex AI Experiments for your project.\n"
   ]
  },
  {
   "cell_type": "code",
   "execution_count": 15,
   "metadata": {
    "id": "GmN9vE9pqqzt"
   },
   "outputs": [
    {
     "name": "stdout",
     "output_type": "stream",
     "text": [
      "Vertex AI Experiments:\n",
      "https://console.cloud.google.com/ai/platform/experiments/experiments?folder=&organizationId=&project=qwiklabs-gcp-00-367d77ca87e3\n"
     ]
    }
   ],
   "source": [
    "print(\"Vertex AI Experiments:\")\n",
    "print(\n",
    "    f\"https://console.cloud.google.com/ai/platform/experiments/experiments?folder=&organizationId=&project={PROJECT_ID}\"\n",
    ")"
   ]
  },
  {
   "cell_type": "markdown",
   "metadata": {
    "id": "TpV-iwP9qw9c"
   },
   "source": [
    "## Cleaning up\n",
    "\n",
    "To clean up all Google Cloud resources used in this project, you can [delete the Google Cloud\n",
    "project](https://cloud.google.com/resource-manager/docs/creating-managing-projects#shutting_down_projects) you used for the tutorial.\n",
    "\n",
    "Otherwise, you can delete the individual resources you created in this tutorial:\n",
    "\n",
    "- Experiment (Can be deleted manually in the GCP Console UI)"
   ]
  }
 ],
 "metadata": {
  "colab": {
   "collapsed_sections": [],
   "name": "sdk-metric-parameter-tracking-for-locally-trained-models.ipynb",
   "toc_visible": true
  },
  "environment": {
   "kernel": "python3",
   "name": "tf2-gpu.2-6.m97",
   "type": "gcloud",
   "uri": "gcr.io/deeplearning-platform-release/tf2-gpu.2-6:m97"
  },
  "kernelspec": {
   "display_name": "Python 3",
   "language": "python",
   "name": "python3"
  },
  "language_info": {
   "codemirror_mode": {
    "name": "ipython",
    "version": 3
   },
   "file_extension": ".py",
   "mimetype": "text/x-python",
   "name": "python",
   "nbconvert_exporter": "python",
   "pygments_lexer": "ipython3",
   "version": "3.7.12"
  }
 },
 "nbformat": 4,
 "nbformat_minor": 4
}
