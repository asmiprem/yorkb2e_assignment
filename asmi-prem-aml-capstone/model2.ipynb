{
 "cells": [
  {
   "cell_type": "code",
   "execution_count": 35,
   "id": "1c4ad67c-6a2f-4d15-a042-3e877a77994e",
   "metadata": {
    "tags": []
   },
   "outputs": [],
   "source": [
    "PROJECT_ID = 'york-bb-cohort'\n",
    "BQ_LOCATION = 'US'\n",
    "REGION = 'us-west2'\n",
    "GCS_BUCKET = f\"{PROJECT_ID}-asmi\"\n",
    "\n",
    "BQ_DATASET = f\"{PROJECT_ID}:asmi_bq\""
   ]
  },
  {
   "cell_type": "code",
   "execution_count": 8,
   "id": "59bb49b4-5c6c-4748-a095-1b36d83e834f",
   "metadata": {
    "tags": []
   },
   "outputs": [
    {
     "data": {
      "application/vnd.jupyter.widget-view+json": {
       "model_id": "af3479675b504fb59a5fc2509dc818ad",
       "version_major": 2,
       "version_minor": 0
      },
      "text/plain": [
       "Query is running:   0%|          |"
      ]
     },
     "metadata": {},
     "output_type": "display_data"
    },
    {
     "data": {
      "text/html": [
       "<div>\n",
       "<style scoped>\n",
       "    .dataframe tbody tr th:only-of-type {\n",
       "        vertical-align: middle;\n",
       "    }\n",
       "\n",
       "    .dataframe tbody tr th {\n",
       "        vertical-align: top;\n",
       "    }\n",
       "\n",
       "    .dataframe thead th {\n",
       "        text-align: right;\n",
       "    }\n",
       "</style>\n",
       "<table border=\"1\" class=\"dataframe\">\n",
       "  <thead>\n",
       "    <tr style=\"text-align: right;\">\n",
       "      <th></th>\n",
       "    </tr>\n",
       "  </thead>\n",
       "  <tbody>\n",
       "  </tbody>\n",
       "</table>\n",
       "</div>"
      ],
      "text/plain": [
       "Empty DataFrame\n",
       "Columns: []\n",
       "Index: []"
      ]
     },
     "execution_count": 8,
     "metadata": {},
     "output_type": "execute_result"
    }
   ],
   "source": [
    "\n",
    "CREATE OR REPLACE VIEW asmi_bq.wholedata AS (\n",
    "  WITH first_values AS (\n",
    "    SELECT\n",
    "      DISTINCT CONCAT(fullVisitorId, visitId,number) AS unique_id,\n",
    "      IFNULL(visitNumber, 0) AS visitNumber,\n",
    "      IFNULL(channelGrouping, '') AS channelGrouping,\n",
    "      IFNULL(device_category, '') AS device_category,\n",
    "      IFNULL(operating_system, '') AS operating_system,\n",
    "      IFNULL(traffic_source, '') AS traffic_source,\n",
    "      IFNULL(traffic_medium, '') AS traffic_medium,\n",
    "      IFNULL(traffic_campaign, '') AS traffic_campaign,\n",
    "      IFNULL(country, '') AS country,\n",
    "      IFNULL(city, '') AS city,\n",
    "      IFNULL(bounces, 0) AS bounces,\n",
    "      IFNULL(hits, 0) AS hits,\n",
    "      IFNULL(newVisits, 0) AS newVisits,\n",
    "      IFNULL(time_on_site, 0) AS time_on_site,\n",
    "      IFNULL(visits, 0) AS visits,\n",
    "      IFNULL(pageviews_per_session, 0) AS pageviews_per_session,\n",
    "      IFNULL(number, 0) AS number,\n",
    "      IFNULL(hitTime, 0) AS hitTime,\n",
    "      IFNULL(hour, 0) AS hour,\n",
    "      IFNULL(minute, 0) AS minute,\n",
    "      addToCart,\n",
    "      CASE\n",
    "        WHEN ABS(MOD(FARM_FINGERPRINT(CONCAT(fullVisitorId, visitId,number)), 10)) <= 7 THEN 'TRAIN'\n",
    "        WHEN ABS(MOD(FARM_FINGERPRINT(CONCAT(fullVisitorId, visitId, number)), 10)) = 8 THEN 'EVAL'\n",
    "        WHEN ABS(MOD(FARM_FINGERPRINT(CONCAT(fullVisitorId, visitId, number)), 10)) = 9 THEN 'TEST'\n",
    "        ELSE '' \n",
    "      END AS data_split\n",
    "    FROM\n",
    "      `york-bb-cohort.asmi_bq.data1`\n",
    "     \n",
    "  )\n",
    "  SELECT\n",
    "    unique_id,\n",
    "    visitNumber,\n",
    "    channelGrouping,\n",
    "    device_category,\n",
    "    operating_system,\n",
    "    traffic_source,\n",
    "    traffic_medium,\n",
    "    traffic_campaign,\n",
    "    country,\n",
    "    city,\n",
    "    bounces,\n",
    "    hits,\n",
    "    newVisits,\n",
    "    time_on_site,\n",
    "    visits,\n",
    "    pageviews_per_session,\n",
    "    number,\n",
    "    hitTime,\n",
    "    hour,\n",
    "    minute,\n",
    "    addToCart,\n",
    "    -- Feature Engineering\n",
    "    EXTRACT(DAYOFWEEK FROM TIMESTAMP_SECONDS(hitTime)) AS hitDayOfWeek,\n",
    "    EXTRACT(HOUR FROM TIMESTAMP_SECONDS(hitTime)) AS hitHourOfDay,\n",
    "    IFNULL(pageviews_per_session / visits, 0) AS avgPageviewsPerVisit,\n",
    "    IFNULL(hits / visits, 0) AS avgHitsPerVisit,\n",
    "    data_split\n",
    "  FROM\n",
    "    first_values\n",
    ");\n",
    "\n",
    "\n"
   ]
  },
  {
   "cell_type": "code",
   "execution_count": 11,
   "id": "830b88a8-2fdc-4678-876f-0e7e664364bd",
   "metadata": {
    "tags": []
   },
   "outputs": [
    {
     "data": {
      "application/vnd.jupyter.widget-view+json": {
       "model_id": "53bb789ac52944298a0114d2b0710975",
       "version_major": 2,
       "version_minor": 0
      },
      "text/plain": [
       "Query is running:   0%|          |"
      ]
     },
     "metadata": {},
     "output_type": "display_data"
    },
    {
     "data": {
      "text/html": [
       "<div>\n",
       "<style scoped>\n",
       "    .dataframe tbody tr th:only-of-type {\n",
       "        vertical-align: middle;\n",
       "    }\n",
       "\n",
       "    .dataframe tbody tr th {\n",
       "        vertical-align: top;\n",
       "    }\n",
       "\n",
       "    .dataframe thead th {\n",
       "        text-align: right;\n",
       "    }\n",
       "</style>\n",
       "<table border=\"1\" class=\"dataframe\">\n",
       "  <thead>\n",
       "    <tr style=\"text-align: right;\">\n",
       "      <th></th>\n",
       "    </tr>\n",
       "  </thead>\n",
       "  <tbody>\n",
       "  </tbody>\n",
       "</table>\n",
       "</div>"
      ],
      "text/plain": [
       "Empty DataFrame\n",
       "Columns: []\n",
       "Index: []"
      ]
     },
     "execution_count": 11,
     "metadata": {},
     "output_type": "execute_result"
    }
   ],
   "source": [
    "%%bigquery\n",
    "\n",
    "CREATE OR REPLACE MODEL asmi_bq.treeclass2\n",
    "\n",
    "OPTIONS(\n",
    "  MODEL_TYPE=\"BOOSTED_TREE_CLASSIFIER\",\n",
    "  INPUT_LABEL_COLS=[\"addToCart\"],\n",
    "  DATA_SPLIT_METHOD=\"CUSTOM\",\n",
    "  DATA_SPLIT_COL=\"data_split\",\n",
    "  ENABLE_GLOBAL_EXPLAIN=True,\n",
    "  \n",
    "  num_trials=8,\n",
    "  max_parallel_trials=4,\n",
    "  HPARAM_TUNING_OBJECTIVES=[\"roc_auc\"],\n",
    "  EARLY_STOP=True,\n",
    "  # Hyperpameter search space.\n",
    "  LEARN_RATE=HPARAM_RANGE(0.01, 0.1),\n",
    "  MAX_TREE_DEPTH=HPARAM_CANDIDATES([5,6]),\n",
    "  AUTO_CLASS_WEIGHTS = True\n",
    ") AS\n",
    "\n",
    "SELECT\n",
    "  * EXCEPT(unique_id)\n",
    "FROM\n",
    "  asmi_bq.wholedata"
   ]
  },
  {
   "cell_type": "code",
   "execution_count": 12,
   "id": "cd22574d-8b49-43c5-b125-8121ffe1a1f4",
   "metadata": {
    "tags": []
   },
   "outputs": [
    {
     "data": {
      "application/vnd.jupyter.widget-view+json": {
       "model_id": "6e6fb49f54e542db801ffead9f1ea60c",
       "version_major": 2,
       "version_minor": 0
      },
      "text/plain": [
       "Query is running:   0%|          |"
      ]
     },
     "metadata": {},
     "output_type": "display_data"
    },
    {
     "data": {
      "application/vnd.jupyter.widget-view+json": {
       "model_id": "f874f31e51764daeb1a96d87b695d244",
       "version_major": 2,
       "version_minor": 0
      },
      "text/plain": [
       "Downloading:   0%|          |"
      ]
     },
     "metadata": {},
     "output_type": "display_data"
    },
    {
     "data": {
      "text/html": [
       "<div>\n",
       "<style scoped>\n",
       "    .dataframe tbody tr th:only-of-type {\n",
       "        vertical-align: middle;\n",
       "    }\n",
       "\n",
       "    .dataframe tbody tr th {\n",
       "        vertical-align: top;\n",
       "    }\n",
       "\n",
       "    .dataframe thead th {\n",
       "        text-align: right;\n",
       "    }\n",
       "</style>\n",
       "<table border=\"1\" class=\"dataframe\">\n",
       "  <thead>\n",
       "    <tr style=\"text-align: right;\">\n",
       "      <th></th>\n",
       "      <th>trial_id</th>\n",
       "      <th>hyperparameters</th>\n",
       "      <th>hparam_tuning_evaluation_metrics</th>\n",
       "      <th>training_loss</th>\n",
       "      <th>eval_loss</th>\n",
       "      <th>status</th>\n",
       "      <th>error_message</th>\n",
       "      <th>is_optimal</th>\n",
       "    </tr>\n",
       "  </thead>\n",
       "  <tbody>\n",
       "    <tr>\n",
       "      <th>0</th>\n",
       "      <td>1</td>\n",
       "      <td>{'learn_rate': 0.1, 'max_tree_depth': 6}</td>\n",
       "      <td>{'roc_auc': 0.8355934065934066}</td>\n",
       "      <td>0.503046</td>\n",
       "      <td>0.504574</td>\n",
       "      <td>SUCCEEDED</td>\n",
       "      <td>None</td>\n",
       "      <td>False</td>\n",
       "    </tr>\n",
       "    <tr>\n",
       "      <th>1</th>\n",
       "      <td>2</td>\n",
       "      <td>{'learn_rate': 0.08022029348571431, 'max_tree_...</td>\n",
       "      <td>{'roc_auc': 0.8244015984015984}</td>\n",
       "      <td>0.531499</td>\n",
       "      <td>0.529189</td>\n",
       "      <td>SUCCEEDED</td>\n",
       "      <td>None</td>\n",
       "      <td>False</td>\n",
       "    </tr>\n",
       "    <tr>\n",
       "      <th>2</th>\n",
       "      <td>3</td>\n",
       "      <td>{'learn_rate': 0.07306123539888118, 'max_tree_...</td>\n",
       "      <td>{'roc_auc': 0.8328631368631368}</td>\n",
       "      <td>0.520894</td>\n",
       "      <td>0.521810</td>\n",
       "      <td>SUCCEEDED</td>\n",
       "      <td>None</td>\n",
       "      <td>False</td>\n",
       "    </tr>\n",
       "    <tr>\n",
       "      <th>3</th>\n",
       "      <td>4</td>\n",
       "      <td>{'learn_rate': 0.04967134761440729, 'max_tree_...</td>\n",
       "      <td>{'roc_auc': 0.8186483516483517}</td>\n",
       "      <td>0.572017</td>\n",
       "      <td>0.569903</td>\n",
       "      <td>SUCCEEDED</td>\n",
       "      <td>None</td>\n",
       "      <td>False</td>\n",
       "    </tr>\n",
       "    <tr>\n",
       "      <th>4</th>\n",
       "      <td>5</td>\n",
       "      <td>{'learn_rate': 0.1, 'max_tree_depth': 5}</td>\n",
       "      <td>{'roc_auc': 0.8268071928071928}</td>\n",
       "      <td>0.516281</td>\n",
       "      <td>0.514042</td>\n",
       "      <td>SUCCEEDED</td>\n",
       "      <td>None</td>\n",
       "      <td>False</td>\n",
       "    </tr>\n",
       "    <tr>\n",
       "      <th>5</th>\n",
       "      <td>6</td>\n",
       "      <td>{'learn_rate': 0.0875831931854634, 'max_tree_d...</td>\n",
       "      <td>{'roc_auc': 0.8322357642357643}</td>\n",
       "      <td>0.512501</td>\n",
       "      <td>0.514308</td>\n",
       "      <td>SUCCEEDED</td>\n",
       "      <td>None</td>\n",
       "      <td>False</td>\n",
       "    </tr>\n",
       "    <tr>\n",
       "      <th>6</th>\n",
       "      <td>7</td>\n",
       "      <td>{'learn_rate': 0.09614004090060467, 'max_tree_...</td>\n",
       "      <td>{'roc_auc': 0.8359300699300699}</td>\n",
       "      <td>0.505327</td>\n",
       "      <td>0.507574</td>\n",
       "      <td>SUCCEEDED</td>\n",
       "      <td>None</td>\n",
       "      <td>True</td>\n",
       "    </tr>\n",
       "    <tr>\n",
       "      <th>7</th>\n",
       "      <td>8</td>\n",
       "      <td>{'learn_rate': 0.08761994944511492, 'max_tree_...</td>\n",
       "      <td>{'roc_auc': 0.8235954045954046}</td>\n",
       "      <td>0.530990</td>\n",
       "      <td>0.528626</td>\n",
       "      <td>SUCCEEDED</td>\n",
       "      <td>None</td>\n",
       "      <td>False</td>\n",
       "    </tr>\n",
       "  </tbody>\n",
       "</table>\n",
       "</div>"
      ],
      "text/plain": [
       "   trial_id                                    hyperparameters  \\\n",
       "0         1           {'learn_rate': 0.1, 'max_tree_depth': 6}   \n",
       "1         2  {'learn_rate': 0.08022029348571431, 'max_tree_...   \n",
       "2         3  {'learn_rate': 0.07306123539888118, 'max_tree_...   \n",
       "3         4  {'learn_rate': 0.04967134761440729, 'max_tree_...   \n",
       "4         5           {'learn_rate': 0.1, 'max_tree_depth': 5}   \n",
       "5         6  {'learn_rate': 0.0875831931854634, 'max_tree_d...   \n",
       "6         7  {'learn_rate': 0.09614004090060467, 'max_tree_...   \n",
       "7         8  {'learn_rate': 0.08761994944511492, 'max_tree_...   \n",
       "\n",
       "  hparam_tuning_evaluation_metrics  training_loss  eval_loss     status  \\\n",
       "0  {'roc_auc': 0.8355934065934066}       0.503046   0.504574  SUCCEEDED   \n",
       "1  {'roc_auc': 0.8244015984015984}       0.531499   0.529189  SUCCEEDED   \n",
       "2  {'roc_auc': 0.8328631368631368}       0.520894   0.521810  SUCCEEDED   \n",
       "3  {'roc_auc': 0.8186483516483517}       0.572017   0.569903  SUCCEEDED   \n",
       "4  {'roc_auc': 0.8268071928071928}       0.516281   0.514042  SUCCEEDED   \n",
       "5  {'roc_auc': 0.8322357642357643}       0.512501   0.514308  SUCCEEDED   \n",
       "6  {'roc_auc': 0.8359300699300699}       0.505327   0.507574  SUCCEEDED   \n",
       "7  {'roc_auc': 0.8235954045954046}       0.530990   0.528626  SUCCEEDED   \n",
       "\n",
       "  error_message  is_optimal  \n",
       "0          None       False  \n",
       "1          None       False  \n",
       "2          None       False  \n",
       "3          None       False  \n",
       "4          None       False  \n",
       "5          None       False  \n",
       "6          None        True  \n",
       "7          None       False  "
      ]
     },
     "execution_count": 12,
     "metadata": {},
     "output_type": "execute_result"
    }
   ],
   "source": [
    "%%bigquery\n",
    "SELECT *\n",
    "FROM\n",
    "  ML.TRIAL_INFO(MODEL `asmi_bq.treeclass2`);"
   ]
  },
  {
   "cell_type": "code",
   "execution_count": 13,
   "id": "4c9f2d4f-c55a-432c-8d00-12771bee7348",
   "metadata": {
    "tags": []
   },
   "outputs": [],
   "source": [
    "MODEL_NAME=\"treeclass2\""
   ]
  },
  {
   "cell_type": "code",
   "execution_count": null,
   "id": "52dbd120-91bc-4f0c-930c-14611454b780",
   "metadata": {},
   "outputs": [],
   "source": [
    "## Evaluate BQML XGBoost model performance"
   ]
  },
  {
   "cell_type": "code",
   "execution_count": 14,
   "id": "d8cd22af-c386-401d-a732-536539cd63f7",
   "metadata": {
    "tags": []
   },
   "outputs": [
    {
     "data": {
      "application/vnd.jupyter.widget-view+json": {
       "model_id": "aaddf09a68bd44e3ae341a62e1b63efe",
       "version_major": 2,
       "version_minor": 0
      },
      "text/plain": [
       "Query is running:   0%|          |"
      ]
     },
     "metadata": {},
     "output_type": "display_data"
    },
    {
     "data": {
      "application/vnd.jupyter.widget-view+json": {
       "model_id": "7eca5a4bbecd482982f22fa047baf21b",
       "version_major": 2,
       "version_minor": 0
      },
      "text/plain": [
       "Downloading:   0%|          |"
      ]
     },
     "metadata": {},
     "output_type": "display_data"
    },
    {
     "data": {
      "text/html": [
       "<div>\n",
       "<style scoped>\n",
       "    .dataframe tbody tr th:only-of-type {\n",
       "        vertical-align: middle;\n",
       "    }\n",
       "\n",
       "    .dataframe tbody tr th {\n",
       "        vertical-align: top;\n",
       "    }\n",
       "\n",
       "    .dataframe thead th {\n",
       "        text-align: right;\n",
       "    }\n",
       "</style>\n",
       "<table border=\"1\" class=\"dataframe\">\n",
       "  <thead>\n",
       "    <tr style=\"text-align: right;\">\n",
       "      <th></th>\n",
       "      <th>trial_id</th>\n",
       "      <th>precision</th>\n",
       "      <th>recall</th>\n",
       "      <th>accuracy</th>\n",
       "      <th>f1_score</th>\n",
       "      <th>log_loss</th>\n",
       "      <th>roc_auc</th>\n",
       "    </tr>\n",
       "  </thead>\n",
       "  <tbody>\n",
       "    <tr>\n",
       "      <th>0</th>\n",
       "      <td>1</td>\n",
       "      <td>0.053573</td>\n",
       "      <td>0.908206</td>\n",
       "      <td>0.607205</td>\n",
       "      <td>0.101178</td>\n",
       "      <td>0.53383</td>\n",
       "      <td>0.8227</td>\n",
       "    </tr>\n",
       "  </tbody>\n",
       "</table>\n",
       "</div>"
      ],
      "text/plain": [
       "   trial_id  precision    recall  accuracy  f1_score  log_loss  roc_auc\n",
       "0         1   0.053573  0.908206  0.607205  0.101178   0.53383   0.8227"
      ]
     },
     "execution_count": 14,
     "metadata": {},
     "output_type": "execute_result"
    }
   ],
   "source": [
    "%%bigquery\n",
    "SELECT\n",
    "  *\n",
    "FROM\n",
    "  ML.EVALUATE(MODEL asmi_bq.treeclass2)\n",
    "WHERE trial_id=1;"
   ]
  },
  {
   "cell_type": "code",
   "execution_count": 99,
   "id": "3ab94d0b-0532-44be-aada-ca792c062c20",
   "metadata": {
    "tags": []
   },
   "outputs": [
    {
     "data": {
      "application/vnd.jupyter.widget-view+json": {
       "model_id": "83e46cef76e64ec885389e348da8149f",
       "version_major": 2,
       "version_minor": 0
      },
      "text/plain": [
       "Query is running:   0%|          |"
      ]
     },
     "metadata": {},
     "output_type": "display_data"
    },
    {
     "data": {
      "application/vnd.jupyter.widget-view+json": {
       "model_id": "4dc64c043b944cbaaacd11b20ef83142",
       "version_major": 2,
       "version_minor": 0
      },
      "text/plain": [
       "Downloading:   0%|          |"
      ]
     },
     "metadata": {},
     "output_type": "display_data"
    },
    {
     "data": {
      "text/html": [
       "<div>\n",
       "<style scoped>\n",
       "    .dataframe tbody tr th:only-of-type {\n",
       "        vertical-align: middle;\n",
       "    }\n",
       "\n",
       "    .dataframe tbody tr th {\n",
       "        vertical-align: top;\n",
       "    }\n",
       "\n",
       "    .dataframe thead th {\n",
       "        text-align: right;\n",
       "    }\n",
       "</style>\n",
       "<table border=\"1\" class=\"dataframe\">\n",
       "  <thead>\n",
       "    <tr style=\"text-align: right;\">\n",
       "      <th></th>\n",
       "      <th>expected_label</th>\n",
       "      <th>predicted_0</th>\n",
       "      <th>predicted_1</th>\n",
       "    </tr>\n",
       "  </thead>\n",
       "  <tbody>\n",
       "    <tr>\n",
       "      <th>0</th>\n",
       "      <td>0</td>\n",
       "      <td>39308</td>\n",
       "      <td>0</td>\n",
       "    </tr>\n",
       "    <tr>\n",
       "      <th>1</th>\n",
       "      <td>1</td>\n",
       "      <td>1905</td>\n",
       "      <td>0</td>\n",
       "    </tr>\n",
       "  </tbody>\n",
       "</table>\n",
       "</div>"
      ],
      "text/plain": [
       "  expected_label  predicted_0  predicted_1\n",
       "0              0        39308            0\n",
       "1              1         1905            0"
      ]
     },
     "execution_count": 99,
     "metadata": {},
     "output_type": "execute_result"
    }
   ],
   "source": [
    "%%bigquery --project $PROJECT_ID\n",
    "\n",
    "SELECT\n",
    "  expected_label,\n",
    "  _0 AS predicted_0,\n",
    "  _1 AS predicted_1\n",
    "FROM\n",
    "  ML.CONFUSION_MATRIX(MODEL bqmlga4.churn_xgb)\n",
    "WHERE trial_id=1;"
   ]
  },
  {
   "cell_type": "code",
   "execution_count": 17,
   "id": "464770bc-ee82-4e94-a387-1f6e5a619de0",
   "metadata": {
    "tags": []
   },
   "outputs": [
    {
     "data": {
      "application/vnd.jupyter.widget-view+json": {
       "model_id": "f3674036580645219a25e384cfc69281",
       "version_major": 2,
       "version_minor": 0
      },
      "text/plain": [
       "Query is running:   0%|          |"
      ]
     },
     "metadata": {},
     "output_type": "display_data"
    },
    {
     "data": {
      "application/vnd.jupyter.widget-view+json": {
       "model_id": "b794adfab13043f2872c731e3b9155ca",
       "version_major": 2,
       "version_minor": 0
      },
      "text/plain": [
       "Downloading:   0%|          |"
      ]
     },
     "metadata": {},
     "output_type": "display_data"
    }
   ],
   "source": [
    "%%bigquery df_roc \n",
    "\n",
    "SELECT * FROM ML.ROC_CURVE(MODEL asmi_bq.treeclass2)"
   ]
  },
  {
   "cell_type": "code",
   "execution_count": 18,
   "id": "c454e975-8983-4944-92d8-87244fc2d929",
   "metadata": {
    "tags": []
   },
   "outputs": [
    {
     "data": {
      "text/plain": [
       "<Axes: title={'center': 'AUC-ROC curve'}, xlabel='false_positive_rate'>"
      ]
     },
     "execution_count": 18,
     "metadata": {},
     "output_type": "execute_result"
    },
    {
     "data": {
      "image/png": "[encoded data removed]",
      "text/plain": [
       "<Figure size 640x480 with 1 Axes>"
      ]
     },
     "metadata": {},
     "output_type": "display_data"
    }
   ],
   "source": [
    "df_roc.plot(x=\"false_positive_rate\", y=\"recall\", title=\"AUC-ROC curve\")"
   ]
  },
  {
   "cell_type": "code",
   "execution_count": 20,
   "id": "8270a530-f718-4733-a921-25c1bef01504",
   "metadata": {
    "tags": []
   },
   "outputs": [
    {
     "data": {
      "application/vnd.jupyter.widget-view+json": {
       "model_id": "ae5e70cb933441b6a023560c5845738f",
       "version_major": 2,
       "version_minor": 0
      },
      "text/plain": [
       "Query is running:   0%|          |"
      ]
     },
     "metadata": {},
     "output_type": "display_data"
    },
    {
     "data": {
      "application/vnd.jupyter.widget-view+json": {
       "model_id": "09cdba8d4d014ef6a02aacfe2a1c3a5e",
       "version_major": 2,
       "version_minor": 0
      },
      "text/plain": [
       "Downloading:   0%|          |"
      ]
     },
     "metadata": {},
     "output_type": "display_data"
    },
    {
     "data": {
      "text/html": [
       "<div>\n",
       "<style scoped>\n",
       "    .dataframe tbody tr th:only-of-type {\n",
       "        vertical-align: middle;\n",
       "    }\n",
       "\n",
       "    .dataframe tbody tr th {\n",
       "        vertical-align: top;\n",
       "    }\n",
       "\n",
       "    .dataframe thead th {\n",
       "        text-align: right;\n",
       "    }\n",
       "</style>\n",
       "<table border=\"1\" class=\"dataframe\">\n",
       "  <thead>\n",
       "    <tr style=\"text-align: right;\">\n",
       "      <th></th>\n",
       "      <th>trial_id</th>\n",
       "      <th>feature</th>\n",
       "      <th>attribution</th>\n",
       "    </tr>\n",
       "  </thead>\n",
       "  <tbody>\n",
       "    <tr>\n",
       "      <th>0</th>\n",
       "      <td>7</td>\n",
       "      <td>number</td>\n",
       "      <td>0.342567</td>\n",
       "    </tr>\n",
       "    <tr>\n",
       "      <th>1</th>\n",
       "      <td>7</td>\n",
       "      <td>hits</td>\n",
       "      <td>0.261544</td>\n",
       "    </tr>\n",
       "    <tr>\n",
       "      <th>2</th>\n",
       "      <td>7</td>\n",
       "      <td>pageviews_per_session</td>\n",
       "      <td>0.094991</td>\n",
       "    </tr>\n",
       "    <tr>\n",
       "      <th>3</th>\n",
       "      <td>7</td>\n",
       "      <td>hitTime</td>\n",
       "      <td>0.035449</td>\n",
       "    </tr>\n",
       "    <tr>\n",
       "      <th>4</th>\n",
       "      <td>7</td>\n",
       "      <td>visitNumber</td>\n",
       "      <td>0.035066</td>\n",
       "    </tr>\n",
       "    <tr>\n",
       "      <th>5</th>\n",
       "      <td>7</td>\n",
       "      <td>time_on_site</td>\n",
       "      <td>0.021526</td>\n",
       "    </tr>\n",
       "    <tr>\n",
       "      <th>6</th>\n",
       "      <td>7</td>\n",
       "      <td>hitHourOfDay</td>\n",
       "      <td>0.009064</td>\n",
       "    </tr>\n",
       "    <tr>\n",
       "      <th>7</th>\n",
       "      <td>7</td>\n",
       "      <td>country</td>\n",
       "      <td>0.008174</td>\n",
       "    </tr>\n",
       "    <tr>\n",
       "      <th>8</th>\n",
       "      <td>7</td>\n",
       "      <td>channelGrouping</td>\n",
       "      <td>0.006143</td>\n",
       "    </tr>\n",
       "    <tr>\n",
       "      <th>9</th>\n",
       "      <td>7</td>\n",
       "      <td>minute</td>\n",
       "      <td>0.005472</td>\n",
       "    </tr>\n",
       "    <tr>\n",
       "      <th>10</th>\n",
       "      <td>7</td>\n",
       "      <td>operating_system</td>\n",
       "      <td>0.003618</td>\n",
       "    </tr>\n",
       "    <tr>\n",
       "      <th>11</th>\n",
       "      <td>7</td>\n",
       "      <td>device_category</td>\n",
       "      <td>0.003408</td>\n",
       "    </tr>\n",
       "    <tr>\n",
       "      <th>12</th>\n",
       "      <td>7</td>\n",
       "      <td>traffic_source</td>\n",
       "      <td>0.002326</td>\n",
       "    </tr>\n",
       "    <tr>\n",
       "      <th>13</th>\n",
       "      <td>7</td>\n",
       "      <td>hour</td>\n",
       "      <td>0.002167</td>\n",
       "    </tr>\n",
       "    <tr>\n",
       "      <th>14</th>\n",
       "      <td>7</td>\n",
       "      <td>hitDayOfWeek</td>\n",
       "      <td>0.000685</td>\n",
       "    </tr>\n",
       "    <tr>\n",
       "      <th>15</th>\n",
       "      <td>7</td>\n",
       "      <td>city</td>\n",
       "      <td>0.000675</td>\n",
       "    </tr>\n",
       "    <tr>\n",
       "      <th>16</th>\n",
       "      <td>7</td>\n",
       "      <td>traffic_medium</td>\n",
       "      <td>0.000407</td>\n",
       "    </tr>\n",
       "    <tr>\n",
       "      <th>17</th>\n",
       "      <td>7</td>\n",
       "      <td>traffic_campaign</td>\n",
       "      <td>0.000000</td>\n",
       "    </tr>\n",
       "    <tr>\n",
       "      <th>18</th>\n",
       "      <td>7</td>\n",
       "      <td>bounces</td>\n",
       "      <td>0.000000</td>\n",
       "    </tr>\n",
       "    <tr>\n",
       "      <th>19</th>\n",
       "      <td>7</td>\n",
       "      <td>newVisits</td>\n",
       "      <td>0.000000</td>\n",
       "    </tr>\n",
       "  </tbody>\n",
       "</table>\n",
       "</div>"
      ],
      "text/plain": [
       "    trial_id                feature  attribution\n",
       "0          7                 number     0.342567\n",
       "1          7                   hits     0.261544\n",
       "2          7  pageviews_per_session     0.094991\n",
       "3          7                hitTime     0.035449\n",
       "4          7            visitNumber     0.035066\n",
       "5          7           time_on_site     0.021526\n",
       "6          7           hitHourOfDay     0.009064\n",
       "7          7                country     0.008174\n",
       "8          7        channelGrouping     0.006143\n",
       "9          7                 minute     0.005472\n",
       "10         7       operating_system     0.003618\n",
       "11         7        device_category     0.003408\n",
       "12         7         traffic_source     0.002326\n",
       "13         7                   hour     0.002167\n",
       "14         7           hitDayOfWeek     0.000685\n",
       "15         7                   city     0.000675\n",
       "16         7         traffic_medium     0.000407\n",
       "17         7       traffic_campaign     0.000000\n",
       "18         7                bounces     0.000000\n",
       "19         7              newVisits     0.000000"
      ]
     },
     "execution_count": 20,
     "metadata": {},
     "output_type": "execute_result"
    }
   ],
   "source": [
    "%%bigquery \n",
    "\n",
    "SELECT\n",
    "  *\n",
    "FROM\n",
    "  ML.GLOBAL_EXPLAIN(MODEL asmi_bq.treeclass2)\n",
    "ORDER BY\n",
    "  attribution DESC;"
   ]
  },
  {
   "cell_type": "code",
   "execution_count": null,
   "id": "93d3cb68-af6f-476d-a038-5ed9130873fa",
   "metadata": {},
   "outputs": [],
   "source": [
    "#Generate batch predictions"
   ]
  },
  {
   "cell_type": "code",
   "execution_count": 21,
   "id": "c26f17c4-eba9-46d6-ad83-25856fca91fa",
   "metadata": {
    "tags": []
   },
   "outputs": [
    {
     "data": {
      "application/vnd.jupyter.widget-view+json": {
       "model_id": "6bdbedbb351542d6a1ea2bdadf42fde8",
       "version_major": 2,
       "version_minor": 0
      },
      "text/plain": [
       "Query is running:   0%|          |"
      ]
     },
     "metadata": {},
     "output_type": "display_data"
    },
    {
     "data": {
      "application/vnd.jupyter.widget-view+json": {
       "model_id": "53ef245f00d34b2880164564e6070840",
       "version_major": 2,
       "version_minor": 0
      },
      "text/plain": [
       "Downloading:   0%|          |"
      ]
     },
     "metadata": {},
     "output_type": "display_data"
    },
    {
     "data": {
      "text/html": [
       "<div>\n",
       "<style scoped>\n",
       "    .dataframe tbody tr th:only-of-type {\n",
       "        vertical-align: middle;\n",
       "    }\n",
       "\n",
       "    .dataframe tbody tr th {\n",
       "        vertical-align: top;\n",
       "    }\n",
       "\n",
       "    .dataframe thead th {\n",
       "        text-align: right;\n",
       "    }\n",
       "</style>\n",
       "<table border=\"1\" class=\"dataframe\">\n",
       "  <thead>\n",
       "    <tr style=\"text-align: right;\">\n",
       "      <th></th>\n",
       "      <th>trial_id</th>\n",
       "      <th>predicted_addToCart</th>\n",
       "      <th>predicted_addToCart_probs</th>\n",
       "      <th>unique_id</th>\n",
       "      <th>visitNumber</th>\n",
       "      <th>channelGrouping</th>\n",
       "      <th>device_category</th>\n",
       "      <th>operating_system</th>\n",
       "      <th>traffic_source</th>\n",
       "      <th>traffic_medium</th>\n",
       "      <th>...</th>\n",
       "      <th>number</th>\n",
       "      <th>hitTime</th>\n",
       "      <th>hour</th>\n",
       "      <th>minute</th>\n",
       "      <th>addToCart</th>\n",
       "      <th>hitDayOfWeek</th>\n",
       "      <th>hitHourOfDay</th>\n",
       "      <th>avgPageviewsPerVisit</th>\n",
       "      <th>avgHitsPerVisit</th>\n",
       "      <th>data_split</th>\n",
       "    </tr>\n",
       "  </thead>\n",
       "  <tbody>\n",
       "    <tr>\n",
       "      <th>0</th>\n",
       "      <td>7</td>\n",
       "      <td>1</td>\n",
       "      <td>[{'label': 1, 'prob': 0.5639470815658569}, {'l...</td>\n",
       "      <td>2570254437881194970148563105013</td>\n",
       "      <td>1</td>\n",
       "      <td>Organic Search</td>\n",
       "      <td>desktop</td>\n",
       "      <td>Macintosh</td>\n",
       "      <td>(direct)</td>\n",
       "      <td>(none)</td>\n",
       "      <td>...</td>\n",
       "      <td>13</td>\n",
       "      <td>100547</td>\n",
       "      <td>11</td>\n",
       "      <td>19</td>\n",
       "      <td>0</td>\n",
       "      <td>6</td>\n",
       "      <td>3</td>\n",
       "      <td>10.0</td>\n",
       "      <td>14.0</td>\n",
       "      <td>TEST</td>\n",
       "    </tr>\n",
       "    <tr>\n",
       "      <th>1</th>\n",
       "      <td>7</td>\n",
       "      <td>0</td>\n",
       "      <td>[{'label': 1, 'prob': 0.22843262553215027}, {'...</td>\n",
       "      <td>734752278490108401114856291803</td>\n",
       "      <td>1</td>\n",
       "      <td>Direct</td>\n",
       "      <td>desktop</td>\n",
       "      <td>Windows</td>\n",
       "      <td>(direct)</td>\n",
       "      <td>(none)</td>\n",
       "      <td>...</td>\n",
       "      <td>3</td>\n",
       "      <td>192834</td>\n",
       "      <td>10</td>\n",
       "      <td>49</td>\n",
       "      <td>0</td>\n",
       "      <td>7</td>\n",
       "      <td>5</td>\n",
       "      <td>14.0</td>\n",
       "      <td>14.0</td>\n",
       "      <td>TEST</td>\n",
       "    </tr>\n",
       "    <tr>\n",
       "      <th>2</th>\n",
       "      <td>7</td>\n",
       "      <td>0</td>\n",
       "      <td>[{'label': 1, 'prob': 0.36688387393951416}, {'...</td>\n",
       "      <td>7499601002670852411148566474811</td>\n",
       "      <td>1</td>\n",
       "      <td>Referral</td>\n",
       "      <td>desktop</td>\n",
       "      <td>Macintosh</td>\n",
       "      <td>(direct)</td>\n",
       "      <td>(none)</td>\n",
       "      <td>...</td>\n",
       "      <td>11</td>\n",
       "      <td>231439</td>\n",
       "      <td>20</td>\n",
       "      <td>43</td>\n",
       "      <td>0</td>\n",
       "      <td>7</td>\n",
       "      <td>16</td>\n",
       "      <td>14.0</td>\n",
       "      <td>14.0</td>\n",
       "      <td>TEST</td>\n",
       "    </tr>\n",
       "    <tr>\n",
       "      <th>3</th>\n",
       "      <td>7</td>\n",
       "      <td>0</td>\n",
       "      <td>[{'label': 1, 'prob': 0.25721871852874756}, {'...</td>\n",
       "      <td>411011133624650219514856182242</td>\n",
       "      <td>3</td>\n",
       "      <td>Organic Search</td>\n",
       "      <td>desktop</td>\n",
       "      <td>Windows</td>\n",
       "      <td>(direct)</td>\n",
       "      <td>(none)</td>\n",
       "      <td>...</td>\n",
       "      <td>2</td>\n",
       "      <td>369049</td>\n",
       "      <td>7</td>\n",
       "      <td>49</td>\n",
       "      <td>0</td>\n",
       "      <td>2</td>\n",
       "      <td>6</td>\n",
       "      <td>10.0</td>\n",
       "      <td>14.0</td>\n",
       "      <td>TEST</td>\n",
       "    </tr>\n",
       "    <tr>\n",
       "      <th>4</th>\n",
       "      <td>7</td>\n",
       "      <td>1</td>\n",
       "      <td>[{'label': 1, 'prob': 0.5321716666221619}, {'l...</td>\n",
       "      <td>411011133624650219514856182246</td>\n",
       "      <td>3</td>\n",
       "      <td>Organic Search</td>\n",
       "      <td>desktop</td>\n",
       "      <td>Windows</td>\n",
       "      <td>(direct)</td>\n",
       "      <td>(none)</td>\n",
       "      <td>...</td>\n",
       "      <td>6</td>\n",
       "      <td>1711295</td>\n",
       "      <td>8</td>\n",
       "      <td>12</td>\n",
       "      <td>0</td>\n",
       "      <td>3</td>\n",
       "      <td>19</td>\n",
       "      <td>10.0</td>\n",
       "      <td>14.0</td>\n",
       "      <td>TEST</td>\n",
       "    </tr>\n",
       "    <tr>\n",
       "      <th>...</th>\n",
       "      <td>...</td>\n",
       "      <td>...</td>\n",
       "      <td>...</td>\n",
       "      <td>...</td>\n",
       "      <td>...</td>\n",
       "      <td>...</td>\n",
       "      <td>...</td>\n",
       "      <td>...</td>\n",
       "      <td>...</td>\n",
       "      <td>...</td>\n",
       "      <td>...</td>\n",
       "      <td>...</td>\n",
       "      <td>...</td>\n",
       "      <td>...</td>\n",
       "      <td>...</td>\n",
       "      <td>...</td>\n",
       "      <td>...</td>\n",
       "      <td>...</td>\n",
       "      <td>...</td>\n",
       "      <td>...</td>\n",
       "      <td>...</td>\n",
       "    </tr>\n",
       "    <tr>\n",
       "      <th>29532</th>\n",
       "      <td>7</td>\n",
       "      <td>1</td>\n",
       "      <td>[{'label': 1, 'prob': 0.6482557058334351}, {'l...</td>\n",
       "      <td>496621724472103308514853840848</td>\n",
       "      <td>3</td>\n",
       "      <td>Referral</td>\n",
       "      <td>desktop</td>\n",
       "      <td>Macintosh</td>\n",
       "      <td>(direct)</td>\n",
       "      <td>(none)</td>\n",
       "      <td>...</td>\n",
       "      <td>8</td>\n",
       "      <td>86204</td>\n",
       "      <td>14</td>\n",
       "      <td>42</td>\n",
       "      <td>0</td>\n",
       "      <td>5</td>\n",
       "      <td>23</td>\n",
       "      <td>12.0</td>\n",
       "      <td>19.0</td>\n",
       "      <td>TEST</td>\n",
       "    </tr>\n",
       "    <tr>\n",
       "      <th>29533</th>\n",
       "      <td>7</td>\n",
       "      <td>0</td>\n",
       "      <td>[{'label': 1, 'prob': 0.19023127853870392}, {'...</td>\n",
       "      <td>915505766361040911414853715122</td>\n",
       "      <td>1</td>\n",
       "      <td>Social</td>\n",
       "      <td>desktop</td>\n",
       "      <td>Macintosh</td>\n",
       "      <td>reddit.com</td>\n",
       "      <td>referral</td>\n",
       "      <td>...</td>\n",
       "      <td>2</td>\n",
       "      <td>45818</td>\n",
       "      <td>11</td>\n",
       "      <td>12</td>\n",
       "      <td>0</td>\n",
       "      <td>5</td>\n",
       "      <td>12</td>\n",
       "      <td>17.0</td>\n",
       "      <td>19.0</td>\n",
       "      <td>TEST</td>\n",
       "    </tr>\n",
       "    <tr>\n",
       "      <th>29534</th>\n",
       "      <td>7</td>\n",
       "      <td>1</td>\n",
       "      <td>[{'label': 1, 'prob': 0.5870636105537415}, {'l...</td>\n",
       "      <td>2974605056109531395148540202113</td>\n",
       "      <td>1</td>\n",
       "      <td>Social</td>\n",
       "      <td>desktop</td>\n",
       "      <td>Windows</td>\n",
       "      <td>youtube.com</td>\n",
       "      <td>referral</td>\n",
       "      <td>...</td>\n",
       "      <td>13</td>\n",
       "      <td>488665</td>\n",
       "      <td>19</td>\n",
       "      <td>48</td>\n",
       "      <td>0</td>\n",
       "      <td>3</td>\n",
       "      <td>15</td>\n",
       "      <td>12.0</td>\n",
       "      <td>19.0</td>\n",
       "      <td>TEST</td>\n",
       "    </tr>\n",
       "    <tr>\n",
       "      <th>29535</th>\n",
       "      <td>7</td>\n",
       "      <td>0</td>\n",
       "      <td>[{'label': 1, 'prob': 0.27288222312927246}, {'...</td>\n",
       "      <td>985062273739623871714853670413</td>\n",
       "      <td>1</td>\n",
       "      <td>Direct</td>\n",
       "      <td>mobile</td>\n",
       "      <td>Android</td>\n",
       "      <td>(direct)</td>\n",
       "      <td>(none)</td>\n",
       "      <td>...</td>\n",
       "      <td>3</td>\n",
       "      <td>65172</td>\n",
       "      <td>9</td>\n",
       "      <td>58</td>\n",
       "      <td>0</td>\n",
       "      <td>5</td>\n",
       "      <td>18</td>\n",
       "      <td>16.0</td>\n",
       "      <td>19.0</td>\n",
       "      <td>TEST</td>\n",
       "    </tr>\n",
       "    <tr>\n",
       "      <th>29536</th>\n",
       "      <td>7</td>\n",
       "      <td>0</td>\n",
       "      <td>[{'label': 1, 'prob': 0.47793400287628174}, {'...</td>\n",
       "      <td>4818347831616542050148536213311</td>\n",
       "      <td>1</td>\n",
       "      <td>Organic Search</td>\n",
       "      <td>mobile</td>\n",
       "      <td>Android</td>\n",
       "      <td>(direct)</td>\n",
       "      <td>(none)</td>\n",
       "      <td>...</td>\n",
       "      <td>11</td>\n",
       "      <td>575516</td>\n",
       "      <td>8</td>\n",
       "      <td>45</td>\n",
       "      <td>0</td>\n",
       "      <td>4</td>\n",
       "      <td>15</td>\n",
       "      <td>19.0</td>\n",
       "      <td>19.0</td>\n",
       "      <td>TEST</td>\n",
       "    </tr>\n",
       "  </tbody>\n",
       "</table>\n",
       "<p>29537 rows × 29 columns</p>\n",
       "</div>"
      ],
      "text/plain": [
       "       trial_id  predicted_addToCart  \\\n",
       "0             7                    1   \n",
       "1             7                    0   \n",
       "2             7                    0   \n",
       "3             7                    0   \n",
       "4             7                    1   \n",
       "...         ...                  ...   \n",
       "29532         7                    1   \n",
       "29533         7                    0   \n",
       "29534         7                    1   \n",
       "29535         7                    0   \n",
       "29536         7                    0   \n",
       "\n",
       "                               predicted_addToCart_probs  \\\n",
       "0      [{'label': 1, 'prob': 0.5639470815658569}, {'l...   \n",
       "1      [{'label': 1, 'prob': 0.22843262553215027}, {'...   \n",
       "2      [{'label': 1, 'prob': 0.36688387393951416}, {'...   \n",
       "3      [{'label': 1, 'prob': 0.25721871852874756}, {'...   \n",
       "4      [{'label': 1, 'prob': 0.5321716666221619}, {'l...   \n",
       "...                                                  ...   \n",
       "29532  [{'label': 1, 'prob': 0.6482557058334351}, {'l...   \n",
       "29533  [{'label': 1, 'prob': 0.19023127853870392}, {'...   \n",
       "29534  [{'label': 1, 'prob': 0.5870636105537415}, {'l...   \n",
       "29535  [{'label': 1, 'prob': 0.27288222312927246}, {'...   \n",
       "29536  [{'label': 1, 'prob': 0.47793400287628174}, {'...   \n",
       "\n",
       "                             unique_id  visitNumber channelGrouping  \\\n",
       "0      2570254437881194970148563105013            1  Organic Search   \n",
       "1       734752278490108401114856291803            1          Direct   \n",
       "2      7499601002670852411148566474811            1        Referral   \n",
       "3       411011133624650219514856182242            3  Organic Search   \n",
       "4       411011133624650219514856182246            3  Organic Search   \n",
       "...                                ...          ...             ...   \n",
       "29532   496621724472103308514853840848            3        Referral   \n",
       "29533   915505766361040911414853715122            1          Social   \n",
       "29534  2974605056109531395148540202113            1          Social   \n",
       "29535   985062273739623871714853670413            1          Direct   \n",
       "29536  4818347831616542050148536213311            1  Organic Search   \n",
       "\n",
       "      device_category operating_system traffic_source traffic_medium  ...  \\\n",
       "0             desktop        Macintosh       (direct)         (none)  ...   \n",
       "1             desktop          Windows       (direct)         (none)  ...   \n",
       "2             desktop        Macintosh       (direct)         (none)  ...   \n",
       "3             desktop          Windows       (direct)         (none)  ...   \n",
       "4             desktop          Windows       (direct)         (none)  ...   \n",
       "...               ...              ...            ...            ...  ...   \n",
       "29532         desktop        Macintosh       (direct)         (none)  ...   \n",
       "29533         desktop        Macintosh     reddit.com       referral  ...   \n",
       "29534         desktop          Windows    youtube.com       referral  ...   \n",
       "29535          mobile          Android       (direct)         (none)  ...   \n",
       "29536          mobile          Android       (direct)         (none)  ...   \n",
       "\n",
       "      number  hitTime hour  minute  addToCart  hitDayOfWeek  hitHourOfDay  \\\n",
       "0         13   100547   11      19          0             6             3   \n",
       "1          3   192834   10      49          0             7             5   \n",
       "2         11   231439   20      43          0             7            16   \n",
       "3          2   369049    7      49          0             2             6   \n",
       "4          6  1711295    8      12          0             3            19   \n",
       "...      ...      ...  ...     ...        ...           ...           ...   \n",
       "29532      8    86204   14      42          0             5            23   \n",
       "29533      2    45818   11      12          0             5            12   \n",
       "29534     13   488665   19      48          0             3            15   \n",
       "29535      3    65172    9      58          0             5            18   \n",
       "29536     11   575516    8      45          0             4            15   \n",
       "\n",
       "       avgPageviewsPerVisit  avgHitsPerVisit  data_split  \n",
       "0                      10.0             14.0        TEST  \n",
       "1                      14.0             14.0        TEST  \n",
       "2                      14.0             14.0        TEST  \n",
       "3                      10.0             14.0        TEST  \n",
       "4                      10.0             14.0        TEST  \n",
       "...                     ...              ...         ...  \n",
       "29532                  12.0             19.0        TEST  \n",
       "29533                  17.0             19.0        TEST  \n",
       "29534                  12.0             19.0        TEST  \n",
       "29535                  16.0             19.0        TEST  \n",
       "29536                  19.0             19.0        TEST  \n",
       "\n",
       "[29537 rows x 29 columns]"
      ]
     },
     "execution_count": 21,
     "metadata": {},
     "output_type": "execute_result"
    }
   ],
   "source": [
    "%%bigquery \n",
    "\n",
    "SELECT\n",
    "  *\n",
    "FROM\n",
    "  ML.PREDICT(MODEL asmi_bq.treeclass2,\n",
    "  (SELECT * FROM asmi_bq.wholedata   WHERE data_split = \"TEST\"))"
   ]
  },
  {
   "cell_type": "code",
   "execution_count": 24,
   "id": "673ce931-4368-4fb2-98e3-188bbf26b2ef",
   "metadata": {
    "tags": []
   },
   "outputs": [
    {
     "data": {
      "application/vnd.jupyter.widget-view+json": {
       "model_id": "d9566fcecc0b4e8b8968b60868c7b0bf",
       "version_major": 2,
       "version_minor": 0
      },
      "text/plain": [
       "Query is running:   0%|          |"
      ]
     },
     "metadata": {},
     "output_type": "display_data"
    },
    {
     "data": {
      "text/html": [
       "<div>\n",
       "<style scoped>\n",
       "    .dataframe tbody tr th:only-of-type {\n",
       "        vertical-align: middle;\n",
       "    }\n",
       "\n",
       "    .dataframe tbody tr th {\n",
       "        vertical-align: top;\n",
       "    }\n",
       "\n",
       "    .dataframe thead th {\n",
       "        text-align: right;\n",
       "    }\n",
       "</style>\n",
       "<table border=\"1\" class=\"dataframe\">\n",
       "  <thead>\n",
       "    <tr style=\"text-align: right;\">\n",
       "      <th></th>\n",
       "    </tr>\n",
       "  </thead>\n",
       "  <tbody>\n",
       "  </tbody>\n",
       "</table>\n",
       "</div>"
      ],
      "text/plain": [
       "Empty DataFrame\n",
       "Columns: []\n",
       "Index: []"
      ]
     },
     "execution_count": 24,
     "metadata": {},
     "output_type": "execute_result"
    }
   ],
   "source": [
    "%%bigquery \n",
    "\n",
    "CREATE OR REPLACE TABLE asmi_bq.test_prediction1 AS (\n",
    "SELECT\n",
    "    unique_id,\n",
    "    addToCart,\n",
    "    predicted_addToCart,\n",
    "    predicted_addToCart_probs AS predicted_addToCart_prob\n",
    "FROM\n",
    "  ML.PREDICT(MODEL asmi_bq.treeclass2,\n",
    "  (SELECT * FROM asmi_bq.wholedata))\n",
    ");"
   ]
  },
  {
   "cell_type": "code",
   "execution_count": 25,
   "id": "f3b9e9b4-8539-434d-b3b2-12fad57dd725",
   "metadata": {
    "tags": []
   },
   "outputs": [
    {
     "data": {
      "application/vnd.jupyter.widget-view+json": {
       "model_id": "8d2747942b334f209b6e6bf5a969aac7",
       "version_major": 2,
       "version_minor": 0
      },
      "text/plain": [
       "Query is running:   0%|          |"
      ]
     },
     "metadata": {},
     "output_type": "display_data"
    },
    {
     "data": {
      "application/vnd.jupyter.widget-view+json": {
       "model_id": "d2c0d433d9174d8083e0f759f48dfe00",
       "version_major": 2,
       "version_minor": 0
      },
      "text/plain": [
       "Downloading:   0%|          |"
      ]
     },
     "metadata": {},
     "output_type": "display_data"
    }
   ],
   "source": [
    "%%bigquery prediction_result\n",
    "select * from asmi_bq.test_prediction1"
   ]
  },
  {
   "cell_type": "code",
   "execution_count": 26,
   "id": "d3ae4e46-0f87-4ed3-9640-6b3b5cbfa82a",
   "metadata": {
    "tags": []
   },
   "outputs": [
    {
     "name": "stdout",
     "output_type": "stream",
     "text": [
      "Actual addToCart\n",
      "0    292732\n",
      "1      7342\n",
      "Name: count, dtype: Int64\n",
      "Predicted predicted_addToCart\n",
      "0    174089\n",
      "1    125985\n",
      "Name: count, dtype: Int64\n"
     ]
    }
   ],
   "source": [
    "print('Actual', prediction_result['addToCart'].value_counts())\n",
    "print('Predicted',prediction_result['predicted_addToCart'].value_counts())"
   ]
  },
  {
   "cell_type": "code",
   "execution_count": 27,
   "id": "20710129-c871-4d53-b885-d68aef860c29",
   "metadata": {
    "tags": []
   },
   "outputs": [
    {
     "name": "stdout",
     "output_type": "stream",
     "text": [
      "Recall: 0.9489239989103786\n",
      "Precision: 0.055300234154859705\n",
      "Accuracy: 0.6021214767024134\n",
      "F1 Score: 0.10450996422330061\n",
      "ROC AUC Score: 0.7711736674655196\n"
     ]
    }
   ],
   "source": [
    "from sklearn.metrics import recall_score, precision_score, accuracy_score, f1_score, roc_auc_score\n",
    "\n",
    "actual = prediction_result['addToCart']\n",
    "predicted = prediction_result['predicted_addToCart']\n",
    "\n",
    "# Calculate recall\n",
    "recall = recall_score(actual, predicted)\n",
    "\n",
    "# Calculate precision\n",
    "precision = precision_score(actual, predicted)\n",
    "\n",
    "# Calculate accuracy\n",
    "accuracy = accuracy_score(actual, predicted)\n",
    "\n",
    "# Calculate F1 score\n",
    "f1 = f1_score(actual, predicted)\n",
    "\n",
    "# Calculate ROC AUC score\n",
    "roc_auc = roc_auc_score(actual, predicted)\n",
    "\n",
    "# Print the metrics\n",
    "print('Recall:', recall)\n",
    "print('Precision:', precision)\n",
    "print('Accuracy:', accuracy)\n",
    "print('F1 Score:', f1)\n",
    "print('ROC AUC Score:', roc_auc)"
   ]
  },
  {
   "cell_type": "code",
   "execution_count": null,
   "id": "fa3f3778-687d-48d8-82f5-97fa387b76d1",
   "metadata": {},
   "outputs": [],
   "source": [
    "### Export BQML model to GCS"
   ]
  },
  {
   "cell_type": "code",
   "execution_count": 28,
   "id": "b14af4b7-a17c-4794-9bc0-0896af7896bb",
   "metadata": {},
   "outputs": [],
   "source": [
    "BQ_MODEL = f\"{BQ_DATASET}.{MODEL_NAME}\"\n",
    "BQ_MODEL_EXPORT_DIR = f\"gs://{GCS_BUCKET}/{MODEL_NAME}\""
   ]
  },
  {
   "cell_type": "code",
   "execution_count": 29,
   "id": "0b3561a6-de6a-41c6-88f2-3ab0878b5b28",
   "metadata": {},
   "outputs": [
    {
     "name": "stdout",
     "output_type": "stream",
     "text": [
      "Waiting on bqjob_r57a47ca4b0cc5950_0000018dc3b7915f_1 ... (5s) Current status: DONE   \n"
     ]
    }
   ],
   "source": [
    "!bq --location=$BQ_LOCATION extract \\\n",
    "--destination_format ML_XGBOOST_BOOSTER \\\n",
    "--model $BQ_MODEL \\\n",
    "$BQ_MODEL_EXPORT_DIR"
   ]
  },
  {
   "cell_type": "code",
   "execution_count": 30,
   "id": "84d1f040-f486-44d4-9235-f071ef85e536",
   "metadata": {},
   "outputs": [],
   "source": [
    "IMAGE_URI='us-docker.pkg.dev/vertex-ai/prediction/xgboost-cpu.1-4:latest'"
   ]
  },
  {
   "cell_type": "code",
   "execution_count": 49,
   "id": "361d2888-fe46-4682-b8c7-f80b8da929aa",
   "metadata": {
    "tags": []
   },
   "outputs": [],
   "source": [
    "from google.cloud import bigquery\n",
    "from google.cloud import aiplatform as vertexai\n",
    "import pandas as pd"
   ]
  },
  {
   "cell_type": "code",
   "execution_count": 32,
   "id": "de837bc8-cf5d-4517-b2f2-db2ad7c5e7be",
   "metadata": {},
   "outputs": [
    {
     "name": "stdout",
     "output_type": "stream",
     "text": [
      "Creating Model\n",
      "Create Model backing LRO: projects/319407066227/locations/us-central1/models/3665576053935439872/operations/5430215285061713920\n",
      "Model created. Resource name: projects/319407066227/locations/us-central1/models/3665576053935439872@1\n",
      "To use this Model in another session:\n",
      "model = aiplatform.Model('projects/319407066227/locations/us-central1/models/3665576053935439872@1')\n"
     ]
    }
   ],
   "source": [
    "model = vertexai.Model.upload(\n",
    "    display_name=MODEL_NAME,\n",
    "    artifact_uri=BQ_MODEL_EXPORT_DIR,\n",
    "    serving_container_image_uri=IMAGE_URI,\n",
    ")"
   ]
  },
  {
   "cell_type": "code",
   "execution_count": 33,
   "id": "b9f6625c-a224-4955-bf95-3c3295e7178c",
   "metadata": {
    "tags": []
   },
   "outputs": [
    {
     "name": "stdout",
     "output_type": "stream",
     "text": [
      "Creating Endpoint\n",
      "Create Endpoint backing LRO: projects/319407066227/locations/us-central1/endpoints/8500361777731600384/operations/819655166541168640\n",
      "Endpoint created. Resource name: projects/319407066227/locations/us-central1/endpoints/8500361777731600384\n",
      "To use this Endpoint in another session:\n",
      "endpoint = aiplatform.Endpoint('projects/319407066227/locations/us-central1/endpoints/8500361777731600384')\n",
      "Deploying model to Endpoint : projects/319407066227/locations/us-central1/endpoints/8500361777731600384\n",
      "Deploy Endpoint model backing LRO: projects/319407066227/locations/us-central1/endpoints/8500361777731600384/operations/2938598791218987008\n",
      "Endpoint model deployed. Resource name: projects/319407066227/locations/us-central1/endpoints/8500361777731600384\n"
     ]
    }
   ],
   "source": [
    "endpoint = model.deploy(\n",
    "    traffic_split={\"0\": 100},\n",
    "    machine_type=\"e2-standard-2\",\n",
    ")"
   ]
  },
  {
   "cell_type": "code",
   "execution_count": 85,
   "id": "8f2eef31-a4a9-4c8c-891c-7883fdff6230",
   "metadata": {
    "tags": []
   },
   "outputs": [
    {
     "data": {
      "application/vnd.jupyter.widget-view+json": {
       "model_id": "2d3a959cbcac4b57ab2c6a0fa0336765",
       "version_major": 2,
       "version_minor": 0
      },
      "text/plain": [
       "Query is running:   0%|          |"
      ]
     },
     "metadata": {},
     "output_type": "display_data"
    },
    {
     "data": {
      "application/vnd.jupyter.widget-view+json": {
       "model_id": "551d385920ce41698c1a6b42c685bb00",
       "version_major": 2,
       "version_minor": 0
      },
      "text/plain": [
       "Downloading:   0%|          |"
      ]
     },
     "metadata": {},
     "output_type": "display_data"
    }
   ],
   "source": [
    "%%bigquery data_df --project $PROJECT_ID\n",
    "\n",
    "SELECT * \n",
    "FROM asmi_bq.wholedata"
   ]
  },
  {
   "cell_type": "code",
   "execution_count": 86,
   "id": "0bb1eb9e-9e96-4748-9ca1-fc390eee4f3f",
   "metadata": {
    "tags": []
   },
   "outputs": [
    {
     "name": "stdout",
     "output_type": "stream",
     "text": [
      "<class 'pandas.core.frame.DataFrame'>\n",
      "RangeIndex: 300074 entries, 0 to 300073\n",
      "Data columns (total 26 columns):\n",
      " #   Column                 Non-Null Count   Dtype  \n",
      "---  ------                 --------------   -----  \n",
      " 0   unique_id              300074 non-null  object \n",
      " 1   visitNumber            300074 non-null  Int64  \n",
      " 2   channelGrouping        300074 non-null  object \n",
      " 3   device_category        300074 non-null  object \n",
      " 4   operating_system       300074 non-null  object \n",
      " 5   traffic_source         300074 non-null  object \n",
      " 6   traffic_medium         300074 non-null  object \n",
      " 7   traffic_campaign       300074 non-null  object \n",
      " 8   country                300074 non-null  object \n",
      " 9   city                   300074 non-null  object \n",
      " 10  bounces                300074 non-null  Int64  \n",
      " 11  hits                   300074 non-null  Int64  \n",
      " 12  newVisits              300074 non-null  Int64  \n",
      " 13  time_on_site           300074 non-null  Int64  \n",
      " 14  visits                 300074 non-null  Int64  \n",
      " 15  pageviews_per_session  300074 non-null  Int64  \n",
      " 16  number                 300074 non-null  Int64  \n",
      " 17  hitTime                300074 non-null  Int64  \n",
      " 18  hour                   300074 non-null  Int64  \n",
      " 19  minute                 300074 non-null  Int64  \n",
      " 20  addToCart              300074 non-null  Int64  \n",
      " 21  hitDayOfWeek           300074 non-null  Int64  \n",
      " 22  hitHourOfDay           300074 non-null  Int64  \n",
      " 23  avgPageviewsPerVisit   300074 non-null  float64\n",
      " 24  avgHitsPerVisit        300074 non-null  float64\n",
      " 25  data_split             300074 non-null  object \n",
      "dtypes: Int64(14), float64(2), object(10)\n",
      "memory usage: 63.5+ MB\n"
     ]
    }
   ],
   "source": [
    "data_df.info()\n"
   ]
  },
  {
   "cell_type": "code",
   "execution_count": 87,
   "id": "b4a93a05-01d3-4189-9172-41096a6114f0",
   "metadata": {
    "tags": []
   },
   "outputs": [],
   "source": [
    "categorical_features=data_df.select_dtypes(include=['object'])\n",
    "exclude_columns = ['unique_id', 'data_split']\n",
    "categorical_features = categorical_features.drop(columns=exclude_columns, errors='ignore')"
   ]
  },
  {
   "cell_type": "code",
   "execution_count": 88,
   "id": "4051ffc3-7ae8-42b6-8d3b-ec63823f4f22",
   "metadata": {
    "tags": []
   },
   "outputs": [
    {
     "data": {
      "text/html": [
       "<div>\n",
       "<style scoped>\n",
       "    .dataframe tbody tr th:only-of-type {\n",
       "        vertical-align: middle;\n",
       "    }\n",
       "\n",
       "    .dataframe tbody tr th {\n",
       "        vertical-align: top;\n",
       "    }\n",
       "\n",
       "    .dataframe thead th {\n",
       "        text-align: right;\n",
       "    }\n",
       "</style>\n",
       "<table border=\"1\" class=\"dataframe\">\n",
       "  <thead>\n",
       "    <tr style=\"text-align: right;\">\n",
       "      <th></th>\n",
       "      <th>channelGrouping</th>\n",
       "      <th>device_category</th>\n",
       "      <th>operating_system</th>\n",
       "      <th>traffic_source</th>\n",
       "      <th>traffic_medium</th>\n",
       "      <th>traffic_campaign</th>\n",
       "      <th>country</th>\n",
       "      <th>city</th>\n",
       "    </tr>\n",
       "  </thead>\n",
       "  <tbody>\n",
       "    <tr>\n",
       "      <th>0</th>\n",
       "      <td>Referral</td>\n",
       "      <td>desktop</td>\n",
       "      <td>Linux</td>\n",
       "      <td>(direct)</td>\n",
       "      <td>(none)</td>\n",
       "      <td>(not set)</td>\n",
       "      <td>Israel</td>\n",
       "      <td>not available in demo dataset</td>\n",
       "    </tr>\n",
       "    <tr>\n",
       "      <th>1</th>\n",
       "      <td>Organic Search</td>\n",
       "      <td>desktop</td>\n",
       "      <td>Windows</td>\n",
       "      <td>google</td>\n",
       "      <td>organic</td>\n",
       "      <td>(not set)</td>\n",
       "      <td>New Zealand</td>\n",
       "      <td>not available in demo dataset</td>\n",
       "    </tr>\n",
       "    <tr>\n",
       "      <th>2</th>\n",
       "      <td>Affiliates</td>\n",
       "      <td>desktop</td>\n",
       "      <td>Windows</td>\n",
       "      <td>Partners</td>\n",
       "      <td>affiliate</td>\n",
       "      <td>Data Share Promo</td>\n",
       "      <td>Germany</td>\n",
       "      <td>not available in demo dataset</td>\n",
       "    </tr>\n",
       "    <tr>\n",
       "      <th>3</th>\n",
       "      <td>Affiliates</td>\n",
       "      <td>desktop</td>\n",
       "      <td>Windows</td>\n",
       "      <td>Partners</td>\n",
       "      <td>affiliate</td>\n",
       "      <td>Data Share Promo</td>\n",
       "      <td>Germany</td>\n",
       "      <td>not available in demo dataset</td>\n",
       "    </tr>\n",
       "    <tr>\n",
       "      <th>4</th>\n",
       "      <td>Social</td>\n",
       "      <td>desktop</td>\n",
       "      <td>Macintosh</td>\n",
       "      <td>reddit.com</td>\n",
       "      <td>referral</td>\n",
       "      <td>(not set)</td>\n",
       "      <td>United States</td>\n",
       "      <td>not available in demo dataset</td>\n",
       "    </tr>\n",
       "    <tr>\n",
       "      <th>...</th>\n",
       "      <td>...</td>\n",
       "      <td>...</td>\n",
       "      <td>...</td>\n",
       "      <td>...</td>\n",
       "      <td>...</td>\n",
       "      <td>...</td>\n",
       "      <td>...</td>\n",
       "      <td>...</td>\n",
       "    </tr>\n",
       "    <tr>\n",
       "      <th>300069</th>\n",
       "      <td>Direct</td>\n",
       "      <td>desktop</td>\n",
       "      <td>Android</td>\n",
       "      <td>(direct)</td>\n",
       "      <td>(none)</td>\n",
       "      <td>(not set)</td>\n",
       "      <td>Belgium</td>\n",
       "      <td>not available in demo dataset</td>\n",
       "    </tr>\n",
       "    <tr>\n",
       "      <th>300070</th>\n",
       "      <td>Organic Search</td>\n",
       "      <td>desktop</td>\n",
       "      <td>Windows</td>\n",
       "      <td>(direct)</td>\n",
       "      <td>(none)</td>\n",
       "      <td>(not set)</td>\n",
       "      <td>United States</td>\n",
       "      <td>not available in demo dataset</td>\n",
       "    </tr>\n",
       "    <tr>\n",
       "      <th>300071</th>\n",
       "      <td>Direct</td>\n",
       "      <td>desktop</td>\n",
       "      <td>Macintosh</td>\n",
       "      <td>(direct)</td>\n",
       "      <td>(none)</td>\n",
       "      <td>(not set)</td>\n",
       "      <td>United Kingdom</td>\n",
       "      <td>London</td>\n",
       "    </tr>\n",
       "    <tr>\n",
       "      <th>300072</th>\n",
       "      <td>Direct</td>\n",
       "      <td>mobile</td>\n",
       "      <td>iOS</td>\n",
       "      <td>(direct)</td>\n",
       "      <td>(none)</td>\n",
       "      <td>(not set)</td>\n",
       "      <td>France</td>\n",
       "      <td>not available in demo dataset</td>\n",
       "    </tr>\n",
       "    <tr>\n",
       "      <th>300073</th>\n",
       "      <td>Direct</td>\n",
       "      <td>tablet</td>\n",
       "      <td>iOS</td>\n",
       "      <td>(direct)</td>\n",
       "      <td>(none)</td>\n",
       "      <td>(not set)</td>\n",
       "      <td>United States</td>\n",
       "      <td>not available in demo dataset</td>\n",
       "    </tr>\n",
       "  </tbody>\n",
       "</table>\n",
       "<p>300074 rows × 8 columns</p>\n",
       "</div>"
      ],
      "text/plain": [
       "       channelGrouping device_category operating_system traffic_source  \\\n",
       "0             Referral         desktop            Linux       (direct)   \n",
       "1       Organic Search         desktop          Windows         google   \n",
       "2           Affiliates         desktop          Windows       Partners   \n",
       "3           Affiliates         desktop          Windows       Partners   \n",
       "4               Social         desktop        Macintosh     reddit.com   \n",
       "...                ...             ...              ...            ...   \n",
       "300069          Direct         desktop          Android       (direct)   \n",
       "300070  Organic Search         desktop          Windows       (direct)   \n",
       "300071          Direct         desktop        Macintosh       (direct)   \n",
       "300072          Direct          mobile              iOS       (direct)   \n",
       "300073          Direct          tablet              iOS       (direct)   \n",
       "\n",
       "       traffic_medium  traffic_campaign         country  \\\n",
       "0              (none)         (not set)          Israel   \n",
       "1             organic         (not set)     New Zealand   \n",
       "2           affiliate  Data Share Promo         Germany   \n",
       "3           affiliate  Data Share Promo         Germany   \n",
       "4            referral         (not set)   United States   \n",
       "...               ...               ...             ...   \n",
       "300069         (none)         (not set)         Belgium   \n",
       "300070         (none)         (not set)   United States   \n",
       "300071         (none)         (not set)  United Kingdom   \n",
       "300072         (none)         (not set)          France   \n",
       "300073         (none)         (not set)   United States   \n",
       "\n",
       "                                 city  \n",
       "0       not available in demo dataset  \n",
       "1       not available in demo dataset  \n",
       "2       not available in demo dataset  \n",
       "3       not available in demo dataset  \n",
       "4       not available in demo dataset  \n",
       "...                               ...  \n",
       "300069  not available in demo dataset  \n",
       "300070  not available in demo dataset  \n",
       "300071                         London  \n",
       "300072  not available in demo dataset  \n",
       "300073  not available in demo dataset  \n",
       "\n",
       "[300074 rows x 8 columns]"
      ]
     },
     "execution_count": 88,
     "metadata": {},
     "output_type": "execute_result"
    }
   ],
   "source": [
    "categorical_features"
   ]
  },
  {
   "cell_type": "code",
   "execution_count": 89,
   "id": "9c01e44a-ac7c-41ce-a376-cd44550cc803",
   "metadata": {
    "tags": []
   },
   "outputs": [],
   "source": [
    "from sklearn.preprocessing import OrdinalEncoder"
   ]
  },
  {
   "cell_type": "code",
   "execution_count": 90,
   "id": "47b640ac-34d3-461d-a756-b938c479a6b3",
   "metadata": {
    "tags": []
   },
   "outputs": [],
   "source": [
    "def _build_cat_feature_encoders(cat_feature_list, gcs_bucket, model_name, na_value='Unknown'):\n",
    "\n",
    "    \n",
    "    feature_encoders = {}\n",
    "    \n",
    "    for idx, feature in enumerate(cat_feature_list):\n",
    "        feature_encoder = OrdinalEncoder(handle_unknown=\"use_encoded_value\", unknown_value=-1)\n",
    "        feature_vocab_file = f\"gs://{gcs_bucket}/{model_name}/assets/{idx}_categorical_label.txt\"\n",
    "        feature_vocab_df = pd.read_csv(feature_vocab_file, delimiter = \"\\t\", header=None).fillna(na_value)\n",
    "        feature_encoder.fit(feature_vocab_df.values)\n",
    "        feature_encoders[feature] = feature_encoder\n",
    "    \n",
    "    return feature_encoders"
   ]
  },
  {
   "cell_type": "code",
   "execution_count": 91,
   "id": "edd40c8d-319a-4fd8-a66d-5d6587ccf5cc",
   "metadata": {
    "tags": []
   },
   "outputs": [],
   "source": [
    "def preprocess_xgboost(instances, cat_feature_list, feature_encoders):\n",
    "  \n",
    "    transformed_instances = []\n",
    "    \n",
    "    for instance in instances:\n",
    "        for feature in cat_feature_list:\n",
    "            feature_int = feature_encoders[feature].transform([[instance[feature]]]).item()\n",
    "            instance[feature] = feature_int\n",
    "            instance_list = list(instance.values())\n",
    "        transformed_instances.append(instance_list)\n",
    "\n",
    "    return transformed_instances"
   ]
  },
  {
   "cell_type": "code",
   "execution_count": 69,
   "id": "867c160c-6084-49ce-bd9b-ca3c9524ea7a",
   "metadata": {
    "tags": []
   },
   "outputs": [],
   "source": [
    "feature_encoders = _build_cat_feature_encoders(categorical_features, GCS_BUCKET, MODEL_NAME)"
   ]
  },
  {
   "cell_type": "code",
   "execution_count": 92,
   "id": "723bdc2c-a2a9-482c-8a5d-3f153057df35",
   "metadata": {
    "tags": []
   },
   "outputs": [
    {
     "data": {
      "application/vnd.jupyter.widget-view+json": {
       "model_id": "0dae8f1997ad4623a746ef1f48c62d36",
       "version_major": 2,
       "version_minor": 0
      },
      "text/plain": [
       "Query is running:   0%|          |"
      ]
     },
     "metadata": {},
     "output_type": "display_data"
    },
    {
     "data": {
      "application/vnd.jupyter.widget-view+json": {
       "model_id": "91161e0f464b4506adfd61a98cf3d39c",
       "version_major": 2,
       "version_minor": 0
      },
      "text/plain": [
       "Downloading:   0%|          |"
      ]
     },
     "metadata": {},
     "output_type": "display_data"
    }
   ],
   "source": [
    "%%bigquery test_df --project $PROJECT_ID \n",
    "\n",
    "SELECT* EXCEPT (unique_id, addToCart, data_split)\n",
    "FROM asmi_bq.wholedata\n",
    "WHERE data_split=\"TEST\"\n",
    "LIMIT 3;"
   ]
  },
  {
   "cell_type": "code",
   "execution_count": 93,
   "id": "cd06c3e7-4cb0-4c80-891d-ed9433592fc6",
   "metadata": {
    "tags": []
   },
   "outputs": [],
   "source": [
    "test_instances = test_df.astype(str).to_dict(orient='records')"
   ]
  },
  {
   "cell_type": "code",
   "execution_count": 94,
   "id": "3eecb0f2-5b97-4228-a5b5-76c759f8b3ad",
   "metadata": {
    "tags": []
   },
   "outputs": [],
   "source": [
    "# Apply preprocessing to transform categorical features and return numerical instances for prediction.\n",
    "transformed_test_instances = preprocess_xgboost(test_instances, categorical_features, feature_encoders)"
   ]
  },
  {
   "cell_type": "code",
   "execution_count": 95,
   "id": "53046a0a-debc-42b2-84df-590fcbcab08e",
   "metadata": {
    "tags": []
   },
   "outputs": [],
   "source": [
    "# Generate predictions from model deployed to Vertex AI Endpoint.\n",
    "predictions = endpoint.predict(instances=transformed_test_instances)"
   ]
  },
  {
   "cell_type": "code",
   "execution_count": 98,
   "id": "ab6cb8e0-fc58-4975-8948-0a8db1e40dc8",
   "metadata": {
    "tags": []
   },
   "outputs": [
    {
     "name": "stdout",
     "output_type": "stream",
     "text": [
      "Prediction: Customer 0 - addToCart [0.5677937269210815, 0.4322063028812408]\n",
      "{\"visitNumber\":\"1\",\"channelGrouping\":\"Paid Search\",\"device_category\":\"desktop\",\"operating_system\":\"Windows\",\"traffic_source\":\"(direct)\",\"traffic_medium\":\"(none)\",\"traffic_campaign\":\"(not set)\",\"country\":\"United States\",\"city\":\"not available in demo dataset\",\"bounces\":\"0\",\"hits\":\"16\",\"newVisits\":\"1\",\"time_on_site\":\"609\",\"visits\":\"1\",\"pageviews_per_session\":\"11\",\"number\":\"6\",\"hitTime\":\"56627\",\"hour\":\"19\",\"minute\":\"53\",\"hitDayOfWeek\":\"5\",\"hitHourOfDay\":\"15\",\"avgPageviewsPerVisit\":\"11.0\",\"avgHitsPerVisit\":\"16.0\"}\n",
      "\n",
      "Prediction: Customer 1 - addToCart [0.5677937269210815, 0.4322063028812408]\n",
      "{\"visitNumber\":\"1\",\"channelGrouping\":\"Paid Search\",\"device_category\":\"desktop\",\"operating_system\":\"Windows\",\"traffic_source\":\"(direct)\",\"traffic_medium\":\"(none)\",\"traffic_campaign\":\"(not set)\",\"country\":\"United States\",\"city\":\"not available in demo dataset\",\"bounces\":\"0\",\"hits\":\"16\",\"newVisits\":\"1\",\"time_on_site\":\"609\",\"visits\":\"1\",\"pageviews_per_session\":\"11\",\"number\":\"12\",\"hitTime\":\"100568\",\"hour\":\"19\",\"minute\":\"53\",\"hitDayOfWeek\":\"6\",\"hitHourOfDay\":\"3\",\"avgPageviewsPerVisit\":\"11.0\",\"avgHitsPerVisit\":\"16.0\"}\n",
      "\n",
      "Prediction: Customer 2 - Not addToCart [0.4870096147060394, 0.512990415096283]\n",
      "{\"visitNumber\":\"1\",\"channelGrouping\":\"Direct\",\"device_category\":\"desktop\",\"operating_system\":\"Windows\",\"traffic_source\":\"(direct)\",\"traffic_medium\":\"(none)\",\"traffic_campaign\":\"(not set)\",\"country\":\"United States\",\"city\":\"not available in demo dataset\",\"bounces\":\"0\",\"hits\":\"16\",\"newVisits\":\"1\",\"time_on_site\":\"370\",\"visits\":\"1\",\"pageviews_per_session\":\"14\",\"number\":\"10\",\"hitTime\":\"173511\",\"hour\":\"7\",\"minute\":\"12\",\"hitDayOfWeek\":\"7\",\"hitHourOfDay\":\"0\",\"avgPageviewsPerVisit\":\"14.0\",\"avgHitsPerVisit\":\"16.0\"}\n",
      "\n"
     ]
    }
   ],
   "source": [
    "for idx, prediction in enumerate(predictions.predictions):\n",
    "    # Class labels [1,0] retrieved from model_metadata.json in GCS model dir.\n",
    "    # BQML binary classification default is 0.5 with above \"is_added\" and below \"Not added\".\n",
    "    is_added = \"addToCart\" if prediction[0] >= 0.5 else \"Not addToCart\"\n",
    "    print(f\"Prediction: Customer {idx} - {is_added} {prediction}\")\n",
    "    print(test_df.iloc[idx].astype(str).to_json() + \"\\n\")"
   ]
  },
  {
   "cell_type": "code",
   "execution_count": null,
   "id": "9bfd5c30-74de-4273-8653-3fa7abc453f5",
   "metadata": {},
   "outputs": [],
   "source": []
  }
 ],
 "metadata": {
  "environment": {
   "kernel": "conda-root-py",
   "name": "workbench-notebooks.m115",
   "type": "gcloud",
   "uri": "gcr.io/deeplearning-platform-release/workbench-notebooks:m115"
  },
  "kernelspec": {
   "display_name": "Python 3 (ipykernel) (Local)",
   "language": "python",
   "name": "conda-root-py"
  },
  "language_info": {
   "codemirror_mode": {
    "name": "ipython",
    "version": 3
   },
   "file_extension": ".py",
   "mimetype": "text/x-python",
   "name": "python",
   "nbconvert_exporter": "python",
   "pygments_lexer": "ipython3",
   "version": "3.10.13"
  }
 },
 "nbformat": 4,
 "nbformat_minor": 5
}
