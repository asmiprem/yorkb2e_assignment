{
 "cells": [
  {
   "cell_type": "markdown",
   "metadata": {},
   "source": []
  },
  {
   "cell_type": "markdown",
   "metadata": {},
   "source": [
    "# List Comprehension\n",
    "1. Get all integers out of a list of numbers, e.x. [1,2.5,100.3,3.0,-1.5,-5]\n",
    "2. Find all numbers from 1-1000 that have a 3 in them.\n",
    "3. Count the number of alphabetic characters in a string (a-z, lower case or upper case)\n",
    "4. [Challenge - requires nesting] - Find all numbers between 1-1000 that are not divisble by any number between 2 and 9.\n"
   ]
  },
  {
   "cell_type": "code",
   "execution_count": 19,
   "metadata": {},
   "outputs": [
    {
     "name": "stdout",
     "output_type": "stream",
     "text": [
      "[1, -5]\n"
     ]
    }
   ],
   "source": [
    "# Get all integers out of a list of numbers, e.x. [1,2.5,100.3,3.0,-1.5,-5]\n",
    "listNumbers = [1, 2.5, 100.3, 3.0, -1.5, -5]\n",
    "intList = [num for num in listNumbers if isinstance(num, int)]\n",
    "print(intList)"
   ]
  },
  {
   "cell_type": "code",
   "execution_count": 11,
   "metadata": {},
   "outputs": [
    {
     "name": "stdout",
     "output_type": "stream",
     "text": [
      "['3', '13', '23', '30', '31', '32', '33', '34', '35', '36', '37', '38', '39', '43', '53', '63', '73', '83', '93', '103', '113', '123', '130', '131', '132', '133', '134', '135', '136', '137', '138', '139', '143', '153', '163', '173', '183', '193', '203', '213', '223', '230', '231', '232', '233', '234', '235', '236', '237', '238', '239', '243', '253', '263', '273', '283', '293', '300', '301', '302', '303', '304', '305', '306', '307', '308', '309', '310', '311', '312', '313', '314', '315', '316', '317', '318', '319', '320', '321', '322', '323', '324', '325', '326', '327', '328', '329', '330', '331', '332', '333', '334', '335', '336', '337', '338', '339', '340', '341', '342', '343', '344', '345', '346', '347', '348', '349', '350', '351', '352', '353', '354', '355', '356', '357', '358', '359', '360', '361', '362', '363', '364', '365', '366', '367', '368', '369', '370', '371', '372', '373', '374', '375', '376', '377', '378', '379', '380', '381', '382', '383', '384', '385', '386', '387', '388', '389', '390', '391', '392', '393', '394', '395', '396', '397', '398', '399', '403', '413', '423', '430', '431', '432', '433', '434', '435', '436', '437', '438', '439', '443', '453', '463', '473', '483', '493', '503', '513', '523', '530', '531', '532', '533', '534', '535', '536', '537', '538', '539', '543', '553', '563', '573', '583', '593', '603', '613', '623', '630', '631', '632', '633', '634', '635', '636', '637', '638', '639', '643', '653', '663', '673', '683', '693', '703', '713', '723', '730', '731', '732', '733', '734', '735', '736', '737', '738', '739', '743', '753', '763', '773', '783', '793', '803', '813', '823', '830', '831', '832', '833', '834', '835', '836', '837', '838', '839', '843', '853', '863', '873', '883', '893', '903', '913', '923', '930', '931', '932', '933', '934', '935', '936', '937', '938', '939', '943', '953', '963', '973', '983', '993']\n"
     ]
    }
   ],
   "source": [
    "# Find all numbers from 1-1000 that have a 3 in them\n",
    "threeNumber=[]\n",
    "for num in range(1, 1000):\n",
    "    num=str(num)\n",
    "    if \"3\" in num:\n",
    "        threeNumber.append(num)\n",
    "print(threeNumber)\n",
    "\n",
    "        "
   ]
  },
  {
   "cell_type": "code",
   "execution_count": 14,
   "metadata": {},
   "outputs": [
    {
     "name": "stdout",
     "output_type": "stream",
     "text": [
      "17\n"
     ]
    }
   ],
   "source": [
    "#Count the number of alphabetic characters in a string (a-z, lower case or upper case)\n",
    "import string\n",
    "content=\"how are you 123 321password\"\n",
    "count=0\n",
    "for char in content:\n",
    "    if char in string.ascii_lowercase or char in string.ascii_letters:\n",
    "        count=count+len(char)\n",
    "print(count)"
   ]
  },
  {
   "cell_type": "code",
   "execution_count": 175,
   "metadata": {},
   "outputs": [
    {
     "name": "stdout",
     "output_type": "stream",
     "text": [
      "[1, 11, 13, 17, 19, 23, 29, 31, 37, 41, 43, 47, 53, 59, 61, 67, 71, 73, 79, 83, 89, 97, 101, 103, 107, 109, 113, 121, 127, 131, 137, 139, 143, 149, 151, 157, 163, 167, 169, 173, 179, 181, 187, 191, 193, 197, 199, 209, 211, 221, 223, 227, 229, 233, 239, 241, 247, 251, 253, 257, 263, 269, 271, 277, 281, 283, 289, 293, 299, 307, 311, 313, 317, 319, 323, 331, 337, 341, 347, 349, 353, 359, 361, 367, 373, 377, 379, 383, 389, 391, 397, 401, 403, 407, 409, 419, 421, 431, 433, 437, 439, 443, 449, 451, 457, 461, 463, 467, 473, 479, 481, 487, 491, 493, 499, 503, 509, 517, 521, 523, 527, 529, 533, 541, 547, 551, 557, 559, 563, 569, 571, 577, 583, 587, 589, 593, 599, 601, 607, 611, 613, 617, 619, 629, 631, 641, 643, 647, 649, 653, 659, 661, 667, 671, 673, 677, 683, 689, 691, 697, 701, 703, 709, 713, 719, 727, 731, 733, 737, 739, 743, 751, 757, 761, 767, 769, 773, 779, 781, 787, 793, 797, 799, 803, 809, 811, 817, 821, 823, 827, 829, 839, 841, 851, 853, 857, 859, 863, 869, 871, 877, 881, 883, 887, 893, 899, 901, 907, 911, 913, 919, 923, 929, 937, 941, 943, 947, 949, 953, 961, 967, 971, 977, 979, 983, 989, 991, 997, 1003, 1007, 1009, 1013, 1019, 1021, 1027, 1031, 1033, 1037, 1039, 1049, 1051, 1061, 1063, 1067, 1069, 1073, 1079, 1081, 1087, 1091, 1093, 1097, 1103, 1109, 1111, 1117, 1121, 1123, 1129, 1133, 1139, 1147, 1151, 1153, 1157, 1159, 1163, 1171, 1177, 1181, 1187, 1189, 1193, 1199, 1201, 1207, 1213, 1217, 1219, 1223, 1229, 1231, 1237, 1241, 1243, 1247, 1249, 1259, 1261, 1271, 1273, 1277, 1279, 1283, 1289, 1291, 1297, 1301, 1303, 1307, 1313, 1319, 1321, 1327, 1331, 1333, 1339, 1343, 1349, 1357, 1361, 1363, 1367, 1369, 1373, 1381, 1387, 1391, 1397, 1399, 1403, 1409, 1411, 1417, 1423, 1427, 1429, 1433, 1439, 1441, 1447, 1451, 1453, 1457, 1459, 1469, 1471, 1481, 1483, 1487, 1489, 1493, 1499, 1501, 1507, 1511, 1513, 1517, 1523, 1529, 1531, 1537, 1541, 1543, 1549, 1553, 1559, 1567, 1571, 1573, 1577, 1579, 1583, 1591, 1597, 1601, 1607, 1609, 1613, 1619, 1621, 1627, 1633, 1637, 1639, 1643, 1649, 1651, 1657, 1661, 1663, 1667, 1669, 1679, 1681, 1691, 1693, 1697, 1699, 1703, 1709, 1711, 1717, 1721, 1723, 1727, 1733, 1739, 1741, 1747, 1751, 1753, 1759, 1763, 1769, 1777, 1781, 1783, 1787, 1789, 1793, 1801, 1807, 1811, 1817, 1819, 1823, 1829, 1831, 1837, 1843, 1847, 1849, 1853, 1859, 1861, 1867, 1871, 1873, 1877, 1879, 1889, 1891, 1901, 1903, 1907, 1909, 1913, 1919, 1921, 1927, 1931, 1933, 1937, 1943, 1949, 1951, 1957, 1961, 1963, 1969, 1973, 1979, 1987, 1991, 1993, 1997, 1999, 2003, 2011, 2017, 2021, 2027, 2029, 2033, 2039, 2041, 2047, 2053, 2057, 2059, 2063, 2069, 2071, 2077, 2081, 2083, 2087, 2089, 2099, 2101, 2111, 2113, 2117, 2119, 2123, 2129, 2131, 2137, 2141, 2143, 2147, 2153, 2159, 2161, 2167, 2171, 2173, 2179, 2183, 2189, 2197, 2201, 2203, 2207, 2209, 2213, 2221, 2227, 2231, 2237, 2239, 2243, 2249, 2251, 2257, 2263, 2267, 2269, 2273, 2279, 2281, 2287, 2291, 2293, 2297, 2299, 2309, 2311, 2321, 2323, 2327, 2329, 2333, 2339, 2341, 2347, 2351, 2353, 2357, 2363, 2369, 2371, 2377, 2381, 2383, 2389, 2393, 2399, 2407, 2411, 2413, 2417, 2419, 2423, 2431, 2437, 2441, 2447, 2449, 2453, 2459, 2461, 2467, 2473, 2477, 2479, 2483, 2489, 2491, 2497, 2501, 2503, 2507, 2509, 2519, 2521, 2531, 2533, 2537, 2539, 2543, 2549, 2551, 2557, 2561, 2563, 2567, 2573, 2579, 2581, 2587, 2591, 2593, 2599, 2603, 2609, 2617, 2621, 2623, 2627, 2629, 2633, 2641, 2647, 2651, 2657, 2659, 2663, 2669, 2671, 2677, 2683, 2687, 2689, 2693, 2699, 2701, 2707, 2711, 2713, 2717, 2719, 2729, 2731, 2741, 2743, 2747, 2749, 2753, 2759, 2761, 2767, 2771, 2773, 2777, 2783, 2789, 2791, 2797, 2801, 2803, 2809, 2813, 2819, 2827, 2831, 2833, 2837, 2839, 2843, 2851, 2857, 2861, 2867, 2869, 2873, 2879, 2881, 2887, 2893, 2897, 2899, 2903, 2909, 2911, 2917, 2921, 2923, 2927, 2929, 2939, 2941, 2951, 2953, 2957, 2959, 2963, 2969, 2971, 2977, 2981, 2983, 2987, 2993, 2999, 3001, 3007, 3011, 3013, 3019, 3023, 3029, 3037, 3041, 3043, 3047, 3049, 3053, 3061, 3067, 3071, 3077, 3079, 3083, 3089, 3091, 3097, 3103, 3107, 3109, 3113, 3119, 3121, 3127, 3131, 3133, 3137, 3139, 3149, 3151, 3161, 3163, 3167, 3169, 3173, 3179, 3181, 3187, 3191, 3193, 3197, 3203, 3209, 3211, 3217, 3221, 3223, 3229, 3233, 3239, 3247, 3251, 3253, 3257, 3259, 3263, 3271, 3277, 3281, 3287, 3289, 3293, 3299, 3301, 3307, 3313, 3317, 3319, 3323, 3329, 3331, 3337, 3341, 3343, 3347, 3349, 3359, 3361, 3371, 3373, 3377, 3379, 3383, 3389, 3391, 3397, 3401, 3403, 3407, 3413, 3419, 3421, 3427, 3431, 3433, 3439, 3443, 3449, 3457, 3461, 3463, 3467, 3469, 3473, 3481, 3487, 3491, 3497, 3499, 3503, 3509, 3511, 3517, 3523, 3527, 3529, 3533, 3539, 3541, 3547, 3551, 3553, 3557, 3559, 3569, 3571, 3581, 3583, 3587, 3589, 3593, 3599, 3601, 3607, 3611, 3613, 3617, 3623, 3629, 3631, 3637, 3641, 3643, 3649, 3653, 3659, 3667, 3671, 3673, 3677, 3679, 3683, 3691, 3697, 3701, 3707, 3709, 3713, 3719, 3721, 3727, 3733, 3737, 3739, 3743, 3749, 3751, 3757, 3761, 3763, 3767, 3769, 3779, 3781, 3791, 3793, 3797, 3799, 3803, 3809, 3811, 3817, 3821, 3823, 3827, 3833, 3839, 3841, 3847, 3851, 3853, 3859, 3863, 3869, 3877, 3881, 3883, 3887, 3889, 3893, 3901, 3907, 3911, 3917, 3919, 3923, 3929, 3931, 3937, 3943, 3947, 3949, 3953, 3959, 3961, 3967, 3971, 3973, 3977, 3979, 3989, 3991, 4001, 4003, 4007, 4009, 4013, 4019, 4021, 4027, 4031, 4033, 4037, 4043, 4049, 4051, 4057, 4061, 4063, 4069, 4073, 4079, 4087, 4091, 4093, 4097, 4099, 4103, 4111, 4117, 4121, 4127, 4129, 4133, 4139, 4141, 4147, 4153, 4157, 4159, 4163, 4169, 4171, 4177, 4181, 4183, 4187, 4189, 4199, 4201, 4211, 4213, 4217, 4219, 4223, 4229, 4231, 4237, 4241, 4243, 4247, 4253, 4259, 4261, 4267, 4271, 4273, 4279, 4283, 4289, 4297, 4301, 4303, 4307, 4309, 4313, 4321, 4327, 4331, 4337, 4339, 4343, 4349, 4351, 4357, 4363, 4367, 4369, 4373, 4379, 4381, 4387, 4391, 4393, 4397, 4399, 4409, 4411, 4421, 4423, 4427, 4429, 4433, 4439, 4441, 4447, 4451, 4453, 4457, 4463, 4469, 4471, 4477, 4481, 4483, 4489, 4493, 4499, 4507, 4511, 4513, 4517, 4519, 4523, 4531, 4537, 4541, 4547, 4549, 4553, 4559, 4561, 4567, 4573, 4577, 4579, 4583, 4589, 4591, 4597, 4601, 4603, 4607, 4609, 4619, 4621, 4631, 4633, 4637, 4639, 4643, 4649, 4651, 4657, 4661, 4663, 4667, 4673, 4679, 4681, 4687, 4691, 4693, 4699, 4703, 4709, 4717, 4721, 4723, 4727, 4729, 4733, 4741, 4747, 4751, 4757, 4759, 4763, 4769, 4771, 4777, 4783, 4787, 4789, 4793, 4799, 4801, 4807, 4811, 4813, 4817, 4819, 4829, 4831, 4841, 4843, 4847, 4849, 4853, 4859, 4861, 4867, 4871, 4873, 4877, 4883, 4889, 4891, 4897, 4901, 4903, 4909, 4913, 4919, 4927, 4931, 4933, 4937, 4939, 4943, 4951, 4957, 4961, 4967, 4969, 4973, 4979, 4981, 4987, 4993, 4997, 4999, 5003, 5009, 5011, 5017, 5021, 5023, 5027, 5029, 5039, 5041, 5051, 5053, 5057, 5059, 5063, 5069, 5071, 5077, 5081, 5083, 5087, 5093, 5099, 5101, 5107, 5111, 5113, 5119, 5123, 5129, 5137, 5141, 5143, 5147, 5149, 5153, 5161, 5167, 5171, 5177, 5179, 5183, 5189, 5191, 5197, 5203, 5207, 5209, 5213, 5219, 5221, 5227, 5231, 5233, 5237, 5239, 5249, 5251, 5261, 5263, 5267, 5269, 5273, 5279, 5281, 5287, 5291, 5293, 5297, 5303, 5309, 5311, 5317, 5321, 5323, 5329, 5333, 5339, 5347, 5351, 5353, 5357, 5359, 5363, 5371, 5377, 5381, 5387, 5389, 5393, 5399, 5401, 5407, 5413, 5417, 5419, 5423, 5429, 5431, 5437, 5441, 5443, 5447, 5449, 5459, 5461, 5471, 5473, 5477, 5479, 5483, 5489, 5491, 5497, 5501, 5503, 5507, 5513, 5519, 5521, 5527, 5531, 5533, 5539, 5543, 5549, 5557, 5561, 5563, 5567, 5569, 5573, 5581, 5587, 5591, 5597, 5599, 5603, 5609, 5611, 5617, 5623, 5627, 5629, 5633, 5639, 5641, 5647, 5651, 5653, 5657, 5659, 5669, 5671, 5681, 5683, 5687, 5689, 5693, 5699, 5701, 5707, 5711, 5713, 5717, 5723, 5729, 5731, 5737, 5741, 5743, 5749, 5753, 5759, 5767, 5771, 5773, 5777, 5779, 5783, 5791, 5797, 5801, 5807, 5809, 5813, 5819, 5821, 5827, 5833, 5837, 5839, 5843, 5849, 5851, 5857, 5861, 5863, 5867, 5869, 5879, 5881, 5891, 5893, 5897, 5899, 5903, 5909, 5911, 5917, 5921, 5923, 5927, 5933, 5939, 5941, 5947, 5951, 5953, 5959, 5963, 5969, 5977, 5981, 5983, 5987, 5989, 5993, 6001, 6007, 6011, 6017, 6019, 6023, 6029, 6031, 6037, 6043, 6047, 6049, 6053, 6059, 6061, 6067, 6071, 6073, 6077, 6079, 6089, 6091, 6101, 6103, 6107, 6109, 6113, 6119, 6121, 6127, 6131, 6133, 6137, 6143, 6149, 6151, 6157, 6161, 6163, 6169, 6173, 6179, 6187, 6191, 6193, 6197, 6199, 6203, 6211, 6217, 6221, 6227, 6229, 6233, 6239, 6241, 6247, 6253, 6257, 6259, 6263, 6269, 6271, 6277, 6281, 6283, 6287, 6289, 6299, 6301, 6311, 6313, 6317, 6319, 6323, 6329, 6331, 6337, 6341, 6343, 6347, 6353, 6359, 6361, 6367, 6371, 6373, 6379, 6383, 6389, 6397, 6401, 6403, 6407, 6409, 6413, 6421, 6427, 6431, 6437, 6439, 6443, 6449, 6451, 6457, 6463, 6467, 6469, 6473, 6479, 6481, 6487, 6491, 6493, 6497, 6499, 6509, 6511, 6521, 6523, 6527, 6529, 6533, 6539, 6541, 6547, 6551, 6553, 6557, 6563, 6569, 6571, 6577, 6581, 6583, 6589, 6593, 6599, 6607, 6611, 6613, 6617, 6619, 6623, 6631, 6637, 6641, 6647, 6649, 6653, 6659, 6661, 6667, 6673, 6677, 6679, 6683, 6689, 6691, 6697, 6701, 6703, 6707, 6709, 6719, 6721, 6731, 6733, 6737, 6739, 6743, 6749, 6751, 6757, 6761, 6763, 6767, 6773, 6779, 6781, 6787, 6791, 6793, 6799, 6803, 6809, 6817, 6821, 6823, 6827, 6829, 6833, 6841, 6847, 6851, 6857, 6859, 6863, 6869, 6871, 6877, 6883, 6887, 6889, 6893, 6899, 6901, 6907, 6911, 6913, 6917, 6919, 6929, 6931, 6941, 6943, 6947, 6949, 6953, 6959, 6961, 6967, 6971, 6973, 6977, 6983, 6989, 6991, 6997, 7001, 7003, 7009, 7013, 7019, 7027, 7031, 7033, 7037, 7039, 7043, 7051, 7057, 7061, 7067, 7069, 7073, 7079, 7081, 7087, 7093, 7097, 7099, 7103, 7109, 7111, 7117, 7121, 7123, 7127, 7129, 7139, 7141, 7151, 7153, 7157, 7159, 7163, 7169, 7171, 7177, 7181, 7183, 7187, 7193, 7199, 7201, 7207, 7211, 7213, 7219, 7223, 7229, 7237, 7241, 7243, 7247, 7249, 7253, 7261, 7267, 7271, 7277, 7279, 7283, 7289, 7291, 7297, 7303, 7307, 7309, 7313, 7319, 7321, 7327, 7331, 7333, 7337, 7339, 7349, 7351, 7361, 7363, 7367, 7369, 7373, 7379, 7381, 7387, 7391, 7393, 7397, 7403, 7409, 7411, 7417, 7421, 7423, 7429, 7433, 7439, 7447, 7451, 7453, 7457, 7459, 7463, 7471, 7477, 7481, 7487, 7489, 7493, 7499, 7501, 7507, 7513, 7517, 7519, 7523, 7529, 7531, 7537, 7541, 7543, 7547, 7549, 7559, 7561, 7571, 7573, 7577, 7579, 7583, 7589, 7591, 7597, 7601, 7603, 7607, 7613, 7619, 7621, 7627, 7631, 7633, 7639, 7643, 7649, 7657, 7661, 7663, 7667, 7669, 7673, 7681, 7687, 7691, 7697, 7699, 7703, 7709, 7711, 7717, 7723, 7727, 7729, 7733, 7739, 7741, 7747, 7751, 7753, 7757, 7759, 7769, 7771, 7781, 7783, 7787, 7789, 7793, 7799, 7801, 7807, 7811, 7813, 7817, 7823, 7829, 7831, 7837, 7841, 7843, 7849, 7853, 7859, 7867, 7871, 7873, 7877, 7879, 7883, 7891, 7897, 7901, 7907, 7909, 7913, 7919, 7921, 7927, 7933, 7937, 7939, 7943, 7949, 7951, 7957, 7961, 7963, 7967, 7969, 7979, 7981, 7991, 7993, 7997, 7999, 8003, 8009, 8011, 8017, 8021, 8023, 8027, 8033, 8039, 8041, 8047, 8051, 8053, 8059, 8063, 8069, 8077, 8081, 8083, 8087, 8089, 8093, 8101, 8107, 8111, 8117, 8119, 8123, 8129, 8131, 8137, 8143, 8147, 8149, 8153, 8159, 8161, 8167, 8171, 8173, 8177, 8179, 8189, 8191, 8201, 8203, 8207, 8209, 8213, 8219, 8221, 8227, 8231, 8233, 8237, 8243, 8249, 8251, 8257, 8261, 8263, 8269, 8273, 8279, 8287, 8291, 8293, 8297, 8299, 8303, 8311, 8317, 8321, 8327, 8329, 8333, 8339, 8341, 8347, 8353, 8357, 8359, 8363, 8369, 8371, 8377, 8381, 8383, 8387, 8389, 8399, 8401, 8411, 8413, 8417, 8419, 8423, 8429, 8431, 8437, 8441, 8443, 8447, 8453, 8459, 8461, 8467, 8471, 8473, 8479, 8483, 8489, 8497, 8501, 8503, 8507, 8509, 8513, 8521, 8527, 8531, 8537, 8539, 8543, 8549, 8551, 8557, 8563, 8567, 8569, 8573, 8579, 8581, 8587, 8591, 8593, 8597, 8599, 8609, 8611, 8621, 8623, 8627, 8629, 8633, 8639, 8641, 8647, 8651, 8653, 8657, 8663, 8669, 8671, 8677, 8681, 8683, 8689, 8693, 8699, 8707, 8711, 8713, 8717, 8719, 8723, 8731, 8737, 8741, 8747, 8749, 8753, 8759, 8761, 8767, 8773, 8777, 8779, 8783, 8789, 8791, 8797, 8801, 8803, 8807, 8809, 8819, 8821, 8831, 8833, 8837, 8839, 8843, 8849, 8851, 8857, 8861, 8863, 8867, 8873, 8879, 8881, 8887, 8891, 8893, 8899, 8903, 8909, 8917, 8921, 8923, 8927, 8929, 8933, 8941, 8947, 8951, 8957, 8959, 8963, 8969, 8971, 8977, 8983, 8987, 8989, 8993, 8999, 9001, 9007, 9011, 9013, 9017, 9019, 9029, 9031, 9041, 9043, 9047, 9049, 9053, 9059, 9061, 9067, 9071, 9073, 9077, 9083, 9089, 9091, 9097, 9101, 9103, 9109, 9113, 9119, 9127, 9131, 9133, 9137, 9139, 9143, 9151, 9157, 9161, 9167, 9169, 9173, 9179, 9181, 9187, 9193, 9197, 9199, 9203, 9209, 9211, 9217, 9221, 9223, 9227, 9229, 9239, 9241, 9251, 9253, 9257, 9259, 9263, 9269, 9271, 9277, 9281, 9283, 9287, 9293, 9299, 9301, 9307, 9311, 9313, 9319, 9323, 9329, 9337, 9341, 9343, 9347, 9349, 9353, 9361, 9367, 9371, 9377, 9379, 9383, 9389, 9391, 9397, 9403, 9407, 9409, 9413, 9419, 9421, 9427, 9431, 9433, 9437, 9439, 9449, 9451, 9461, 9463, 9467, 9469, 9473, 9479, 9481, 9487, 9491, 9493, 9497, 9503, 9509, 9511, 9517, 9521, 9523, 9529, 9533, 9539, 9547, 9551, 9553, 9557, 9559, 9563, 9571, 9577, 9581, 9587, 9589, 9593, 9599, 9601, 9607, 9613, 9617, 9619, 9623, 9629, 9631, 9637, 9641, 9643, 9647, 9649, 9659, 9661, 9671, 9673, 9677, 9679, 9683, 9689, 9691, 9697, 9701, 9703, 9707, 9713, 9719, 9721, 9727, 9731, 9733, 9739, 9743, 9749, 9757, 9761, 9763, 9767, 9769, 9773, 9781, 9787, 9791, 9797, 9799, 9803, 9809, 9811, 9817, 9823, 9827, 9829, 9833, 9839, 9841, 9847, 9851, 9853, 9857, 9859, 9869, 9871, 9881, 9883, 9887, 9889, 9893, 9899, 9901, 9907, 9911, 9913, 9917, 9923, 9929, 9931, 9937, 9941, 9943, 9949, 9953, 9959, 9967, 9971, 9973, 9977, 9979, 9983, 9991, 9997]\n"
     ]
    }
   ],
   "source": [
    "#[Challenge - requires nesting] - Find all numbers between 1-1000 that are not divisble by any number between 2 and 9.\n",
    "notDivisible = []\n",
    "\n",
    "\n",
    "for num in range(1, 10001):\n",
    "    divisible =False\n",
    "    for i in range(2, 10):\n",
    "        if num % i == 0:\n",
    "            divisible = True\n",
    "            break\n",
    "    if  not divisible:\n",
    "        notDivisible.append(num)\n",
    "print(notDivisible)           \n",
    "\n"
   ]
  },
  {
   "cell_type": "code",
   "execution_count": null,
   "metadata": {
    "vscode": {
     "languageId": "sql"
    }
   },
   "outputs": [],
   "source": [
    "SELECT sum(deaths_direct)+sum(deaths_indirect) as total_death,sum(injuries_indirect)+sum(injuries_direct) as total_injures\n",
    " FROM `bigquery-public-data.noaa_historic_severe_storms.storms_2000` LIMIT 1000"
   ]
  },
  {
   "cell_type": "code",
   "execution_count": null,
   "metadata": {
    "vscode": {
     "languageId": "sql"
    }
   },
   "outputs": [],
   "source": [
    "select UNIONED.state, count(UNIONED.event_id) as count_event FROM\n",
    "(\n",
    "(SELECT * FROM `bigquery-public-data.noaa_historic_severe_storms.storms_1981` )\n",
    "UNION ALL\n",
    "(SELECT * FROM `bigquery-public-data.noaa_historic_severe_storms.storms_1982`) \n",
    "UNION ALL\n",
    "(SELECT * FROM `bigquery-public-data.noaa_historic_severe_storms.storms_1983`) \n",
    "UNION ALL\n",
    "(SELECT * FROM `bigquery-public-data.noaa_historic_severe_storms.storms_1984` )\n",
    "UNION ALL\n",
    "(SELECT * FROM `bigquery-public-data.noaa_historic_severe_storms.storms_1985`) \n",
    "UNION ALL\n",
    "(SELECT * FROM `bigquery-public-data.noaa_historic_severe_storms.storms_1986`)\n",
    "UNION ALL \n",
    "(SELECT * FROM `bigquery-public-data.noaa_historic_severe_storms.storms_1987` )\n",
    "UNION ALL\n",
    "(SELECT * FROM `bigquery-public-data.noaa_historic_severe_storms.storms_1988`) \n",
    "UNION ALL\n",
    "(SELECT * FROM `bigquery-public-data.noaa_historic_severe_storms.storms_1989`) \n",
    "UNION ALL\n",
    "(SELECT * FROM `bigquery-public-data.noaa_historic_severe_storms.storms_1990` )\n",
    "UNION ALL\n",
    "(SELECT * FROM `bigquery-public-data.noaa_historic_severe_storms.storms_1991`) \n",
    "UNION ALL\n",
    "(SELECT * FROM `bigquery-public-data.noaa_historic_severe_storms.storms_1992`)\n",
    "UNION ALL \n",
    "(SELECT * FROM `bigquery-public-data.noaa_historic_severe_storms.storms_1993` )\n",
    "UNION ALL\n",
    "(SELECT * FROM `bigquery-public-data.noaa_historic_severe_storms.storms_1994`) \n",
    "UNION ALL\n",
    "(SELECT * FROM `bigquery-public-data.noaa_historic_severe_storms.storms_1995`)\n",
    ") as UNIONED\n",
    "\n",
    "group by UNIONED.state\n",
    "order by count_event desc\n",
    "LIMIT 1000"
   ]
  },
  {
   "cell_type": "code",
   "execution_count": null,
   "metadata": {
    "vscode": {
     "languageId": "sql"
    }
   },
   "outputs": [],
   "source": [
    "SELECT sum(deaths_direct)+sum(deaths_indirect) as total_death,sum(injuries_indirect)+sum(injuries_direct) as total_injures\n",
    " FROM `bigquery-public-data.noaa_historic_severe_storms.storms_2000` LIMIT 1000"
   ]
  },
  {
   "cell_type": "markdown",
   "metadata": {},
   "source": [
    "# Big Query / Python\n",
    "* Using the same dataset as above, download a CSV to parse in python of the 1000 worst storms in 2022 by magnitude when the magnitude type is \"MG\" or \"EG\" and the magnitude was at least 80\n",
    "* What percent of event types were thunderstorms vs high winds?\n",
    "* What state had the least number of these types of storms?  What state had the most?\n",
    "* What was the mean, median, and standard deviation of the magnitude?\n"
   ]
  },
  {
   "cell_type": "code",
   "execution_count": 67,
   "metadata": {},
   "outputs": [],
   "source": [
    "import csv\n",
    "import numpy as np"
   ]
  },
  {
   "cell_type": "code",
   "execution_count": 66,
   "metadata": {},
   "outputs": [],
   "source": [
    "class severeStorms:\n",
    "    def __init__(self, state, event_type,magnitude_type,magnitude): # DATA INITILIZING\n",
    "        self.state = state\n",
    "        self.event_type = event_type\n",
    "        self.magnitude_type= magnitude_type\n",
    "        self.magnitude = magnitude\n",
    "    def __str__(self):\n",
    "        return f\"{self.state}, {self.event_type},{self.magnitude_type},{self.magnitude}\"\n",
    "    "
   ]
  },
  {
   "cell_type": "code",
   "execution_count": 69,
   "metadata": {},
   "outputs": [],
   "source": [
    "#OPEN CSV FILE\n",
    "stormData= []\n",
    "with open('data.csv', 'r') as csv_file:\n",
    "    reader = csv.reader(csv_file)\n",
    "    line_count = 0\n",
    "    for col in reader:\n",
    "        if line_count != 0:\n",
    "            rowModel = severeStorms(col[0],col[1],col[2],float(col[3]))\n",
    "            stormData.append(rowModel)\n",
    "        line_count += 1"
   ]
  },
  {
   "cell_type": "code",
   "execution_count": 70,
   "metadata": {},
   "outputs": [
    {
     "name": "stdout",
     "output_type": "stream",
     "text": [
      "Ha, high wind,MG,144.0\n",
      "Ca, high wind,MG,139.0\n",
      "Ca, high wind,MG,136.0\n",
      "Ut, high wind,MG,129.0\n",
      "Ut, high wind,MG,113.0\n",
      "So, thunderstorm wind,EG,113.0\n",
      "Wy, high wind,MG,111.0\n",
      "So, thunderstorm wind,EG,109.0\n",
      "So, thunderstorm wind,MG,104.0\n",
      "So, thunderstorm wind,EG,104.0\n",
      "Ca, high wind,MG,104.0\n",
      "So, thunderstorm wind,MG,104.0\n",
      "No, thunderstorm wind,EG,104.0\n",
      "Oh, thunderstorm wind,EG,104.0\n",
      "Oh, thunderstorm wind,EG,104.0\n",
      "No, thunderstorm wind,EG,104.0\n",
      "Ca, high wind,MG,103.0\n",
      "Ne, high wind,MG,101.0\n",
      "Ca, high wind,MG,101.0\n",
      "Co, high wind,MG,101.0\n",
      "Ka, thunderstorm wind,EG,100.0\n",
      "Ca, high wind,MG,98.0\n",
      "Ca, high wind,MG,97.0\n",
      "Ne, high wind,MG,97.0\n",
      "Wy, high wind,MG,96.0\n",
      "Ca, high wind,MG,96.0\n",
      "No, thunderstorm wind,EG,96.0\n",
      "De, thunderstorm wind,EG,96.0\n",
      "No, thunderstorm wind,EG,96.0\n",
      "De, thunderstorm wind,EG,96.0\n",
      "So, thunderstorm wind,EG,96.0\n",
      "De, thunderstorm wind,EG,96.0\n",
      "Mi, thunderstorm wind,EG,96.0\n",
      "Pe, thunderstorm wind,EG,96.0\n",
      "Ka, thunderstorm wind,EG,96.0\n",
      "Ca, high wind,MG,96.0\n",
      "Mi, thunderstorm wind,EG,96.0\n",
      "Pe, thunderstorm wind,EG,96.0\n",
      "Ca, high wind,MG,96.0\n",
      "Ca, high wind,MG,95.0\n",
      "Ca, high wind,MG,95.0\n",
      "Wy, high wind,MG,95.0\n",
      "Ne, high wind,MG,95.0\n",
      "Ca, high wind,MG,95.0\n",
      "Ne, high wind,MG,94.0\n",
      "Ca, high wind,MG,94.0\n",
      "So, thunderstorm wind,MG,93.0\n",
      "Wy, high wind,MG,93.0\n",
      "Co, high wind,MG,92.0\n",
      "Co, high wind,MG,91.0\n",
      "So, thunderstorm wind,EG,91.0\n",
      "So, thunderstorm wind,EG,91.0\n",
      "Ne, thunderstorm wind,EG,91.0\n",
      "Ca, high wind,MG,91.0\n",
      "Te, thunderstorm wind,EG,91.0\n",
      "Wa, high wind,MG,90.0\n",
      "Ne, high wind,MG,90.0\n",
      "Ca, high wind,MG,90.0\n",
      "Ne, high wind,MG,90.0\n",
      "Ca, high wind,MG,90.0\n",
      "Ca, high wind,MG,89.0\n",
      "Ca, high wind,MG,89.0\n",
      "Ca, high wind,MG,89.0\n",
      "So, thunderstorm wind,MG,89.0\n",
      "We, thunderstorm wind,MG,89.0\n",
      "Ca, high wind,MG,88.0\n",
      "Ca, high wind,MG,88.0\n",
      "Oh, thunderstorm wind,EG,87.0\n",
      "Te, thunderstorm wind,EG,87.0\n",
      "In, thunderstorm wind,EG,87.0\n",
      "In, thunderstorm wind,EG,87.0\n",
      "Ka, thunderstorm wind,EG,87.0\n",
      "Ka, thunderstorm wind,EG,87.0\n",
      "Co, high wind,MG,87.0\n",
      "Ok, thunderstorm wind,EG,87.0\n",
      "Ok, thunderstorm wind,EG,87.0\n",
      "Ok, thunderstorm wind,EG,87.0\n",
      "Ok, thunderstorm wind,EG,87.0\n",
      "Ne, thunderstorm wind,EG,87.0\n",
      "Ok, thunderstorm wind,EG,87.0\n",
      "No, thunderstorm wind,EG,87.0\n",
      "Wy, thunderstorm wind,EG,87.0\n",
      "Ka, thunderstorm wind,EG,87.0\n",
      "Te, thunderstorm wind,EG,87.0\n",
      "Ne, thunderstorm wind,EG,87.0\n",
      "Ka, thunderstorm wind,EG,87.0\n",
      "Ka, thunderstorm wind,EG,87.0\n",
      "Ka, thunderstorm wind,MG,87.0\n",
      "Mi, thunderstorm wind,EG,87.0\n",
      "Al, thunderstorm wind,EG,87.0\n",
      "Ca, high wind,MG,87.0\n",
      "Ar, thunderstorm wind,EG,87.0\n",
      "Te, thunderstorm wind,EG,87.0\n",
      "So, thunderstorm wind,EG,87.0\n",
      "So, thunderstorm wind,EG,87.0\n",
      "Ne, thunderstorm wind,EG,87.0\n",
      "Mi, thunderstorm wind,EG,87.0\n",
      "Ok, thunderstorm wind,EG,87.0\n",
      "Al, thunderstorm wind,EG,87.0\n",
      "Mi, thunderstorm wind,EG,87.0\n",
      "Ne, thunderstorm wind,EG,87.0\n",
      "So, thunderstorm wind,EG,87.0\n",
      "Ne, thunderstorm wind,EG,87.0\n",
      "Mi, thunderstorm wind,EG,87.0\n",
      "In, thunderstorm wind,EG,87.0\n",
      "Wi, thunderstorm wind,EG,87.0\n",
      "Wi, thunderstorm wind,EG,87.0\n",
      "No, thunderstorm wind,EG,87.0\n",
      "Ne, thunderstorm wind,EG,87.0\n",
      "Ok, thunderstorm wind,EG,87.0\n",
      "Ok, thunderstorm wind,EG,87.0\n",
      "Ne, thunderstorm wind,EG,87.0\n",
      "No, thunderstorm wind,EG,87.0\n",
      "Pe, thunderstorm wind,EG,87.0\n",
      "Pe, thunderstorm wind,EG,87.0\n",
      "No, thunderstorm wind,EG,87.0\n",
      "Oh, thunderstorm wind,EG,87.0\n",
      "Ka, thunderstorm wind,EG,86.0\n",
      "Ca, high wind,MG,86.0\n",
      "Ca, high wind,MG,86.0\n",
      "So, thunderstorm wind,MG,86.0\n",
      "Wy, high wind,MG,86.0\n",
      "Wa, high wind,MG,86.0\n",
      "Or, high wind,MG,86.0\n",
      "Ok, thunderstorm wind,MG,86.0\n",
      "Ca, high wind,MG,85.0\n",
      "We, thunderstorm wind,EG,85.0\n",
      "Ca, high wind,MG,85.0\n",
      "Vi, thunderstorm wind,EG,85.0\n",
      "Ne, high wind,MG,84.0\n",
      "So, thunderstorm wind,MG,84.0\n",
      "So, thunderstorm wind,EG,84.0\n",
      "Il, thunderstorm wind,EG,83.0\n",
      "Id, high wind,EG,83.0\n",
      "Or, high wind,MG,83.0\n",
      "Al, thunderstorm wind,EG,83.0\n",
      "So, thunderstorm wind,EG,83.0\n",
      "Ut, high wind,MG,83.0\n",
      "So, thunderstorm wind,MG,83.0\n",
      "Ne, high wind,MG,83.0\n",
      "Te, thunderstorm wind,EG,83.0\n",
      "Ka, thunderstorm wind,EG,83.0\n",
      "Mi, thunderstorm wind,EG,83.0\n",
      "No, thunderstorm wind,EG,83.0\n",
      "Te, thunderstorm wind,EG,83.0\n",
      "Mi, thunderstorm wind,EG,83.0\n",
      "Ka, thunderstorm wind,EG,83.0\n",
      "Mi, thunderstorm wind,EG,83.0\n",
      "Mi, thunderstorm wind,EG,83.0\n",
      "Ca, high wind,MG,83.0\n",
      "Al, high wind,MG,83.0\n",
      "Te, thunderstorm wind,EG,83.0\n",
      "Ut, high wind,EG,83.0\n",
      "Ne, thunderstorm wind,EG,83.0\n",
      "So, thunderstorm wind,EG,83.0\n",
      "So, thunderstorm wind,EG,83.0\n",
      "So, thunderstorm wind,EG,83.0\n",
      "Ka, thunderstorm wind,EG,83.0\n",
      "So, thunderstorm wind,MG,83.0\n",
      "Ne, high wind,MG,83.0\n",
      "Ca, high wind,MG,83.0\n",
      "Ka, thunderstorm wind,EG,83.0\n",
      "So, thunderstorm wind,EG,83.0\n",
      "So, thunderstorm wind,EG,83.0\n",
      "So, thunderstorm wind,EG,83.0\n",
      "So, thunderstorm wind,EG,83.0\n",
      "Ne, thunderstorm wind,EG,83.0\n",
      "Ne, thunderstorm wind,EG,83.0\n",
      "So, thunderstorm wind,EG,83.0\n",
      "So, thunderstorm wind,EG,83.0\n",
      "Ne, thunderstorm wind,EG,83.0\n",
      "Mi, thunderstorm wind,EG,83.0\n",
      "Ca, high wind,MG,83.0\n",
      "Ne, thunderstorm wind,EG,83.0\n",
      "Ne, thunderstorm wind,EG,83.0\n",
      "Mi, thunderstorm wind,EG,83.0\n",
      "Lo, thunderstorm wind,EG,83.0\n",
      "So, thunderstorm wind,EG,83.0\n",
      "Te, thunderstorm wind,EG,83.0\n",
      "Te, thunderstorm wind,EG,83.0\n",
      "Co, high wind,MG,83.0\n",
      "Te, high wind,MG,83.0\n",
      "Lo, thunderstorm wind,EG,83.0\n",
      "Oh, thunderstorm wind,EG,83.0\n",
      "Ka, thunderstorm wind,EG,82.0\n",
      "Or, high wind,MG,82.0\n",
      "Mi, thunderstorm wind,MG,82.0\n",
      "Wy, high wind,MG,82.0\n",
      "Mi, thunderstorm wind,MG,82.0\n",
      "Wy, thunderstorm wind,MG,82.0\n",
      "Wy, thunderstorm wind,MG,82.0\n",
      "Oh, thunderstorm wind,EG,82.0\n",
      "Ne, high wind,MG,82.0\n",
      "Wy, high wind,MG,81.0\n",
      "Or, high wind,MG,81.0\n",
      "Ne, high wind,MG,81.0\n",
      "Ne, high wind,MG,81.0\n",
      "Mi, thunderstorm wind,EG,81.0\n",
      "Al, thunderstorm wind,EG,81.0\n",
      "Al, thunderstorm wind,EG,81.0\n",
      "Ne, high wind,MG,81.0\n",
      "Ne, high wind,MG,81.0\n",
      "Ca, high wind,EG,81.0\n",
      "Ne, high wind,MG,81.0\n",
      "Mi, thunderstorm wind,EG,80.0\n",
      "So, thunderstorm wind,EG,80.0\n",
      "Vi, thunderstorm wind,EG,80.0\n",
      "Ka, thunderstorm wind,MG,80.0\n",
      "Ca, high wind,MG,80.0\n",
      "Ma, thunderstorm wind,EG,80.0\n",
      "Ma, thunderstorm wind,EG,80.0\n",
      "Ka, thunderstorm wind,EG,80.0\n",
      "Ka, thunderstorm wind,EG,80.0\n",
      "Ka, thunderstorm wind,EG,80.0\n",
      "Ka, thunderstorm wind,EG,80.0\n",
      "So, thunderstorm wind,EG,80.0\n",
      "Ka, thunderstorm wind,EG,80.0\n",
      "Ka, thunderstorm wind,EG,80.0\n",
      "Ka, thunderstorm wind,EG,80.0\n",
      "Mi, thunderstorm wind,EG,80.0\n",
      "Fl, thunderstorm wind,EG,80.0\n",
      "Ka, thunderstorm wind,EG,80.0\n",
      "Oh, thunderstorm wind,EG,80.0\n",
      "Vi, thunderstorm wind,EG,80.0\n",
      "So, thunderstorm wind,MG,80.0\n",
      "Wy, high wind,MG,80.0\n",
      "Al, high wind,MG,80.0\n"
     ]
    }
   ],
   "source": [
    "for x in stormData:\n",
    "    print(x)"
   ]
  },
  {
   "cell_type": "code",
   "execution_count": 125,
   "metadata": {},
   "outputs": [
    {
     "name": "stdout",
     "output_type": "stream",
     "text": [
      "thunderstorm Percentage: 67\n",
      "highWind Percentage: 33\n"
     ]
    }
   ],
   "source": [
    "## What percent of event types were thunderstorms vs high winds?\n",
    "thunderStorm=[]\n",
    "for thunder in stormData:\n",
    "    if thunder.event_type==\"thunderstorm wind\":\n",
    "        thunderStorm.append(thunder)\n",
    "highWind=[]\n",
    "for Wind in stormData:\n",
    "    if Wind.event_type==\"high wind\":\n",
    "        highWind.append(Wind)\n",
    "percentthundestorm=round(len(thunderStorm)/len(stormData)*100) ## finding percentage by calculating length of thunderstorm list by total data\n",
    "percenthighWind=round(len(highWind)/len(stormData)*100) ## finding percentage by calculating length of high wind by total data\n",
    "print(\"thunderstorm Percentage:\",percentthundestorm)\n",
    "print(\"highWind Percentage:\",percenthighWind)"
   ]
  },
  {
   "cell_type": "code",
   "execution_count": 124,
   "metadata": {},
   "outputs": [
    {
     "name": "stdout",
     "output_type": "stream",
     "text": [
      "{'Ha': 1, 'Ca': 32, 'Ut': 4, 'So': 32, 'Wy': 11, 'No': 9, 'Oh': 7, 'Ne': 29, 'Co': 5, 'Ka': 23, 'De': 3, 'Mi': 17, 'Pe': 4, 'Te': 10, 'Wa': 2, 'We': 2, 'In': 3, 'Ok': 9, 'Al': 7, 'Ar': 1, 'Wi': 2, 'Or': 4, 'Vi': 3, 'Il': 1, 'Id': 1, 'Lo': 2, 'Ma': 2, 'Fl': 1}\n",
      "least state ['Ha', 'Ar', 'Il', 'Id', 'Fl']\n",
      "Most storm ['Ca', 'So']\n"
     ]
    }
   ],
   "source": [
    "## What state had the least number of these types of storms?  What state had the most?\n",
    "\n",
    "ystate=[y.state for y in stormData]\n",
    "occurrence={item:ystate.count(item) for item  in ystate}# creating dict{key ,value} {keys are the unique items from the ystate list, count(each item's from the list)}\n",
    "print(occurrence)\n",
    "minValue=min(occurrence.values())\n",
    "maxValue=max(occurrence.values())\n",
    "leastStatevalue=[key for key  in occurrence if occurrence[key]== minValue] # finding keys from the values\n",
    "maxState=[key for key  in occurrence if occurrence[key]== maxValue]\n",
    "print(\"least state\",leastStatevalue)\n",
    "print(\"Most storm\", maxState)\n",
    "\n",
    "\n",
    "\n",
    "    \n"
   ]
  },
  {
   "cell_type": "code",
   "execution_count": 129,
   "metadata": {},
   "outputs": [
    {
     "name": "stdout",
     "output_type": "stream",
     "text": [
      "[144.0, 139.0, 136.0, 129.0, 113.0, 113.0, 111.0, 109.0, 104.0, 104.0, 104.0, 104.0, 104.0, 104.0, 104.0, 104.0, 103.0, 101.0, 101.0, 101.0, 100.0, 98.0, 97.0, 97.0, 96.0, 96.0, 96.0, 96.0, 96.0, 96.0, 96.0, 96.0, 96.0, 96.0, 96.0, 96.0, 96.0, 96.0, 96.0, 95.0, 95.0, 95.0, 95.0, 95.0, 94.0, 94.0, 93.0, 93.0, 92.0, 91.0, 91.0, 91.0, 91.0, 91.0, 91.0, 90.0, 90.0, 90.0, 90.0, 90.0, 89.0, 89.0, 89.0, 89.0, 89.0, 88.0, 88.0, 87.0, 87.0, 87.0, 87.0, 87.0, 87.0, 87.0, 87.0, 87.0, 87.0, 87.0, 87.0, 87.0, 87.0, 87.0, 87.0, 87.0, 87.0, 87.0, 87.0, 87.0, 87.0, 87.0, 87.0, 87.0, 87.0, 87.0, 87.0, 87.0, 87.0, 87.0, 87.0, 87.0, 87.0, 87.0, 87.0, 87.0, 87.0, 87.0, 87.0, 87.0, 87.0, 87.0, 87.0, 87.0, 87.0, 87.0, 87.0, 87.0, 87.0, 86.0, 86.0, 86.0, 86.0, 86.0, 86.0, 86.0, 86.0, 85.0, 85.0, 85.0, 85.0, 84.0, 84.0, 84.0, 83.0, 83.0, 83.0, 83.0, 83.0, 83.0, 83.0, 83.0, 83.0, 83.0, 83.0, 83.0, 83.0, 83.0, 83.0, 83.0, 83.0, 83.0, 83.0, 83.0, 83.0, 83.0, 83.0, 83.0, 83.0, 83.0, 83.0, 83.0, 83.0, 83.0, 83.0, 83.0, 83.0, 83.0, 83.0, 83.0, 83.0, 83.0, 83.0, 83.0, 83.0, 83.0, 83.0, 83.0, 83.0, 83.0, 83.0, 83.0, 83.0, 83.0, 83.0, 83.0, 82.0, 82.0, 82.0, 82.0, 82.0, 82.0, 82.0, 82.0, 82.0, 81.0, 81.0, 81.0, 81.0, 81.0, 81.0, 81.0, 81.0, 81.0, 81.0, 81.0, 80.0, 80.0, 80.0, 80.0, 80.0, 80.0, 80.0, 80.0, 80.0, 80.0, 80.0, 80.0, 80.0, 80.0, 80.0, 80.0, 80.0, 80.0, 80.0, 80.0, 80.0, 80.0, 80.0]\n",
      "mean: 88.26872246696036\n",
      "median: 87.0\n",
      "standard Deviation: 9.464659033193188\n"
     ]
    }
   ],
   "source": [
    "allMagnitudes=[z.magnitude for z in stormData]\n",
    "print(allMagnitudes)\n",
    "print(\"mean:\",np.mean(allMagnitudes))\n",
    "print(\"median:\",np.median(allMagnitudes))\n",
    "print(\"standard Deviation:\", np.std(allMagnitudes))\n",
    "\n"
   ]
  }
 ],
 "metadata": {
  "kernelspec": {
   "display_name": "Python 3",
   "language": "python",
   "name": "python3"
  },
  "language_info": {
   "codemirror_mode": {
    "name": "ipython",
    "version": 3
   },
   "file_extension": ".py",
   "mimetype": "text/x-python",
   "name": "python",
   "nbconvert_exporter": "python",
   "pygments_lexer": "ipython3",
   "version": "3.12.0"
  }
 },
 "nbformat": 4,
 "nbformat_minor": 2
}
