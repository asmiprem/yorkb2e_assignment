{
 "cells": [
  {
   "cell_type": "code",
   "execution_count": 7,
   "metadata": {},
   "outputs": [
    {
     "name": "stdout",
     "output_type": "stream",
     "text": [
      "The vectors are linearly independent.\n"
     ]
    }
   ],
   "source": [
    "class Vector:\n",
    "    def __init__(self, *components):\n",
    "        self.components = components\n",
    "    def __add__(self, other):\n",
    "        if len(self.components) != len(other.components):\n",
    "            raise ValueError(\"Vectors must be of same dimension for addition\")\n",
    "        return Vector(*[x + y for x, y in zip(self.components, other.components)])\n",
    "    def __sub__(self, other):\n",
    "        if len(self.components) != len(other.components):\n",
    "            raise ValueError(\"Vectors must be of same dimension for subtraction\")\n",
    "        return Vector(*[x - y for x, y in zip(self.components, other.components)])\n",
    "    def __mul__(self, scalar):\n",
    "        return Vector(*[x * scalar for x in self.components])\n",
    "    def __rmul__(self, scalar):\n",
    "        return self.__mul__(scalar)\n",
    "    def __repr__(self):\n",
    "        return f\"Vector({', '.join(map(str, self.components))})\"\n",
    "    def linear_dependent(vec1,vec2,vec3):\n",
    "        if  (vec3==vec1+vec2):\n",
    "           print(True)\n",
    "        else:\n",
    "            False\n",
    "        return \n",
    "    vec1=v()\n",
    "    linear_dependent(vec1,vec2,vec3)\n",
    "\n",
    "    "
   ]
  }
 ],
 "metadata": {
  "kernelspec": {
   "display_name": "Python 3",
   "language": "python",
   "name": "python3"
  },
  "language_info": {
   "codemirror_mode": {
    "name": "ipython",
    "version": 3
   },
   "file_extension": ".py",
   "mimetype": "text/x-python",
   "name": "python",
   "nbconvert_exporter": "python",
   "pygments_lexer": "ipython3",
   "version": "3.12.0"
  }
 },
 "nbformat": 4,
 "nbformat_minor": 2
}
