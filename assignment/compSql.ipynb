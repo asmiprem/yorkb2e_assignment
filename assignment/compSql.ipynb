{
 "cells": [
  {
   "cell_type": "markdown",
   "metadata": {},
   "source": []
  },
  {
   "cell_type": "markdown",
   "metadata": {},
   "source": [
    "# List Comprehension\n",
    "1. Get all integers out of a list of numbers, e.x. [1,2.5,100.3,3.0,-1.5,-5]\n",
    "2. Find all numbers from 1-1000 that have a 3 in them.\n",
    "3. Count the number of alphabetic characters in a string (a-z, lower case or upper case)\n",
    "4. [Challenge - requires nesting] - Find all numbers between 1-1000 that are not divisble by any number between 2 and 9.\n"
   ]
  },
  {
   "cell_type": "code",
   "execution_count": 10,
   "metadata": {},
   "outputs": [
    {
     "name": "stdout",
     "output_type": "stream",
     "text": [
      "[1, -5]\n"
     ]
    }
   ],
   "source": [
    "# Get all integers out of a list of numbers, e.x. [1,2.5,100.3,3.0,-1.5,-5]\n",
    "listNumbers = [1, 2.5, 100.3, 3.0, -1.5, -5]\n",
    "intList = [int(num)for num in listNumbers if isinstance(num, int)]\n",
    "print(intList)"
   ]
  },
  {
   "cell_type": "code",
   "execution_count": 21,
   "metadata": {},
   "outputs": [
    {
     "name": "stdout",
     "output_type": "stream",
     "text": [
      "[3, 13, 23, 30, 31, 32, 33, 34, 35, 36, 37, 38, 39, 43, 53, 63, 73, 83, 93, 103, 113, 123, 130, 131, 132, 133, 134, 135, 136, 137, 138, 139, 143, 153, 163, 173, 183, 193, 203, 213, 223, 230, 231, 232, 233, 234, 235, 236, 237, 238, 239, 243, 253, 263, 273, 283, 293, 300, 301, 302, 303, 304, 305, 306, 307, 308, 309, 310, 311, 312, 313, 314, 315, 316, 317, 318, 319, 320, 321, 322, 323, 324, 325, 326, 327, 328, 329, 330, 331, 332, 333, 334, 335, 336, 337, 338, 339, 340, 341, 342, 343, 344, 345, 346, 347, 348, 349, 350, 351, 352, 353, 354, 355, 356, 357, 358, 359, 360, 361, 362, 363, 364, 365, 366, 367, 368, 369, 370, 371, 372, 373, 374, 375, 376, 377, 378, 379, 380, 381, 382, 383, 384, 385, 386, 387, 388, 389, 390, 391, 392, 393, 394, 395, 396, 397, 398, 399, 403, 413, 423, 430, 431, 432, 433, 434, 435, 436, 437, 438, 439, 443, 453, 463, 473, 483, 493, 503, 513, 523, 530, 531, 532, 533, 534, 535, 536, 537, 538, 539, 543, 553, 563, 573, 583, 593, 603, 613, 623, 630, 631, 632, 633, 634, 635, 636, 637, 638, 639, 643, 653, 663, 673, 683, 693, 703, 713, 723, 730, 731, 732, 733, 734, 735, 736, 737, 738, 739, 743, 753, 763, 773, 783, 793, 803, 813, 823, 830, 831, 832, 833, 834, 835, 836, 837, 838, 839, 843, 853, 863, 873, 883, 893, 903, 913, 923, 930, 931, 932, 933, 934, 935, 936, 937, 938, 939, 943, 953, 963, 973, 983, 993]\n",
      "['3', '13', '23', '30', '31', '32', '33', '34', '35', '36', '37', '38', '39', '43', '53', '63', '73', '83', '93', '103', '113', '123', '130', '131', '132', '133', '134', '135', '136', '137', '138', '139', '143', '153', '163', '173', '183', '193', '203', '213', '223', '230', '231', '232', '233', '234', '235', '236', '237', '238', '239', '243', '253', '263', '273', '283', '293', '300', '301', '302', '303', '304', '305', '306', '307', '308', '309', '310', '311', '312', '313', '314', '315', '316', '317', '318', '319', '320', '321', '322', '323', '324', '325', '326', '327', '328', '329', '330', '331', '332', '333', '334', '335', '336', '337', '338', '339', '340', '341', '342', '343', '344', '345', '346', '347', '348', '349', '350', '351', '352', '353', '354', '355', '356', '357', '358', '359', '360', '361', '362', '363', '364', '365', '366', '367', '368', '369', '370', '371', '372', '373', '374', '375', '376', '377', '378', '379', '380', '381', '382', '383', '384', '385', '386', '387', '388', '389', '390', '391', '392', '393', '394', '395', '396', '397', '398', '399', '403', '413', '423', '430', '431', '432', '433', '434', '435', '436', '437', '438', '439', '443', '453', '463', '473', '483', '493', '503', '513', '523', '530', '531', '532', '533', '534', '535', '536', '537', '538', '539', '543', '553', '563', '573', '583', '593', '603', '613', '623', '630', '631', '632', '633', '634', '635', '636', '637', '638', '639', '643', '653', '663', '673', '683', '693', '703', '713', '723', '730', '731', '732', '733', '734', '735', '736', '737', '738', '739', '743', '753', '763', '773', '783', '793', '803', '813', '823', '830', '831', '832', '833', '834', '835', '836', '837', '838', '839', '843', '853', '863', '873', '883', '893', '903', '913', '923', '930', '931', '932', '933', '934', '935', '936', '937', '938', '939', '943', '953', '963', '973', '983', '993']\n"
     ]
    }
   ],
   "source": [
    "# Find all numbers from 1-1000 that have a 3 in them\n",
    "list3=[num for num in range(1,1000) if \"3\" in str(num) ]\n",
    "print(list3)\n",
    "threeNumber=[]\n",
    "for num in range(1, 1000):\n",
    "    num=str(num)\n",
    "    if \"3\" in num:\n",
    "        threeNumber.append(num)\n",
    "print(threeNumber)\n",
    "\n",
    "        "
   ]
  },
  {
   "cell_type": "code",
   "execution_count": 20,
   "metadata": {},
   "outputs": [
    {
     "name": "stdout",
     "output_type": "stream",
     "text": [
      "17\n",
      "17\n"
     ]
    }
   ],
   "source": [
    "#Count the number of alphabetic characters in a string (a-z, lower case or upper case)\n",
    "import string\n",
    "content=\"how are you 123 321password\"\n",
    "numAlp=[char for char in content if char in string.ascii_lowercase or char in string.ascii_letters]\n",
    "print(len(numAlp))\n",
    "count=0\n",
    "for char in content:\n",
    "    if char in string.ascii_lowercase or char in string.ascii_letters:\n",
    "        count=count+len(char)\n",
    "print(count)"
   ]
  },
  {
   "cell_type": "code",
   "execution_count": 18,
   "metadata": {},
   "outputs": [
    {
     "name": "stdout",
     "output_type": "stream",
     "text": [
      "[1, 11, 13, 17, 19, 23, 29, 31, 37, 41, 43, 47, 53, 59, 61, 67, 71, 73, 79, 83, 89, 97, 101, 103, 107, 109, 113, 121, 127, 131, 137, 139, 143, 149, 151, 157, 163, 167, 169, 173, 179, 181, 187, 191, 193, 197, 199, 209, 211, 221, 223, 227, 229, 233, 239, 241, 247, 251, 253, 257, 263, 269, 271, 277, 281, 283, 289, 293, 299, 307, 311, 313, 317, 319, 323, 331, 337, 341, 347, 349, 353, 359, 361, 367, 373, 377, 379, 383, 389, 391, 397, 401, 403, 407, 409, 419, 421, 431, 433, 437, 439, 443, 449, 451, 457, 461, 463, 467, 473, 479, 481, 487, 491, 493, 499, 503, 509, 517, 521, 523, 527, 529, 533, 541, 547, 551, 557, 559, 563, 569, 571, 577, 583, 587, 589, 593, 599, 601, 607, 611, 613, 617, 619, 629, 631, 641, 643, 647, 649, 653, 659, 661, 667, 671, 673, 677, 683, 689, 691, 697, 701, 703, 709, 713, 719, 727, 731, 733, 737, 739, 743, 751, 757, 761, 767, 769, 773, 779, 781, 787, 793, 797, 799, 803, 809, 811, 817, 821, 823, 827, 829, 839, 841, 851, 853, 857, 859, 863, 869, 871, 877, 881, 883, 887, 893, 899, 901, 907, 911, 913, 919, 923, 929, 937, 941, 943, 947, 949, 953, 961, 967, 971, 977, 979, 983, 989, 991, 997]\n",
      "[1, 11, 13, 17, 19, 23, 29, 31, 37, 41, 43, 47, 53, 59, 61, 67, 71, 73, 79, 83, 89, 97, 101, 103, 107, 109, 113, 121, 127, 131, 137, 139, 143, 149, 151, 157, 163, 167, 169, 173, 179, 181, 187, 191, 193, 197, 199, 209, 211, 221, 223, 227, 229, 233, 239, 241, 247, 251, 253, 257, 263, 269, 271, 277, 281, 283, 289, 293, 299, 307, 311, 313, 317, 319, 323, 331, 337, 341, 347, 349, 353, 359, 361, 367, 373, 377, 379, 383, 389, 391, 397, 401, 403, 407, 409, 419, 421, 431, 433, 437, 439, 443, 449, 451, 457, 461, 463, 467, 473, 479, 481, 487, 491, 493, 499, 503, 509, 517, 521, 523, 527, 529, 533, 541, 547, 551, 557, 559, 563, 569, 571, 577, 583, 587, 589, 593, 599, 601, 607, 611, 613, 617, 619, 629, 631, 641, 643, 647, 649, 653, 659, 661, 667, 671, 673, 677, 683, 689, 691, 697, 701, 703, 709, 713, 719, 727, 731, 733, 737, 739, 743, 751, 757, 761, 767, 769, 773, 779, 781, 787, 793, 797, 799, 803, 809, 811, 817, 821, 823, 827, 829, 839, 841, 851, 853, 857, 859, 863, 869, 871, 877, 881, 883, 887, 893, 899, 901, 907, 911, 913, 919, 923, 929, 937, 941, 943, 947, 949, 953, 961, 967, 971, 977, 979, 983, 989, 991, 997]\n"
     ]
    }
   ],
   "source": [
    "#[Challenge - requires nesting] - Find all numbers between 1-1000 that are not divisble by any number between 2 and 9.\n",
    "\n",
    "list4 = [x for x in range(1,1001,1) if  len([y for y in range(2,10,1) if x % y ==0]) == 0 ]\n",
    "list5 = []\n",
    "for x in range(1,1001,1):\n",
    "    isDivisibleByAny = False\n",
    "    for y in range(2,10,1):\n",
    "        if(x % y == 0):\n",
    "            isDivisibleByAny = True\n",
    "    if(isDivisibleByAny == False):\n",
    "        list5.append(x)\n",
    "print(list4)\n",
    "print(list5)        \n",
    "\n"
   ]
  },
  {
   "cell_type": "markdown",
   "metadata": {},
   "source": [
    "# SQL/Big Query (Using the noaa historic severe storms dataset).\n",
    "* Find out what state has had the most historic severe storms between 1980 and 1995\n",
    "* Find the average crop damage for storms in 2011\n",
    "* What was the total number of direct and indirect deaths for storms in 2000? What about the total number of direct or indirect injuries?"
   ]
  },
  {
   "cell_type": "markdown",
   "metadata": {
    "vscode": {
     "languageId": "sql"
    }
   },
   "source": [
    "SELECT sum(deaths_direct)+sum(deaths_indirect) as total_death,sum(injuries_indirect)+sum(injuries_direct) as total_injures\n",
    " FROM `bigquery-public-data.noaa_historic_severe_storms.storms_2000` LIMIT 1000"
   ]
  },
  {
   "cell_type": "markdown",
   "metadata": {
    "vscode": {
     "languageId": "sql"
    }
   },
   "source": [
    "select UNIONED.state, count(UNIONED.event_id) as count_event FROM\n",
    "(\n",
    "(SELECT * FROM `bigquery-public-data.noaa_historic_severe_storms.storms_1981` )\n",
    "UNION ALL\n",
    "(SELECT * FROM `bigquery-public-data.noaa_historic_severe_storms.storms_1982`) \n",
    "UNION ALL\n",
    "(SELECT * FROM `bigquery-public-data.noaa_historic_severe_storms.storms_1983`) \n",
    "UNION ALL\n",
    "(SELECT * FROM `bigquery-public-data.noaa_historic_severe_storms.storms_1984` )\n",
    "UNION ALL\n",
    "(SELECT * FROM `bigquery-public-data.noaa_historic_severe_storms.storms_1985`) \n",
    "UNION ALL\n",
    "(SELECT * FROM `bigquery-public-data.noaa_historic_severe_storms.storms_1986`)\n",
    "UNION ALL \n",
    "(SELECT * FROM `bigquery-public-data.noaa_historic_severe_storms.storms_1987` )\n",
    "UNION ALL\n",
    "(SELECT * FROM `bigquery-public-data.noaa_historic_severe_storms.storms_1988`) \n",
    "UNION ALL\n",
    "(SELECT * FROM `bigquery-public-data.noaa_historic_severe_storms.storms_1989`) \n",
    "UNION ALL\n",
    "(SELECT * FROM `bigquery-public-data.noaa_historic_severe_storms.storms_1990` )\n",
    "UNION ALL\n",
    "(SELECT * FROM `bigquery-public-data.noaa_historic_severe_storms.storms_1991`) \n",
    "UNION ALL\n",
    "(SELECT * FROM `bigquery-public-data.noaa_historic_severe_storms.storms_1992`)\n",
    "UNION ALL \n",
    "(SELECT * FROM `bigquery-public-data.noaa_historic_severe_storms.storms_1993` )\n",
    "UNION ALL\n",
    "(SELECT * FROM `bigquery-public-data.noaa_historic_severe_storms.storms_1994`) \n",
    "UNION ALL\n",
    "(SELECT * FROM `bigquery-public-data.noaa_historic_severe_storms.storms_1995`)\n",
    ") as UNIONED\n",
    "\n",
    "group by UNIONED.state\n",
    "order by count_event desc\n",
    "LIMIT 1000"
   ]
  },
  {
   "cell_type": "markdown",
   "metadata": {
    "vscode": {
     "languageId": "sql"
    }
   },
   "source": [
    "SELECT sum(deaths_direct)+sum(deaths_indirect) as total_death,sum(injuries_indirect)+sum(injuries_direct) as total_injures\n",
    " FROM `bigquery-public-data.noaa_historic_severe_storms.storms_2000` LIMIT 1000"
   ]
  },
  {
   "cell_type": "markdown",
   "metadata": {},
   "source": [
    "# Big Query / Python\n",
    "* Using the same dataset as above, download a CSV to parse in python of the 1000 worst storms in 2022 by magnitude when the magnitude type is \"MG\" or \"EG\" and the magnitude was at least 80\n",
    "* What percent of event types were thunderstorms vs high winds?\n",
    "* What state had the least number of these types of storms?  What state had the most?\n",
    "* What was the mean, median, and standard deviation of the magnitude?\n"
   ]
  },
  {
   "cell_type": "code",
   "execution_count": 2,
   "metadata": {},
   "outputs": [],
   "source": [
    "import csv\n",
    "import numpy as np"
   ]
  },
  {
   "cell_type": "code",
   "execution_count": 4,
   "metadata": {},
   "outputs": [],
   "source": [
    "class severeStorms:\n",
    "    def __init__(self, state, event_type,magnitude_type,magnitude): # DATA INITILIZING\n",
    "        self.state = state\n",
    "        self.event_type = event_type\n",
    "        self.magnitude_type= magnitude_type\n",
    "        self.magnitude = magnitude\n",
    "    def __str__(self):\n",
    "        return f\"{self.state}, {self.event_type},{self.magnitude_type},{self.magnitude}\"\n",
    "    "
   ]
  },
  {
   "cell_type": "code",
   "execution_count": 5,
   "metadata": {},
   "outputs": [],
   "source": [
    "#OPEN CSV FILE\n",
    "stormData= []\n",
    "with open('stormCSV.csv', 'r') as csv_file:\n",
    "    reader = csv.reader(csv_file)\n",
    "    line_count = 0\n",
    "    for col in reader:\n",
    "        if line_count != 0:\n",
    "            rowModel = severeStorms(col[0],col[1],col[2],float(col[3]))\n",
    "            stormData.append(rowModel)\n",
    "        line_count += 1"
   ]
  },
  {
   "cell_type": "code",
   "execution_count": 6,
   "metadata": {},
   "outputs": [
    {
     "name": "stdout",
     "output_type": "stream",
     "text": [
      "Ha, high wind,MG,144.0\n",
      "Ca, high wind,MG,139.0\n",
      "Ca, high wind,MG,136.0\n",
      "Ut, high wind,MG,129.0\n",
      "Ut, high wind,MG,113.0\n",
      "So, thunderstorm wind,EG,113.0\n",
      "Wy, high wind,MG,111.0\n",
      "So, thunderstorm wind,EG,109.0\n",
      "So, thunderstorm wind,MG,104.0\n",
      "So, thunderstorm wind,EG,104.0\n",
      "Ca, high wind,MG,104.0\n",
      "So, thunderstorm wind,MG,104.0\n",
      "No, thunderstorm wind,EG,104.0\n",
      "Oh, thunderstorm wind,EG,104.0\n",
      "Oh, thunderstorm wind,EG,104.0\n",
      "No, thunderstorm wind,EG,104.0\n",
      "Ca, high wind,MG,103.0\n",
      "Ne, high wind,MG,101.0\n",
      "Ca, high wind,MG,101.0\n",
      "Co, high wind,MG,101.0\n",
      "Ka, thunderstorm wind,EG,100.0\n",
      "Ca, high wind,MG,98.0\n",
      "Ca, high wind,MG,97.0\n",
      "Ne, high wind,MG,97.0\n",
      "Wy, high wind,MG,96.0\n",
      "Ca, high wind,MG,96.0\n",
      "No, thunderstorm wind,EG,96.0\n",
      "De, thunderstorm wind,EG,96.0\n",
      "No, thunderstorm wind,EG,96.0\n",
      "De, thunderstorm wind,EG,96.0\n",
      "So, thunderstorm wind,EG,96.0\n",
      "De, thunderstorm wind,EG,96.0\n",
      "Mi, thunderstorm wind,EG,96.0\n",
      "Pe, thunderstorm wind,EG,96.0\n",
      "Ka, thunderstorm wind,EG,96.0\n",
      "Ca, high wind,MG,96.0\n",
      "Mi, thunderstorm wind,EG,96.0\n",
      "Pe, thunderstorm wind,EG,96.0\n",
      "Ca, high wind,MG,96.0\n",
      "Ca, high wind,MG,95.0\n",
      "Ca, high wind,MG,95.0\n",
      "Wy, high wind,MG,95.0\n",
      "Ne, high wind,MG,95.0\n",
      "Ca, high wind,MG,95.0\n",
      "Ne, high wind,MG,94.0\n",
      "Ca, high wind,MG,94.0\n",
      "So, thunderstorm wind,MG,93.0\n",
      "Wy, high wind,MG,93.0\n",
      "Co, high wind,MG,92.0\n",
      "Co, high wind,MG,91.0\n",
      "So, thunderstorm wind,EG,91.0\n",
      "So, thunderstorm wind,EG,91.0\n",
      "Ne, thunderstorm wind,EG,91.0\n",
      "Ca, high wind,MG,91.0\n",
      "Te, thunderstorm wind,EG,91.0\n",
      "Wa, high wind,MG,90.0\n",
      "Ne, high wind,MG,90.0\n",
      "Ca, high wind,MG,90.0\n",
      "Ne, high wind,MG,90.0\n",
      "Ca, high wind,MG,90.0\n",
      "Ca, high wind,MG,89.0\n",
      "Ca, high wind,MG,89.0\n",
      "Ca, high wind,MG,89.0\n",
      "So, thunderstorm wind,MG,89.0\n",
      "We, thunderstorm wind,MG,89.0\n",
      "Ca, high wind,MG,88.0\n",
      "Ca, high wind,MG,88.0\n",
      "Oh, thunderstorm wind,EG,87.0\n",
      "Te, thunderstorm wind,EG,87.0\n",
      "In, thunderstorm wind,EG,87.0\n",
      "In, thunderstorm wind,EG,87.0\n",
      "Ka, thunderstorm wind,EG,87.0\n",
      "Ka, thunderstorm wind,EG,87.0\n",
      "Co, high wind,MG,87.0\n",
      "Ok, thunderstorm wind,EG,87.0\n",
      "Ok, thunderstorm wind,EG,87.0\n",
      "Ok, thunderstorm wind,EG,87.0\n",
      "Ok, thunderstorm wind,EG,87.0\n",
      "Ne, thunderstorm wind,EG,87.0\n",
      "Ok, thunderstorm wind,EG,87.0\n",
      "No, thunderstorm wind,EG,87.0\n",
      "Wy, thunderstorm wind,EG,87.0\n",
      "Ka, thunderstorm wind,EG,87.0\n",
      "Te, thunderstorm wind,EG,87.0\n",
      "Ne, thunderstorm wind,EG,87.0\n",
      "Ka, thunderstorm wind,EG,87.0\n",
      "Ka, thunderstorm wind,EG,87.0\n",
      "Ka, thunderstorm wind,MG,87.0\n",
      "Mi, thunderstorm wind,EG,87.0\n",
      "Al, thunderstorm wind,EG,87.0\n",
      "Ca, high wind,MG,87.0\n",
      "Ar, thunderstorm wind,EG,87.0\n",
      "Te, thunderstorm wind,EG,87.0\n",
      "So, thunderstorm wind,EG,87.0\n",
      "So, thunderstorm wind,EG,87.0\n",
      "Ne, thunderstorm wind,EG,87.0\n",
      "Mi, thunderstorm wind,EG,87.0\n",
      "Ok, thunderstorm wind,EG,87.0\n",
      "Al, thunderstorm wind,EG,87.0\n",
      "Mi, thunderstorm wind,EG,87.0\n",
      "Ne, thunderstorm wind,EG,87.0\n",
      "So, thunderstorm wind,EG,87.0\n",
      "Ne, thunderstorm wind,EG,87.0\n",
      "Mi, thunderstorm wind,EG,87.0\n",
      "In, thunderstorm wind,EG,87.0\n",
      "Wi, thunderstorm wind,EG,87.0\n",
      "Wi, thunderstorm wind,EG,87.0\n",
      "No, thunderstorm wind,EG,87.0\n",
      "Ne, thunderstorm wind,EG,87.0\n",
      "Ok, thunderstorm wind,EG,87.0\n",
      "Ok, thunderstorm wind,EG,87.0\n",
      "Ne, thunderstorm wind,EG,87.0\n",
      "No, thunderstorm wind,EG,87.0\n",
      "Pe, thunderstorm wind,EG,87.0\n",
      "Pe, thunderstorm wind,EG,87.0\n",
      "No, thunderstorm wind,EG,87.0\n",
      "Oh, thunderstorm wind,EG,87.0\n",
      "Ka, thunderstorm wind,EG,86.0\n",
      "Ca, high wind,MG,86.0\n",
      "Ca, high wind,MG,86.0\n",
      "So, thunderstorm wind,MG,86.0\n",
      "Wy, high wind,MG,86.0\n",
      "Wa, high wind,MG,86.0\n",
      "Or, high wind,MG,86.0\n",
      "Ok, thunderstorm wind,MG,86.0\n",
      "Ca, high wind,MG,85.0\n",
      "We, thunderstorm wind,EG,85.0\n",
      "Ca, high wind,MG,85.0\n",
      "Vi, thunderstorm wind,EG,85.0\n",
      "Ne, high wind,MG,84.0\n",
      "So, thunderstorm wind,MG,84.0\n",
      "So, thunderstorm wind,EG,84.0\n",
      "Il, thunderstorm wind,EG,83.0\n",
      "Id, high wind,EG,83.0\n",
      "Or, high wind,MG,83.0\n",
      "Al, thunderstorm wind,EG,83.0\n",
      "So, thunderstorm wind,EG,83.0\n",
      "Ut, high wind,MG,83.0\n",
      "So, thunderstorm wind,MG,83.0\n",
      "Ne, high wind,MG,83.0\n",
      "Te, thunderstorm wind,EG,83.0\n",
      "Ka, thunderstorm wind,EG,83.0\n",
      "Mi, thunderstorm wind,EG,83.0\n",
      "No, thunderstorm wind,EG,83.0\n",
      "Te, thunderstorm wind,EG,83.0\n",
      "Mi, thunderstorm wind,EG,83.0\n",
      "Ka, thunderstorm wind,EG,83.0\n",
      "Mi, thunderstorm wind,EG,83.0\n",
      "Mi, thunderstorm wind,EG,83.0\n",
      "Ca, high wind,MG,83.0\n",
      "Al, high wind,MG,83.0\n",
      "Te, thunderstorm wind,EG,83.0\n",
      "Ut, high wind,EG,83.0\n",
      "Ne, thunderstorm wind,EG,83.0\n",
      "So, thunderstorm wind,EG,83.0\n",
      "So, thunderstorm wind,EG,83.0\n",
      "So, thunderstorm wind,EG,83.0\n",
      "Ka, thunderstorm wind,EG,83.0\n",
      "So, thunderstorm wind,MG,83.0\n",
      "Ne, high wind,MG,83.0\n",
      "Ca, high wind,MG,83.0\n",
      "Ka, thunderstorm wind,EG,83.0\n",
      "So, thunderstorm wind,EG,83.0\n",
      "So, thunderstorm wind,EG,83.0\n",
      "So, thunderstorm wind,EG,83.0\n",
      "So, thunderstorm wind,EG,83.0\n",
      "Ne, thunderstorm wind,EG,83.0\n",
      "Ne, thunderstorm wind,EG,83.0\n",
      "So, thunderstorm wind,EG,83.0\n",
      "So, thunderstorm wind,EG,83.0\n",
      "Ne, thunderstorm wind,EG,83.0\n",
      "Mi, thunderstorm wind,EG,83.0\n",
      "Ca, high wind,MG,83.0\n",
      "Ne, thunderstorm wind,EG,83.0\n",
      "Ne, thunderstorm wind,EG,83.0\n",
      "Mi, thunderstorm wind,EG,83.0\n",
      "Lo, thunderstorm wind,EG,83.0\n",
      "So, thunderstorm wind,EG,83.0\n",
      "Te, thunderstorm wind,EG,83.0\n",
      "Te, thunderstorm wind,EG,83.0\n",
      "Co, high wind,MG,83.0\n",
      "Te, high wind,MG,83.0\n",
      "Lo, thunderstorm wind,EG,83.0\n",
      "Oh, thunderstorm wind,EG,83.0\n",
      "Ka, thunderstorm wind,EG,82.0\n",
      "Or, high wind,MG,82.0\n",
      "Mi, thunderstorm wind,MG,82.0\n",
      "Wy, high wind,MG,82.0\n",
      "Mi, thunderstorm wind,MG,82.0\n",
      "Wy, thunderstorm wind,MG,82.0\n",
      "Wy, thunderstorm wind,MG,82.0\n",
      "Oh, thunderstorm wind,EG,82.0\n",
      "Ne, high wind,MG,82.0\n",
      "Wy, high wind,MG,81.0\n",
      "Or, high wind,MG,81.0\n",
      "Ne, high wind,MG,81.0\n",
      "Ne, high wind,MG,81.0\n",
      "Mi, thunderstorm wind,EG,81.0\n",
      "Al, thunderstorm wind,EG,81.0\n",
      "Al, thunderstorm wind,EG,81.0\n",
      "Ne, high wind,MG,81.0\n",
      "Ne, high wind,MG,81.0\n",
      "Ca, high wind,EG,81.0\n",
      "Ne, high wind,MG,81.0\n",
      "Mi, thunderstorm wind,EG,80.0\n",
      "So, thunderstorm wind,EG,80.0\n",
      "Vi, thunderstorm wind,EG,80.0\n",
      "Ka, thunderstorm wind,MG,80.0\n",
      "Ca, high wind,MG,80.0\n",
      "Ma, thunderstorm wind,EG,80.0\n",
      "Ma, thunderstorm wind,EG,80.0\n",
      "Ka, thunderstorm wind,EG,80.0\n",
      "Ka, thunderstorm wind,EG,80.0\n",
      "Ka, thunderstorm wind,EG,80.0\n",
      "Ka, thunderstorm wind,EG,80.0\n",
      "So, thunderstorm wind,EG,80.0\n",
      "Ka, thunderstorm wind,EG,80.0\n",
      "Ka, thunderstorm wind,EG,80.0\n",
      "Ka, thunderstorm wind,EG,80.0\n",
      "Mi, thunderstorm wind,EG,80.0\n",
      "Fl, thunderstorm wind,EG,80.0\n",
      "Ka, thunderstorm wind,EG,80.0\n",
      "Oh, thunderstorm wind,EG,80.0\n",
      "Vi, thunderstorm wind,EG,80.0\n",
      "So, thunderstorm wind,MG,80.0\n",
      "Wy, high wind,MG,80.0\n",
      "Al, high wind,MG,80.0\n"
     ]
    }
   ],
   "source": [
    "for x in stormData:\n",
    "    print(x)"
   ]
  },
  {
   "cell_type": "code",
   "execution_count": 7,
   "metadata": {},
   "outputs": [
    {
     "name": "stdout",
     "output_type": "stream",
     "text": [
      "thunderstorm Percentage: 67\n",
      "highWind Percentage: 33\n"
     ]
    }
   ],
   "source": [
    "## What percent of event types were thunderstorms vs high winds?\n",
    "thunderStorm=[]\n",
    "for thunder in stormData:\n",
    "    if thunder.event_type==\"thunderstorm wind\":\n",
    "        thunderStorm.append(thunder)\n",
    "highWind=[]\n",
    "for Wind in stormData:\n",
    "    if Wind.event_type==\"high wind\":\n",
    "        highWind.append(Wind)\n",
    "percentthundestorm=round(len(thunderStorm)/len(stormData)*100) ## finding percentage by calculating length of thunderstorm list by total data\n",
    "percenthighWind=round(len(highWind)/len(stormData)*100) ## finding percentage by calculating length of high wind by total data\n",
    "print(\"thunderstorm Percentage:\",percentthundestorm)\n",
    "print(\"highWind Percentage:\",percenthighWind)"
   ]
  },
  {
   "cell_type": "code",
   "execution_count": 8,
   "metadata": {},
   "outputs": [
    {
     "name": "stdout",
     "output_type": "stream",
     "text": [
      "{'Ha': 1, 'Ca': 32, 'Ut': 4, 'So': 32, 'Wy': 11, 'No': 9, 'Oh': 7, 'Ne': 29, 'Co': 5, 'Ka': 23, 'De': 3, 'Mi': 17, 'Pe': 4, 'Te': 10, 'Wa': 2, 'We': 2, 'In': 3, 'Ok': 9, 'Al': 7, 'Ar': 1, 'Wi': 2, 'Or': 4, 'Vi': 3, 'Il': 1, 'Id': 1, 'Lo': 2, 'Ma': 2, 'Fl': 1}\n",
      "least state ['Ha', 'Ar', 'Il', 'Id', 'Fl']\n",
      "Most storm ['Ca', 'So']\n"
     ]
    }
   ],
   "source": [
    "## What state had the least number of these types of storms?  What state had the most?\n",
    "\n",
    "ystate=[y.state for y in stormData]\n",
    "occurrence={item:ystate.count(item) for item  in ystate}# creating dict{key ,value} {keys are the unique items from the ystate list, count(each item's from the list)}\n",
    "print(occurrence)\n",
    "minValue=min(occurrence.values())\n",
    "maxValue=max(occurrence.values())\n",
    "leastStatevalue=[key for key  in occurrence if occurrence[key]== minValue] # finding keys from the values\n",
    "maxState=[key for key  in occurrence if occurrence[key]== maxValue]\n",
    "print(\"least state\",leastStatevalue)\n",
    "print(\"Most storm\", maxState)\n",
    "\n",
    "\n",
    "\n",
    "    \n"
   ]
  },
  {
   "cell_type": "code",
   "execution_count": 9,
   "metadata": {},
   "outputs": [
    {
     "name": "stdout",
     "output_type": "stream",
     "text": [
      "[144.0, 139.0, 136.0, 129.0, 113.0, 113.0, 111.0, 109.0, 104.0, 104.0, 104.0, 104.0, 104.0, 104.0, 104.0, 104.0, 103.0, 101.0, 101.0, 101.0, 100.0, 98.0, 97.0, 97.0, 96.0, 96.0, 96.0, 96.0, 96.0, 96.0, 96.0, 96.0, 96.0, 96.0, 96.0, 96.0, 96.0, 96.0, 96.0, 95.0, 95.0, 95.0, 95.0, 95.0, 94.0, 94.0, 93.0, 93.0, 92.0, 91.0, 91.0, 91.0, 91.0, 91.0, 91.0, 90.0, 90.0, 90.0, 90.0, 90.0, 89.0, 89.0, 89.0, 89.0, 89.0, 88.0, 88.0, 87.0, 87.0, 87.0, 87.0, 87.0, 87.0, 87.0, 87.0, 87.0, 87.0, 87.0, 87.0, 87.0, 87.0, 87.0, 87.0, 87.0, 87.0, 87.0, 87.0, 87.0, 87.0, 87.0, 87.0, 87.0, 87.0, 87.0, 87.0, 87.0, 87.0, 87.0, 87.0, 87.0, 87.0, 87.0, 87.0, 87.0, 87.0, 87.0, 87.0, 87.0, 87.0, 87.0, 87.0, 87.0, 87.0, 87.0, 87.0, 87.0, 87.0, 86.0, 86.0, 86.0, 86.0, 86.0, 86.0, 86.0, 86.0, 85.0, 85.0, 85.0, 85.0, 84.0, 84.0, 84.0, 83.0, 83.0, 83.0, 83.0, 83.0, 83.0, 83.0, 83.0, 83.0, 83.0, 83.0, 83.0, 83.0, 83.0, 83.0, 83.0, 83.0, 83.0, 83.0, 83.0, 83.0, 83.0, 83.0, 83.0, 83.0, 83.0, 83.0, 83.0, 83.0, 83.0, 83.0, 83.0, 83.0, 83.0, 83.0, 83.0, 83.0, 83.0, 83.0, 83.0, 83.0, 83.0, 83.0, 83.0, 83.0, 83.0, 83.0, 83.0, 83.0, 83.0, 83.0, 83.0, 82.0, 82.0, 82.0, 82.0, 82.0, 82.0, 82.0, 82.0, 82.0, 81.0, 81.0, 81.0, 81.0, 81.0, 81.0, 81.0, 81.0, 81.0, 81.0, 81.0, 80.0, 80.0, 80.0, 80.0, 80.0, 80.0, 80.0, 80.0, 80.0, 80.0, 80.0, 80.0, 80.0, 80.0, 80.0, 80.0, 80.0, 80.0, 80.0, 80.0, 80.0, 80.0, 80.0]\n",
      "mean: 88.26872246696036\n",
      "median: 87.0\n",
      "standard Deviation: 9.464659033193188\n"
     ]
    }
   ],
   "source": [
    "allMagnitudes=[z.magnitude for z in stormData]\n",
    "print(allMagnitudes)\n",
    "print(\"mean:\",np.mean(allMagnitudes))\n",
    "print(\"median:\",np.median(allMagnitudes))\n",
    "print(\"standard Deviation:\", np.std(allMagnitudes))\n",
    "\n"
   ]
  }
 ],
 "metadata": {
  "kernelspec": {
   "display_name": "Python 3",
   "language": "python",
   "name": "python3"
  },
  "language_info": {
   "codemirror_mode": {
    "name": "ipython",
    "version": 3
   },
   "file_extension": ".py",
   "mimetype": "text/x-python",
   "name": "python",
   "nbconvert_exporter": "python",
   "pygments_lexer": "ipython3",
   "version": "3.12.0"
  }
 },
 "nbformat": 4,
 "nbformat_minor": 2
}
