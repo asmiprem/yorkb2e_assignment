{
 "cells": [
  {
   "cell_type": "markdown",
   "metadata": {},
   "source": [
    "# 1d Array\n",
    "* Create a 1-dimensional NumPy array with elements [1, 2, 3, 4, 5, 6, 7, 8, 9, 10].\n",
    "* Calculate the sum and average of the array elements.\n",
    "* Multiply the array by a scalar value of 3.\n",
    "* Slice the array to select elements from the 3rd to the 7th position.\n",
    "* Compute the sum and average of the sliced array"
   ]
  },
  {
   "cell_type": "code",
   "execution_count": 2,
   "metadata": {},
   "outputs": [
    {
     "name": "stdout",
     "output_type": "stream",
     "text": [
      "Sum of arr :  55\n",
      "Average of arr :  5.5\n",
      "Multipliacation  of arr  by 3:  [ 3  6  9 12 15 18 21 24 27 30]\n",
      "Slice the array to select elements from the 3rd to the 7th position: [3 4 5 6 7]\n",
      "sum and average of sliced array: 25\n",
      "Average of sliced array: 5.0\n"
     ]
    }
   ],
   "source": [
    "\n",
    "import numpy as np\n",
    "a=np.array([1, 2, 3, 4, 5, 6, 7, 8, 9, 10])\n",
    "print(\"Sum of arr : \", np.sum(a)) \n",
    "print(\"Average of arr : \", np.average(a)) \n",
    "print(\"Multipliacation  of arr  by 3: \", a*3) \n",
    "print(\"Slice the array to select elements from the 3rd to the 7th position:\",a[2:7])\n",
    "print(\"sum and average of sliced array:\",np.sum(a[2:7]))\n",
    "print(\"Average of sliced array:\",np.average(a[2:7]))"
   ]
  },
  {
   "cell_type": "markdown",
   "metadata": {},
   "source": [
    "# Multi-dimensional array\n",
    "* Create a 3x3 matrix with the following rows in order: {3,4,5} {6,7,8} {9,1,2}\n",
    "* Print the element in the second row, third column.\n",
    "* Print the second row\n",
    "* Print the second column\n",
    "* Compute the transpose of the matrix'''"
   ]
  },
  {
   "cell_type": "code",
   "execution_count": 3,
   "metadata": {},
   "outputs": [
    {
     "name": "stdout",
     "output_type": "stream",
     "text": [
      "Element in 2nd row 3rd column: 8\n",
      "Print the second row: [[6 7 8]]\n",
      "Print second column: [[4]\n",
      " [7]\n",
      " [1]]\n",
      "Transpose of the matrix: [[3 6 9]\n",
      " [4 7 1]\n",
      " [5 8 2]]\n"
     ]
    }
   ],
   "source": [
    "\n",
    "matrixArray=np.matrix([[3,4,5],[6,7,8],[9,1,2]])\n",
    "print(\"Element in 2nd row 3rd column:\", matrixArray[1,2])\n",
    "print(\"Print the second row:\", matrixArray[1,:3])\n",
    "print(\"Print second column:\",matrixArray[:,1])\n",
    "print(\"Transpose of the matrix:\", matrixArray.transpose())"
   ]
  },
  {
   "cell_type": "markdown",
   "metadata": {},
   "source": [
    "# Concatenation\n",
    "* Create two 1-d arrays: [5,1,4,2] and [6,10,11,7]\n",
    "* Concatenate the two arrays\n",
    "* Sort the new array from lowest to highest\n",
    "* Split the result from the previous step into two equal sized arrays\n",
    "\n",
    "\n"
   ]
  },
  {
   "cell_type": "code",
   "execution_count": 4,
   "metadata": {},
   "outputs": [
    {
     "name": "stdout",
     "output_type": "stream",
     "text": [
      "Concatenate two arrays: [ 5  1  4  2  6 10 11  7]\n",
      "Sort arrays from lowest to highest: [ 1  2  4  5  6  7 10 11]\n",
      "Split the array: [array([1, 2, 4, 5]), array([ 6,  7, 10, 11])]\n"
     ]
    }
   ],
   "source": [
    "a1=np.array([5,1,4,2])\n",
    "a2=np.array([6,10,11,7])\n",
    "newArray=np.concatenate([a1,a2])\n",
    "sortArray=np.sort(newArray)\n",
    "print(\"Concatenate two arrays:\", newArray)\n",
    "print(\"Sort arrays from lowest to highest:\",sortArray)\n",
    "print(\"Split the array:\", np.array_split(sortArray, 2))"
   ]
  },
  {
   "cell_type": "markdown",
   "metadata": {},
   "source": [
    "# Mathematical functions\n",
    "* Create an array with values from 0 to 4*pi in increments of pi/2 (pi refers to the mathematical constant  π)\n",
    "* Compute an array that applies the mathematical sin function to the original array\n",
    "* Do the same for the following mathematical functions: cos, log, exp\n",
    "* Compute the mean, median, and standard deviation of each resultant array"
   ]
  },
  {
   "cell_type": "code",
   "execution_count": 5,
   "metadata": {},
   "outputs": [
    {
     "name": "stdout",
     "output_type": "stream",
     "text": [
      "[ 0.          1.57079633  3.14159265  4.71238898  6.28318531  7.85398163\n",
      "  9.42477796 10.99557429 12.56637061]\n",
      "mean: 6.283185307179587\n",
      "medium: 6.283185307179586\n",
      "standard deviation: 4.055778675973612\n",
      " Sin function: [ 0.0000000e+00  1.0000000e+00  1.2246468e-16 -1.0000000e+00\n",
      " -2.4492936e-16  1.0000000e+00  3.6739404e-16 -1.0000000e+00\n",
      " -4.8985872e-16]\n",
      "mean of sinArray: -2.975712385932333e-17\n",
      "medium of SinArray: 0.0\n",
      "standard deviation of sinArray: 0.6666666666666666\n",
      "cos function: [ 1.0000000e+00  6.1232340e-17 -1.0000000e+00 -1.8369702e-16\n",
      "  1.0000000e+00  3.0616170e-16 -1.0000000e+00 -4.2862638e-16\n",
      "  1.0000000e+00]\n",
      "mean of cosArray: 0.11111111111111106\n",
      "medium of cosArray: 6.123233995736766e-17\n",
      "standard deviation of cosArray: 0.7370277311900889\n",
      "log function: [      -inf 0.45158271 1.14472989 1.55019499 1.83787707 2.06102062\n",
      " 2.24334217 2.39749285 2.53102425]\n",
      "mean of logArray: -inf\n",
      "medium of logArray: 1.8378770664093453\n",
      "standard deviation of logArray: nan\n",
      "exp value:  [1.00000000e+00 4.81047738e+00 2.31406926e+01 1.11317778e+02\n",
      " 5.35491656e+02 2.57597050e+03 1.23916478e+04 5.96097415e+04\n",
      " 2.86751313e+05]\n",
      "mean of expArray: 40222.7148375631\n",
      "medium of expArray: 535.4916555247646\n",
      "standard deviation of expArray: 89056.36419225672\n"
     ]
    },
    {
     "name": "stderr",
     "output_type": "stream",
     "text": [
      "/var/folders/7s/7j9cxlw57jz9dscyz4mx7p780000gn/T/ipykernel_1155/3368016497.py:9: RuntimeWarning: divide by zero encountered in log\n",
      "  logArray=np.log(valuesArray)\n",
      "/Library/Frameworks/Python.framework/Versions/3.12/lib/python3.12/site-packages/numpy/core/_methods.py:173: RuntimeWarning: invalid value encountered in subtract\n",
      "  x = asanyarray(arr - arrmean)\n"
     ]
    }
   ],
   "source": [
    "import math\n",
    "valuesArray=np.arange(0,(math.pi*4+math.pi/2),math.pi/2)\n",
    "print(valuesArray)\n",
    "print(\"mean:\", np.mean(valuesArray))\n",
    "print(\"medium:\", np.median(valuesArray))\n",
    "print(\"standard deviation:\", np.std(valuesArray))\n",
    "sinArray=np.sin(valuesArray)\n",
    "cosArray=np.cos(valuesArray)\n",
    "logArray=np.log(valuesArray)\n",
    "expArray=np.exp(valuesArray)\n",
    "print(\" Sin function:\", sinArray)\n",
    "print(\"mean of sinArray:\", np.mean(sinArray))\n",
    "print(\"medium of SinArray:\", np.median(sinArray))\n",
    "print(\"standard deviation of sinArray:\", np.std(sinArray))\n",
    "print(\"cos function:\", cosArray)\n",
    "print(\"mean of cosArray:\", np.mean(cosArray))\n",
    "print(\"medium of cosArray:\", np.median(cosArray))\n",
    "print(\"standard deviation of cosArray:\", np.std(cosArray))\n",
    "print(\"log function:\", logArray)\n",
    "print(\"mean of logArray:\", np.mean(logArray))\n",
    "print(\"medium of logArray:\", np.median(logArray))\n",
    "print(\"standard deviation of logArray:\", np.std(logArray))\n",
    "print(\"exp value: \",expArray)\n",
    "print(\"mean of expArray:\", np.mean(expArray))\n",
    "print(\"medium of expArray:\", np.median(expArray))\n",
    "print(\"standard deviation of expArray:\", np.std(expArray))\n",
    "\n",
    "\n",
    "\n",
    "\n",
    "\n",
    "\n",
    "\n",
    "\n",
    "\n"
   ]
  },
  {
   "cell_type": "markdown",
   "metadata": {},
   "source": [
    "# Boolean Indexing and Filtering\n",
    "* Create a 1-d array with all multiples of 5 from 15 to 80, and also include 12\n",
    "* Create a boolean array that identifies elements which are greater than 25\n",
    "* Use that boolean array to filter out elements greater than 25 from the original array."
   ]
  },
  {
   "cell_type": "code",
   "execution_count": 6,
   "metadata": {},
   "outputs": [
    {
     "name": "stdout",
     "output_type": "stream",
     "text": [
      "[15 20 25 30 35 40 45 50 55 60 65 70 75 12]\n",
      "[False False False  True  True  True  True  True  True  True  True  True\n",
      "  True False]\n",
      "[15 20 25 12]\n"
     ]
    }
   ],
   "source": [
    "multicationArray=np.arange(15,80,5)\n",
    "multicationArray=np.append(multicationArray,12)\n",
    "print(multicationArray)\n",
    "boolenArray=multicationArray>25\n",
    "print(boolenArray)\n",
    "print(multicationArray[~boolenArray])"
   ]
  },
  {
   "cell_type": "markdown",
   "metadata": {},
   "source": []
  }
 ],
 "metadata": {
  "kernelspec": {
   "display_name": "Python 3",
   "language": "python",
   "name": "python3"
  },
  "language_info": {
   "codemirror_mode": {
    "name": "ipython",
    "version": 3
   },
   "file_extension": ".py",
   "mimetype": "text/x-python",
   "name": "python",
   "nbconvert_exporter": "python",
   "pygments_lexer": "ipython3",
   "version": "3.12.0"
  }
 },
 "nbformat": 4,
 "nbformat_minor": 2
}
