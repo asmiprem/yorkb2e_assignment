{
 "cells": [
  {
   "cell_type": "code",
   "execution_count": 30,
   "metadata": {},
   "outputs": [
    {
     "name": "stdout",
     "output_type": "stream",
     "text": [
      "Multiplication Result: 50\n"
     ]
    }
   ],
   "source": [
    "# The asterisk (*) is used for multiplication.\n",
    "result = 5 * 10\n",
    "print(f\"Multiplication Result: {result}\")"
   ]
  },
  {
   "cell_type": "code",
   "execution_count": 31,
   "metadata": {},
   "outputs": [
    {
     "name": "stdout",
     "output_type": "stream",
     "text": [
      "Exponentiation Result: 8\n"
     ]
    }
   ],
   "source": [
    "# The double asterisk (**) is used for exponentiation.\n",
    "power_result = 2 ** 3\n",
    "print(f\"Exponentiation Result: {power_result}\")"
   ]
  },
  {
   "cell_type": "code",
   "execution_count": 32,
   "metadata": {},
   "outputs": [
    {
     "name": "stdout",
     "output_type": "stream",
     "text": [
      "Repeated List: [1, 2, 1, 2, 1, 2]\n"
     ]
    }
   ],
   "source": [
    "# The asterisk (*) is used to repeat elements in a list.\n",
    "repeated_list = [1, 2] * 3\n",
    "print(f\"Repeated List: {repeated_list}\")"
   ]
  },
  {
   "cell_type": "code",
   "execution_count": 33,
   "metadata": {},
   "outputs": [
    {
     "name": "stdout",
     "output_type": "stream",
     "text": [
      "Name: John, Age: 25, City: New York\n"
     ]
    }
   ],
   "source": [
    "def display_info(name, age, city):\n",
    "    print(f\"Name: {name}, Age: {age}, City: {city}\")\n",
    "\n",
    "info_dict = {'name': 'John', 'age': 25, 'city': 'New York'}\n",
    "display_info(**info_dict)"
   ]
  },
  {
   "cell_type": "markdown",
   "metadata": {},
   "source": [
    "## List\n"
   ]
  },
  {
   "cell_type": "code",
   "execution_count": 39,
   "metadata": {},
   "outputs": [
    {
     "name": "stdout",
     "output_type": "stream",
     "text": [
      "[1, 2, 3, 4, 5, 5, 5, 5]\n",
      "[1, 2, 3, 5, 5, 5, 5]\n",
      "[2, 3, 5, 5, 5, 5]\n",
      "[1, 3, 5, 5, 5, 5]\n",
      "number of 5 in list: 4\n",
      "index of 5 2\n"
     ]
    }
   ],
   "source": [
    "sample=[1,2,3,4,5,5,5]\n",
    "sample.append(5)# add\n",
    "print(sample)\n",
    "sample.remove(4)# remove\n",
    "print(sample)\n",
    "del sample[0]#del from loc\n",
    "print(sample)\n",
    "sample[0]=1# modify \n",
    "print(sample)\n",
    "count5= sample.count(5)\n",
    "print(\"number of 5 in list:\",count5)\n",
    "print(\"index of 5\",sample.index(5))# occuance of first 5"
   ]
  },
  {
   "cell_type": "code",
   "execution_count": 40,
   "metadata": {},
   "outputs": [
    {
     "name": "stdout",
     "output_type": "stream",
     "text": [
      "1\n",
      "index of 5 2\n",
      "3\n",
      "index of 5 2\n",
      "5\n",
      "index of 5 2\n",
      "5\n",
      "index of 5 2\n",
      "5\n",
      "index of 5 2\n",
      "5\n",
      "index of 5 2\n"
     ]
    }
   ],
   "source": [
    "for item in sample:\n",
    "    print(item)\n",
    "    "
   ]
  },
  {
   "cell_type": "code",
   "execution_count": 36,
   "metadata": {},
   "outputs": [
    {
     "name": "stdout",
     "output_type": "stream",
     "text": [
      "Index: 0, Value: 1\n",
      "Index: 1, Value: 3\n",
      "Index: 2, Value: 5\n",
      "Index: 3, Value: 5\n",
      "Index: 4, Value: 5\n",
      "Index: 5, Value: 5\n"
     ]
    }
   ],
   "source": [
    "for index, value in enumerate(sample):\n",
    "    print(f\"Index: {index}, Value: {value}\")"
   ]
  },
  {
   "cell_type": "markdown",
   "metadata": {},
   "source": [
    " sets, tuples, and dictionaries."
   ]
  },
  {
   "cell_type": "markdown",
   "metadata": {},
   "source": [
    "##  tuple"
   ]
  },
  {
   "cell_type": "code",
   "execution_count": 38,
   "metadata": {},
   "outputs": [
    {
     "name": "stdout",
     "output_type": "stream",
     "text": [
      "Index of 3: 2\n"
     ]
    }
   ],
   "source": [
    "# tuple\n",
    "tuple_sample= (1, 2, 3, 4, 5)\n",
    "index_of_3 = tuple_sample.index(3)\n",
    "print(f\"Index of 3: {index_of_3}\")"
   ]
  },
  {
   "cell_type": "code",
   "execution_count": 61,
   "metadata": {},
   "outputs": [
    {
     "name": "stdout",
     "output_type": "stream",
     "text": [
      "\n",
      "Tuple with nested tuples: \n",
      "((0, 1, 2, 3), ('python', 'tuple'))\n"
     ]
    }
   ],
   "source": [
    "# Creating a Tuple\n",
    "# with nested tuples\n",
    "Tuple1 = (0, 1, 2, 3)\n",
    "Tuple2 = ('python', 'tuple')\n",
    "Tuple3 = (Tuple1, Tuple2)\n",
    "print(\"\\nTuple with nested tuples: \")\n",
    "print(Tuple3)"
   ]
  },
  {
   "cell_type": "markdown",
   "metadata": {},
   "source": [
    "## Dict"
   ]
  },
  {
   "cell_type": "code",
   "execution_count": 43,
   "metadata": {},
   "outputs": [],
   "source": [
    "dict = {\n",
    "    'name': \"sheela\", \n",
    "    'age': 23, \n",
    "    'address': \"4th\"\n",
    "    }"
   ]
  },
  {
   "cell_type": "code",
   "execution_count": 45,
   "metadata": {},
   "outputs": [
    {
     "name": "stdout",
     "output_type": "stream",
     "text": [
      "sheela\n"
     ]
    }
   ],
   "source": [
    "print(dict['name'])"
   ]
  },
  {
   "cell_type": "code",
   "execution_count": 46,
   "metadata": {},
   "outputs": [
    {
     "name": "stdout",
     "output_type": "stream",
     "text": [
      "Key: name, Value: sheela\n",
      "sheela\n",
      "Key: age, Value: 23\n",
      "23\n",
      "Key: address, Value: 4th\n",
      "4th\n"
     ]
    }
   ],
   "source": [
    "for key, value in dict.items():\n",
    "    print(f\"Key: {key}, Value: {value}\")\n",
    "    print(value)"
   ]
  },
  {
   "cell_type": "code",
   "execution_count": 49,
   "metadata": {},
   "outputs": [],
   "source": [
    "dict['name'] = \"student2\"# modifying the name\n",
    "dict['age'] = 22"
   ]
  },
  {
   "cell_type": "code",
   "execution_count": 48,
   "metadata": {},
   "outputs": [
    {
     "name": "stdout",
     "output_type": "stream",
     "text": [
      "Key: name, Value: student2\n",
      "student2\n",
      "Key: age, Value: 22\n",
      "22\n",
      "Key: address, Value: 4th\n",
      "4th\n"
     ]
    }
   ],
   "source": [
    "for key, value in dict.items():\n",
    "    print(f\"Key: {key}, Value: {value}\")\n",
    "    print(value)"
   ]
  },
  {
   "cell_type": "code",
   "execution_count": 50,
   "metadata": {},
   "outputs": [],
   "source": [
    "# adding to dictionary\n",
    "dict['school']='GS'"
   ]
  },
  {
   "cell_type": "code",
   "execution_count": 51,
   "metadata": {},
   "outputs": [
    {
     "name": "stdout",
     "output_type": "stream",
     "text": [
      "Key: name, Value: student2\n",
      "Key: age, Value: 22\n",
      "Key: address, Value: 4th\n",
      "Key: school, Value: GS\n"
     ]
    }
   ],
   "source": [
    "for key, value in dict.items():\n",
    "    print(f\"Key: {key}, Value: {value}\")"
   ]
  },
  {
   "cell_type": "code",
   "execution_count": 59,
   "metadata": {},
   "outputs": [
    {
     "name": "stdout",
     "output_type": "stream",
     "text": [
      "{1, 2, 4, 5, 6}\n"
     ]
    }
   ],
   "source": [
    "my_set = {1, 2, 3, 4, 5,6,6}# no duplicates # no order\n",
    "\n",
    "# Addition\n",
    "my_set.add(6)\n",
    "\n",
    "# Deletion\n",
    "my_set.remove(3)\n",
    "print(my_set)\n",
    "#print(my_set.index(4))cant use inddex"
   ]
  },
  {
   "cell_type": "code",
   "execution_count": null,
   "metadata": {},
   "outputs": [],
   "source": [
    "if operation == \"args_kwargs\":\n",
    "                 \n",
    "                 def samp(*args,**kwargs):\n",
    "                    print(*args)\n",
    "                    # print(**kwargs)  # throws error???\n",
    "                    for arg in args:\n",
    "                          print(\"arguments: \", arg)\n",
    "                    for keyword in kwargs:\n",
    "                          print(\"keyword, arguments: \", keyword, kwargs[keyword])\n",
    "                    \n",
    "                 samp(3,4,5,this=6,that=7)\n",
    "    \n",
    "asterisk(\"subsetting\")"
   ]
  },
  {
   "cell_type": "code",
   "execution_count": null,
   "metadata": {},
   "outputs": [],
   "source": [
    "if operation == \"args_kwargs\":\n",
    "                 \n",
    "                 def samp(*args,**kwargs):\n",
    "                    print(*args)\n",
    "                    # print(**kwargs)  # throws error???\n",
    "                    for arg in args:\n",
    "                          print(\"arguments: \", arg)\n",
    "                    for keyword in kwargs:\n",
    "                          print(\"keyword, arguments: \", keyword, kwargs[keyword])\n",
    "                    \n",
    "                 samp(3,4,5,this=6,that=7)\n",
    "    \n",
    "asterisk(\"subsetting\")"
   ]
  }
 ],
 "metadata": {
  "kernelspec": {
   "display_name": "Python 3",
   "language": "python",
   "name": "python3"
  },
  "language_info": {
   "codemirror_mode": {
    "name": "ipython",
    "version": 3
   },
   "file_extension": ".py",
   "mimetype": "text/x-python",
   "name": "python",
   "nbconvert_exporter": "python",
   "pygments_lexer": "ipython3",
   "version": "3.12.0"
  }
 },
 "nbformat": 4,
 "nbformat_minor": 2
}
