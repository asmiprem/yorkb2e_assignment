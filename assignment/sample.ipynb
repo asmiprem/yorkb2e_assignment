{
 "cells": [
  {
   "cell_type": "code",
   "execution_count": null,
   "metadata": {},
   "outputs": [],
   "source": [
    "with pool.connect() as db_conn:\n",
    "  db_conn.execute(sqlalchemy.text(\"DROP TABLE IF EXISTS ratings;\"))\n",
    "  db_conn.execute(\n",
    "    sqlalchemy.text(\n",
    "      \"CREATE TABLE IF NOT EXISTS ratings \"\n",
    "      \"( id SERIAL NOT NULL, name VARCHAR(255) NOT NULL, \"\n",
    "      \"origin VARCHAR(255) NOT NULL, rating FLOAT NOT NULL, \"\n",
    "      \"PRIMARY KEY (id));\"\n",
    "    )\n",
    "  )\n",
    "\n",
    "  # commit transaction (SQLAlchemy v2.X.X is commit as you go)\n",
    "  db_conn.commit()\n",
    "  insert_stmt = sqlalchemy.text(\n",
    "      \"INSERT INTO ratings (name, origin, rating) VALUES (:name, :origin, :rating)\",\n",
    "  )\n",
    "\n",
    "  # insert entries into table\n",
    "  db_conn.execute(insert_stmt, parameters={\"name\": \"HOTDOG\", \"origin\": \"Germany\", \"rating\": 7.5})\n",
    "  db_conn.execute(insert_stmt, parameters={\"name\": \"BÀNH MÌ\", \"origin\": \"Vietnam\", \"rating\": 9.1})\n",
    "  db_conn.execute(insert_stmt, parameters={\"name\": \"CROQUE MADAME\", \"origin\": \"France\", \"rating\": 8.3})\n",
    "\n",
    "  # commit transactions\n",
    "  db_conn.commit()\n",
    "\n",
    "  # query and fetch ratings table\n",
    "  results = db_conn.execute(sqlalchemy.text(\"SELECT * FROM ratings\")).fetchall()\n",
    "\n",
    "  # show results\n",
    "  for row in results:\n",
    "    print(row)"
   ]
  },
  {
   "cell_type": "code",
   "execution_count": null,
   "metadata": {},
   "outputs": [],
   "source": []
  }
 ],
 "metadata": {
  "language_info": {
   "name": "python"
  }
 },
 "nbformat": 4,
 "nbformat_minor": 2
}
