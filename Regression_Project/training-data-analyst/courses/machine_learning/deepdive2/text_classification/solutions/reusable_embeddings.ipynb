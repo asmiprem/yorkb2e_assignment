{
 "cells": [
  {
   "cell_type": "markdown",
   "metadata": {},
   "source": [
    "# Reusable Embeddings\n",
    "\n",
    "**Learning Objectives**\n",
    "1. Learn how to use a pre-trained TF Hub text modules to generate sentence vectors.\n",
    "1. Learn how to incorporate a pre-trained TF-Hub module into a Keras model.\n",
    "1. Learn how to deploy and use a text model on CAIP.\n",
    "\n",
    "\n",
    "\n",
    "## Introduction\n",
    "\n",
    "\n",
    "In this notebook, we will implement text models to recognize the probable source (Github, Tech-Crunch, or The New-York Times) of the titles we have in the title dataset.\n",
    "\n",
    "First, we will load and pre-process the texts and labels so that they are suitable to be fed to sequential Keras models with first layer being TF-hub pre-trained modules. Thanks to this first layer, we won't need to tokenize and integerize the text before passing it to our models. The pre-trained layer will take care of that for us, and consume directly raw text. However, we will still have to one-hot-encode each of the 3 classes into a 3 dimensional basis vector.\n",
    "\n",
    "Then we will build, train and compare simple DNN models starting with different pre-trained TF-Hub layers."
   ]
  },
  {
   "cell_type": "code",
   "execution_count": 1,
   "metadata": {},
   "outputs": [],
   "source": [
    "import os\n",
    "\n",
    "from google.cloud import bigquery\n",
    "import pandas as pd"
   ]
  },
  {
   "cell_type": "code",
   "execution_count": 2,
   "metadata": {},
   "outputs": [
    {
     "name": "stdout",
     "output_type": "stream",
     "text": [
      "The google.cloud.bigquery extension is already loaded. To reload it, use:\n",
      "  %reload_ext google.cloud.bigquery\n"
     ]
    }
   ],
   "source": [
    "%load_ext google.cloud.bigquery"
   ]
  },
  {
   "cell_type": "markdown",
   "metadata": {},
   "source": [
    "Replace the variable values in the cell below:"
   ]
  },
  {
   "cell_type": "code",
   "execution_count": 3,
   "metadata": {},
   "outputs": [],
   "source": [
    "PROJECT = \"qwiklabs-gcp-04-af059b23c3fc\"  # Replace with your PROJECT\n",
    "BUCKET = PROJECT \n",
    "REGION = \"us-central1\"  \n",
    "\n",
    "os.environ['PROJECT'] = PROJECT\n",
    "os.environ['BUCKET'] = BUCKET\n",
    "os.environ['REGION'] = REGION"
   ]
  },
  {
   "cell_type": "markdown",
   "metadata": {},
   "source": [
    "## Create a Dataset from BigQuery \n",
    "\n",
    "Hacker news headlines are available as a BigQuery public dataset. The [dataset](https://bigquery.cloud.google.com/table/bigquery-public-data:hacker_news.stories?tab=details) contains all headlines from the sites inception in October 2006 until October 2015. \n",
    "\n",
    "Here is a sample of the dataset:"
   ]
  },
  {
   "cell_type": "code",
   "execution_count": 4,
   "metadata": {},
   "outputs": [
    {
     "data": {
      "application/vnd.jupyter.widget-view+json": {
       "model_id": "3bcdab5bc931436e8e1a828e24183747",
       "version_major": 2,
       "version_minor": 0
      },
      "text/plain": [
       "Query is running:   0%|          |"
      ]
     },
     "metadata": {},
     "output_type": "display_data"
    },
    {
     "data": {
      "application/vnd.jupyter.widget-view+json": {
       "model_id": "03eb58f0245b473280e245f29141ae44",
       "version_major": 2,
       "version_minor": 0
      },
      "text/plain": [
       "Downloading:   0%|          |"
      ]
     },
     "metadata": {},
     "output_type": "display_data"
    },
    {
     "data": {
      "text/html": [
       "<div>\n",
       "<style scoped>\n",
       "    .dataframe tbody tr th:only-of-type {\n",
       "        vertical-align: middle;\n",
       "    }\n",
       "\n",
       "    .dataframe tbody tr th {\n",
       "        vertical-align: top;\n",
       "    }\n",
       "\n",
       "    .dataframe thead th {\n",
       "        text-align: right;\n",
       "    }\n",
       "</style>\n",
       "<table border=\"1\" class=\"dataframe\">\n",
       "  <thead>\n",
       "    <tr style=\"text-align: right;\">\n",
       "      <th></th>\n",
       "      <th>url</th>\n",
       "      <th>title</th>\n",
       "      <th>score</th>\n",
       "    </tr>\n",
       "  </thead>\n",
       "  <tbody>\n",
       "    <tr>\n",
       "      <th>0</th>\n",
       "      <td>http://www.businessweek.com/technology/how-sof...</td>\n",
       "      <td>How Software is Harming Science, Engineering</td>\n",
       "      <td>11</td>\n",
       "    </tr>\n",
       "    <tr>\n",
       "      <th>1</th>\n",
       "      <td>http://www.businessinsider.com/henry-blodget-a...</td>\n",
       "      <td>Andreessen: Watching Netscape Disintegrate</td>\n",
       "      <td>11</td>\n",
       "    </tr>\n",
       "    <tr>\n",
       "      <th>2</th>\n",
       "      <td>https://www.babeloop.com/</td>\n",
       "      <td>Show HN: Babeloop, a new music sight-reading w...</td>\n",
       "      <td>12</td>\n",
       "    </tr>\n",
       "    <tr>\n",
       "      <th>3</th>\n",
       "      <td>https://github.com/pksunkara/alpaca</td>\n",
       "      <td>Show HN: Given an API, Generate client librari...</td>\n",
       "      <td>268</td>\n",
       "    </tr>\n",
       "    <tr>\n",
       "      <th>4</th>\n",
       "      <td>http://www.zetalab.de/blog/developing-an-app-f...</td>\n",
       "      <td>Developing an App for iOS, Android and Windows...</td>\n",
       "      <td>13</td>\n",
       "    </tr>\n",
       "    <tr>\n",
       "      <th>5</th>\n",
       "      <td>http://www.uxpx.net/2011/02/16/why-you-choose-...</td>\n",
       "      <td>Why you choose turbotax.com</td>\n",
       "      <td>13</td>\n",
       "    </tr>\n",
       "    <tr>\n",
       "      <th>6</th>\n",
       "      <td>https://www.reddit.com/r/technology/comments/3...</td>\n",
       "      <td>Anti TPP Site Blocked by Google &amp; Facebook</td>\n",
       "      <td>13</td>\n",
       "    </tr>\n",
       "    <tr>\n",
       "      <th>7</th>\n",
       "      <td>http://meettheboss.tv/</td>\n",
       "      <td>Ask HN: Review our Business TV Startup</td>\n",
       "      <td>13</td>\n",
       "    </tr>\n",
       "    <tr>\n",
       "      <th>8</th>\n",
       "      <td>http://digg.com/story/r/how_google_can_still_b...</td>\n",
       "      <td>How Google can still become the greatest compa...</td>\n",
       "      <td>13</td>\n",
       "    </tr>\n",
       "    <tr>\n",
       "      <th>9</th>\n",
       "      <td>http://www.youtube.com/watch?v=_3XjMjG6pEo&amp;fea...</td>\n",
       "      <td>Hacking a crowd of 430 hackers with 1720 balloons</td>\n",
       "      <td>14</td>\n",
       "    </tr>\n",
       "  </tbody>\n",
       "</table>\n",
       "</div>"
      ],
      "text/plain": [
       "                                                 url  \\\n",
       "0  http://www.businessweek.com/technology/how-sof...   \n",
       "1  http://www.businessinsider.com/henry-blodget-a...   \n",
       "2                          https://www.babeloop.com/   \n",
       "3                https://github.com/pksunkara/alpaca   \n",
       "4  http://www.zetalab.de/blog/developing-an-app-f...   \n",
       "5  http://www.uxpx.net/2011/02/16/why-you-choose-...   \n",
       "6  https://www.reddit.com/r/technology/comments/3...   \n",
       "7                             http://meettheboss.tv/   \n",
       "8  http://digg.com/story/r/how_google_can_still_b...   \n",
       "9  http://www.youtube.com/watch?v=_3XjMjG6pEo&fea...   \n",
       "\n",
       "                                               title  score  \n",
       "0       How Software is Harming Science, Engineering     11  \n",
       "1         Andreessen: Watching Netscape Disintegrate     11  \n",
       "2  Show HN: Babeloop, a new music sight-reading w...     12  \n",
       "3  Show HN: Given an API, Generate client librari...    268  \n",
       "4  Developing an App for iOS, Android and Windows...     13  \n",
       "5                        Why you choose turbotax.com     13  \n",
       "6         Anti TPP Site Blocked by Google & Facebook     13  \n",
       "7             Ask HN: Review our Business TV Startup     13  \n",
       "8  How Google can still become the greatest compa...     13  \n",
       "9  Hacking a crowd of 430 hackers with 1720 balloons     14  "
      ]
     },
     "execution_count": 4,
     "metadata": {},
     "output_type": "execute_result"
    }
   ],
   "source": [
    "%%bigquery --project $PROJECT\n",
    "\n",
    "SELECT\n",
    "    url, title, score\n",
    "FROM\n",
    "    `bigquery-public-data.hacker_news.full`\n",
    "WHERE\n",
    "    LENGTH(title) > 10\n",
    "    AND score > 10\n",
    "    AND LENGTH(url) > 0\n",
    "LIMIT 10"
   ]
  },
  {
   "cell_type": "markdown",
   "metadata": {},
   "source": [
    "Let's do some regular expression parsing in BigQuery to get the source of the newspaper article from the URL. For example, if the url is http://mobile.nytimes.com/...., I want to be left with <i>nytimes</i>"
   ]
  },
  {
   "cell_type": "code",
   "execution_count": 5,
   "metadata": {},
   "outputs": [
    {
     "data": {
      "application/vnd.jupyter.widget-view+json": {
       "model_id": "aed7cb8b7d11416b98f5863207853a4a",
       "version_major": 2,
       "version_minor": 0
      },
      "text/plain": [
       "Query is running:   0%|          |"
      ]
     },
     "metadata": {},
     "output_type": "display_data"
    },
    {
     "data": {
      "application/vnd.jupyter.widget-view+json": {
       "model_id": "93ff6b4a40634ec5a059dde32093d99b",
       "version_major": 2,
       "version_minor": 0
      },
      "text/plain": [
       "Downloading:   0%|          |"
      ]
     },
     "metadata": {},
     "output_type": "display_data"
    },
    {
     "data": {
      "text/html": [
       "<div>\n",
       "<style scoped>\n",
       "    .dataframe tbody tr th:only-of-type {\n",
       "        vertical-align: middle;\n",
       "    }\n",
       "\n",
       "    .dataframe tbody tr th {\n",
       "        vertical-align: top;\n",
       "    }\n",
       "\n",
       "    .dataframe thead th {\n",
       "        text-align: right;\n",
       "    }\n",
       "</style>\n",
       "<table border=\"1\" class=\"dataframe\">\n",
       "  <thead>\n",
       "    <tr style=\"text-align: right;\">\n",
       "      <th></th>\n",
       "      <th>source</th>\n",
       "      <th>num_articles</th>\n",
       "    </tr>\n",
       "  </thead>\n",
       "  <tbody>\n",
       "    <tr>\n",
       "      <th>0</th>\n",
       "      <td>github</td>\n",
       "      <td>139395</td>\n",
       "    </tr>\n",
       "    <tr>\n",
       "      <th>1</th>\n",
       "      <td>medium</td>\n",
       "      <td>125985</td>\n",
       "    </tr>\n",
       "    <tr>\n",
       "      <th>2</th>\n",
       "      <td>youtube</td>\n",
       "      <td>101025</td>\n",
       "    </tr>\n",
       "    <tr>\n",
       "      <th>3</th>\n",
       "      <td>nytimes</td>\n",
       "      <td>73114</td>\n",
       "    </tr>\n",
       "    <tr>\n",
       "      <th>4</th>\n",
       "      <td>blogspot</td>\n",
       "      <td>59863</td>\n",
       "    </tr>\n",
       "    <tr>\n",
       "      <th>...</th>\n",
       "      <td>...</td>\n",
       "      <td>...</td>\n",
       "    </tr>\n",
       "    <tr>\n",
       "      <th>95</th>\n",
       "      <td>nextplatform</td>\n",
       "      <td>2647</td>\n",
       "    </tr>\n",
       "    <tr>\n",
       "      <th>96</th>\n",
       "      <td>anandtech</td>\n",
       "      <td>2629</td>\n",
       "    </tr>\n",
       "    <tr>\n",
       "      <th>97</th>\n",
       "      <td>extremetech</td>\n",
       "      <td>2598</td>\n",
       "    </tr>\n",
       "    <tr>\n",
       "      <th>98</th>\n",
       "      <td>politico</td>\n",
       "      <td>2594</td>\n",
       "    </tr>\n",
       "    <tr>\n",
       "      <th>99</th>\n",
       "      <td>9to5mac</td>\n",
       "      <td>2590</td>\n",
       "    </tr>\n",
       "  </tbody>\n",
       "</table>\n",
       "<p>100 rows × 2 columns</p>\n",
       "</div>"
      ],
      "text/plain": [
       "          source  num_articles\n",
       "0         github        139395\n",
       "1         medium        125985\n",
       "2        youtube        101025\n",
       "3        nytimes         73114\n",
       "4       blogspot         59863\n",
       "..           ...           ...\n",
       "95  nextplatform          2647\n",
       "96     anandtech          2629\n",
       "97   extremetech          2598\n",
       "98      politico          2594\n",
       "99       9to5mac          2590\n",
       "\n",
       "[100 rows x 2 columns]"
      ]
     },
     "execution_count": 5,
     "metadata": {},
     "output_type": "execute_result"
    }
   ],
   "source": [
    "%%bigquery --project $PROJECT\n",
    "\n",
    "SELECT\n",
    "    ARRAY_REVERSE(SPLIT(REGEXP_EXTRACT(url, '.*://(.[^/]+)/'), '.'))[safe_offset (1)] AS source,\n",
    "    COUNT(title) AS num_articles\n",
    "FROM\n",
    "    `bigquery-public-data.hacker_news.full`\n",
    "WHERE\n",
    "    REGEXP_CONTAINS(REGEXP_EXTRACT(url, '.*://(.[^/]+)/'), '.com$')\n",
    "    AND LENGTH(title) > 10\n",
    "GROUP BY\n",
    "    source\n",
    "ORDER BY num_articles DESC\n",
    "  LIMIT 100"
   ]
  },
  {
   "cell_type": "markdown",
   "metadata": {},
   "source": [
    "Now that we have good parsing of the URL to get the source, let's put together a dataset of source and titles. This will be our labeled dataset for machine learning."
   ]
  },
  {
   "cell_type": "code",
   "execution_count": 6,
   "metadata": {},
   "outputs": [
    {
     "name": "stdout",
     "output_type": "stream",
     "text": [
      "\n",
      "SELECT \n",
      "    LOWER(REGEXP_REPLACE(title, '[^a-zA-Z0-9 $.-]', ' ')) AS title,\n",
      "    source\n",
      "FROM\n",
      "  (\n",
      "SELECT\n",
      "    title,\n",
      "    ARRAY_REVERSE(SPLIT(REGEXP_EXTRACT(url, '.*://(.[^/]+)/'), '.'))[safe_offset (1)] AS source\n",
      "    \n",
      "FROM\n",
      "    `bigquery-public-data.hacker_news.full`\n",
      "WHERE\n",
      "    REGEXP_CONTAINS(REGEXP_EXTRACT(url, '.*://(.[^/]+)/'), '.com$')\n",
      "    AND LENGTH(title) > 10\n",
      ")\n",
      "WHERE (source = 'github' OR source = 'nytimes' OR source = 'techcrunch')\n",
      "\n"
     ]
    }
   ],
   "source": [
    "regex = '.*://(.[^/]+)/'\n",
    "\n",
    "\n",
    "sub_query = \"\"\"\n",
    "SELECT\n",
    "    title,\n",
    "    ARRAY_REVERSE(SPLIT(REGEXP_EXTRACT(url, '{0}'), '.'))[safe_offset (1)] AS source\n",
    "    \n",
    "FROM\n",
    "    `bigquery-public-data.hacker_news.full`\n",
    "WHERE\n",
    "    REGEXP_CONTAINS(REGEXP_EXTRACT(url, '{0}'), '.com$')\n",
    "    AND LENGTH(title) > 10\n",
    "\"\"\".format(regex)\n",
    "\n",
    "\n",
    "query = \"\"\"\n",
    "SELECT \n",
    "    LOWER(REGEXP_REPLACE(title, '[^a-zA-Z0-9 $.-]', ' ')) AS title,\n",
    "    source\n",
    "FROM\n",
    "  ({sub_query})\n",
    "WHERE (source = 'github' OR source = 'nytimes' OR source = 'techcrunch')\n",
    "\"\"\".format(sub_query=sub_query)\n",
    "\n",
    "print(query)"
   ]
  },
  {
   "cell_type": "markdown",
   "metadata": {},
   "source": [
    "For ML training, we usually need to split our dataset into training and evaluation datasets (and perhaps an independent test dataset if we are going to do model or feature selection based on the evaluation dataset). AutoML however figures out on its own how to create these splits, so we won't need to do that here. \n",
    "\n"
   ]
  },
  {
   "cell_type": "code",
   "execution_count": 7,
   "metadata": {},
   "outputs": [
    {
     "data": {
      "text/html": [
       "<div>\n",
       "<style scoped>\n",
       "    .dataframe tbody tr th:only-of-type {\n",
       "        vertical-align: middle;\n",
       "    }\n",
       "\n",
       "    .dataframe tbody tr th {\n",
       "        vertical-align: top;\n",
       "    }\n",
       "\n",
       "    .dataframe thead th {\n",
       "        text-align: right;\n",
       "    }\n",
       "</style>\n",
       "<table border=\"1\" class=\"dataframe\">\n",
       "  <thead>\n",
       "    <tr style=\"text-align: right;\">\n",
       "      <th></th>\n",
       "      <th>title</th>\n",
       "      <th>source</th>\n",
       "    </tr>\n",
       "  </thead>\n",
       "  <tbody>\n",
       "    <tr>\n",
       "      <th>0</th>\n",
       "      <td>php bdd is now  nice</td>\n",
       "      <td>github</td>\n",
       "    </tr>\n",
       "    <tr>\n",
       "      <th>1</th>\n",
       "      <td>skinny vagrant</td>\n",
       "      <td>github</td>\n",
       "    </tr>\n",
       "    <tr>\n",
       "      <th>2</th>\n",
       "      <td>want to control an angularjs app using your we...</td>\n",
       "      <td>github</td>\n",
       "    </tr>\n",
       "    <tr>\n",
       "      <th>3</th>\n",
       "      <td>show hn  authority  orm-neutral  oo rails auth...</td>\n",
       "      <td>github</td>\n",
       "    </tr>\n",
       "    <tr>\n",
       "      <th>4</th>\n",
       "      <td>just ported mongobox to redis</td>\n",
       "      <td>github</td>\n",
       "    </tr>\n",
       "  </tbody>\n",
       "</table>\n",
       "</div>"
      ],
      "text/plain": [
       "                                               title  source\n",
       "0                              php bdd is now  nice   github\n",
       "1                                     skinny vagrant  github\n",
       "2  want to control an angularjs app using your we...  github\n",
       "3  show hn  authority  orm-neutral  oo rails auth...  github\n",
       "4                      just ported mongobox to redis  github"
      ]
     },
     "execution_count": 7,
     "metadata": {},
     "output_type": "execute_result"
    }
   ],
   "source": [
    "bq = bigquery.Client(project=PROJECT)\n",
    "title_dataset = bq.query(query).to_dataframe()\n",
    "title_dataset.head()"
   ]
  },
  {
   "cell_type": "markdown",
   "metadata": {},
   "source": [
    "AutoML for text classification requires that\n",
    "* the dataset be in csv form with \n",
    "* the first column being the texts to classify or a GCS path to the text \n",
    "* the last colum to be the text labels\n",
    "\n",
    "The dataset we pulled from BiqQuery satisfies these requirements."
   ]
  },
  {
   "cell_type": "code",
   "execution_count": 8,
   "metadata": {},
   "outputs": [
    {
     "name": "stdout",
     "output_type": "stream",
     "text": [
      "The full dataset contains 266442 titles\n"
     ]
    }
   ],
   "source": [
    "print(\"The full dataset contains {n} titles\".format(n=len(title_dataset)))"
   ]
  },
  {
   "cell_type": "markdown",
   "metadata": {},
   "source": [
    "Let's make sure we have roughly the same number of labels for each of our three labels:"
   ]
  },
  {
   "cell_type": "code",
   "execution_count": 9,
   "metadata": {},
   "outputs": [
    {
     "data": {
      "text/plain": [
       "github        139395\n",
       "nytimes        73114\n",
       "techcrunch     53933\n",
       "Name: source, dtype: int64"
      ]
     },
     "execution_count": 9,
     "metadata": {},
     "output_type": "execute_result"
    }
   ],
   "source": [
    "title_dataset.source.value_counts()"
   ]
  },
  {
   "cell_type": "markdown",
   "metadata": {},
   "source": [
    "Finally we will save our data, which is currently in-memory, to disk.\n",
    "\n",
    "We will create a csv file containing the full dataset and another containing only 1000 articles for development.\n",
    "\n",
    "**Note:** It may take a long time to train AutoML on the full dataset, so we recommend to use the sample dataset for the purpose of learning the tool. \n"
   ]
  },
  {
   "cell_type": "code",
   "execution_count": 10,
   "metadata": {},
   "outputs": [],
   "source": [
    "DATADIR = './data/'\n",
    "\n",
    "if not os.path.exists(DATADIR):\n",
    "    os.makedirs(DATADIR)"
   ]
  },
  {
   "cell_type": "code",
   "execution_count": 11,
   "metadata": {},
   "outputs": [],
   "source": [
    "FULL_DATASET_NAME = 'titles_full.csv'\n",
    "FULL_DATASET_PATH = os.path.join(DATADIR, FULL_DATASET_NAME)\n",
    "\n",
    "# Let's shuffle the data before writing it to disk.\n",
    "title_dataset = title_dataset.sample(n=len(title_dataset))\n",
    "\n",
    "title_dataset.to_csv(\n",
    "    FULL_DATASET_PATH, header=False, index=False, encoding='utf-8')"
   ]
  },
  {
   "cell_type": "markdown",
   "metadata": {},
   "source": [
    "Now let's sample 1000 articles from the full dataset and make sure we have enough examples for each label in our sample dataset (see [here](https://cloud.google.com/natural-language/automl/docs/beginners-guide) for further details on how to prepare data for AutoML)."
   ]
  },
  {
   "cell_type": "code",
   "execution_count": 12,
   "metadata": {},
   "outputs": [
    {
     "data": {
      "text/plain": [
       "github        528\n",
       "nytimes       283\n",
       "techcrunch    189\n",
       "Name: source, dtype: int64"
      ]
     },
     "execution_count": 12,
     "metadata": {},
     "output_type": "execute_result"
    }
   ],
   "source": [
    "sample_title_dataset = title_dataset.sample(n=1000)\n",
    "sample_title_dataset.source.value_counts()"
   ]
  },
  {
   "cell_type": "markdown",
   "metadata": {},
   "source": [
    "Let's write the sample datatset to disk."
   ]
  },
  {
   "cell_type": "code",
   "execution_count": 13,
   "metadata": {},
   "outputs": [],
   "source": [
    "SAMPLE_DATASET_NAME = 'titles_sample.csv'\n",
    "SAMPLE_DATASET_PATH = os.path.join(DATADIR, SAMPLE_DATASET_NAME)\n",
    "\n",
    "sample_title_dataset.to_csv(\n",
    "    SAMPLE_DATASET_PATH, header=False, index=False, encoding='utf-8')"
   ]
  },
  {
   "cell_type": "code",
   "execution_count": 14,
   "metadata": {},
   "outputs": [
    {
     "name": "stdout",
     "output_type": "stream",
     "text": [
      "2.6.5\n"
     ]
    }
   ],
   "source": [
    "import datetime\n",
    "import os\n",
    "import shutil\n",
    "\n",
    "import pandas as pd\n",
    "import tensorflow as tf\n",
    "from tensorflow.keras.callbacks import TensorBoard, EarlyStopping\n",
    "from tensorflow_hub import KerasLayer\n",
    "from tensorflow.keras.layers import Dense\n",
    "from tensorflow.keras.models import Sequential\n",
    "from tensorflow.keras.preprocessing.text import Tokenizer\n",
    "from tensorflow.keras.utils import to_categorical\n",
    "\n",
    "\n",
    "print(tf.__version__)"
   ]
  },
  {
   "cell_type": "code",
   "execution_count": 15,
   "metadata": {},
   "outputs": [],
   "source": [
    "%matplotlib inline"
   ]
  },
  {
   "cell_type": "markdown",
   "metadata": {},
   "source": [
    "Let's start by specifying where the information about the trained models will be saved as well as where our dataset is located:"
   ]
  },
  {
   "cell_type": "code",
   "execution_count": 16,
   "metadata": {},
   "outputs": [],
   "source": [
    "MODEL_DIR = \"./text_models\"\n",
    "DATA_DIR = \"./data\""
   ]
  },
  {
   "cell_type": "markdown",
   "metadata": {},
   "source": [
    "## Loading the dataset"
   ]
  },
  {
   "cell_type": "markdown",
   "metadata": {},
   "source": [
    "As in the previous labs, our dataset consists of titles of articles along with the label indicating from which source these articles have been taken from (GitHub, Tech-Crunch, or the New-York Times):"
   ]
  },
  {
   "cell_type": "code",
   "execution_count": 17,
   "metadata": {},
   "outputs": [
    {
     "name": "stdout",
     "output_type": "stream",
     "text": [
      "titles_full.csv  titles_sample.csv\n"
     ]
    }
   ],
   "source": [
    "ls ./data/"
   ]
  },
  {
   "cell_type": "code",
   "execution_count": 18,
   "metadata": {},
   "outputs": [
    {
     "data": {
      "text/html": [
       "<div>\n",
       "<style scoped>\n",
       "    .dataframe tbody tr th:only-of-type {\n",
       "        vertical-align: middle;\n",
       "    }\n",
       "\n",
       "    .dataframe tbody tr th {\n",
       "        vertical-align: top;\n",
       "    }\n",
       "\n",
       "    .dataframe thead th {\n",
       "        text-align: right;\n",
       "    }\n",
       "</style>\n",
       "<table border=\"1\" class=\"dataframe\">\n",
       "  <thead>\n",
       "    <tr style=\"text-align: right;\">\n",
       "      <th></th>\n",
       "      <th>title</th>\n",
       "      <th>source</th>\n",
       "    </tr>\n",
       "  </thead>\n",
       "  <tbody>\n",
       "    <tr>\n",
       "      <th>0</th>\n",
       "      <td>a powerful  disturbing history of residential ...</td>\n",
       "      <td>nytimes</td>\n",
       "    </tr>\n",
       "    <tr>\n",
       "      <th>1</th>\n",
       "      <td>why are eggs sold by the dozen  why not by 10s...</td>\n",
       "      <td>nytimes</td>\n",
       "    </tr>\n",
       "    <tr>\n",
       "      <th>2</th>\n",
       "      <td>a curated list of awesome machine learning fra...</td>\n",
       "      <td>github</td>\n",
       "    </tr>\n",
       "    <tr>\n",
       "      <th>3</th>\n",
       "      <td>hn greasemonkey script  show user reputation k...</td>\n",
       "      <td>github</td>\n",
       "    </tr>\n",
       "    <tr>\n",
       "      <th>4</th>\n",
       "      <td>zurb launches foundation 3 to take on twitter ...</td>\n",
       "      <td>techcrunch</td>\n",
       "    </tr>\n",
       "  </tbody>\n",
       "</table>\n",
       "</div>"
      ],
      "text/plain": [
       "                                               title      source\n",
       "0  a powerful  disturbing history of residential ...     nytimes\n",
       "1  why are eggs sold by the dozen  why not by 10s...     nytimes\n",
       "2  a curated list of awesome machine learning fra...      github\n",
       "3  hn greasemonkey script  show user reputation k...      github\n",
       "4  zurb launches foundation 3 to take on twitter ...  techcrunch"
      ]
     },
     "execution_count": 18,
     "metadata": {},
     "output_type": "execute_result"
    }
   ],
   "source": [
    "DATASET_NAME = \"titles_full.csv\"\n",
    "TITLE_SAMPLE_PATH = os.path.join(DATA_DIR, DATASET_NAME)\n",
    "COLUMNS = ['title', 'source']\n",
    "\n",
    "titles_df = pd.read_csv(TITLE_SAMPLE_PATH, header=None, names=COLUMNS)\n",
    "titles_df.head()"
   ]
  },
  {
   "cell_type": "markdown",
   "metadata": {},
   "source": [
    "Let's look again at the number of examples per label to make sure we have a well-balanced dataset:"
   ]
  },
  {
   "cell_type": "code",
   "execution_count": 19,
   "metadata": {},
   "outputs": [
    {
     "data": {
      "text/plain": [
       "github        139395\n",
       "nytimes        73114\n",
       "techcrunch     53933\n",
       "Name: source, dtype: int64"
      ]
     },
     "execution_count": 19,
     "metadata": {},
     "output_type": "execute_result"
    }
   ],
   "source": [
    "titles_df.source.value_counts()"
   ]
  },
  {
   "cell_type": "markdown",
   "metadata": {},
   "source": [
    "## Preparing the labels"
   ]
  },
  {
   "cell_type": "markdown",
   "metadata": {},
   "source": [
    "In this lab, we will use pre-trained [TF-Hub embeddings modules for english](https://tfhub.dev/s?q=tf2%20embeddings%20text%20english) for the first layer of our models. One immediate\n",
    "advantage of doing so is that the TF-Hub embedding module will take care for us of processing the raw text. \n",
    "This also means that our model will be able to consume text directly instead of sequences of integers representing the words.\n",
    "\n",
    "However, as before, we still need to preprocess the labels into one-hot-encoded vectors:"
   ]
  },
  {
   "cell_type": "code",
   "execution_count": 20,
   "metadata": {},
   "outputs": [],
   "source": [
    "CLASSES = {\n",
    "    'github': 0,\n",
    "    'nytimes': 1,\n",
    "    'techcrunch': 2\n",
    "}\n",
    "N_CLASSES = len(CLASSES)"
   ]
  },
  {
   "cell_type": "code",
   "execution_count": 21,
   "metadata": {},
   "outputs": [],
   "source": [
    "def encode_labels(sources):\n",
    "    classes = [CLASSES[source] for source in sources]\n",
    "    one_hots = to_categorical(classes, num_classes=N_CLASSES)\n",
    "    return one_hots"
   ]
  },
  {
   "cell_type": "code",
   "execution_count": 22,
   "metadata": {},
   "outputs": [
    {
     "data": {
      "text/plain": [
       "array([[0., 1., 0.],\n",
       "       [0., 1., 0.],\n",
       "       [1., 0., 0.],\n",
       "       [1., 0., 0.]], dtype=float32)"
      ]
     },
     "execution_count": 22,
     "metadata": {},
     "output_type": "execute_result"
    }
   ],
   "source": [
    "encode_labels(titles_df.source[:4])"
   ]
  },
  {
   "cell_type": "markdown",
   "metadata": {},
   "source": [
    "## Preparing the train/test splits"
   ]
  },
  {
   "cell_type": "markdown",
   "metadata": {},
   "source": [
    "Let's split our data into train and test splits:"
   ]
  },
  {
   "cell_type": "code",
   "execution_count": 23,
   "metadata": {},
   "outputs": [],
   "source": [
    "N_TRAIN = int(len(titles_df) * 0.95)\n",
    "\n",
    "titles_train, sources_train = (\n",
    "    titles_df.title[:N_TRAIN], titles_df.source[:N_TRAIN])\n",
    "\n",
    "titles_valid, sources_valid = (\n",
    "    titles_df.title[N_TRAIN:], titles_df.source[N_TRAIN:])"
   ]
  },
  {
   "cell_type": "markdown",
   "metadata": {},
   "source": [
    "To be on the safe side, we verify that the train and test splits\n",
    "have roughly the same number of examples per class.\n",
    "\n",
    "Since it is the case, accuracy will be a good metric to use to measure\n",
    "the performance of our models."
   ]
  },
  {
   "cell_type": "code",
   "execution_count": 24,
   "metadata": {},
   "outputs": [
    {
     "data": {
      "text/plain": [
       "github        132432\n",
       "nytimes        69401\n",
       "techcrunch     51286\n",
       "Name: source, dtype: int64"
      ]
     },
     "execution_count": 24,
     "metadata": {},
     "output_type": "execute_result"
    }
   ],
   "source": [
    "sources_train.value_counts()"
   ]
  },
  {
   "cell_type": "code",
   "execution_count": 25,
   "metadata": {},
   "outputs": [
    {
     "data": {
      "text/plain": [
       "github        6963\n",
       "nytimes       3713\n",
       "techcrunch    2647\n",
       "Name: source, dtype: int64"
      ]
     },
     "execution_count": 25,
     "metadata": {},
     "output_type": "execute_result"
    }
   ],
   "source": [
    "sources_valid.value_counts()"
   ]
  },
  {
   "cell_type": "markdown",
   "metadata": {},
   "source": [
    "Now let's create the features and labels we will feed our models with:"
   ]
  },
  {
   "cell_type": "code",
   "execution_count": 26,
   "metadata": {},
   "outputs": [],
   "source": [
    "X_train, Y_train = titles_train.values, encode_labels(sources_train)\n",
    "X_valid, Y_valid = titles_valid.values, encode_labels(sources_valid)"
   ]
  },
  {
   "cell_type": "code",
   "execution_count": 27,
   "metadata": {},
   "outputs": [
    {
     "data": {
      "text/plain": [
       "array(['a powerful  disturbing history of residential segregation in america',\n",
       "       'why are eggs sold by the dozen  why not by 10s or 8s   2016 ',\n",
       "       'a curated list of awesome machine learning frameworks  libraries and software'],\n",
       "      dtype=object)"
      ]
     },
     "execution_count": 27,
     "metadata": {},
     "output_type": "execute_result"
    }
   ],
   "source": [
    "X_train[:3]"
   ]
  },
  {
   "cell_type": "code",
   "execution_count": 28,
   "metadata": {},
   "outputs": [
    {
     "data": {
      "text/plain": [
       "array([[0., 1., 0.],\n",
       "       [0., 1., 0.],\n",
       "       [1., 0., 0.]], dtype=float32)"
      ]
     },
     "execution_count": 28,
     "metadata": {},
     "output_type": "execute_result"
    }
   ],
   "source": [
    "Y_train[:3]"
   ]
  },
  {
   "cell_type": "markdown",
   "metadata": {},
   "source": [
    "## NNLM Model"
   ]
  },
  {
   "cell_type": "markdown",
   "metadata": {},
   "source": [
    "We will first try a word embedding pre-trained using a [Neural Probabilistic Language Model](http://www.jmlr.org/papers/volume3/bengio03a/bengio03a.pdf). TF-Hub has a 50-dimensional one called \n",
    "[nnlm-en-dim50-with-normalization](https://tfhub.dev/google/tf2-preview/nnlm-en-dim50/1), which also\n",
    "normalizes the vectors produced. \n",
    "\n",
    "Once loaded from its url, the TF-hub module can be used as a normal Keras layer in a sequential or functional model. Since we have enough data to fine-tune the parameters of the pre-trained embedding itself, we will set `trainable=True` in the `KerasLayer` that loads the pre-trained embedding:"
   ]
  },
  {
   "cell_type": "code",
   "execution_count": 29,
   "metadata": {},
   "outputs": [
    {
     "name": "stderr",
     "output_type": "stream",
     "text": [
      "2023-07-31 13:14:45.799376: W tensorflow/stream_executor/platform/default/dso_loader.cc:64] Could not load dynamic library 'libcuda.so.1'; dlerror: libcuda.so.1: cannot open shared object file: No such file or directory; LD_LIBRARY_PATH: /usr/local/cuda/lib64:/usr/local/nccl2/lib:/usr/local/cuda/extras/CUPTI/lib64\n",
      "2023-07-31 13:14:45.799417: W tensorflow/stream_executor/cuda/cuda_driver.cc:269] failed call to cuInit: UNKNOWN ERROR (303)\n",
      "2023-07-31 13:14:45.799445: I tensorflow/stream_executor/cuda/cuda_diagnostics.cc:156] kernel driver does not appear to be running on this host (instance-20230731-183509): /proc/driver/nvidia/version does not exist\n",
      "2023-07-31 13:14:45.799764: I tensorflow/core/platform/cpu_feature_guard.cc:142] This TensorFlow binary is optimized with oneAPI Deep Neural Network Library (oneDNN) to use the following CPU instructions in performance-critical operations:  AVX2 FMA\n",
      "To enable them in other operations, rebuild TensorFlow with the appropriate compiler flags.\n",
      "2023-07-31 13:14:45.877403: I tensorflow/compiler/mlir/mlir_graph_optimization_pass.cc:185] None of the MLIR Optimization Passes are enabled (registered 2)\n"
     ]
    }
   ],
   "source": [
    "# TODO 1\n",
    "NNLM = \"https://tfhub.dev/google/nnlm-en-dim50/2\"\n",
    "\n",
    "nnlm_module = KerasLayer(\n",
    "    NNLM, output_shape=[50], input_shape=[], dtype=tf.string, trainable=True)"
   ]
  },
  {
   "cell_type": "markdown",
   "metadata": {},
   "source": [
    "Note that this TF-Hub embedding produces a single 50-dimensional vector when passed a sentence:"
   ]
  },
  {
   "cell_type": "code",
   "execution_count": 30,
   "metadata": {},
   "outputs": [
    {
     "data": {
      "text/plain": [
       "<tf.Tensor: shape=(1, 50), dtype=float32, numpy=\n",
       "array([[ 0.19331802,  0.05893906,  0.15330684,  0.2505918 ,  0.19369544,\n",
       "         0.03578748,  0.07387847, -0.10962156, -0.11377034,  0.07172022,\n",
       "         0.12458669, -0.02289705, -0.18177685, -0.07084437, -0.00225849,\n",
       "        -0.36875236,  0.05772953, -0.14222091,  0.08765972, -0.14068899,\n",
       "        -0.07005888, -0.20634466,  0.07220475,  0.04258814,  0.0955702 ,\n",
       "         0.19424029, -0.42492998, -0.00706906, -0.02095   , -0.05055764,\n",
       "        -0.18988201, -0.02841404,  0.13222624, -0.01459922, -0.31255388,\n",
       "        -0.09577855,  0.05469003, -0.13858607,  0.01141668, -0.12352604,\n",
       "        -0.07250367, -0.11605677, -0.06976165,  0.14313601, -0.15183711,\n",
       "        -0.06836402,  0.03054246, -0.13259597, -0.14599673,  0.05094011]],\n",
       "      dtype=float32)>"
      ]
     },
     "execution_count": 30,
     "metadata": {},
     "output_type": "execute_result"
    }
   ],
   "source": [
    "# TODO 1\n",
    "nnlm_module(tf.constant([\"The dog is happy to see people in the street.\"]))"
   ]
  },
  {
   "cell_type": "markdown",
   "metadata": {},
   "source": [
    "## Swivel Model"
   ]
  },
  {
   "cell_type": "markdown",
   "metadata": {},
   "source": [
    "Then we will try a word embedding obtained using [Swivel](https://arxiv.org/abs/1602.02215), an algorithm that essentially factorizes word co-occurrence matrices to create the words embeddings. \n",
    "TF-Hub hosts the pretrained [gnews-swivel-20dim-with-oov](https://tfhub.dev/google/tf2-preview/gnews-swivel-20dim-with-oov/1) 20-dimensional Swivel module."
   ]
  },
  {
   "cell_type": "code",
   "execution_count": 31,
   "metadata": {},
   "outputs": [],
   "source": [
    "# TODO 1\n",
    "SWIVEL = \"https://tfhub.dev/google/tf2-preview/gnews-swivel-20dim-with-oov/1\"\n",
    "swivel_module = KerasLayer(\n",
    "    SWIVEL, output_shape=[20], input_shape=[], dtype=tf.string, trainable=True)"
   ]
  },
  {
   "cell_type": "markdown",
   "metadata": {},
   "source": [
    "Similarly as the previous pre-trained embedding, it outputs a single vector when passed a sentence:"
   ]
  },
  {
   "cell_type": "code",
   "execution_count": 32,
   "metadata": {},
   "outputs": [
    {
     "data": {
      "text/plain": [
       "<tf.Tensor: shape=(1, 20), dtype=float32, numpy=\n",
       "array([[ 0.9967701 , -0.3100155 ,  0.5889897 , -0.16765082, -0.6171738 ,\n",
       "        -1.1586996 , -0.8619045 ,  0.7281645 ,  0.32575002,  0.4754492 ,\n",
       "        -0.9272241 ,  0.41090095, -0.75389475, -0.31525993, -1.8918804 ,\n",
       "         0.6423996 ,  0.6801622 , -0.1335669 , -1.0017993 , -0.11908641]],\n",
       "      dtype=float32)>"
      ]
     },
     "execution_count": 32,
     "metadata": {},
     "output_type": "execute_result"
    }
   ],
   "source": [
    "# TODO 1\n",
    "swivel_module(tf.constant([\"The dog is happy to see people in the street.\"]))"
   ]
  },
  {
   "cell_type": "markdown",
   "metadata": {},
   "source": [
    "## Building the models"
   ]
  },
  {
   "cell_type": "markdown",
   "metadata": {},
   "source": [
    "Let's write a function that \n",
    "\n",
    "* takes as input an instance of a `KerasLayer` (i.e. the `swivel_module` or the `nnlm_module` we constructed above) as well as the name of the model (say `swivel` or `nnlm`)\n",
    "* returns a compiled Keras sequential model starting with this pre-trained TF-hub layer, adding one or more dense relu layers to it, and ending with a softmax layer giving the probability of each of the classes:"
   ]
  },
  {
   "cell_type": "code",
   "execution_count": 33,
   "metadata": {},
   "outputs": [],
   "source": [
    "def build_model(hub_module, name):\n",
    "    model = Sequential([\n",
    "        hub_module, # TODO 2\n",
    "        Dense(16, activation='relu'),\n",
    "        Dense(N_CLASSES, activation='softmax')\n",
    "    ], name=name)\n",
    "\n",
    "    model.compile(\n",
    "        optimizer='adam',\n",
    "        loss='categorical_crossentropy',\n",
    "        metrics=['accuracy']\n",
    "    )\n",
    "    return model"
   ]
  },
  {
   "cell_type": "markdown",
   "metadata": {},
   "source": [
    "Let's also wrap the training code into a `train_and_evaluate` function that \n",
    "* takes as input the training and validation data, as well as the compiled model itself, and the `batch_size`\n",
    "* trains the compiled model for 100 epochs at most, and does early-stopping when the validation loss is no longer decreasing\n",
    "* returns an `history` object, which will help us to plot the learning curves"
   ]
  },
  {
   "cell_type": "code",
   "execution_count": 35,
   "metadata": {},
   "outputs": [],
   "source": [
    "def train_and_evaluate(train_data, val_data, model, batch_size=5000):\n",
    "    X_train, Y_train = train_data\n",
    "\n",
    "    tf.random.set_seed(33)\n",
    "\n",
    "    model_dir = os.path.join(MODEL_DIR, model.name)\n",
    "    if tf.io.gfile.exists(model_dir):\n",
    "        tf.io.gfile.rmtree(model_dir)\n",
    "\n",
    "    history = model.fit(\n",
    "        X_train, Y_train,\n",
    "        epochs=50,\n",
    "        batch_size=batch_size,\n",
    "        validation_data=val_data,\n",
    "        callbacks=TensorBoard(model_dir),\n",
    "    )\n",
    "    return history"
   ]
  },
  {
   "cell_type": "markdown",
   "metadata": {},
   "source": [
    "## Training NNLM"
   ]
  },
  {
   "cell_type": "code",
   "execution_count": 36,
   "metadata": {},
   "outputs": [],
   "source": [
    "data = (X_train, Y_train)\n",
    "val_data = (X_valid, Y_valid)"
   ]
  },
  {
   "cell_type": "code",
   "execution_count": 37,
   "metadata": {},
   "outputs": [
    {
     "name": "stderr",
     "output_type": "stream",
     "text": [
      "2023-07-31 13:16:13.668869: I tensorflow/core/profiler/lib/profiler_session.cc:131] Profiler session initializing.\n",
      "2023-07-31 13:16:13.668917: I tensorflow/core/profiler/lib/profiler_session.cc:146] Profiler session started.\n",
      "2023-07-31 13:16:13.672174: I tensorflow/core/profiler/lib/profiler_session.cc:164] Profiler session tear down.\n"
     ]
    },
    {
     "name": "stdout",
     "output_type": "stream",
     "text": [
      "Epoch 1/50\n",
      " 1/51 [..............................] - ETA: 47s - loss: 1.1633 - accuracy: 0.2336"
     ]
    },
    {
     "name": "stderr",
     "output_type": "stream",
     "text": [
      "2023-07-31 13:16:14.733319: I tensorflow/core/profiler/lib/profiler_session.cc:131] Profiler session initializing.\n",
      "2023-07-31 13:16:14.733366: I tensorflow/core/profiler/lib/profiler_session.cc:146] Profiler session started.\n"
     ]
    },
    {
     "name": "stdout",
     "output_type": "stream",
     "text": [
      " 2/51 [>.............................] - ETA: 22s - loss: 1.1584 - accuracy: 0.2316"
     ]
    },
    {
     "name": "stderr",
     "output_type": "stream",
     "text": [
      "2023-07-31 13:16:15.170245: I tensorflow/core/profiler/lib/profiler_session.cc:66] Profiler session collecting data.\n",
      "2023-07-31 13:16:15.173360: I tensorflow/core/profiler/lib/profiler_session.cc:164] Profiler session tear down.\n",
      "2023-07-31 13:16:15.185076: I tensorflow/core/profiler/rpc/client/save_profile.cc:136] Creating directory: ./text_models/nnlm/train/plugins/profile/2023_07_31_13_16_15\n",
      "\n",
      "2023-07-31 13:16:15.186361: I tensorflow/core/profiler/rpc/client/save_profile.cc:142] Dumped gzipped tool data for trace.json.gz to ./text_models/nnlm/train/plugins/profile/2023_07_31_13_16_15/instance-20230731-183509.trace.json.gz\n",
      "2023-07-31 13:16:15.199659: I tensorflow/core/profiler/rpc/client/save_profile.cc:136] Creating directory: ./text_models/nnlm/train/plugins/profile/2023_07_31_13_16_15\n",
      "\n",
      "2023-07-31 13:16:15.199867: I tensorflow/core/profiler/rpc/client/save_profile.cc:142] Dumped gzipped tool data for memory_profile.json.gz to ./text_models/nnlm/train/plugins/profile/2023_07_31_13_16_15/instance-20230731-183509.memory_profile.json.gz\n",
      "2023-07-31 13:16:15.200315: I tensorflow/core/profiler/rpc/client/capture_profile.cc:251] Creating directory: ./text_models/nnlm/train/plugins/profile/2023_07_31_13_16_15\n",
      "Dumped tool data for xplane.pb to ./text_models/nnlm/train/plugins/profile/2023_07_31_13_16_15/instance-20230731-183509.xplane.pb\n",
      "Dumped tool data for overview_page.pb to ./text_models/nnlm/train/plugins/profile/2023_07_31_13_16_15/instance-20230731-183509.overview_page.pb\n",
      "Dumped tool data for input_pipeline.pb to ./text_models/nnlm/train/plugins/profile/2023_07_31_13_16_15/instance-20230731-183509.input_pipeline.pb\n",
      "Dumped tool data for tensorflow_stats.pb to ./text_models/nnlm/train/plugins/profile/2023_07_31_13_16_15/instance-20230731-183509.tensorflow_stats.pb\n",
      "Dumped tool data for kernel_stats.pb to ./text_models/nnlm/train/plugins/profile/2023_07_31_13_16_15/instance-20230731-183509.kernel_stats.pb\n",
      "\n"
     ]
    },
    {
     "name": "stdout",
     "output_type": "stream",
     "text": [
      "51/51 [==============================] - 23s 446ms/step - loss: 0.9860 - accuracy: 0.6033 - val_loss: 0.7855 - val_accuracy: 0.7875\n",
      "Epoch 2/50\n",
      "51/51 [==============================] - 22s 441ms/step - loss: 0.5769 - accuracy: 0.8242 - val_loss: 0.4243 - val_accuracy: 0.8504\n",
      "Epoch 3/50\n",
      "51/51 [==============================] - 23s 444ms/step - loss: 0.3554 - accuracy: 0.8715 - val_loss: 0.3276 - val_accuracy: 0.8737\n",
      "Epoch 4/50\n",
      "51/51 [==============================] - 22s 437ms/step - loss: 0.2865 - accuracy: 0.8933 - val_loss: 0.2953 - val_accuracy: 0.8866\n",
      "Epoch 5/50\n",
      "51/51 [==============================] - 23s 443ms/step - loss: 0.2529 - accuracy: 0.9056 - val_loss: 0.2823 - val_accuracy: 0.8921\n",
      "Epoch 6/50\n",
      "51/51 [==============================] - 22s 436ms/step - loss: 0.2315 - accuracy: 0.9137 - val_loss: 0.2766 - val_accuracy: 0.8936\n",
      "Epoch 7/50\n",
      "51/51 [==============================] - 23s 446ms/step - loss: 0.2162 - accuracy: 0.9195 - val_loss: 0.2750 - val_accuracy: 0.8954\n",
      "Epoch 8/50\n",
      "51/51 [==============================] - 23s 446ms/step - loss: 0.2045 - accuracy: 0.9241 - val_loss: 0.2766 - val_accuracy: 0.8939\n",
      "Epoch 9/50\n",
      "51/51 [==============================] - 22s 439ms/step - loss: 0.1951 - accuracy: 0.9279 - val_loss: 0.2796 - val_accuracy: 0.8936\n",
      "Epoch 10/50\n",
      "51/51 [==============================] - 22s 434ms/step - loss: 0.1874 - accuracy: 0.9309 - val_loss: 0.2821 - val_accuracy: 0.8930\n",
      "Epoch 11/50\n",
      "51/51 [==============================] - 23s 444ms/step - loss: 0.1810 - accuracy: 0.9336 - val_loss: 0.2866 - val_accuracy: 0.8925\n",
      "Epoch 12/50\n",
      "51/51 [==============================] - 23s 442ms/step - loss: 0.1754 - accuracy: 0.9356 - val_loss: 0.2913 - val_accuracy: 0.8909\n",
      "Epoch 13/50\n",
      "51/51 [==============================] - 23s 451ms/step - loss: 0.1707 - accuracy: 0.9375 - val_loss: 0.2964 - val_accuracy: 0.8915\n",
      "Epoch 14/50\n",
      "51/51 [==============================] - 22s 437ms/step - loss: 0.1666 - accuracy: 0.9389 - val_loss: 0.3015 - val_accuracy: 0.8918\n",
      "Epoch 15/50\n",
      "51/51 [==============================] - 22s 432ms/step - loss: 0.1630 - accuracy: 0.9402 - val_loss: 0.3072 - val_accuracy: 0.8897\n",
      "Epoch 16/50\n",
      "51/51 [==============================] - 23s 455ms/step - loss: 0.1598 - accuracy: 0.9413 - val_loss: 0.3119 - val_accuracy: 0.8885\n",
      "Epoch 17/50\n",
      "51/51 [==============================] - 22s 434ms/step - loss: 0.1568 - accuracy: 0.9425 - val_loss: 0.3169 - val_accuracy: 0.8879\n",
      "Epoch 18/50\n",
      "51/51 [==============================] - 23s 445ms/step - loss: 0.1541 - accuracy: 0.9434 - val_loss: 0.3217 - val_accuracy: 0.8875\n",
      "Epoch 19/50\n",
      "51/51 [==============================] - 23s 447ms/step - loss: 0.1518 - accuracy: 0.9444 - val_loss: 0.3272 - val_accuracy: 0.8870\n",
      "Epoch 20/50\n",
      "51/51 [==============================] - 22s 433ms/step - loss: 0.1495 - accuracy: 0.9450 - val_loss: 0.3311 - val_accuracy: 0.8879\n",
      "Epoch 21/50\n",
      "51/51 [==============================] - 23s 446ms/step - loss: 0.1472 - accuracy: 0.9462 - val_loss: 0.3359 - val_accuracy: 0.8871\n",
      "Epoch 22/50\n",
      "51/51 [==============================] - 22s 435ms/step - loss: 0.1452 - accuracy: 0.9465 - val_loss: 0.3404 - val_accuracy: 0.8868\n",
      "Epoch 23/50\n",
      "51/51 [==============================] - 23s 447ms/step - loss: 0.1432 - accuracy: 0.9472 - val_loss: 0.3450 - val_accuracy: 0.8867\n",
      "Epoch 24/50\n",
      "51/51 [==============================] - 23s 448ms/step - loss: 0.1413 - accuracy: 0.9481 - val_loss: 0.3490 - val_accuracy: 0.8870\n",
      "Epoch 25/50\n",
      "51/51 [==============================] - 22s 440ms/step - loss: 0.1395 - accuracy: 0.9485 - val_loss: 0.3543 - val_accuracy: 0.8862\n",
      "Epoch 26/50\n",
      "51/51 [==============================] - 22s 431ms/step - loss: 0.1376 - accuracy: 0.9493 - val_loss: 0.3572 - val_accuracy: 0.8866\n",
      "Epoch 27/50\n",
      "51/51 [==============================] - 23s 445ms/step - loss: 0.1357 - accuracy: 0.9504 - val_loss: 0.3619 - val_accuracy: 0.8855\n",
      "Epoch 28/50\n",
      "51/51 [==============================] - 23s 445ms/step - loss: 0.1339 - accuracy: 0.9509 - val_loss: 0.3652 - val_accuracy: 0.8850\n",
      "Epoch 29/50\n",
      "51/51 [==============================] - 23s 447ms/step - loss: 0.1321 - accuracy: 0.9517 - val_loss: 0.3700 - val_accuracy: 0.8844\n",
      "Epoch 30/50\n",
      "51/51 [==============================] - 22s 432ms/step - loss: 0.1302 - accuracy: 0.9523 - val_loss: 0.3744 - val_accuracy: 0.8849\n",
      "Epoch 31/50\n",
      "51/51 [==============================] - 23s 441ms/step - loss: 0.1283 - accuracy: 0.9529 - val_loss: 0.3774 - val_accuracy: 0.8852\n",
      "Epoch 32/50\n",
      "51/51 [==============================] - 23s 443ms/step - loss: 0.1265 - accuracy: 0.9537 - val_loss: 0.3813 - val_accuracy: 0.8867\n",
      "Epoch 33/50\n",
      "51/51 [==============================] - 22s 439ms/step - loss: 0.1245 - accuracy: 0.9544 - val_loss: 0.3857 - val_accuracy: 0.8852\n",
      "Epoch 34/50\n",
      "51/51 [==============================] - 23s 445ms/step - loss: 0.1226 - accuracy: 0.9556 - val_loss: 0.3892 - val_accuracy: 0.8840\n",
      "Epoch 35/50\n",
      "51/51 [==============================] - 23s 445ms/step - loss: 0.1208 - accuracy: 0.9561 - val_loss: 0.3937 - val_accuracy: 0.8839\n",
      "Epoch 36/50\n",
      "51/51 [==============================] - 22s 434ms/step - loss: 0.1186 - accuracy: 0.9572 - val_loss: 0.3986 - val_accuracy: 0.8833\n",
      "Epoch 37/50\n",
      "51/51 [==============================] - 23s 453ms/step - loss: 0.1165 - accuracy: 0.9582 - val_loss: 0.4021 - val_accuracy: 0.8839\n",
      "Epoch 38/50\n",
      "51/51 [==============================] - 22s 436ms/step - loss: 0.1145 - accuracy: 0.9589 - val_loss: 0.4072 - val_accuracy: 0.8828\n",
      "Epoch 39/50\n",
      "51/51 [==============================] - 22s 442ms/step - loss: 0.1125 - accuracy: 0.9599 - val_loss: 0.4116 - val_accuracy: 0.8843\n",
      "Epoch 40/50\n",
      "51/51 [==============================] - 23s 453ms/step - loss: 0.1103 - accuracy: 0.9608 - val_loss: 0.4158 - val_accuracy: 0.8832\n",
      "Epoch 41/50\n",
      "51/51 [==============================] - 22s 432ms/step - loss: 0.1082 - accuracy: 0.9616 - val_loss: 0.4219 - val_accuracy: 0.8816\n",
      "Epoch 42/50\n",
      "51/51 [==============================] - 22s 432ms/step - loss: 0.1060 - accuracy: 0.9628 - val_loss: 0.4260 - val_accuracy: 0.8826\n",
      "Epoch 43/50\n",
      "51/51 [==============================] - 23s 450ms/step - loss: 0.1038 - accuracy: 0.9635 - val_loss: 0.4306 - val_accuracy: 0.8840\n",
      "Epoch 44/50\n",
      "51/51 [==============================] - 22s 433ms/step - loss: 0.1017 - accuracy: 0.9644 - val_loss: 0.4358 - val_accuracy: 0.8830\n",
      "Epoch 45/50\n",
      "51/51 [==============================] - 23s 453ms/step - loss: 0.0995 - accuracy: 0.9656 - val_loss: 0.4413 - val_accuracy: 0.8834\n",
      "Epoch 46/50\n",
      "51/51 [==============================] - 22s 438ms/step - loss: 0.0974 - accuracy: 0.9663 - val_loss: 0.4473 - val_accuracy: 0.8829\n",
      "Epoch 47/50\n",
      "51/51 [==============================] - 22s 434ms/step - loss: 0.0954 - accuracy: 0.9672 - val_loss: 0.4532 - val_accuracy: 0.8812\n",
      "Epoch 48/50\n",
      "51/51 [==============================] - 23s 452ms/step - loss: 0.0933 - accuracy: 0.9682 - val_loss: 0.4579 - val_accuracy: 0.8816\n",
      "Epoch 49/50\n",
      "51/51 [==============================] - 22s 433ms/step - loss: 0.0913 - accuracy: 0.9691 - val_loss: 0.4640 - val_accuracy: 0.8835\n",
      "Epoch 50/50\n",
      "51/51 [==============================] - 23s 443ms/step - loss: 0.0893 - accuracy: 0.9699 - val_loss: 0.4709 - val_accuracy: 0.8825\n"
     ]
    }
   ],
   "source": [
    "nnlm_model = build_model(nnlm_module, 'nnlm')\n",
    "nnlm_history = train_and_evaluate(data, val_data, nnlm_model)"
   ]
  },
  {
   "cell_type": "code",
   "execution_count": 38,
   "metadata": {},
   "outputs": [
    {
     "data": {
      "text/plain": [
       "<AxesSubplot: >"
      ]
     },
     "execution_count": 38,
     "metadata": {},
     "output_type": "execute_result"
    },
    {
     "data": {
      "image/png": "[encoded data removed]",
      "text/plain": [
       "<Figure size 640x480 with 1 Axes>"
      ]
     },
     "metadata": {},
     "output_type": "display_data"
    },
    {
     "data": {
      "image/png": "[encoded data removed]",
      "text/plain": [
       "<Figure size 640x480 with 1 Axes>"
      ]
     },
     "metadata": {},
     "output_type": "display_data"
    }
   ],
   "source": [
    "history = nnlm_history\n",
    "pd.DataFrame(history.history)[['loss', 'val_loss']].plot()\n",
    "pd.DataFrame(history.history)[['accuracy', 'val_accuracy']].plot()"
   ]
  },
  {
   "cell_type": "markdown",
   "metadata": {},
   "source": [
    "## Training Swivel"
   ]
  },
  {
   "cell_type": "code",
   "execution_count": 39,
   "metadata": {},
   "outputs": [],
   "source": [
    "swivel_model = build_model(swivel_module, name='swivel')"
   ]
  },
  {
   "cell_type": "code",
   "execution_count": 40,
   "metadata": {},
   "outputs": [
    {
     "name": "stderr",
     "output_type": "stream",
     "text": [
      "2023-07-31 13:35:28.659782: I tensorflow/core/profiler/lib/profiler_session.cc:131] Profiler session initializing.\n",
      "2023-07-31 13:35:28.659830: I tensorflow/core/profiler/lib/profiler_session.cc:146] Profiler session started.\n",
      "2023-07-31 13:35:28.660108: I tensorflow/core/profiler/lib/profiler_session.cc:164] Profiler session tear down.\n"
     ]
    },
    {
     "name": "stdout",
     "output_type": "stream",
     "text": [
      "Epoch 1/50\n",
      " 6/51 [==>...........................] - ETA: 1s - loss: 1.3236 - accuracy: 0.2742"
     ]
    },
    {
     "name": "stderr",
     "output_type": "stream",
     "text": [
      "2023-07-31 13:35:29.196649: I tensorflow/core/profiler/lib/profiler_session.cc:131] Profiler session initializing.\n",
      "2023-07-31 13:35:29.196700: I tensorflow/core/profiler/lib/profiler_session.cc:146] Profiler session started.\n",
      "2023-07-31 13:35:29.249916: I tensorflow/core/profiler/lib/profiler_session.cc:66] Profiler session collecting data.\n",
      "2023-07-31 13:35:29.251059: I tensorflow/core/profiler/lib/profiler_session.cc:164] Profiler session tear down.\n",
      "2023-07-31 13:35:29.252963: I tensorflow/core/profiler/rpc/client/save_profile.cc:136] Creating directory: ./text_models/swivel/train/plugins/profile/2023_07_31_13_35_29\n",
      "\n",
      "2023-07-31 13:35:29.253975: I tensorflow/core/profiler/rpc/client/save_profile.cc:142] Dumped gzipped tool data for trace.json.gz to ./text_models/swivel/train/plugins/profile/2023_07_31_13_35_29/instance-20230731-183509.trace.json.gz\n",
      "2023-07-31 13:35:29.255596: I tensorflow/core/profiler/rpc/client/save_profile.cc:136] Creating directory: ./text_models/swivel/train/plugins/profile/2023_07_31_13_35_29\n",
      "\n",
      "2023-07-31 13:35:29.255716: I tensorflow/core/profiler/rpc/client/save_profile.cc:142] Dumped gzipped tool data for memory_profile.json.gz to ./text_models/swivel/train/plugins/profile/2023_07_31_13_35_29/instance-20230731-183509.memory_profile.json.gz\n",
      "2023-07-31 13:35:29.256081: I tensorflow/core/profiler/rpc/client/capture_profile.cc:251] Creating directory: ./text_models/swivel/train/plugins/profile/2023_07_31_13_35_29\n",
      "Dumped tool data for xplane.pb to ./text_models/swivel/train/plugins/profile/2023_07_31_13_35_29/instance-20230731-183509.xplane.pb\n",
      "Dumped tool data for overview_page.pb to ./text_models/swivel/train/plugins/profile/2023_07_31_13_35_29/instance-20230731-183509.overview_page.pb\n",
      "Dumped tool data for input_pipeline.pb to ./text_models/swivel/train/plugins/profile/2023_07_31_13_35_29/instance-20230731-183509.input_pipeline.pb\n",
      "Dumped tool data for tensorflow_stats.pb to ./text_models/swivel/train/plugins/profile/2023_07_31_13_35_29/instance-20230731-183509.tensorflow_stats.pb\n",
      "Dumped tool data for kernel_stats.pb to ./text_models/swivel/train/plugins/profile/2023_07_31_13_35_29/instance-20230731-183509.kernel_stats.pb\n",
      "\n"
     ]
    },
    {
     "name": "stdout",
     "output_type": "stream",
     "text": [
      "51/51 [==============================] - 2s 29ms/step - loss: 1.0789 - accuracy: 0.4533 - val_loss: 0.8935 - val_accuracy: 0.6139\n",
      "Epoch 2/50\n",
      "51/51 [==============================] - 1s 20ms/step - loss: 0.8140 - accuracy: 0.6492 - val_loss: 0.7390 - val_accuracy: 0.6862\n",
      "Epoch 3/50\n",
      "51/51 [==============================] - 1s 20ms/step - loss: 0.6786 - accuracy: 0.7171 - val_loss: 0.6202 - val_accuracy: 0.7401\n",
      "Epoch 4/50\n",
      "51/51 [==============================] - 1s 21ms/step - loss: 0.5726 - accuracy: 0.7654 - val_loss: 0.5356 - val_accuracy: 0.7794\n",
      "Epoch 5/50\n",
      "51/51 [==============================] - 1s 20ms/step - loss: 0.5013 - accuracy: 0.7951 - val_loss: 0.4829 - val_accuracy: 0.8011\n",
      "Epoch 6/50\n",
      "51/51 [==============================] - 1s 20ms/step - loss: 0.4561 - accuracy: 0.8138 - val_loss: 0.4495 - val_accuracy: 0.8157\n",
      "Epoch 7/50\n",
      "51/51 [==============================] - 1s 20ms/step - loss: 0.4252 - accuracy: 0.8273 - val_loss: 0.4267 - val_accuracy: 0.8244\n",
      "Epoch 8/50\n",
      "51/51 [==============================] - 1s 20ms/step - loss: 0.4026 - accuracy: 0.8372 - val_loss: 0.4104 - val_accuracy: 0.8327\n",
      "Epoch 9/50\n",
      "51/51 [==============================] - 1s 20ms/step - loss: 0.3851 - accuracy: 0.8451 - val_loss: 0.3983 - val_accuracy: 0.8373\n",
      "Epoch 10/50\n",
      "51/51 [==============================] - 1s 20ms/step - loss: 0.3713 - accuracy: 0.8511 - val_loss: 0.3894 - val_accuracy: 0.8415\n",
      "Epoch 11/50\n",
      "51/51 [==============================] - 1s 20ms/step - loss: 0.3600 - accuracy: 0.8562 - val_loss: 0.3820 - val_accuracy: 0.8448\n",
      "Epoch 12/50\n",
      "51/51 [==============================] - 1s 21ms/step - loss: 0.3508 - accuracy: 0.8603 - val_loss: 0.3767 - val_accuracy: 0.8470\n",
      "Epoch 13/50\n",
      "51/51 [==============================] - 1s 20ms/step - loss: 0.3431 - accuracy: 0.8636 - val_loss: 0.3729 - val_accuracy: 0.8480\n",
      "Epoch 14/50\n",
      "51/51 [==============================] - 1s 20ms/step - loss: 0.3366 - accuracy: 0.8662 - val_loss: 0.3697 - val_accuracy: 0.8493\n",
      "Epoch 15/50\n",
      "51/51 [==============================] - 1s 20ms/step - loss: 0.3310 - accuracy: 0.8687 - val_loss: 0.3676 - val_accuracy: 0.8507\n",
      "Epoch 16/50\n",
      "51/51 [==============================] - 1s 20ms/step - loss: 0.3262 - accuracy: 0.8704 - val_loss: 0.3660 - val_accuracy: 0.8521\n",
      "Epoch 17/50\n",
      "51/51 [==============================] - 1s 20ms/step - loss: 0.3219 - accuracy: 0.8722 - val_loss: 0.3647 - val_accuracy: 0.8521\n",
      "Epoch 18/50\n",
      "51/51 [==============================] - 1s 20ms/step - loss: 0.3182 - accuracy: 0.8740 - val_loss: 0.3637 - val_accuracy: 0.8524\n",
      "Epoch 19/50\n",
      "51/51 [==============================] - 1s 20ms/step - loss: 0.3149 - accuracy: 0.8755 - val_loss: 0.3629 - val_accuracy: 0.8526\n",
      "Epoch 20/50\n",
      "51/51 [==============================] - 1s 21ms/step - loss: 0.3120 - accuracy: 0.8767 - val_loss: 0.3625 - val_accuracy: 0.8525\n",
      "Epoch 21/50\n",
      "51/51 [==============================] - 1s 20ms/step - loss: 0.3091 - accuracy: 0.8780 - val_loss: 0.3621 - val_accuracy: 0.8536\n",
      "Epoch 22/50\n",
      "51/51 [==============================] - 1s 20ms/step - loss: 0.3067 - accuracy: 0.8790 - val_loss: 0.3622 - val_accuracy: 0.8543\n",
      "Epoch 23/50\n",
      "51/51 [==============================] - 1s 20ms/step - loss: 0.3045 - accuracy: 0.8799 - val_loss: 0.3622 - val_accuracy: 0.8542\n",
      "Epoch 24/50\n",
      "51/51 [==============================] - 1s 20ms/step - loss: 0.3024 - accuracy: 0.8809 - val_loss: 0.3622 - val_accuracy: 0.8545\n",
      "Epoch 25/50\n",
      "51/51 [==============================] - 1s 21ms/step - loss: 0.3005 - accuracy: 0.8817 - val_loss: 0.3627 - val_accuracy: 0.8547\n",
      "Epoch 26/50\n",
      "51/51 [==============================] - 1s 20ms/step - loss: 0.2987 - accuracy: 0.8824 - val_loss: 0.3621 - val_accuracy: 0.8558\n",
      "Epoch 27/50\n",
      "51/51 [==============================] - 1s 20ms/step - loss: 0.2970 - accuracy: 0.8834 - val_loss: 0.3627 - val_accuracy: 0.8551\n",
      "Epoch 28/50\n",
      "51/51 [==============================] - 1s 20ms/step - loss: 0.2955 - accuracy: 0.8837 - val_loss: 0.3634 - val_accuracy: 0.8558\n",
      "Epoch 29/50\n",
      "51/51 [==============================] - 1s 20ms/step - loss: 0.2940 - accuracy: 0.8846 - val_loss: 0.3633 - val_accuracy: 0.8563\n",
      "Epoch 30/50\n",
      "51/51 [==============================] - 1s 20ms/step - loss: 0.2927 - accuracy: 0.8854 - val_loss: 0.3640 - val_accuracy: 0.8560\n",
      "Epoch 31/50\n",
      "51/51 [==============================] - 1s 20ms/step - loss: 0.2913 - accuracy: 0.8861 - val_loss: 0.3642 - val_accuracy: 0.8554\n",
      "Epoch 32/50\n",
      "51/51 [==============================] - 1s 24ms/step - loss: 0.2900 - accuracy: 0.8866 - val_loss: 0.3648 - val_accuracy: 0.8561\n",
      "Epoch 33/50\n",
      "51/51 [==============================] - 1s 25ms/step - loss: 0.2888 - accuracy: 0.8873 - val_loss: 0.3649 - val_accuracy: 0.8560\n",
      "Epoch 34/50\n",
      "51/51 [==============================] - 1s 23ms/step - loss: 0.2876 - accuracy: 0.8875 - val_loss: 0.3654 - val_accuracy: 0.8560\n",
      "Epoch 35/50\n",
      "51/51 [==============================] - 1s 20ms/step - loss: 0.2865 - accuracy: 0.8881 - val_loss: 0.3657 - val_accuracy: 0.8575\n",
      "Epoch 36/50\n",
      "51/51 [==============================] - 1s 20ms/step - loss: 0.2853 - accuracy: 0.8886 - val_loss: 0.3664 - val_accuracy: 0.8567\n",
      "Epoch 37/50\n",
      "51/51 [==============================] - 1s 20ms/step - loss: 0.2842 - accuracy: 0.8893 - val_loss: 0.3673 - val_accuracy: 0.8559\n",
      "Epoch 38/50\n",
      "51/51 [==============================] - 1s 21ms/step - loss: 0.2832 - accuracy: 0.8896 - val_loss: 0.3676 - val_accuracy: 0.8563\n",
      "Epoch 39/50\n",
      "51/51 [==============================] - 1s 21ms/step - loss: 0.2822 - accuracy: 0.8903 - val_loss: 0.3678 - val_accuracy: 0.8572\n",
      "Epoch 40/50\n",
      "51/51 [==============================] - 1s 20ms/step - loss: 0.2811 - accuracy: 0.8908 - val_loss: 0.3688 - val_accuracy: 0.8560\n",
      "Epoch 41/50\n",
      "51/51 [==============================] - 1s 26ms/step - loss: 0.2801 - accuracy: 0.8915 - val_loss: 0.3688 - val_accuracy: 0.8571\n",
      "Epoch 42/50\n",
      "51/51 [==============================] - 1s 22ms/step - loss: 0.2790 - accuracy: 0.8918 - val_loss: 0.3690 - val_accuracy: 0.8573\n",
      "Epoch 43/50\n",
      "51/51 [==============================] - 1s 20ms/step - loss: 0.2781 - accuracy: 0.8921 - val_loss: 0.3698 - val_accuracy: 0.8564\n",
      "Epoch 44/50\n",
      "51/51 [==============================] - 1s 20ms/step - loss: 0.2771 - accuracy: 0.8925 - val_loss: 0.3704 - val_accuracy: 0.8556\n",
      "Epoch 45/50\n",
      "51/51 [==============================] - 1s 20ms/step - loss: 0.2761 - accuracy: 0.8929 - val_loss: 0.3702 - val_accuracy: 0.8578\n",
      "Epoch 46/50\n",
      "51/51 [==============================] - 1s 21ms/step - loss: 0.2752 - accuracy: 0.8933 - val_loss: 0.3708 - val_accuracy: 0.8566\n",
      "Epoch 47/50\n",
      "51/51 [==============================] - 1s 21ms/step - loss: 0.2742 - accuracy: 0.8940 - val_loss: 0.3713 - val_accuracy: 0.8571\n",
      "Epoch 48/50\n",
      "51/51 [==============================] - 1s 20ms/step - loss: 0.2732 - accuracy: 0.8942 - val_loss: 0.3716 - val_accuracy: 0.8572\n",
      "Epoch 49/50\n",
      "51/51 [==============================] - 1s 20ms/step - loss: 0.2722 - accuracy: 0.8948 - val_loss: 0.3725 - val_accuracy: 0.8562\n",
      "Epoch 50/50\n",
      "51/51 [==============================] - 1s 20ms/step - loss: 0.2712 - accuracy: 0.8953 - val_loss: 0.3728 - val_accuracy: 0.8563\n"
     ]
    }
   ],
   "source": [
    "swivel_history = train_and_evaluate(data, val_data, swivel_model)"
   ]
  },
  {
   "cell_type": "code",
   "execution_count": 41,
   "metadata": {},
   "outputs": [
    {
     "data": {
      "text/plain": [
       "<AxesSubplot: >"
      ]
     },
     "execution_count": 41,
     "metadata": {},
     "output_type": "execute_result"
    },
    {
     "data": {
      "image/png": "[encoded data removed]",
      "text/plain": [
       "<Figure size 640x480 with 1 Axes>"
      ]
     },
     "metadata": {},
     "output_type": "display_data"
    },
    {
     "data": {
      "image/png": "[encoded data removed]",
      "text/plain": [
       "<Figure size 640x480 with 1 Axes>"
      ]
     },
     "metadata": {},
     "output_type": "display_data"
    }
   ],
   "source": [
    "history = swivel_history\n",
    "pd.DataFrame(history.history)[['loss', 'val_loss']].plot()\n",
    "pd.DataFrame(history.history)[['accuracy', 'val_accuracy']].plot()"
   ]
  },
  {
   "cell_type": "markdown",
   "metadata": {},
   "source": [
    "Swivel trains faster but achieves a lower validation accuracy, and requires more epochs to train on."
   ]
  },
  {
   "cell_type": "markdown",
   "metadata": {},
   "source": [
    "## Deploying the model"
   ]
  },
  {
   "cell_type": "markdown",
   "metadata": {},
   "source": [
    "The first step is to serialize one of our trained Keras model as a SavedModel:"
   ]
  },
  {
   "cell_type": "code",
   "execution_count": 42,
   "metadata": {},
   "outputs": [
    {
     "name": "stderr",
     "output_type": "stream",
     "text": [
      "2023-07-31 13:36:40.513145: W tensorflow/python/util/util.cc:348] Sets are not currently considered sequences, but this may change in the future, so consider avoiding using them.\n",
      "WARNING:absl:Found untraced functions such as _destroy_resource while saving (showing 1 of 1). These functions will not be directly callable after loading.\n"
     ]
    },
    {
     "name": "stdout",
     "output_type": "stream",
     "text": [
      "INFO:tensorflow:Assets written to: ./savedmodels/swivel/assets\n"
     ]
    },
    {
     "name": "stderr",
     "output_type": "stream",
     "text": [
      "INFO:tensorflow:Assets written to: ./savedmodels/swivel/assets\n"
     ]
    }
   ],
   "source": [
    "OUTPUT_DIR = \"./savedmodels\"\n",
    "shutil.rmtree(OUTPUT_DIR, ignore_errors=True)\n",
    "\n",
    "EXPORT_PATH = os.path.join(OUTPUT_DIR, 'swivel')\n",
    "os.environ['EXPORT_PATH'] = EXPORT_PATH\n",
    "\n",
    "shutil.rmtree(EXPORT_PATH, ignore_errors=True)\n",
    "\n",
    "tf.saved_model.save(swivel_model, EXPORT_PATH)"
   ]
  },
  {
   "cell_type": "markdown",
   "metadata": {},
   "source": [
    "Then we can deploy the model using the gcloud CLI as before:"
   ]
  },
  {
   "cell_type": "code",
   "execution_count": 43,
   "metadata": {},
   "outputs": [
    {
     "name": "stderr",
     "output_type": "stream",
     "text": [
      "Using endpoint [https://us-central1-ml.googleapis.com/]\n"
     ]
    },
    {
     "name": "stdout",
     "output_type": "stream",
     "text": [
      "Creating title_model\n"
     ]
    },
    {
     "name": "stderr",
     "output_type": "stream",
     "text": [
      "Using endpoint [https://us-central1-ml.googleapis.com/]\n",
      "Created ai platform model [projects/qwiklabs-gcp-04-af059b23c3fc/models/title_model].\n",
      "Using endpoint [https://us-central1-ml.googleapis.com/]\n"
     ]
    },
    {
     "name": "stdout",
     "output_type": "stream",
     "text": [
      "Creating title_model:swivel\n"
     ]
    },
    {
     "name": "stderr",
     "output_type": "stream",
     "text": [
      "Using endpoint [https://us-central1-ml.googleapis.com/]\n",
      "Creating version (this might take a few minutes)......\n",
      "...............................................................................................................................................................................................................................................................................................................................................................................................................................................................................................................................................................................................................................................................................................................................................................................................................................................................................................................................................................................................................................................................................................................................................................................................................................................................................................................................................................................................................................................................................................................................................................................................................................................................................................................................................................................................................................................................................................................................................................................................................................................................................................................................................................................................................................................................................................................................................................................................................................................................................................................................................................................................................................................................................................................................................................................................................................................................................................................................................................................................................................................................................................................................................................................................................................................................................................................................................................................................................................................................................................................................................................................................................done.\n"
     ]
    }
   ],
   "source": [
    "%%bash\n",
    "\n",
    "# TODO 5\n",
    "\n",
    "MODEL_NAME=title_model\n",
    "VERSION_NAME=swivel\n",
    "\n",
    "if [[ $(gcloud ai-platform models list --format='value(name)' | grep ^$MODEL_NAME$) ]]; then\n",
    "    echo \"$MODEL_NAME already exists\"\n",
    "else\n",
    "    echo \"Creating $MODEL_NAME\"\n",
    "    gcloud ai-platform models create --region=$REGION $MODEL_NAME\n",
    "fi\n",
    "\n",
    "if [[ $(gcloud ai-platform versions list --model $MODEL_NAME --format='value(name)' | grep ^$VERSION_NAME$) ]]; then\n",
    "    echo \"Deleting already existing $MODEL_NAME:$VERSION_NAME ... \"\n",
    "    echo yes | gcloud ai-platform versions delete --model=$MODEL_NAME $VERSION_NAME\n",
    "    echo \"Please run this cell again if you don't see a Creating message ... \"\n",
    "    sleep 2\n",
    "fi\n",
    "\n",
    "echo \"Creating $MODEL_NAME:$VERSION_NAME\"\n",
    "gcloud ai-platform versions create \\\n",
    "  --model=$MODEL_NAME $VERSION_NAME \\\n",
    "  --framework=tensorflow \\\n",
    "  --python-version=3.7 \\\n",
    "  --runtime-version=2.1 \\\n",
    "  --origin=$EXPORT_PATH \\\n",
    "  --staging-bucket=gs://$BUCKET \\\n",
    "  --machine-type n1-standard-4 \\\n",
    "  --region=$REGION"
   ]
  },
  {
   "cell_type": "markdown",
   "metadata": {},
   "source": [
    "Before we try our deployed model, let's inspect its signature to know what to send to the deployed API:"
   ]
  },
  {
   "cell_type": "code",
   "execution_count": 44,
   "metadata": {},
   "outputs": [
    {
     "name": "stdout",
     "output_type": "stream",
     "text": [
      "The given SavedModel SignatureDef contains the following input(s):\n",
      "  inputs['keras_layer_1_input'] tensor_info:\n",
      "      dtype: DT_STRING\n",
      "      shape: (-1)\n",
      "      name: serving_default_keras_layer_1_input:0\n",
      "The given SavedModel SignatureDef contains the following output(s):\n",
      "  outputs['dense_3'] tensor_info:\n",
      "      dtype: DT_FLOAT\n",
      "      shape: (-1, 3)\n",
      "      name: StatefulPartitionedCall_2:0\n",
      "Method name is: tensorflow/serving/predict\n",
      "./savedmodels/swivel\n",
      "./savedmodels/swivel/assets\n",
      "./savedmodels/swivel/assets/tokens.txt\n",
      "./savedmodels/swivel/variables\n",
      "./savedmodels/swivel/variables/variables.index\n",
      "./savedmodels/swivel/variables/variables.data-00000-of-00001\n",
      "./savedmodels/swivel/saved_model.pb\n"
     ]
    }
   ],
   "source": [
    "!saved_model_cli show \\\n",
    " --tag_set serve \\\n",
    " --signature_def serving_default \\\n",
    " --dir {EXPORT_PATH}\n",
    "!find {EXPORT_PATH}"
   ]
  },
  {
   "cell_type": "markdown",
   "metadata": {},
   "source": [
    "Let's go ahead and hit our model:"
   ]
  },
  {
   "cell_type": "code",
   "execution_count": 45,
   "metadata": {},
   "outputs": [
    {
     "name": "stdout",
     "output_type": "stream",
     "text": [
      "Writing input.json\n"
     ]
    }
   ],
   "source": [
    "%%writefile input.json\n",
    "{\"keras_layer_1_input\": \"hello\"}"
   ]
  },
  {
   "cell_type": "code",
   "execution_count": 46,
   "metadata": {},
   "outputs": [
    {
     "name": "stdout",
     "output_type": "stream",
     "text": [
      "Using endpoint [https://us-central1-ml.googleapis.com/]\n",
      "[[0.885626853, 0.0408654884, 0.0735076517]]\n"
     ]
    }
   ],
   "source": [
    "!gcloud ai-platform predict \\\n",
    "  --model title_model \\\n",
    "  --json-instances input.json \\\n",
    "  --version swivel \\\n",
    "  --region=$REGION"
   ]
  },
  {
   "cell_type": "markdown",
   "metadata": {},
   "source": [
    "## Bonus"
   ]
  },
  {
   "cell_type": "markdown",
   "metadata": {},
   "source": [
    "Try to beat the best model by modifying the model architecture, changing the TF-Hub embedding, and tweaking the training parameters."
   ]
  },
  {
   "cell_type": "markdown",
   "metadata": {},
   "source": [
    "Copyright 2023 Google Inc. Licensed under the Apache License, Version 2.0 (the \"License\"); you may not use this file except in compliance with the License. You may obtain a copy of the License at http://www.apache.org/licenses/LICENSE-2.0 Unless required by applicable law or agreed to in writing, software distributed under the License is distributed on an \"AS IS\" BASIS, WITHOUT WARRANTIES OR CONDITIONS OF ANY KIND, either express or implied. See the License for the specific language governing permissions and limitations under the License"
   ]
  }
 ],
 "metadata": {
  "environment": {
   "kernel": "python3",
   "name": "tf2-gpu.2-6.m109",
   "type": "gcloud",
   "uri": "gcr.io/deeplearning-platform-release/tf2-gpu.2-6:m109"
  },
  "kernelspec": {
   "display_name": "Python 3",
   "language": "python",
   "name": "python3"
  },
  "language_info": {
   "codemirror_mode": {
    "name": "ipython",
    "version": 3
   },
   "file_extension": ".py",
   "mimetype": "text/x-python",
   "name": "python",
   "nbconvert_exporter": "python",
   "pygments_lexer": "ipython3",
   "version": "3.9.16"
  }
 },
 "nbformat": 4,
 "nbformat_minor": 4
}
